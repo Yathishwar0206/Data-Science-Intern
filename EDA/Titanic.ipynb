{
 "cells": [
  {
   "cell_type": "markdown",
   "id": "d0cb82cc-1021-4221-9be9-fbc4f0a3496b",
   "metadata": {},
   "source": [
    "# Project Name \n",
    "## Project Name = Titanic Dataset Analysis."
   ]
  },
  {
   "cell_type": "markdown",
   "id": "4a962710-ae97-4a07-8b69-bed1d82e4dec",
   "metadata": {},
   "source": [
    "# Importing Libraries\n",
    "\n",
    "import pandas as pd  \n",
    "import matplotlib.pyplot as plt  \n",
    "import seaborn as sns  "
   ]
  },
  {
   "cell_type": "code",
   "execution_count": 3,
   "id": "66c6160b-09ee-422f-aae5-465ab751c26c",
   "metadata": {},
   "outputs": [],
   "source": [
    "import pandas as pd\n",
    "import matplotlib.pyplot as plt\n",
    "import seaborn as sns"
   ]
  },
  {
   "cell_type": "markdown",
   "id": "b8670321-1436-4d85-b725-806293b56102",
   "metadata": {},
   "source": [
    "## Loading the Dataset\n",
    "titanic = pd.read_csv(r'C:\\Users\\ADMIN\\Desktop/Jupyter folder/Downloads/titanic.csv')  \n",
    "print(titanic)"
   ]
  },
  {
   "cell_type": "code",
   "execution_count": 4,
   "id": "5f05413f-9dac-45fa-bfe6-2495be77f321",
   "metadata": {},
   "outputs": [
    {
     "name": "stdout",
     "output_type": "stream",
     "text": [
      "     PassengerId  Survived  Pclass  \\\n",
      "0              1         0       3   \n",
      "1              2         1       1   \n",
      "2              3         1       3   \n",
      "3              4         1       1   \n",
      "4              5         0       3   \n",
      "..           ...       ...     ...   \n",
      "886          887         0       2   \n",
      "887          888         1       1   \n",
      "888          889         0       3   \n",
      "889          890         1       1   \n",
      "890          891         0       3   \n",
      "\n",
      "                                                  Name     Sex   Age  SibSp  \\\n",
      "0                              Braund, Mr. Owen Harris    male  22.0      1   \n",
      "1    Cumings, Mrs. John Bradley (Florence Briggs Th...  female  38.0      1   \n",
      "2                               Heikkinen, Miss. Laina  female  26.0      0   \n",
      "3         Futrelle, Mrs. Jacques Heath (Lily May Peel)  female  35.0      1   \n",
      "4                             Allen, Mr. William Henry    male  35.0      0   \n",
      "..                                                 ...     ...   ...    ...   \n",
      "886                              Montvila, Rev. Juozas    male  27.0      0   \n",
      "887                       Graham, Miss. Margaret Edith  female  19.0      0   \n",
      "888           Johnston, Miss. Catherine Helen \"Carrie\"  female   NaN      1   \n",
      "889                              Behr, Mr. Karl Howell    male  26.0      0   \n",
      "890                                Dooley, Mr. Patrick    male  32.0      0   \n",
      "\n",
      "     Parch            Ticket     Fare Cabin Embarked  \n",
      "0        0         A/5 21171   7.2500   NaN        S  \n",
      "1        0          PC 17599  71.2833   C85        C  \n",
      "2        0  STON/O2. 3101282   7.9250   NaN        S  \n",
      "3        0            113803  53.1000  C123        S  \n",
      "4        0            373450   8.0500   NaN        S  \n",
      "..     ...               ...      ...   ...      ...  \n",
      "886      0            211536  13.0000   NaN        S  \n",
      "887      0            112053  30.0000   B42        S  \n",
      "888      2        W./C. 6607  23.4500   NaN        S  \n",
      "889      0            111369  30.0000  C148        C  \n",
      "890      0            370376   7.7500   NaN        Q  \n",
      "\n",
      "[891 rows x 12 columns]\n"
     ]
    }
   ],
   "source": [
    "titanic = pd.read_csv(r'C:\\Users\\ADMIN\\Desktop/Jupyter folder/Downloads/titanic.csv')\n",
    "print(titanic)"
   ]
  },
  {
   "cell_type": "markdown",
   "id": "52dbc7a0-d4e8-4e31-bee7-a6c472dca72c",
   "metadata": {},
   "source": [
    "## Observation\n",
    "The dataset is successfully loaded. The first 5 rows show detail like **PassengerId, Name, Age, Sex, Survived, Pclass, Embarked, etc...**"
   ]
  },
  {
   "cell_type": "markdown",
   "id": "34185bef-e75e-4318-8540-e39f9263fdb5",
   "metadata": {},
   "source": [
    "## Checking Dataset info."
   ]
  },
  {
   "cell_type": "code",
   "execution_count": 5,
   "id": "b59ba234-62b7-4d98-9ae6-c4c33ce8ca5b",
   "metadata": {},
   "outputs": [
    {
     "name": "stdout",
     "output_type": "stream",
     "text": [
      "<class 'pandas.core.frame.DataFrame'>\n",
      "RangeIndex: 891 entries, 0 to 890\n",
      "Data columns (total 12 columns):\n",
      " #   Column       Non-Null Count  Dtype  \n",
      "---  ------       --------------  -----  \n",
      " 0   PassengerId  891 non-null    int64  \n",
      " 1   Survived     891 non-null    int64  \n",
      " 2   Pclass       891 non-null    int64  \n",
      " 3   Name         891 non-null    object \n",
      " 4   Sex          891 non-null    object \n",
      " 5   Age          714 non-null    float64\n",
      " 6   SibSp        891 non-null    int64  \n",
      " 7   Parch        891 non-null    int64  \n",
      " 8   Ticket       891 non-null    object \n",
      " 9   Fare         891 non-null    float64\n",
      " 10  Cabin        204 non-null    object \n",
      " 11  Embarked     889 non-null    object \n",
      "dtypes: float64(2), int64(5), object(5)\n",
      "memory usage: 83.7+ KB\n",
      "None\n"
     ]
    }
   ],
   "source": [
    "print(titanic.info())"
   ]
  },
  {
   "cell_type": "markdown",
   "id": "7eba362a-5df0-4a85-b9ae-35f67c537fdf",
   "metadata": {},
   "source": [
    "## Observation\n",
    "- Total entries: 891\n",
    "- Different data types: numberic(int/float) and categorical (object)."
   ]
  },
  {
   "cell_type": "markdown",
   "id": "7028a22e-5d79-49f2-aecf-32a8d9ce77ba",
   "metadata": {},
   "source": [
    "## Checking if there is any missing values in the dataset.\n",
    "To identify the missing values.\n",
    "Use the method **.isnull().sum()**"
   ]
  },
  {
   "cell_type": "code",
   "execution_count": 36,
   "id": "9c3389c3-3e67-43b4-9141-3d73efea30ee",
   "metadata": {},
   "outputs": [
    {
     "name": "stdout",
     "output_type": "stream",
     "text": [
      "PassengerId      0\n",
      "Survived         0\n",
      "Pclass           0\n",
      "Name             0\n",
      "Sex              0\n",
      "Age            177\n",
      "SibSp            0\n",
      "Parch            0\n",
      "Ticket           0\n",
      "Fare             0\n",
      "Cabin          687\n",
      "Embarked         2\n",
      "dtype: int64\n"
     ]
    }
   ],
   "source": [
    "print(titanic.isnull().sum())"
   ]
  },
  {
   "cell_type": "markdown",
   "id": "c1ea45b4-969b-46ac-9a06-d51939ede6ca",
   "metadata": {},
   "source": [
    "## Observation\n",
    "- The Above dataset I identified the missing values.\n",
    "- By using **isnull()** method it shows missing values under which columns.\n",
    "- Adding the **.sum()** it will add the missing values under which columns.\n",
    "- for example,\n",
    "  - The above Dataset the **Age** has 177 datas are missing by giving sum()method it add all the missing values under the columns\n",
    "  - The above Dataset the **Cabin** has missing 687 datas.\n",
    "  - There are 2 missing values in **Embarked**."
   ]
  },
  {
   "cell_type": "markdown",
   "id": "651879b4-676c-42a5-8b24-724c475eb3e1",
   "metadata": {},
   "source": [
    "## Handling Missing values\n",
    "Using **fillna()** method."
   ]
  },
  {
   "cell_type": "code",
   "execution_count": 37,
   "id": "59fc78ac-7c15-4258-822c-277f3e5a1669",
   "metadata": {},
   "outputs": [
    {
     "name": "stdout",
     "output_type": "stream",
     "text": [
      "0      22.000000\n",
      "1      38.000000\n",
      "2      26.000000\n",
      "3      35.000000\n",
      "4      35.000000\n",
      "         ...    \n",
      "886    27.000000\n",
      "887    19.000000\n",
      "888    29.699118\n",
      "889    26.000000\n",
      "890    32.000000\n",
      "Name: Age, Length: 891, dtype: float64\n"
     ]
    }
   ],
   "source": [
    "print(titanic['Age'].fillna(titanic['Age'].mean()))"
   ]
  },
  {
   "cell_type": "markdown",
   "id": "e9f95bf8-78ff-44df-9b96-6c34109f051e",
   "metadata": {},
   "source": [
    "## Observation\n",
    "- Missing **Age** replaced with mean value.\n",
    "- It is successfully loaded."
   ]
  },
  {
   "cell_type": "markdown",
   "id": "b2313781-669b-4d6c-b2de-d33266d2c5fa",
   "metadata": {},
   "source": [
    "## Missing values with Variables.\n",
    "Use isnull().sum() method."
   ]
  },
  {
   "cell_type": "code",
   "execution_count": 6,
   "id": "e225c618-f9b8-4ae9-ae8a-415b64f298a5",
   "metadata": {},
   "outputs": [
    {
     "name": "stdout",
     "output_type": "stream",
     "text": [
      "PassengerId      0\n",
      "Survived         0\n",
      "Pclass           0\n",
      "Name             0\n",
      "Sex              0\n",
      "Age            177\n",
      "SibSp            0\n",
      "Parch            0\n",
      "Ticket           0\n",
      "Fare             0\n",
      "Cabin          687\n",
      "Embarked         2\n",
      "dtype: int64\n"
     ]
    }
   ],
   "source": [
    "missing = titanic.isnull().sum()\n",
    "print(missing)"
   ]
  },
  {
   "cell_type": "markdown",
   "id": "fc71c7dc-7483-48b5-9c21-b6c3f173b6cd",
   "metadata": {},
   "source": [
    "## Observation\n",
    "- Here, I used the variable **missing**. Previous cell I done without any variable."
   ]
  },
  {
   "cell_type": "markdown",
   "id": "ce632fa7-2113-480d-b842-8ddd32d10674",
   "metadata": {},
   "source": [
    "## Handling Missing values(Embarked).\n",
    "It is same like Age. Using fillna() method. "
   ]
  },
  {
   "cell_type": "code",
   "execution_count": 38,
   "id": "7026e041-4552-4fb8-acf4-0f33f6b6903b",
   "metadata": {},
   "outputs": [
    {
     "name": "stdout",
     "output_type": "stream",
     "text": [
      "0      S\n",
      "1      C\n",
      "2      S\n",
      "3      S\n",
      "4      S\n",
      "      ..\n",
      "886    S\n",
      "887    S\n",
      "888    S\n",
      "889    C\n",
      "890    Q\n",
      "Name: Embarked, Length: 891, dtype: object\n"
     ]
    }
   ],
   "source": [
    "print(titanic['Embarked'].fillna(titanic['Embarked'].mode()))"
   ]
  },
  {
   "cell_type": "markdown",
   "id": "cf600b21-9fa1-4163-9167-92df2e42ca7b",
   "metadata": {},
   "source": [
    "## Observation\n",
    "- Missing **Embarked** replaced with the most frequent value.\n",
    "- It is successfully loaded."
   ]
  },
  {
   "cell_type": "markdown",
   "id": "b7235b99-2679-4995-a21d-243c62397cbd",
   "metadata": {},
   "source": [
    "## Descriptive Statistics"
   ]
  },
  {
   "cell_type": "code",
   "execution_count": 42,
   "id": "b3ac29c9-3451-4e99-86fb-ffd279958b6a",
   "metadata": {},
   "outputs": [
    {
     "data": {
      "text/html": [
       "<div>\n",
       "<style scoped>\n",
       "    .dataframe tbody tr th:only-of-type {\n",
       "        vertical-align: middle;\n",
       "    }\n",
       "\n",
       "    .dataframe tbody tr th {\n",
       "        vertical-align: top;\n",
       "    }\n",
       "\n",
       "    .dataframe thead th {\n",
       "        text-align: right;\n",
       "    }\n",
       "</style>\n",
       "<table border=\"1\" class=\"dataframe\">\n",
       "  <thead>\n",
       "    <tr style=\"text-align: right;\">\n",
       "      <th></th>\n",
       "      <th>PassengerId</th>\n",
       "      <th>Survived</th>\n",
       "      <th>Pclass</th>\n",
       "      <th>Age</th>\n",
       "      <th>SibSp</th>\n",
       "      <th>Parch</th>\n",
       "      <th>Fare</th>\n",
       "    </tr>\n",
       "  </thead>\n",
       "  <tbody>\n",
       "    <tr>\n",
       "      <th>count</th>\n",
       "      <td>891.000000</td>\n",
       "      <td>891.000000</td>\n",
       "      <td>891.000000</td>\n",
       "      <td>714.000000</td>\n",
       "      <td>891.000000</td>\n",
       "      <td>891.000000</td>\n",
       "      <td>891.000000</td>\n",
       "    </tr>\n",
       "    <tr>\n",
       "      <th>mean</th>\n",
       "      <td>446.000000</td>\n",
       "      <td>0.383838</td>\n",
       "      <td>2.308642</td>\n",
       "      <td>29.699118</td>\n",
       "      <td>0.523008</td>\n",
       "      <td>0.381594</td>\n",
       "      <td>32.204208</td>\n",
       "    </tr>\n",
       "    <tr>\n",
       "      <th>std</th>\n",
       "      <td>257.353842</td>\n",
       "      <td>0.486592</td>\n",
       "      <td>0.836071</td>\n",
       "      <td>14.526497</td>\n",
       "      <td>1.102743</td>\n",
       "      <td>0.806057</td>\n",
       "      <td>49.693429</td>\n",
       "    </tr>\n",
       "    <tr>\n",
       "      <th>min</th>\n",
       "      <td>1.000000</td>\n",
       "      <td>0.000000</td>\n",
       "      <td>1.000000</td>\n",
       "      <td>0.420000</td>\n",
       "      <td>0.000000</td>\n",
       "      <td>0.000000</td>\n",
       "      <td>0.000000</td>\n",
       "    </tr>\n",
       "    <tr>\n",
       "      <th>25%</th>\n",
       "      <td>223.500000</td>\n",
       "      <td>0.000000</td>\n",
       "      <td>2.000000</td>\n",
       "      <td>20.125000</td>\n",
       "      <td>0.000000</td>\n",
       "      <td>0.000000</td>\n",
       "      <td>7.910400</td>\n",
       "    </tr>\n",
       "    <tr>\n",
       "      <th>50%</th>\n",
       "      <td>446.000000</td>\n",
       "      <td>0.000000</td>\n",
       "      <td>3.000000</td>\n",
       "      <td>28.000000</td>\n",
       "      <td>0.000000</td>\n",
       "      <td>0.000000</td>\n",
       "      <td>14.454200</td>\n",
       "    </tr>\n",
       "    <tr>\n",
       "      <th>75%</th>\n",
       "      <td>668.500000</td>\n",
       "      <td>1.000000</td>\n",
       "      <td>3.000000</td>\n",
       "      <td>38.000000</td>\n",
       "      <td>1.000000</td>\n",
       "      <td>0.000000</td>\n",
       "      <td>31.000000</td>\n",
       "    </tr>\n",
       "    <tr>\n",
       "      <th>max</th>\n",
       "      <td>891.000000</td>\n",
       "      <td>1.000000</td>\n",
       "      <td>3.000000</td>\n",
       "      <td>80.000000</td>\n",
       "      <td>8.000000</td>\n",
       "      <td>6.000000</td>\n",
       "      <td>512.329200</td>\n",
       "    </tr>\n",
       "  </tbody>\n",
       "</table>\n",
       "</div>"
      ],
      "text/plain": [
       "       PassengerId    Survived      Pclass         Age       SibSp  \\\n",
       "count   891.000000  891.000000  891.000000  714.000000  891.000000   \n",
       "mean    446.000000    0.383838    2.308642   29.699118    0.523008   \n",
       "std     257.353842    0.486592    0.836071   14.526497    1.102743   \n",
       "min       1.000000    0.000000    1.000000    0.420000    0.000000   \n",
       "25%     223.500000    0.000000    2.000000   20.125000    0.000000   \n",
       "50%     446.000000    0.000000    3.000000   28.000000    0.000000   \n",
       "75%     668.500000    1.000000    3.000000   38.000000    1.000000   \n",
       "max     891.000000    1.000000    3.000000   80.000000    8.000000   \n",
       "\n",
       "            Parch        Fare  \n",
       "count  891.000000  891.000000  \n",
       "mean     0.381594   32.204208  \n",
       "std      0.806057   49.693429  \n",
       "min      0.000000    0.000000  \n",
       "25%      0.000000    7.910400  \n",
       "50%      0.000000   14.454200  \n",
       "75%      0.000000   31.000000  \n",
       "max      6.000000  512.329200  "
      ]
     },
     "execution_count": 42,
     "metadata": {},
     "output_type": "execute_result"
    }
   ],
   "source": [
    "titanic.describe()"
   ]
  },
  {
   "cell_type": "markdown",
   "id": "7c6572df-3487-430c-a4e3-a47dc4ac3ad8",
   "metadata": {},
   "source": [
    "## Observation\n",
    "- Mean **Age** = 29 years\n",
    "- **Survival rate**(Survived column mean) = 0.383838 %\n",
    "- **Ticket Fare varies widely** indicates economic diversity."
   ]
  },
  {
   "cell_type": "markdown",
   "id": "ed19da66-8aac-4c9c-9477-e7d6315a827f",
   "metadata": {},
   "source": [
    "## Check the first 5 elements in the Dataset using head()\n",
    "Use **print**(titanic.head( ))"
   ]
  },
  {
   "cell_type": "code",
   "execution_count": 34,
   "id": "3d3484dc-e311-4af0-8a20-42b999e43ad0",
   "metadata": {},
   "outputs": [
    {
     "name": "stdout",
     "output_type": "stream",
     "text": [
      "   PassengerId  Survived  Pclass  \\\n",
      "0            1         0       3   \n",
      "1            2         1       1   \n",
      "2            3         1       3   \n",
      "3            4         1       1   \n",
      "4            5         0       3   \n",
      "\n",
      "                                                Name     Sex   Age  SibSp  \\\n",
      "0                            Braund, Mr. Owen Harris    male  22.0      1   \n",
      "1  Cumings, Mrs. John Bradley (Florence Briggs Th...  female  38.0      1   \n",
      "2                             Heikkinen, Miss. Laina  female  26.0      0   \n",
      "3       Futrelle, Mrs. Jacques Heath (Lily May Peel)  female  35.0      1   \n",
      "4                           Allen, Mr. William Henry    male  35.0      0   \n",
      "\n",
      "   Parch            Ticket     Fare Cabin Embarked  \n",
      "0      0         A/5 21171   7.2500   NaN        S  \n",
      "1      0          PC 17599  71.2833   C85        C  \n",
      "2      0  STON/O2. 3101282   7.9250   NaN        S  \n",
      "3      0            113803  53.1000  C123        S  \n",
      "4      0            373450   8.0500   NaN        S  \n"
     ]
    }
   ],
   "source": [
    "print(titanic.head())"
   ]
  },
  {
   "cell_type": "markdown",
   "id": "80e32d56-3295-475d-a2d9-af5f05607a07",
   "metadata": {},
   "source": [
    "## Observation\n",
    "- Total entries:-891(depending on dataset version).\n",
    "- I found first five data.\n",
    "- The head is succefully loaded."
   ]
  },
  {
   "cell_type": "markdown",
   "id": "91052f6a-c195-4f59-a902-cc8367ed5700",
   "metadata": {},
   "source": [
    "## Check the last 5 elements in the Dataset using tail ().\n",
    "Use **print**(titanic.tail())"
   ]
  },
  {
   "cell_type": "code",
   "execution_count": 35,
   "id": "a997dcc4-635e-43d4-955c-7bd163571219",
   "metadata": {},
   "outputs": [
    {
     "name": "stdout",
     "output_type": "stream",
     "text": [
      "     PassengerId  Survived  Pclass                                      Name  \\\n",
      "886          887         0       2                     Montvila, Rev. Juozas   \n",
      "887          888         1       1              Graham, Miss. Margaret Edith   \n",
      "888          889         0       3  Johnston, Miss. Catherine Helen \"Carrie\"   \n",
      "889          890         1       1                     Behr, Mr. Karl Howell   \n",
      "890          891         0       3                       Dooley, Mr. Patrick   \n",
      "\n",
      "        Sex   Age  SibSp  Parch      Ticket   Fare Cabin Embarked  \n",
      "886    male  27.0      0      0      211536  13.00   NaN        S  \n",
      "887  female  19.0      0      0      112053  30.00   B42        S  \n",
      "888  female   NaN      1      2  W./C. 6607  23.45   NaN        S  \n",
      "889    male  26.0      0      0      111369  30.00  C148        C  \n",
      "890    male  32.0      0      0      370376   7.75   NaN        Q  \n"
     ]
    }
   ],
   "source": [
    "print(titanic.tail())"
   ]
  },
  {
   "cell_type": "markdown",
   "id": "b8770a7a-c333-4e82-b6ce-36008f961672",
   "metadata": {},
   "source": [
    "## Observation\n",
    "- Here I found the last 5 elements in the Dataset.\n",
    "- The above Dataset the method **tail()** is successfully loaded."
   ]
  },
  {
   "cell_type": "markdown",
   "id": "a8f2fafe-8c3f-43bb-97ec-e9afcc5c6f93",
   "metadata": {},
   "source": [
    "## Droping the cabin column\n",
    "Use **drop()** method."
   ]
  },
  {
   "cell_type": "code",
   "execution_count": 39,
   "id": "2670e377-810b-411a-a72d-95077b3a276d",
   "metadata": {},
   "outputs": [
    {
     "data": {
      "text/html": [
       "<div>\n",
       "<style scoped>\n",
       "    .dataframe tbody tr th:only-of-type {\n",
       "        vertical-align: middle;\n",
       "    }\n",
       "\n",
       "    .dataframe tbody tr th {\n",
       "        vertical-align: top;\n",
       "    }\n",
       "\n",
       "    .dataframe thead th {\n",
       "        text-align: right;\n",
       "    }\n",
       "</style>\n",
       "<table border=\"1\" class=\"dataframe\">\n",
       "  <thead>\n",
       "    <tr style=\"text-align: right;\">\n",
       "      <th></th>\n",
       "      <th>PassengerId</th>\n",
       "      <th>Survived</th>\n",
       "      <th>Pclass</th>\n",
       "      <th>Name</th>\n",
       "      <th>Sex</th>\n",
       "      <th>Age</th>\n",
       "      <th>SibSp</th>\n",
       "      <th>Parch</th>\n",
       "      <th>Ticket</th>\n",
       "      <th>Fare</th>\n",
       "      <th>Embarked</th>\n",
       "    </tr>\n",
       "  </thead>\n",
       "  <tbody>\n",
       "    <tr>\n",
       "      <th>0</th>\n",
       "      <td>1</td>\n",
       "      <td>0</td>\n",
       "      <td>3</td>\n",
       "      <td>Braund, Mr. Owen Harris</td>\n",
       "      <td>male</td>\n",
       "      <td>22.0</td>\n",
       "      <td>1</td>\n",
       "      <td>0</td>\n",
       "      <td>A/5 21171</td>\n",
       "      <td>7.2500</td>\n",
       "      <td>S</td>\n",
       "    </tr>\n",
       "    <tr>\n",
       "      <th>1</th>\n",
       "      <td>2</td>\n",
       "      <td>1</td>\n",
       "      <td>1</td>\n",
       "      <td>Cumings, Mrs. John Bradley (Florence Briggs Th...</td>\n",
       "      <td>female</td>\n",
       "      <td>38.0</td>\n",
       "      <td>1</td>\n",
       "      <td>0</td>\n",
       "      <td>PC 17599</td>\n",
       "      <td>71.2833</td>\n",
       "      <td>C</td>\n",
       "    </tr>\n",
       "    <tr>\n",
       "      <th>2</th>\n",
       "      <td>3</td>\n",
       "      <td>1</td>\n",
       "      <td>3</td>\n",
       "      <td>Heikkinen, Miss. Laina</td>\n",
       "      <td>female</td>\n",
       "      <td>26.0</td>\n",
       "      <td>0</td>\n",
       "      <td>0</td>\n",
       "      <td>STON/O2. 3101282</td>\n",
       "      <td>7.9250</td>\n",
       "      <td>S</td>\n",
       "    </tr>\n",
       "    <tr>\n",
       "      <th>3</th>\n",
       "      <td>4</td>\n",
       "      <td>1</td>\n",
       "      <td>1</td>\n",
       "      <td>Futrelle, Mrs. Jacques Heath (Lily May Peel)</td>\n",
       "      <td>female</td>\n",
       "      <td>35.0</td>\n",
       "      <td>1</td>\n",
       "      <td>0</td>\n",
       "      <td>113803</td>\n",
       "      <td>53.1000</td>\n",
       "      <td>S</td>\n",
       "    </tr>\n",
       "    <tr>\n",
       "      <th>4</th>\n",
       "      <td>5</td>\n",
       "      <td>0</td>\n",
       "      <td>3</td>\n",
       "      <td>Allen, Mr. William Henry</td>\n",
       "      <td>male</td>\n",
       "      <td>35.0</td>\n",
       "      <td>0</td>\n",
       "      <td>0</td>\n",
       "      <td>373450</td>\n",
       "      <td>8.0500</td>\n",
       "      <td>S</td>\n",
       "    </tr>\n",
       "    <tr>\n",
       "      <th>...</th>\n",
       "      <td>...</td>\n",
       "      <td>...</td>\n",
       "      <td>...</td>\n",
       "      <td>...</td>\n",
       "      <td>...</td>\n",
       "      <td>...</td>\n",
       "      <td>...</td>\n",
       "      <td>...</td>\n",
       "      <td>...</td>\n",
       "      <td>...</td>\n",
       "      <td>...</td>\n",
       "    </tr>\n",
       "    <tr>\n",
       "      <th>886</th>\n",
       "      <td>887</td>\n",
       "      <td>0</td>\n",
       "      <td>2</td>\n",
       "      <td>Montvila, Rev. Juozas</td>\n",
       "      <td>male</td>\n",
       "      <td>27.0</td>\n",
       "      <td>0</td>\n",
       "      <td>0</td>\n",
       "      <td>211536</td>\n",
       "      <td>13.0000</td>\n",
       "      <td>S</td>\n",
       "    </tr>\n",
       "    <tr>\n",
       "      <th>887</th>\n",
       "      <td>888</td>\n",
       "      <td>1</td>\n",
       "      <td>1</td>\n",
       "      <td>Graham, Miss. Margaret Edith</td>\n",
       "      <td>female</td>\n",
       "      <td>19.0</td>\n",
       "      <td>0</td>\n",
       "      <td>0</td>\n",
       "      <td>112053</td>\n",
       "      <td>30.0000</td>\n",
       "      <td>S</td>\n",
       "    </tr>\n",
       "    <tr>\n",
       "      <th>888</th>\n",
       "      <td>889</td>\n",
       "      <td>0</td>\n",
       "      <td>3</td>\n",
       "      <td>Johnston, Miss. Catherine Helen \"Carrie\"</td>\n",
       "      <td>female</td>\n",
       "      <td>NaN</td>\n",
       "      <td>1</td>\n",
       "      <td>2</td>\n",
       "      <td>W./C. 6607</td>\n",
       "      <td>23.4500</td>\n",
       "      <td>S</td>\n",
       "    </tr>\n",
       "    <tr>\n",
       "      <th>889</th>\n",
       "      <td>890</td>\n",
       "      <td>1</td>\n",
       "      <td>1</td>\n",
       "      <td>Behr, Mr. Karl Howell</td>\n",
       "      <td>male</td>\n",
       "      <td>26.0</td>\n",
       "      <td>0</td>\n",
       "      <td>0</td>\n",
       "      <td>111369</td>\n",
       "      <td>30.0000</td>\n",
       "      <td>C</td>\n",
       "    </tr>\n",
       "    <tr>\n",
       "      <th>890</th>\n",
       "      <td>891</td>\n",
       "      <td>0</td>\n",
       "      <td>3</td>\n",
       "      <td>Dooley, Mr. Patrick</td>\n",
       "      <td>male</td>\n",
       "      <td>32.0</td>\n",
       "      <td>0</td>\n",
       "      <td>0</td>\n",
       "      <td>370376</td>\n",
       "      <td>7.7500</td>\n",
       "      <td>Q</td>\n",
       "    </tr>\n",
       "  </tbody>\n",
       "</table>\n",
       "<p>891 rows × 11 columns</p>\n",
       "</div>"
      ],
      "text/plain": [
       "     PassengerId  Survived  Pclass  \\\n",
       "0              1         0       3   \n",
       "1              2         1       1   \n",
       "2              3         1       3   \n",
       "3              4         1       1   \n",
       "4              5         0       3   \n",
       "..           ...       ...     ...   \n",
       "886          887         0       2   \n",
       "887          888         1       1   \n",
       "888          889         0       3   \n",
       "889          890         1       1   \n",
       "890          891         0       3   \n",
       "\n",
       "                                                  Name     Sex   Age  SibSp  \\\n",
       "0                              Braund, Mr. Owen Harris    male  22.0      1   \n",
       "1    Cumings, Mrs. John Bradley (Florence Briggs Th...  female  38.0      1   \n",
       "2                               Heikkinen, Miss. Laina  female  26.0      0   \n",
       "3         Futrelle, Mrs. Jacques Heath (Lily May Peel)  female  35.0      1   \n",
       "4                             Allen, Mr. William Henry    male  35.0      0   \n",
       "..                                                 ...     ...   ...    ...   \n",
       "886                              Montvila, Rev. Juozas    male  27.0      0   \n",
       "887                       Graham, Miss. Margaret Edith  female  19.0      0   \n",
       "888           Johnston, Miss. Catherine Helen \"Carrie\"  female   NaN      1   \n",
       "889                              Behr, Mr. Karl Howell    male  26.0      0   \n",
       "890                                Dooley, Mr. Patrick    male  32.0      0   \n",
       "\n",
       "     Parch            Ticket     Fare Embarked  \n",
       "0        0         A/5 21171   7.2500        S  \n",
       "1        0          PC 17599  71.2833        C  \n",
       "2        0  STON/O2. 3101282   7.9250        S  \n",
       "3        0            113803  53.1000        S  \n",
       "4        0            373450   8.0500        S  \n",
       "..     ...               ...      ...      ...  \n",
       "886      0            211536  13.0000        S  \n",
       "887      0            112053  30.0000        S  \n",
       "888      2        W./C. 6607  23.4500        S  \n",
       "889      0            111369  30.0000        C  \n",
       "890      0            370376   7.7500        Q  \n",
       "\n",
       "[891 rows x 11 columns]"
      ]
     },
     "execution_count": 39,
     "metadata": {},
     "output_type": "execute_result"
    }
   ],
   "source": [
    "titanic.drop(columns=['Cabin']) # when the 80 or 90 % of datas are missing is better to drop the column."
   ]
  },
  {
   "cell_type": "markdown",
   "id": "f0c76674-00ed-4ab5-bf4e-8072e4277c96",
   "metadata": {},
   "source": [
    "## Observation\n",
    "- Using the **drop()** method the **Cabin** column is dropped.\n",
    "- Purpose of droping this column is the 80 to 90 % of datas are missing. So, it is better to drop the column."
   ]
  },
  {
   "cell_type": "markdown",
   "id": "db0df04f-1780-4e0f-af0b-962ce923939a",
   "metadata": {},
   "source": [
    "## Checking of any duplicates in the dataset.\n",
    "To find use **duplicated().value_counts()** method."
   ]
  },
  {
   "cell_type": "code",
   "execution_count": 16,
   "id": "b6f8b40b-d349-444e-a441-73e361cfc870",
   "metadata": {},
   "outputs": [
    {
     "name": "stdout",
     "output_type": "stream",
     "text": [
      "Duplicated Values : \n",
      " False    891\n",
      "Name: count, dtype: int64\n"
     ]
    }
   ],
   "source": [
    "# check duplicate.\n",
    "print('Duplicated Values : \\n',titanic.duplicated().value_counts())"
   ]
  },
  {
   "cell_type": "markdown",
   "id": "d962aa5a-55b7-4e51-8c08-11c28de0701a",
   "metadata": {},
   "source": [
    "## Observation\n",
    "- Using the **duplicated() method it shows whether the any duplicates are located in the Dataset.\n",
    "- By adding, the **.value_counts()** it shows whether the duplicated is there it will add all the elements which are come repeatedly.\n",
    "- In the above, There is no duplicates.\n",
    "- It is successfully loaded."
   ]
  },
  {
   "cell_type": "markdown",
   "id": "011166b5-8024-4049-b4ab-963e44aefdfd",
   "metadata": {},
   "source": [
    "## Missing values in the plot using Bar chart."
   ]
  },
  {
   "cell_type": "code",
   "execution_count": 58,
   "id": "ec781df4-d9bf-4de1-8453-7eaf5967c62f",
   "metadata": {},
   "outputs": [
    {
     "data": {
      "image/png": "[encoded data removed]",
      "text/plain": [
       "<Figure size 800x600 with 1 Axes>"
      ]
     },
     "metadata": {},
     "output_type": "display_data"
    }
   ],
   "source": [
    "# Plot\n",
    "missing.plot(kind='bar',figsize=(8,6), color='skyblue',edgecolor='blue')\n",
    "plt.title('Missing values in titanic',fontweight='bold',fontsize=15)\n",
    "plt.xlabel('Columns',fontweight='bold')\n",
    "plt.ylabel('Missing value')\n",
    "plt.xticks(rotation=45)\n",
    "# Add text labels above each bar\n",
    "for index,value in enumerate(missing):\n",
    "    plt.text(index, value+5, str(value), ha='center', va='bottom', fontsize=10, fontweight='bold')\n",
    "plt.tight_layout()\n",
    "plt.show()"
   ]
  },
  {
   "cell_type": "markdown",
   "id": "32276164-64d5-4533-b5f0-fd507cb765bc",
   "metadata": {},
   "source": [
    "## Observation\n",
    "- The **177** datas are missing in the column of **Age** and **687** Datas are missing in the column of **Cabin**.\n",
    "- The 2 datas are missing in the column of **Embarked**."
   ]
  },
  {
   "cell_type": "markdown",
   "id": "1c166405-18b0-4547-9d46-d5996b39e334",
   "metadata": {},
   "source": [
    "## Missing values in the plot using Horizontal Bar chart."
   ]
  },
  {
   "cell_type": "code",
   "execution_count": 41,
   "id": "d1c9ea80-9b6c-431a-9925-02445f6f5bab",
   "metadata": {},
   "outputs": [
    {
     "data": {
      "image/png": "[encoded data removed]",
      "text/plain": [
       "<Figure size 800x600 with 1 Axes>"
      ]
     },
     "metadata": {},
     "output_type": "display_data"
    }
   ],
   "source": [
    "missing.plot(kind='barh',figsize=(8,6), color='skyblue',edgecolor='blue')\n",
    "plt.title('Missing values in titanic')\n",
    "plt.ylabel('Columns')\n",
    "plt.xlabel('Missing value')\n",
    "plt.tight_layout()\n",
    "plt.show()"
   ]
  },
  {
   "cell_type": "markdown",
   "id": "df460f19-4885-41bd-a317-92dca495d9f6",
   "metadata": {},
   "source": [
    "## Observation\n",
    "- The 177 datas are missing in the column of Age and 687 Datas are missing in the column of Cabin.\n",
    "- It is shown in Horizontal bar chart."
   ]
  },
  {
   "cell_type": "markdown",
   "id": "abe65525-2de9-43b4-821b-70bdb72572c1",
   "metadata": {},
   "source": [
    "##  Survivor Rate  by Age.\n"
   ]
  },
  {
   "cell_type": "code",
   "execution_count": 41,
   "id": "66255fbe-3b4c-4248-ab1d-bfb81ae6cbdd",
   "metadata": {},
   "outputs": [
    {
     "name": "stdout",
     "output_type": "stream",
     "text": [
      "Survivor and Non-survivors : \n",
      " Survived\n",
      "0    30.626179\n",
      "1    28.343690\n",
      "Name: Age, dtype: float64\n"
     ]
    }
   ],
   "source": [
    "print('Survivor and Non-survivors : \\n',titanic.groupby('Survived')['Age'].mean())"
   ]
  },
  {
   "cell_type": "markdown",
   "id": "08cd6586-d85c-45d0-92c7-c589798c98a9",
   "metadata": {},
   "source": [
    "## Observation\n",
    "- Here I used **groupby()** it is comparing the two columns and **.mean()** is using for Average.\n",
    "- 0 is declaring the Died in the dataset and 1 is declaring the Survived.\n",
    "- Average of **Survivor** is 30.62 and **Non-Survivors** is 28.34."
   ]
  },
  {
   "cell_type": "markdown",
   "id": "1b421b7e-9731-41e1-9fd4-4c6800c61f09",
   "metadata": {},
   "source": [
    "## Fare Rate by Pclass."
   ]
  },
  {
   "cell_type": "code",
   "execution_count": 43,
   "id": "7aa15300-83a5-43a2-b90f-99dc532f6797",
   "metadata": {},
   "outputs": [
    {
     "name": "stdout",
     "output_type": "stream",
     "text": [
      "Average Fare :\n",
      " Pclass\n",
      "1    84.154687\n",
      "2    20.662183\n",
      "3    13.675550\n",
      "Name: Fare, dtype: float64\n"
     ]
    }
   ],
   "source": [
    "print('Average Fare :\\n',titanic.groupby('Pclass')['Fare'].mean())"
   ]
  },
  {
   "cell_type": "markdown",
   "id": "d773c2b5-c93b-4ff5-aa99-78a4d0fc5806",
   "metadata": {},
   "source": [
    "## Observation\n",
    "- Here I used groupby() it is comparing the two columns and .mean() is using for Average.\n",
    "- Passengers travelled in which class.\n",
    "- Here, the **First class** is declaring as 1, **Second class** as 2 and **Third class** as 3.\n",
    "- Average of **First class**  is 84.15, **Second class** is 20.66 and **Third class** is 13.67."
   ]
  },
  {
   "cell_type": "markdown",
   "id": "18055892-9bfc-4034-b5f6-834cc8c6cd3f",
   "metadata": {},
   "source": [
    "## Number of passengers travelled in class."
   ]
  },
  {
   "cell_type": "code",
   "execution_count": 80,
   "id": "42ced11d-d32b-400d-9e5a-67ffb82266ec",
   "metadata": {},
   "outputs": [
    {
     "name": "stdout",
     "output_type": "stream",
     "text": [
      "Passenger travelled in classes : \n",
      " Pclass\n",
      "3    491\n",
      "1    216\n",
      "2    184\n",
      "Name: count, dtype: int64\n"
     ]
    }
   ],
   "source": [
    "# Passenger list by class.\n",
    "class_counts = titanic['Pclass'].value_counts()\n",
    "print('Passenger travelled in classes : \\n',class_counts)"
   ]
  },
  {
   "cell_type": "markdown",
   "id": "4dbaf2cb-1871-42be-b2ac-13b6e0d6fc93",
   "metadata": {},
   "source": [
    "## Observation\n",
    "- Here I used **value_counts()** method to count the number of values.\n",
    "- In **1 (First class)** there are 184 passengers are travelled, **2 (Second class)** there are 216 passengers where travelled and **3 (Third class)** there are 491 passengers where travelled."
   ]
  },
  {
   "cell_type": "markdown",
   "id": "433ff1c4-a70b-447f-b0a5-79f18f718320",
   "metadata": {},
   "source": [
    "## Passenger in class shown in Pie chart."
   ]
  },
  {
   "cell_type": "code",
   "execution_count": 98,
   "id": "b0c3534a-71e4-47e3-bb66-61c383434187",
   "metadata": {},
   "outputs": [
    {
     "data": {
      "image/png": "[encoded data removed]",
      "text/plain": [
       "<Figure size 1500x700 with 1 Axes>"
      ]
     },
     "metadata": {},
     "output_type": "display_data"
    }
   ],
   "source": [
    "# PLOT IN PIE\n",
    "labels = ('Class(3) = Upper', 'Class(1) = Middle', 'Class(2) = Lower')\n",
    "plt.figure(figsize=(15,7))\n",
    "plt.pie(class_counts, labels=labels, colors=['red','green','blue'], autopct='%1.1f%%', startangle=90)\n",
    "plt.title('Passenger in Class',fontweight='bold')\n",
    "plt.legend(title='Pclass')\n",
    "plt.show()"
   ]
  },
  {
   "cell_type": "markdown",
   "id": "2a18c459-14da-40bd-be51-b7721fc7fe1b",
   "metadata": {},
   "source": [
    "## Observation\n",
    "- Here I used the **Pie chart** to show the **Rate of passenger travelled in the class**.\n",
    "- **Upper** had the highest chance of survival.\n",
    "- **Lower** had the lowest."
   ]
  },
  {
   "cell_type": "markdown",
   "id": "1a9566ba-a724-4fac-ba35-e24f06a1aea4",
   "metadata": {},
   "source": [
    "## Rate of Survivors by Sex"
   ]
  },
  {
   "cell_type": "code",
   "execution_count": 4,
   "id": "f54daa18-efb4-46d4-91e8-a4027b8ede3d",
   "metadata": {},
   "outputs": [
    {
     "name": "stdout",
     "output_type": "stream",
     "text": [
      "Counts of Survivors :\n",
      " Sex\n",
      "female    0.742038\n",
      "male      0.188908\n",
      "Name: Survived, dtype: float64\n"
     ]
    }
   ],
   "source": [
    "print('Counts of Survivors :\\n',titanic.groupby('Sex')['Survived'].mean())"
   ]
  },
  {
   "cell_type": "markdown",
   "id": "d38b8f7d-7791-4984-aeef-46434d3bfb59",
   "metadata": {},
   "source": [
    "## Observation\n",
    "- Here the Average of Survivors by Sex .\n",
    "  - In the rate of sruvival in female is  highest in Survived.\n",
    "  - Male is lowest in Survived"
   ]
  },
  {
   "cell_type": "markdown",
   "id": "8b383652-ae3a-4e14-90ee-e803029e1ef4",
   "metadata": {},
   "source": [
    "## Number of Survivors by Gender using bar chart."
   ]
  },
  {
   "cell_type": "code",
   "execution_count": 49,
   "id": "bcc24e8a-53dc-49f0-9bce-dd1a8831e363",
   "metadata": {},
   "outputs": [
    {
     "data": {
      "image/png": "[encoded data removed]",
      "text/plain": [
       "<Figure size 640x480 with 1 Axes>"
      ]
     },
     "metadata": {},
     "output_type": "display_data"
    }
   ],
   "source": [
    "titanic['Survived'].value_counts().plot(kind='bar', color=['red','green'])\n",
    "plt.ylabel('Survival counts')\n",
    "plt.xlabel('0 = Not survived , 1 = Survived')\n",
    "plt.title('Survived Rate')\n",
    "plt.show()"
   ]
  },
  {
   "cell_type": "markdown",
   "id": "af8d20c1-44de-47f7-a9ea-93113b053764",
   "metadata": {},
   "source": [
    "## Observation\n",
    "- Female had a much number of Survivors than Male.\n",
    "- Confirms the **'Women and children first'** policy followed during **Titanic disaster**."
   ]
  },
  {
   "cell_type": "markdown",
   "id": "6a29e9bc-9c6c-40dd-81b6-7833085acc9b",
   "metadata": {},
   "source": [
    "## Age Distribution using Histogram"
   ]
  },
  {
   "cell_type": "code",
   "execution_count": 52,
   "id": "f243b821-e4d7-4ee6-a7af-e601f2794d65",
   "metadata": {},
   "outputs": [
    {
     "data": {
      "image/png": "[encoded data removed]",
      "text/plain": [
       "<Figure size 640x480 with 1 Axes>"
      ]
     },
     "metadata": {},
     "output_type": "display_data"
    }
   ],
   "source": [
    "titanic['Age'].plot(kind='hist',bins=20,color='skyblue',edgecolor='blue')\n",
    "plt.title('Age distribution')\n",
    "plt.xlabel('Age')\n",
    "plt.ylabel('Frequency')\n",
    "plt.legend()\n",
    "plt.show()"
   ]
  },
  {
   "cell_type": "markdown",
   "id": "b2086ca3-aaf5-4102-be47-e6e9153054eb",
   "metadata": {},
   "source": [
    "## Observation\n",
    "- Many **Passengers** are in the **AgeGroup** of **20-25**.\n",
    "- **AgeGroup** of **70-80** are **lower**.\n",
    "- Here I used **Histogram chart**."
   ]
  },
  {
   "cell_type": "markdown",
   "id": "d93797a8-0c2f-4c54-a9e2-4796cd50cd29",
   "metadata": {},
   "source": [
    "## Number of Pclass by Fare using Bar chart."
   ]
  },
  {
   "cell_type": "code",
   "execution_count": 5,
   "id": "33f44151-7b0f-408f-b0f5-b2bc1e6df1a4",
   "metadata": {},
   "outputs": [
    {
     "data": {
      "image/png": "[encoded data removed]",
      "text/plain": [
       "<Figure size 640x480 with 1 Axes>"
      ]
     },
     "metadata": {},
     "output_type": "display_data"
    }
   ],
   "source": [
    "titanic.groupby('Pclass')['Fare'].mean().plot(kind='bar',color='red',edgecolor='black')\n",
    "plt.xlabel('Class')\n",
    "plt.ylabel('Fare')\n",
    "plt.title('Pclass vs Fare')\n",
    "plt.legend()\n",
    "plt.tight_layout()\n",
    "plt.show()"
   ]
  },
  {
   "cell_type": "markdown",
   "id": "f581b3f5-2cf4-4b80-9806-9c773ee30b2a",
   "metadata": {},
   "source": [
    "## Observation\n",
    "- Many passengers are Travelled in the **First class**.\n",
    "- In **Third class**  are Lower."
   ]
  },
  {
   "cell_type": "markdown",
   "id": "061714a8-8ef9-4095-a362-3dffbef9c1de",
   "metadata": {},
   "source": [
    "## Rate of Survivors by Gender using Pie chart."
   ]
  },
  {
   "cell_type": "code",
   "execution_count": 3,
   "id": "ad0d3759-0814-43f4-a2d4-b6fb0766ff14",
   "metadata": {},
   "outputs": [
    {
     "data": {
      "image/png": "[encoded data removed]",
      "text/plain": [
       "<Figure size 640x480 with 1 Axes>"
      ]
     },
     "metadata": {},
     "output_type": "display_data"
    }
   ],
   "source": [
    "titanic.groupby('Sex')['Survived'].mean().plot(kind='pie',color=['red','green'],autopct='%1.2f%%')\n",
    "plt.title('Survivors Rate by Sex')\n",
    "plt.tight_layout()\n",
    "plt.show()"
   ]
  },
  {
   "cell_type": "markdown",
   "id": "71f52c0e-4748-4cd7-a473-85b6f10e18b6",
   "metadata": {},
   "source": [
    "## Observation\n",
    "- Female had a much rate of Survivors than Male.\n",
    "- Confirms the 'Women and children first' policy followed during Titanic disaster"
   ]
  },
  {
   "cell_type": "markdown",
   "id": "53650f74-bae3-425a-ad09-30d3af098690",
   "metadata": {},
   "source": [
    "## Number of Passenger by Gender."
   ]
  },
  {
   "cell_type": "code",
   "execution_count": 59,
   "id": "28c479e1-6c91-420a-a6b9-ac49fcb54898",
   "metadata": {},
   "outputs": [
    {
     "name": "stdout",
     "output_type": "stream",
     "text": [
      "Sex\n",
      "male      577\n",
      "female    314\n",
      "Name: count, dtype: int64\n"
     ]
    }
   ],
   "source": [
    "gender_counts = titanic['Sex'].value_counts()\n",
    "print(gender_counts)"
   ]
  },
  {
   "cell_type": "markdown",
   "id": "e2fbf574-e6f8-4968-a184-25e8f606c8b1",
   "metadata": {},
   "source": [
    "## Observation\n",
    "- Total 891 passenger, The **Male** passengers are **Highest**.\n",
    "- **Female** are **Lower**."
   ]
  },
  {
   "cell_type": "markdown",
   "id": "e2a27742-8056-4306-a6d3-0220f8ea0a0f",
   "metadata": {},
   "source": [
    "## Number of Survivors by Gender."
   ]
  },
  {
   "cell_type": "code",
   "execution_count": 67,
   "id": "27b7268c-7658-4e3d-ae4c-15d7cd122385",
   "metadata": {},
   "outputs": [
    {
     "name": "stdout",
     "output_type": "stream",
     "text": [
      "Sex     Survived\n",
      "female  0            81\n",
      "        1           233\n",
      "male    0           468\n",
      "        1           109\n",
      "dtype: int64\n"
     ]
    }
   ],
   "source": [
    "gender_survived = titanic.groupby(['Sex','Survived']).size() # It is showing the counts of gender survived and died.\n",
    "print(gender_survived)"
   ]
  },
  {
   "cell_type": "markdown",
   "id": "b7779ddf-806a-4b2f-9ebd-441cc871a04e",
   "metadata": {},
   "source": [
    "## Observation\n",
    "- Female had a much number of Survivors than Male.\n",
    "- **Died** is declared as **0** and **Survived** is declared as **1**."
   ]
  },
  {
   "cell_type": "markdown",
   "id": "de31a32f-85d1-4486-8acb-76dfc0ffac41",
   "metadata": {},
   "source": [
    "## Number of Survivor alone by gender."
   ]
  },
  {
   "cell_type": "code",
   "execution_count": 81,
   "id": "cee9eec3-4f04-4852-a482-329115e09e02",
   "metadata": {},
   "outputs": [
    {
     "name": "stdout",
     "output_type": "stream",
     "text": [
      "Sex\n",
      "female    233\n",
      "male      109\n",
      "Name: Survived, dtype: int64\n"
     ]
    }
   ],
   "source": [
    "gender = titanic.groupby('Sex')['Survived'].sum() # It is number of passenger based on gender showing only survived.\n",
    "print(gender)"
   ]
  },
  {
   "cell_type": "markdown",
   "id": "ba3fdd7e-ea8e-4dcc-b490-e525390ecfd7",
   "metadata": {},
   "source": [
    "## Observation\n",
    "- **Female** had a Secured than **Male**."
   ]
  },
  {
   "cell_type": "markdown",
   "id": "cb022d36-4d5e-4aba-8d50-01d2e6bcb75d",
   "metadata": {},
   "source": [
    "## Missing values by Gender using Bar chart(seaborn)."
   ]
  },
  {
   "cell_type": "code",
   "execution_count": 78,
   "id": "ad514f89-8ec6-4368-89a6-7e6b62ce20dd",
   "metadata": {},
   "outputs": [
    {
     "data": {
      "image/png": "[encoded data removed]",
      "text/plain": [
       "<Figure size 640x480 with 1 Axes>"
      ]
     },
     "metadata": {},
     "output_type": "display_data"
    }
   ],
   "source": [
    "sns.countplot(data=titanic, hue='Survived',x='Sex',palette='colorblind')\n",
    "plt.xlabel('Gender')\n",
    "plt.xticks(rotation=45)\n",
    "plt.ylabel('Missing value')\n",
    "plt.title('Missing value by gender')\n",
    "plt.legend(title='Survived')\n",
    "plt.show()"
   ]
  },
  {
   "cell_type": "markdown",
   "id": "95107105-438f-471e-86e3-628f9191518a",
   "metadata": {},
   "source": [
    "## Age Distribution using KDE Plot."
   ]
  },
  {
   "cell_type": "code",
   "execution_count": 103,
   "id": "8b1e3572-07ad-49a1-9bb5-92e39cde9bf6",
   "metadata": {},
   "outputs": [
    {
     "data": {
      "image/png": "[encoded data removed]",
      "text/plain": [
       "<Figure size 640x480 with 1 Axes>"
      ]
     },
     "metadata": {},
     "output_type": "display_data"
    }
   ],
   "source": [
    "# Age Distribution.\n",
    "sns.kdeplot(titanic['Age'], fill=True, color='Darkgreen')\n",
    "plt.title('Age Distribution in KDE Plot',fontweight='bold')\n",
    "plt.xlabel('Age',fontweight='bold')\n",
    "plt.ylabel('Density',fontweight='bold')\n",
    "plt.grid(axis='y')\n",
    "plt.show()"
   ]
  },
  {
   "cell_type": "markdown",
   "id": "5d127ad1-6942-4bae-ac0e-4f1d77528cc0",
   "metadata": {},
   "source": [
    "## Observation\n",
    "- The **Age Distribution** is shown in **KDE Plot**.\n",
    "- The **AgeGroup** of **20-40** is **Highest** than **Other AgeGroup**."
   ]
  },
  {
   "cell_type": "markdown",
   "id": "f565205b-ae08-4dda-9acf-e9a1c07f5985",
   "metadata": {},
   "source": [
    "## Age vs Survived"
   ]
  },
  {
   "cell_type": "code",
   "execution_count": 111,
   "id": "40fbfcb9-c8ab-4af5-a49c-52380a192da4",
   "metadata": {},
   "outputs": [
    {
     "data": {
      "image/png": "[encoded data removed]",
      "text/plain": [
       "<Figure size 1500x700 with 1 Axes>"
      ]
     },
     "metadata": {},
     "output_type": "display_data"
    }
   ],
   "source": [
    "# Age vs survived.\n",
    "plt.figure(figsize=(15,7))\n",
    "sns.histplot(data=titanic, hue='Survived', x='Age', multiple='stack', bins=20, palette='Set1')\n",
    "plt.title('Survival list by Age',fontsize=12,fontweight='bold')\n",
    "plt.xlabel('Age',fontweight='bold',fontsize=10)\n",
    "plt.ylabel('Survival',fontweight='bold',fontsize=10)\n",
    "plt.show()"
   ]
  },
  {
   "cell_type": "markdown",
   "id": "054d5466-5467-4dfa-bfb5-0ebf62bdeda7",
   "metadata": {},
   "source": [
    "## Observation\n",
    "- The **Blue** showing the **Survivors** and **Red** is showing the **Non-Survivors**.\n",
    "- In the whole number of **AgeDistribution** the **AgeGroup** of **20-25** are Higher than other Age Group of passenger Travelled.\n",
    "- The Age Group of **20-25** is Higher than other Age Group who survived during the Titanic Disaster."
   ]
  },
  {
   "cell_type": "markdown",
   "id": "5d2a9ced-8aa2-4f84-aa18-d023a6c0f6c5",
   "metadata": {},
   "source": [
    "## Survival list splitted by Age Group."
   ]
  },
  {
   "cell_type": "code",
   "execution_count": 114,
   "id": "58203bd1-b542-4eda-85b9-da1fa19c4013",
   "metadata": {},
   "outputs": [
    {
     "data": {
      "image/png": "[encoded data removed]",
      "text/plain": [
       "<Figure size 640x480 with 1 Axes>"
      ]
     },
     "metadata": {},
     "output_type": "display_data"
    }
   ],
   "source": [
    "titanic['AgeGroup'] = pd.cut(titanic['Age'], bins=[0,12,18,40,60,100], labels = ['Child','Teen','Adult','Middle Age','Senior'])\n",
    "sns.countplot(data=titanic, x = titanic['AgeGroup'], hue = 'Survived', palette = 'colorblind')\n",
    "plt.title('Survival list splitted by Age Group',fontsize=12)\n",
    "plt.show()"
   ]
  },
  {
   "cell_type": "markdown",
   "id": "95f5a196-4d4e-450f-bbe2-25f2566fd2b8",
   "metadata": {},
   "source": [
    "## Observation\n",
    "- Many **Adult Age Group** Passengers are **Higher than Other Age Group**.\n",
    "- **Senior Age Group** are **Lower**."
   ]
  },
  {
   "cell_type": "markdown",
   "id": "6431f7c5-0ee2-4813-9329-dead6344a7f7",
   "metadata": {},
   "source": [
    "## Final Conclusion\n",
    "From the Titanic dataset analysis:\n",
    "1. **Gender**: Women has a much higher survival rate than Men.\n",
    "2. **Class** : 1st class passengers had the best survival chances, while 3rd class suffered the most.\n",
    "3. **Age**   : Younger passengers(children) were more likely to survive than older ones.\n",
    "4. **Fare**  : Higher fare passengers (wealthier) has better survival chances.\n",
    "\n",
    "Overall, **Social class, gender and Age** played a crucial role in survival during the **Titanic tragedy**."
   ]
  }
 ],
 "metadata": {
  "kernelspec": {
   "display_name": "Python 3 (ipykernel)",
   "language": "python",
   "name": "python3"
  },
  "language_info": {
   "codemirror_mode": {
    "name": "ipython",
    "version": 3
   },
   "file_extension": ".py",
   "mimetype": "text/x-python",
   "name": "python",
   "nbconvert_exporter": "python",
   "pygments_lexer": "ipython3",
   "version": "3.13.5"
  }
 },
 "nbformat": 4,
 "nbformat_minor": 5
}
