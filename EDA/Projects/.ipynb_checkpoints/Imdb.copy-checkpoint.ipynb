{
 "cells": [
  {
   "cell_type": "markdown",
   "id": "7769bf59-8588-4310-a204-31642e61c07c",
   "metadata": {},
   "source": [
    "## Project\n",
    "Project Name = Imdb Dataset Analysis"
   ]
  },
  {
   "cell_type": "markdown",
   "id": "a649ab18-f5f9-43e0-aa02-c1ea1baa180a",
   "metadata": {},
   "source": [
    "## Importing Libraries\n",
    "Import pandas as pd  \n",
    "Import Matplotlib.pyplot as plt  \n",
    "Import Seaborn as sns"
   ]
  },
  {
   "cell_type": "code",
   "execution_count": 37,
   "id": "db992e91-d0c7-4281-aaa7-9be5dd9ceaaf",
   "metadata": {},
   "outputs": [],
   "source": [
    "import pandas as pd\n",
    "import matplotlib.pyplot as plt\n",
    "import seaborn as sns"
   ]
  },
  {
   "cell_type": "markdown",
   "id": "4c455df5-e18c-40a5-bc44-0ff6703a1dcf",
   "metadata": {},
   "source": [
    "## Loading of the Dataset\n"
   ]
  },
  {
   "cell_type": "code",
   "execution_count": 82,
   "id": "38f0bd12-3b74-44dd-87c6-742e4230081d",
   "metadata": {},
   "outputs": [
    {
     "name": "stdout",
     "output_type": "stream",
     "text": [
      "        id                              belongs_to_collection    budget  \\\n",
      "0        1  [{'id': 313576, 'name': 'Hot Tub Time Machine ...  14000000   \n",
      "1        2  [{'id': 107674, 'name': 'The Princess Diaries ...  40000000   \n",
      "2        3                                                NaN   3300000   \n",
      "3        4                                                NaN   1200000   \n",
      "4        5                                                NaN         0   \n",
      "...    ...                                                ...       ...   \n",
      "2995  2996                                                NaN         0   \n",
      "2996  2997                                                NaN         0   \n",
      "2997  2998                                                NaN  65000000   \n",
      "2998  2999                                                NaN  42000000   \n",
      "2999  3000                                                NaN  35000000   \n",
      "\n",
      "                                                 genres  \\\n",
      "0                        [{'id': 35, 'name': 'Comedy'}]   \n",
      "1     [{'id': 35, 'name': 'Comedy'}, {'id': 18, 'nam...   \n",
      "2                         [{'id': 18, 'name': 'Drama'}]   \n",
      "3     [{'id': 53, 'name': 'Thriller'}, {'id': 18, 'n...   \n",
      "4     [{'id': 28, 'name': 'Action'}, {'id': 53, 'nam...   \n",
      "...                                                 ...   \n",
      "2995  [{'id': 35, 'name': 'Comedy'}, {'id': 10749, '...   \n",
      "2996  [{'id': 18, 'name': 'Drama'}, {'id': 10402, 'n...   \n",
      "2997  [{'id': 80, 'name': 'Crime'}, {'id': 28, 'name...   \n",
      "2998  [{'id': 35, 'name': 'Comedy'}, {'id': 10749, '...   \n",
      "2999  [{'id': 53, 'name': 'Thriller'}, {'id': 28, 'n...   \n",
      "\n",
      "                               homepage    imdb_id original_language  \\\n",
      "0                                   NaN  tt2637294                en   \n",
      "1                                   NaN  tt0368933                en   \n",
      "2     http://sonyclassics.com/whiplash/  tt2582802                en   \n",
      "3            http://kahaanithefilm.com/  tt1821480                hi   \n",
      "4                                   NaN  tt1380152                ko   \n",
      "...                                 ...        ...               ...   \n",
      "2995                                NaN  tt0109403                en   \n",
      "2996                                NaN  tt2364975                sv   \n",
      "2997                                NaN  tt0116908                en   \n",
      "2998     http://www.alongcamepolly.com/  tt0343135                en   \n",
      "2999   http://www.abductionthefilm.com/  tt1600195                en   \n",
      "\n",
      "                                original_title  \\\n",
      "0                       Hot Tub Time Machine 2   \n",
      "1     The Princess Diaries 2: Royal Engagement   \n",
      "2                                     Whiplash   \n",
      "3                                      Kahaani   \n",
      "4                                         마린보이   \n",
      "...                                        ...   \n",
      "2995                                   Chasers   \n",
      "2996                               Vi är bäst!   \n",
      "2997                   The Long Kiss Goodnight   \n",
      "2998                          Along Came Polly   \n",
      "2999                                 Abduction   \n",
      "\n",
      "                                               overview  popularity  ...  \\\n",
      "0     When Lou, who has become the \"father of the In...    6.575393  ...   \n",
      "1     Mia Thermopolis is now a college graduate and ...    8.248895  ...   \n",
      "2     Under the direction of a ruthless instructor, ...   64.299990  ...   \n",
      "3     Vidya Bagchi (Vidya Balan) arrives in Kolkata ...    3.174936  ...   \n",
      "4     Marine Boy is the story of a former national s...    1.148070  ...   \n",
      "...                                                 ...         ...  ...   \n",
      "2995  Military men Rock Reilly and Eddie Devane are ...    9.853270  ...   \n",
      "2996  Three girls in 1980s Stockholm decide to form ...    3.727996  ...   \n",
      "2997  Samantha Caine, suburban homemaker, is the ide...   14.482345  ...   \n",
      "2998  Reuben Feffer is a guy who's spent his entire ...   15.725542  ...   \n",
      "2999  A young man sets out to uncover the truth abou...   10.512109  ...   \n",
      "\n",
      "     release_date runtime                                   spoken_languages  \\\n",
      "0         2/20/15    93.0           [{'iso_639_1': 'en', 'name': 'English'}]   \n",
      "1          8/6/04   113.0           [{'iso_639_1': 'en', 'name': 'English'}]   \n",
      "2        10/10/14   105.0           [{'iso_639_1': 'en', 'name': 'English'}]   \n",
      "3          3/9/12   122.0  [{'iso_639_1': 'en', 'name': 'English'}, {'iso...   \n",
      "4          2/5/09   118.0           [{'iso_639_1': 'ko', 'name': '한국어/조선말'}]   \n",
      "...           ...     ...                                                ...   \n",
      "2995      4/22/94   102.0           [{'iso_639_1': 'en', 'name': 'English'}]   \n",
      "2996      3/28/13   102.0           [{'iso_639_1': 'sv', 'name': 'svenska'}]   \n",
      "2997     10/11/96   120.0           [{'iso_639_1': 'en', 'name': 'English'}]   \n",
      "2998      1/16/04    90.0           [{'iso_639_1': 'en', 'name': 'English'}]   \n",
      "2999      9/22/11   106.0           [{'iso_639_1': 'en', 'name': 'English'}]   \n",
      "\n",
      "        status                                            tagline  \\\n",
      "0     Released  The Laws of Space and Time are About to be Vio...   \n",
      "1     Released  It can take a lifetime to find true love; she'...   \n",
      "2     Released    The road to greatness can take you to the edge.   \n",
      "3     Released                                                NaN   \n",
      "4     Released                                                NaN   \n",
      "...        ...                                                ...   \n",
      "2995  Released  It was supposed to be a routine prisoner trans...   \n",
      "2996  Released                                                NaN   \n",
      "2997  Released               What's forgotten is not always gone.   \n",
      "2998  Released  For the most cautious man on Earth, life is ab...   \n",
      "2999  Released          They stole his life. He's taking it back.   \n",
      "\n",
      "                                         title  \\\n",
      "0                       Hot Tub Time Machine 2   \n",
      "1     The Princess Diaries 2: Royal Engagement   \n",
      "2                                     Whiplash   \n",
      "3                                      Kahaani   \n",
      "4                                   Marine Boy   \n",
      "...                                        ...   \n",
      "2995                                   Chasers   \n",
      "2996                          We Are the Best!   \n",
      "2997                   The Long Kiss Goodnight   \n",
      "2998                          Along Came Polly   \n",
      "2999                                 Abduction   \n",
      "\n",
      "                                               Keywords  \\\n",
      "0     [{'id': 4379, 'name': 'time travel'}, {'id': 9...   \n",
      "1     [{'id': 2505, 'name': 'coronation'}, {'id': 42...   \n",
      "2     [{'id': 1416, 'name': 'jazz'}, {'id': 1523, 'n...   \n",
      "3     [{'id': 10092, 'name': 'mystery'}, {'id': 1054...   \n",
      "4                                                   NaN   \n",
      "...                                                 ...   \n",
      "2995  [{'id': 378, 'name': 'prison'}, {'id': 572, 'n...   \n",
      "2996  [{'id': 1192, 'name': 'sweden'}, {'id': 4470, ...   \n",
      "2997  [{'id': 441, 'name': 'assassination'}, {'id': ...   \n",
      "2998  [{'id': 966, 'name': 'beach'}, {'id': 2676, 'n...   \n",
      "2999  [{'id': 591, 'name': 'cia'}, {'id': 822, 'name...   \n",
      "\n",
      "                                                   cast  \\\n",
      "0     [{'cast_id': 4, 'character': 'Lou', 'credit_id...   \n",
      "1     [{'cast_id': 1, 'character': 'Mia Thermopolis'...   \n",
      "2     [{'cast_id': 5, 'character': 'Andrew Neimann',...   \n",
      "3     [{'cast_id': 1, 'character': 'Vidya Bagchi', '...   \n",
      "4     [{'cast_id': 3, 'character': 'Chun-soo', 'cred...   \n",
      "...                                                 ...   \n",
      "2995  [{'cast_id': 2, 'character': 'Rock Reilly', 'c...   \n",
      "2996  [{'cast_id': 5, 'character': 'Bobo', 'credit_i...   \n",
      "2997  [{'cast_id': 10, 'character': 'Samantha Caine ...   \n",
      "2998  [{'cast_id': 8, 'character': 'Reuben Feffer', ...   \n",
      "2999  [{'cast_id': 2, 'character': 'Nathan Harper', ...   \n",
      "\n",
      "                                                   crew    revenue  \n",
      "0     [{'credit_id': '59ac067c92514107af02c8c8', 'de...   12314651  \n",
      "1     [{'credit_id': '52fe43fe9251416c7502563d', 'de...   95149435  \n",
      "2     [{'credit_id': '54d5356ec3a3683ba0000039', 'de...   13092000  \n",
      "3     [{'credit_id': '52fe48779251416c9108d6eb', 'de...   16000000  \n",
      "4     [{'credit_id': '52fe464b9251416c75073b43', 'de...    3923970  \n",
      "...                                                 ...        ...  \n",
      "2995  [{'credit_id': '52fe4494c3a368484e02ac7d', 'de...    1596687  \n",
      "2996  [{'credit_id': '5716b72ac3a3686678012c84', 'de...     180590  \n",
      "2997  [{'credit_id': '52fe443a9251416c7502d579', 'de...   89456761  \n",
      "2998  [{'credit_id': '556f817b9251410866000a63', 'de...  171963386  \n",
      "2999  [{'credit_id': '5391990d0e0a260fb5001629', 'de...   82087155  \n",
      "\n",
      "[3000 rows x 23 columns]\n"
     ]
    }
   ],
   "source": [
    "df = pd.read_csv(r'C:\\Users\\ADMIN\\Desktop\\Jupyter folder/Downloads/Copy of imdb_data (1).csv')\n",
    "print(df)"
   ]
  },
  {
   "cell_type": "markdown",
   "id": "3787e56d-7211-4f32-884d-da2373e9fec4",
   "metadata": {},
   "source": [
    "## Observation\n",
    "- The Dataset are succefully loaded. It shows the first 5 elements of **id,belongs_to_collection,budget,                    genres,homepage,imdb_id,original_language,original_title,overview,popularity,poster_path,            production_companies,production_countries,release_date,runtime,spoken_languages,status,tagline,title,Keywords,cast,crew,revenue**"
   ]
  },
  {
   "cell_type": "markdown",
   "id": "f509c07c-a56e-43dc-9f6f-e90cd45a927b",
   "metadata": {},
   "source": [
    "## Display the first 10 columns in the Dataset"
   ]
  },
  {
   "cell_type": "code",
   "execution_count": 66,
   "id": "592875e9-b19c-41d4-ad4f-1bd199ed98aa",
   "metadata": {},
   "outputs": [
    {
     "name": "stdout",
     "output_type": "stream",
     "text": [
      "   id                              belongs_to_collection    budget  \\\n",
      "0   1  [{'id': 313576, 'name': 'Hot Tub Time Machine ...  14000000   \n",
      "1   2  [{'id': 107674, 'name': 'The Princess Diaries ...  40000000   \n",
      "2   3                                                NaN   3300000   \n",
      "3   4                                                NaN   1200000   \n",
      "4   5                                                NaN         0   \n",
      "5   6                                                NaN   8000000   \n",
      "6   7                                                NaN  14000000   \n",
      "7   8                                                NaN         0   \n",
      "8   9  [{'id': 256377, 'name': 'The Muppet Collection...         0   \n",
      "9  10                                                NaN   6000000   \n",
      "\n",
      "                                              genres  \\\n",
      "0                     [{'id': 35, 'name': 'Comedy'}]   \n",
      "1  [{'id': 35, 'name': 'Comedy'}, {'id': 18, 'nam...   \n",
      "2                      [{'id': 18, 'name': 'Drama'}]   \n",
      "3  [{'id': 53, 'name': 'Thriller'}, {'id': 18, 'n...   \n",
      "4  [{'id': 28, 'name': 'Action'}, {'id': 53, 'nam...   \n",
      "5  [{'id': 16, 'name': 'Animation'}, {'id': 12, '...   \n",
      "6  [{'id': 27, 'name': 'Horror'}, {'id': 53, 'nam...   \n",
      "7                [{'id': 99, 'name': 'Documentary'}]   \n",
      "8  [{'id': 28, 'name': 'Action'}, {'id': 35, 'nam...   \n",
      "9  [{'id': 35, 'name': 'Comedy'}, {'id': 10402, '...   \n",
      "\n",
      "                             homepage    imdb_id original_language  \\\n",
      "0                                 NaN  tt2637294                en   \n",
      "1                                 NaN  tt0368933                en   \n",
      "2   http://sonyclassics.com/whiplash/  tt2582802                en   \n",
      "3          http://kahaanithefilm.com/  tt1821480                hi   \n",
      "4                                 NaN  tt1380152                ko   \n",
      "5                                 NaN  tt0093743                en   \n",
      "6  http://www.thepossessionmovie.com/  tt0431021                en   \n",
      "7                                 NaN  tt0391024                en   \n",
      "8                                 NaN  tt0117110                en   \n",
      "9                                 NaN  tt0310281                en   \n",
      "\n",
      "                             original_title  \\\n",
      "0                    Hot Tub Time Machine 2   \n",
      "1  The Princess Diaries 2: Royal Engagement   \n",
      "2                                  Whiplash   \n",
      "3                                   Kahaani   \n",
      "4                                      마린보이   \n",
      "5    Pinocchio and the Emperor of the Night   \n",
      "6                            The Possession   \n",
      "7                              Control Room   \n",
      "8                    Muppet Treasure Island   \n",
      "9                             A Mighty Wind   \n",
      "\n",
      "                                            overview  popularity  ...  \\\n",
      "0  When Lou, who has become the \"father of the In...    6.575393  ...   \n",
      "1  Mia Thermopolis is now a college graduate and ...    8.248895  ...   \n",
      "2  Under the direction of a ruthless instructor, ...   64.299990  ...   \n",
      "3  Vidya Bagchi (Vidya Balan) arrives in Kolkata ...    3.174936  ...   \n",
      "4  Marine Boy is the story of a former national s...    1.148070  ...   \n",
      "5  Pinocchio and his friends, a glow worm and a m...    0.743274  ...   \n",
      "6  A young girl buys an antique box at a yard sal...    7.286477  ...   \n",
      "7  A chronicle which provides a rare window into ...    1.949044  ...   \n",
      "8  After telling the story of Flint's last journe...    6.902423  ...   \n",
      "9  In \"A Mighty Wind\", director Christopher Guest...    4.672036  ...   \n",
      "\n",
      "  release_date runtime                                   spoken_languages  \\\n",
      "0      2/20/15    93.0           [{'iso_639_1': 'en', 'name': 'English'}]   \n",
      "1       8/6/04   113.0           [{'iso_639_1': 'en', 'name': 'English'}]   \n",
      "2     10/10/14   105.0           [{'iso_639_1': 'en', 'name': 'English'}]   \n",
      "3       3/9/12   122.0  [{'iso_639_1': 'en', 'name': 'English'}, {'iso...   \n",
      "4       2/5/09   118.0           [{'iso_639_1': 'ko', 'name': '한국어/조선말'}]   \n",
      "5       8/6/87    83.0           [{'iso_639_1': 'en', 'name': 'English'}]   \n",
      "6      8/30/12    92.0           [{'iso_639_1': 'en', 'name': 'English'}]   \n",
      "7      1/15/04    84.0  [{'iso_639_1': 'ar', 'name': 'العربية'}, {'iso...   \n",
      "8      2/16/96   100.0           [{'iso_639_1': 'en', 'name': 'English'}]   \n",
      "9      4/16/03    91.0           [{'iso_639_1': 'en', 'name': 'English'}]   \n",
      "\n",
      "     status                                            tagline  \\\n",
      "0  Released  The Laws of Space and Time are About to be Vio...   \n",
      "1  Released  It can take a lifetime to find true love; she'...   \n",
      "2  Released    The road to greatness can take you to the edge.   \n",
      "3  Released                                                NaN   \n",
      "4  Released                                                NaN   \n",
      "5  Released                                                NaN   \n",
      "6  Released               Fear The Demon That Doesn't Fear God   \n",
      "7  Released              Different channels. Different truths.   \n",
      "8  Released                        Set sail for Muppet mayhem!   \n",
      "9  Released           Back together for the first time, again.   \n",
      "\n",
      "                                      title  \\\n",
      "0                    Hot Tub Time Machine 2   \n",
      "1  The Princess Diaries 2: Royal Engagement   \n",
      "2                                  Whiplash   \n",
      "3                                   Kahaani   \n",
      "4                                Marine Boy   \n",
      "5    Pinocchio and the Emperor of the Night   \n",
      "6                            The Possession   \n",
      "7                              Control Room   \n",
      "8                    Muppet Treasure Island   \n",
      "9                             A Mighty Wind   \n",
      "\n",
      "                                            Keywords  \\\n",
      "0  [{'id': 4379, 'name': 'time travel'}, {'id': 9...   \n",
      "1  [{'id': 2505, 'name': 'coronation'}, {'id': 42...   \n",
      "2  [{'id': 1416, 'name': 'jazz'}, {'id': 1523, 'n...   \n",
      "3  [{'id': 10092, 'name': 'mystery'}, {'id': 1054...   \n",
      "4                                                NaN   \n",
      "5                                                NaN   \n",
      "6                                                NaN   \n",
      "7  [{'id': 917, 'name': 'journalism'}, {'id': 163...   \n",
      "8  [{'id': 2041, 'name': 'island'}, {'id': 4418, ...   \n",
      "9  [{'id': 11800, 'name': 'mockumentary'}, {'id':...   \n",
      "\n",
      "                                                cast  \\\n",
      "0  [{'cast_id': 4, 'character': 'Lou', 'credit_id...   \n",
      "1  [{'cast_id': 1, 'character': 'Mia Thermopolis'...   \n",
      "2  [{'cast_id': 5, 'character': 'Andrew Neimann',...   \n",
      "3  [{'cast_id': 1, 'character': 'Vidya Bagchi', '...   \n",
      "4  [{'cast_id': 3, 'character': 'Chun-soo', 'cred...   \n",
      "5  [{'cast_id': 6, 'character': 'Pinocchio (voice...   \n",
      "6  [{'cast_id': 23, 'character': 'Clyde', 'credit...   \n",
      "7  [{'cast_id': 2, 'character': 'Himself', 'credi...   \n",
      "8  [{'cast_id': 1, 'character': 'Long John Silver...   \n",
      "9  [{'cast_id': 24, 'character': 'Jonathan Steinb...   \n",
      "\n",
      "                                                crew   revenue  \n",
      "0  [{'credit_id': '59ac067c92514107af02c8c8', 'de...  12314651  \n",
      "1  [{'credit_id': '52fe43fe9251416c7502563d', 'de...  95149435  \n",
      "2  [{'credit_id': '54d5356ec3a3683ba0000039', 'de...  13092000  \n",
      "3  [{'credit_id': '52fe48779251416c9108d6eb', 'de...  16000000  \n",
      "4  [{'credit_id': '52fe464b9251416c75073b43', 'de...   3923970  \n",
      "5  [{'credit_id': '52fe46f49251416c9106558b', 'de...   3261638  \n",
      "6  [{'credit_id': '52fe4981c3a368484e12ee29', 'de...  85446075  \n",
      "7  [{'credit_id': '52fe47a69251416c750a0daf', 'de...   2586511  \n",
      "8  [{'credit_id': '52fe43c89251416c7501deb3', 'de...  34327391  \n",
      "9  [{'credit_id': '52fe45609251416c750545b3', 'de...  18750246  \n",
      "\n",
      "[10 rows x 23 columns]\n"
     ]
    }
   ],
   "source": [
    "print(df.head(10))"
   ]
  },
  {
   "cell_type": "markdown",
   "id": "0bd9fb91-4cbd-4d3e-beec-d0e23a46dc77",
   "metadata": {},
   "source": [
    "## Observation\n",
    "- The Above Dataset I shown the first 5 columns.\n",
    "- It is successfully loaded."
   ]
  },
  {
   "cell_type": "markdown",
   "id": "ae47ed14-3a6e-4121-8003-22b44d8386b3",
   "metadata": {},
   "source": [
    "## Checking the shape of the Dataset (rows,column)"
   ]
  },
  {
   "cell_type": "code",
   "execution_count": 67,
   "id": "b5e34fc0-1f24-4075-94da-d6ec380cfd12",
   "metadata": {},
   "outputs": [
    {
     "name": "stdout",
     "output_type": "stream",
     "text": [
      "The Rows and Columns of the Dataset : \n",
      " (3000, 23)\n"
     ]
    }
   ],
   "source": [
    "print('The Rows and Columns of the Dataset : \\n',df.shape)"
   ]
  },
  {
   "cell_type": "markdown",
   "id": "2195af96-bfec-423a-944d-dcdb7a8a2922",
   "metadata": {},
   "source": [
    "## Observation\n",
    "The **Rows** of Dataset is 3000 and **Columns** is 23."
   ]
  },
  {
   "cell_type": "markdown",
   "id": "ce7d02e1-1004-4e02-865c-857154aa40da",
   "metadata": {},
   "source": [
    "## Checking the info of the Dataset"
   ]
  },
  {
   "cell_type": "code",
   "execution_count": 68,
   "id": "109fe846-2fd0-431f-b12f-a4db4f5f58fb",
   "metadata": {},
   "outputs": [
    {
     "name": "stdout",
     "output_type": "stream",
     "text": [
      "<class 'pandas.core.frame.DataFrame'>\n",
      "RangeIndex: 3000 entries, 0 to 2999\n",
      "Data columns (total 23 columns):\n",
      " #   Column                 Non-Null Count  Dtype  \n",
      "---  ------                 --------------  -----  \n",
      " 0   id                     3000 non-null   int64  \n",
      " 1   belongs_to_collection  604 non-null    object \n",
      " 2   budget                 3000 non-null   int64  \n",
      " 3   genres                 2993 non-null   object \n",
      " 4   homepage               946 non-null    object \n",
      " 5   imdb_id                3000 non-null   object \n",
      " 6   original_language      3000 non-null   object \n",
      " 7   original_title         3000 non-null   object \n",
      " 8   overview               2992 non-null   object \n",
      " 9   popularity             3000 non-null   float64\n",
      " 10  poster_path            2999 non-null   object \n",
      " 11  production_companies   2844 non-null   object \n",
      " 12  production_countries   2945 non-null   object \n",
      " 13  release_date           3000 non-null   object \n",
      " 14  runtime                2998 non-null   float64\n",
      " 15  spoken_languages       2980 non-null   object \n",
      " 16  status                 3000 non-null   object \n",
      " 17  tagline                2403 non-null   object \n",
      " 18  title                  3000 non-null   object \n",
      " 19  Keywords               2724 non-null   object \n",
      " 20  cast                   2987 non-null   object \n",
      " 21  crew                   2984 non-null   object \n",
      " 22  revenue                3000 non-null   int64  \n",
      "dtypes: float64(2), int64(3), object(18)\n",
      "memory usage: 539.2+ KB\n"
     ]
    }
   ],
   "source": [
    "df.info()"
   ]
  },
  {
   "cell_type": "markdown",
   "id": "8b32ce11-e7c2-4fd0-9826-ef08a8af5199",
   "metadata": {},
   "source": [
    "## Observation\n",
    "- Total entries: 3000\n",
    "- Different data types: numberic(int/float) and categorical (object)."
   ]
  },
  {
   "cell_type": "markdown",
   "id": "720ceb6b-70ae-46ec-a3e4-cb5d2d6bf8b4",
   "metadata": {},
   "source": [
    "## Describing the Statistics\n"
   ]
  },
  {
   "cell_type": "code",
   "execution_count": 69,
   "id": "719d2f84-1b24-4de3-9cbd-f559554338fa",
   "metadata": {},
   "outputs": [
    {
     "data": {
      "text/html": [
       "<div>\n",
       "<style scoped>\n",
       "    .dataframe tbody tr th:only-of-type {\n",
       "        vertical-align: middle;\n",
       "    }\n",
       "\n",
       "    .dataframe tbody tr th {\n",
       "        vertical-align: top;\n",
       "    }\n",
       "\n",
       "    .dataframe thead th {\n",
       "        text-align: right;\n",
       "    }\n",
       "</style>\n",
       "<table border=\"1\" class=\"dataframe\">\n",
       "  <thead>\n",
       "    <tr style=\"text-align: right;\">\n",
       "      <th></th>\n",
       "      <th>id</th>\n",
       "      <th>budget</th>\n",
       "      <th>popularity</th>\n",
       "      <th>runtime</th>\n",
       "      <th>revenue</th>\n",
       "    </tr>\n",
       "  </thead>\n",
       "  <tbody>\n",
       "    <tr>\n",
       "      <th>count</th>\n",
       "      <td>3000.000000</td>\n",
       "      <td>3.000000e+03</td>\n",
       "      <td>3000.000000</td>\n",
       "      <td>2998.000000</td>\n",
       "      <td>3.000000e+03</td>\n",
       "    </tr>\n",
       "    <tr>\n",
       "      <th>mean</th>\n",
       "      <td>1500.500000</td>\n",
       "      <td>2.253133e+07</td>\n",
       "      <td>8.463274</td>\n",
       "      <td>107.856571</td>\n",
       "      <td>6.672585e+07</td>\n",
       "    </tr>\n",
       "    <tr>\n",
       "      <th>std</th>\n",
       "      <td>866.169729</td>\n",
       "      <td>3.702609e+07</td>\n",
       "      <td>12.104000</td>\n",
       "      <td>22.086434</td>\n",
       "      <td>1.375323e+08</td>\n",
       "    </tr>\n",
       "    <tr>\n",
       "      <th>min</th>\n",
       "      <td>1.000000</td>\n",
       "      <td>0.000000e+00</td>\n",
       "      <td>0.000001</td>\n",
       "      <td>0.000000</td>\n",
       "      <td>1.000000e+00</td>\n",
       "    </tr>\n",
       "    <tr>\n",
       "      <th>25%</th>\n",
       "      <td>750.750000</td>\n",
       "      <td>0.000000e+00</td>\n",
       "      <td>4.018053</td>\n",
       "      <td>94.000000</td>\n",
       "      <td>2.379808e+06</td>\n",
       "    </tr>\n",
       "    <tr>\n",
       "      <th>50%</th>\n",
       "      <td>1500.500000</td>\n",
       "      <td>8.000000e+06</td>\n",
       "      <td>7.374861</td>\n",
       "      <td>104.000000</td>\n",
       "      <td>1.680707e+07</td>\n",
       "    </tr>\n",
       "    <tr>\n",
       "      <th>75%</th>\n",
       "      <td>2250.250000</td>\n",
       "      <td>2.900000e+07</td>\n",
       "      <td>10.890983</td>\n",
       "      <td>118.000000</td>\n",
       "      <td>6.891920e+07</td>\n",
       "    </tr>\n",
       "    <tr>\n",
       "      <th>max</th>\n",
       "      <td>3000.000000</td>\n",
       "      <td>3.800000e+08</td>\n",
       "      <td>294.337037</td>\n",
       "      <td>338.000000</td>\n",
       "      <td>1.519558e+09</td>\n",
       "    </tr>\n",
       "  </tbody>\n",
       "</table>\n",
       "</div>"
      ],
      "text/plain": [
       "                id        budget   popularity      runtime       revenue\n",
       "count  3000.000000  3.000000e+03  3000.000000  2998.000000  3.000000e+03\n",
       "mean   1500.500000  2.253133e+07     8.463274   107.856571  6.672585e+07\n",
       "std     866.169729  3.702609e+07    12.104000    22.086434  1.375323e+08\n",
       "min       1.000000  0.000000e+00     0.000001     0.000000  1.000000e+00\n",
       "25%     750.750000  0.000000e+00     4.018053    94.000000  2.379808e+06\n",
       "50%    1500.500000  8.000000e+06     7.374861   104.000000  1.680707e+07\n",
       "75%    2250.250000  2.900000e+07    10.890983   118.000000  6.891920e+07\n",
       "max    3000.000000  3.800000e+08   294.337037   338.000000  1.519558e+09"
      ]
     },
     "execution_count": 69,
     "metadata": {},
     "output_type": "execute_result"
    }
   ],
   "source": [
    "df.describe()"
   ]
  },
  {
   "cell_type": "markdown",
   "id": "37d710f1-5620-4672-a14c-9dd65b03e67c",
   "metadata": {},
   "source": [
    "## Observation\n",
    "- Mean value of **Runtime** is 107.85.\n",
    "- Mean value of **Popularity** is 8.46."
   ]
  },
  {
   "cell_type": "markdown",
   "id": "350894eb-c8e8-40cb-a3e1-ee79c099214c",
   "metadata": {},
   "source": [
    "## Check if there are any duplicate value"
   ]
  },
  {
   "cell_type": "code",
   "execution_count": 70,
   "id": "b1981b7e-c304-4ab4-8c3e-a3029003eaee",
   "metadata": {},
   "outputs": [
    {
     "name": "stdout",
     "output_type": "stream",
     "text": [
      "False    3000\n",
      "Name: count, dtype: int64\n"
     ]
    }
   ],
   "source": [
    "print(df.duplicated().value_counts())"
   ]
  },
  {
   "cell_type": "markdown",
   "id": "97de13fc-5471-43db-864f-110835de6a64",
   "metadata": {},
   "source": [
    "## Observation\n",
    "- There is no duplicate value in the Dataset."
   ]
  },
  {
   "cell_type": "markdown",
   "id": "aadfb172-719e-4c30-b2ba-0751dc654c76",
   "metadata": {},
   "source": [
    "## Checking the Missing value in the Dataset"
   ]
  },
  {
   "cell_type": "code",
   "execution_count": 71,
   "id": "b9965ca3-4072-4580-837a-c668cb9eeb11",
   "metadata": {},
   "outputs": [
    {
     "name": "stdout",
     "output_type": "stream",
     "text": [
      "belongs_to_collection    2396\n",
      "homepage                 2054\n",
      "tagline                   597\n",
      "Keywords                  276\n",
      "production_companies      156\n",
      "production_countries       55\n",
      "spoken_languages           20\n",
      "crew                       16\n",
      "cast                       13\n",
      "overview                    8\n",
      "genres                      7\n",
      "runtime                     2\n",
      "poster_path                 1\n",
      "id                          0\n",
      "budget                      0\n",
      "original_language           0\n",
      "imdb_id                     0\n",
      "original_title              0\n",
      "popularity                  0\n",
      "release_date                0\n",
      "status                      0\n",
      "title                       0\n",
      "revenue                     0\n",
      "dtype: int64\n"
     ]
    }
   ],
   "source": [
    "print(df.isnull().sum().sort_values(ascending = False))"
   ]
  },
  {
   "cell_type": "markdown",
   "id": "d0cce66a-b402-42d9-a29b-1de2841a73b3",
   "metadata": {},
   "source": [
    "## Observation\n",
    "- There are many null values are identified and it is arranged in the **Descending order**.\n",
    "- 2396 datas are missing in the column of **belongs to collection**.\n",
    "- 2054 datas are missing in the column of **Homepage**.\n",
    "- 597 datas are missing in the column of **Tagline**.\n",
    "- 276 datas are missing in the column of **Keywords**.\n",
    "- 156 datas are missing in the column of **Production companies**.\n",
    "- 55 datas are missing in the column of **Production countries**.\n",
    "- 20 datas in **Spoken language**.\n",
    "- 16 datas in **Crew** and 13 datas in **Cast**.\n",
    "- In **Overview** there are 8 datas, **Genres** there are 7 datas, **Runtime** there are 2 datas and **Poster path** there are 1 data were missing in the dataset."
   ]
  },
  {
   "cell_type": "markdown",
   "id": "0af8a414-dc58-4ed3-998c-948e44ec060d",
   "metadata": {},
   "source": [
    "## Handling the Missing values\n"
   ]
  },
  {
   "cell_type": "code",
   "execution_count": 107,
   "id": "f6d32a1b-ebbc-4d1f-8397-31c821672ea7",
   "metadata": {},
   "outputs": [],
   "source": [
    "df.drop(columns=['belongs_to_collection'], axis=1, inplace=True)"
   ]
  },
  {
   "cell_type": "code",
   "execution_count": 108,
   "id": "6a547a8b-444b-474e-9a66-a111a92f2e2c",
   "metadata": {},
   "outputs": [],
   "source": [
    "df.drop(columns=['homepage'],axis=1, inplace=True)"
   ]
  },
  {
   "cell_type": "code",
   "execution_count": 110,
   "id": "41da3985-d914-4f12-aabd-23eebbaf60de",
   "metadata": {},
   "outputs": [
    {
     "name": "stdout",
     "output_type": "stream",
     "text": [
      "0\n"
     ]
    }
   ],
   "source": [
    "df['tagline'].fillna(value='no tagline',inplace = True)\n",
    "print(df['tagline'].isnull().sum())"
   ]
  },
  {
   "cell_type": "code",
   "execution_count": 112,
   "id": "13af3d07-a559-4c3b-8d74-2615ed4722ad",
   "metadata": {},
   "outputs": [
    {
     "name": "stdout",
     "output_type": "stream",
     "text": [
      "0\n"
     ]
    }
   ],
   "source": [
    "df['Keywords'].fillna(value='no keywords',inplace=True)\n",
    "print(df['Keywords'].isnull().sum())"
   ]
  },
  {
   "cell_type": "code",
   "execution_count": 114,
   "id": "4aa0179a-fac0-45c0-9027-f1e5ea23483c",
   "metadata": {},
   "outputs": [
    {
     "name": "stdout",
     "output_type": "stream",
     "text": [
      "0\n"
     ]
    }
   ],
   "source": [
    "df['production_companies'].fillna(value= 'companies',inplace=True)\n",
    "print(df['production_companies'].isnull().sum())"
   ]
  },
  {
   "cell_type": "code",
   "execution_count": 116,
   "id": "0c048cdc-47e7-4d41-aa36-895e9985c9af",
   "metadata": {},
   "outputs": [
    {
     "name": "stdout",
     "output_type": "stream",
     "text": [
      "0\n"
     ]
    }
   ],
   "source": [
    "df['production_countries'].fillna(value='country',inplace=True)\n",
    "print(df['production_countries'].isnull().sum())"
   ]
  },
  {
   "cell_type": "code",
   "execution_count": 118,
   "id": "d5cce737-dca5-4041-bda5-d9f955a12408",
   "metadata": {},
   "outputs": [
    {
     "name": "stdout",
     "output_type": "stream",
     "text": [
      "0\n"
     ]
    }
   ],
   "source": [
    "df['spoken_languages'].fillna(value='no spoken language',inplace=True)\n",
    "print(df['spoken_languages'].isnull().sum())"
   ]
  },
  {
   "cell_type": "code",
   "execution_count": 120,
   "id": "cb408043-206d-463c-8a43-6eb627fcada2",
   "metadata": {},
   "outputs": [
    {
     "name": "stdout",
     "output_type": "stream",
     "text": [
      "0\n"
     ]
    }
   ],
   "source": [
    "df['crew'].fillna(value='no crew',inplace=True)\n",
    "print(df['crew'].isnull().sum())"
   ]
  },
  {
   "cell_type": "code",
   "execution_count": 122,
   "id": "3e6979aa-45db-4199-bb00-d671b7d34cc4",
   "metadata": {},
   "outputs": [
    {
     "name": "stdout",
     "output_type": "stream",
     "text": [
      "0\n"
     ]
    }
   ],
   "source": [
    "df['cast'].fillna(value='no cast',inplace=True)\n",
    "print(df['cast'].isnull().sum())"
   ]
  },
  {
   "cell_type": "code",
   "execution_count": 124,
   "id": "7ec00045-a372-4c02-ab43-4040b28d8fae",
   "metadata": {},
   "outputs": [
    {
     "name": "stdout",
     "output_type": "stream",
     "text": [
      "0\n"
     ]
    }
   ],
   "source": [
    "df['overview'].fillna(value='no overview',inplace=True)\n",
    "print(df['overview'].isnull().sum())"
   ]
  },
  {
   "cell_type": "code",
   "execution_count": 126,
   "id": "3f9b5013-a422-4e87-80b4-1ea8ccf4a96d",
   "metadata": {},
   "outputs": [
    {
     "name": "stdout",
     "output_type": "stream",
     "text": [
      "0\n"
     ]
    }
   ],
   "source": [
    "df['genres'].fillna(value='no genres',inplace=True)\n",
    "print(df['genres'].isnull().sum())"
   ]
  },
  {
   "cell_type": "code",
   "execution_count": 128,
   "id": "3936afb1-2d37-4a45-994f-ad5fd45f4210",
   "metadata": {},
   "outputs": [
    {
     "name": "stdout",
     "output_type": "stream",
     "text": [
      "0\n"
     ]
    }
   ],
   "source": [
    "df['runtime'].fillna(value='unknown', inplace=True)\n",
    "print(df['runtime'].isnull().sum())"
   ]
  },
  {
   "cell_type": "code",
   "execution_count": 130,
   "id": "66a4f29c-646c-4862-8a5c-8e27593d2987",
   "metadata": {},
   "outputs": [
    {
     "name": "stdout",
     "output_type": "stream",
     "text": [
      "0\n"
     ]
    }
   ],
   "source": [
    "df['poster_path'].fillna(value='no path',inplace=True)\n",
    "print(df['poster_path'].isnull().sum())"
   ]
  },
  {
   "cell_type": "code",
   "execution_count": 85,
   "id": "35443b56-9b87-451a-baee-41c8c966eb38",
   "metadata": {},
   "outputs": [
    {
     "data": {
      "text/plain": [
       "id                      0\n",
       "budget                  0\n",
       "genres                  0\n",
       "imdb_id                 0\n",
       "original_language       0\n",
       "original_title          0\n",
       "overview                0\n",
       "popularity              0\n",
       "poster_path             0\n",
       "production_companies    0\n",
       "production_countries    0\n",
       "release_date            0\n",
       "runtime                 0\n",
       "spoken_languages        0\n",
       "status                  0\n",
       "tagline                 0\n",
       "title                   0\n",
       "Keywords                0\n",
       "cast                    0\n",
       "crew                    0\n",
       "revenue                 0\n",
       "dtype: int64"
      ]
     },
     "execution_count": 85,
     "metadata": {},
     "output_type": "execute_result"
    }
   ],
   "source": [
    "df.isnull().sum()"
   ]
  },
  {
   "cell_type": "markdown",
   "id": "a08dc72d-013f-4bab-8fa1-374ac1500508",
   "metadata": {},
   "source": [
    "## Observation\n",
    "- Here, I dropped the **Belongs to collection** and **Homepage** column.\n",
    "- Because in these both columns the **80-90%** of datas are missing. So, it is better to drop the columns.\n",
    "- Ohter null value columns I replaced using the fillna method."
   ]
  },
  {
   "cell_type": "markdown",
   "id": "4d998562-f760-4f6f-8de3-a546e3b08eaa",
   "metadata": {},
   "source": [
    "## Identify the top 3 languages with the highest number of films."
   ]
  },
  {
   "cell_type": "code",
   "execution_count": 5,
   "id": "8626eeea-3f95-4637-bc87-4a228268dc6a",
   "metadata": {},
   "outputs": [
    {
     "name": "stdout",
     "output_type": "stream",
     "text": [
      "original_language\n",
      "en    2575\n",
      "fr      78\n",
      "ru      47\n",
      "Name: count, dtype: int64\n"
     ]
    }
   ],
   "source": [
    "language = df['original_language'].value_counts()\n",
    "top_3_language = language.head(3)\n",
    "print(top_3_language)"
   ]
  },
  {
   "cell_type": "markdown",
   "id": "66ca749e-af2a-4a40-8a9a-7b856c27190e",
   "metadata": {},
   "source": [
    "## Observation\n",
    "- The Above 3 elements are the **Top 3 languages**."
   ]
  },
  {
   "cell_type": "markdown",
   "id": "5a2e67d9-57c6-4892-bb14-9c05c9103649",
   "metadata": {},
   "source": [
    "## Plot a pie chart of these top 3 languages."
   ]
  },
  {
   "cell_type": "code",
   "execution_count": 11,
   "id": "6e965520-14aa-4ffa-8172-360b36c94235",
   "metadata": {},
   "outputs": [
    {
     "data": {
      "image/png": "[encoded data removed]",
      "text/plain": [
       "<Figure size 1200x700 with 1 Axes>"
      ]
     },
     "metadata": {},
     "output_type": "display_data"
    }
   ],
   "source": [
    "labels = ('English','French','Russian')\n",
    "plt.figure(figsize=(12,7))\n",
    "plt.pie(top_3_language, labels=labels, autopct='%1.1f%%', startangle=160, colors=['red','blue','green'])\n",
    "plt.title('Top 3 languages')\n",
    "plt.legend(title='language')\n",
    "plt.show()"
   ]
  },
  {
   "cell_type": "markdown",
   "id": "2612c9f4-8dbf-420a-b199-8dda9f8b6360",
   "metadata": {},
   "source": [
    "## Observation\n",
    "- Here I used pie chart to identify the **Top 3 languages**.\n",
    "- The language **English** has **Highest than Other languages**."
   ]
  },
  {
   "cell_type": "markdown",
   "id": "8fa20f2b-d932-4b22-a24c-15e86c5c24d5",
   "metadata": {},
   "source": [
    "## Top 3 Dominant languages.\n",
    "Same like the above quetion top 3 highest language."
   ]
  },
  {
   "cell_type": "code",
   "execution_count": 132,
   "id": "f2a1e1aa-861e-4fca-a8f1-f2cbd8d57a0c",
   "metadata": {},
   "outputs": [
    {
     "name": "stdout",
     "output_type": "stream",
     "text": [
      "original_language\n",
      "en    2575\n",
      "fr      78\n",
      "ru      47\n",
      "Name: count, dtype: int64\n"
     ]
    }
   ],
   "source": [
    "dominant_language = df['original_language'].value_counts()\n",
    "print(dominant_language.head(3))"
   ]
  },
  {
   "cell_type": "markdown",
   "id": "2cbb19af-8bc1-47c9-9ff1-890aee8f0c5e",
   "metadata": {},
   "source": [
    "## Observation\n",
    "- The above dataset these are the top 3 dominant languages.\n",
    "- The **English** is the Highest language."
   ]
  },
  {
   "cell_type": "markdown",
   "id": "c5f17715-317b-46ee-83e3-d8f240dd6615",
   "metadata": {},
   "source": [
    "## Extract the genres(Note: some moview may have multiple genres split them)."
   ]
  },
  {
   "cell_type": "markdown",
   "id": "af868104-5f83-4334-ac03-0581abbdebf3",
   "metadata": {},
   "source": [
    "## Adding the libraries\n",
    "from collections import Counter  \n",
    "import ast"
   ]
  },
  {
   "cell_type": "code",
   "execution_count": 84,
   "id": "9b7dd2d1-ec2b-4981-9a41-d15fb03bd25e",
   "metadata": {},
   "outputs": [],
   "source": [
    "from collections import Counter\n",
    "import ast"
   ]
  },
  {
   "cell_type": "code",
   "execution_count": 91,
   "id": "6bc67cb4-57e7-4d1d-bd25-03eca23860c5",
   "metadata": {},
   "outputs": [],
   "source": [
    "def extract_genre_names(genres_str):\n",
    "    try:\n",
    "        genres = ast.literal_eval(genres_str)\n",
    "        return [genre['name'] for genre in genres]\n",
    "    except (SyntaxError,ValueError):\n",
    "        return ['Unknown']\n",
    "df['genres_list'] = df['genres'].apply(extract_genre_names)\n",
    "all_genres = [genre for sublist in df ['genres_list'] for genre in sublist]\n",
    "genre_counts = Counter(all_genres)\n",
    "genre_counts_df = pd.DataFrame(genre_counts.items(),columns=['Genre','Counts'])"
   ]
  },
  {
   "cell_type": "code",
   "execution_count": 130,
   "id": "95c1d030-b08c-483b-8853-317374a17b3a",
   "metadata": {},
   "outputs": [
    {
     "name": "stdout",
     "output_type": "stream",
     "text": [
      "Genre_counts : \n",
      "Comedy : 1028\n",
      "Drama : 1531\n",
      "Family : 260\n",
      "Romance : 571\n",
      "Thriller : 789\n",
      "Action : 741\n",
      "Animation : 141\n",
      "Adventure : 439\n",
      "Horror : 301\n",
      "Documentary : 87\n",
      "Music : 100\n",
      "Crime : 469\n",
      "Science Fiction : 290\n",
      "Mystery : 225\n",
      "Foreign : 31\n",
      "Fantasy : 232\n",
      "War : 100\n",
      "Western : 43\n",
      "History : 132\n",
      "Unknown : 7\n",
      "TV Movie : 1\n"
     ]
    }
   ],
   "source": [
    "print('Genre_counts : ')\n",
    "for genre,count in genre_counts.items():\n",
    "    print(f\"{genre} : {count}\")"
   ]
  },
  {
   "cell_type": "markdown",
   "id": "a96fe6e6-526e-4ed2-9456-b8e8bb1d5cdb",
   "metadata": {},
   "source": [
    "## Observation\n",
    "- The Above dataset the column **genres** is successfully **Extracted and splited**."
   ]
  },
  {
   "cell_type": "markdown",
   "id": "6904f8b7-89a1-4e0d-b336-1fc666c46de8",
   "metadata": {},
   "source": [
    "## Count the number of movies in each genre."
   ]
  },
  {
   "cell_type": "code",
   "execution_count": 95,
   "id": "503a9bfc-cf3f-4a37-8875-dfab43e24d42",
   "metadata": {},
   "outputs": [
    {
     "name": "stdout",
     "output_type": "stream",
     "text": [
      "Number of moives in each genre : \n",
      "  genres\n",
      " 'name': 'Drama'}       960\n",
      "[{'id': 18              785\n",
      " {'id': 18              746\n",
      " 'name': 'Comedy'}      685\n",
      " {'id': 53              673\n",
      "                       ... \n",
      " 'name': 'Western'}      12\n",
      " 'name': 'Foreign'}       7\n",
      "[{'id': 10769             2\n",
      "[{'id': 10770             1\n",
      " 'name': 'TV Movie'}      1\n",
      "Name: count, Length: 78, dtype: int64\n"
     ]
    }
   ],
   "source": [
    "count_genre = df_exploded['genres'].value_counts()\n",
    "print('Number of moives in each genre : \\n ',count_genre)"
   ]
  },
  {
   "cell_type": "markdown",
   "id": "dec048a9-b7b7-4b7b-8ab8-e418c9f2c0ab",
   "metadata": {},
   "source": [
    "## Obsrvation\n",
    "- The above dataset the column **genres** is successfully **Counted**."
   ]
  },
  {
   "cell_type": "markdown",
   "id": "6f25e951-57af-49b4-a92d-82d6eccdfe41",
   "metadata": {},
   "source": [
    "## Plot bar chart of the movie counts per genre."
   ]
  },
  {
   "cell_type": "code",
   "execution_count": 157,
   "id": "fff9efe2-467f-4bf0-ab47-752824025680",
   "metadata": {},
   "outputs": [
    {
     "data": {
      "image/png": "[encoded data removed]",
      "text/plain": [
       "<Figure size 1000x500 with 1 Axes>"
      ]
     },
     "metadata": {},
     "output_type": "display_data"
    }
   ],
   "source": [
    "plt.figure(figsize=(10,5))\n",
    "bars = plt.bar(genre_counts_df['Genre'],genre_counts_df['Counts'],color='lightgreen')\n",
    "for bar in bars:\n",
    "    yv = bar.get_height()\n",
    "    plt.text(\n",
    "        bar.get_x()+bar.get_width()/2,\n",
    "        yv + 0.2,\n",
    "        yv,ha='center', va='bottom',fontweight='bold'\n",
    "    )\n",
    "plt.xlabel('Genre',fontweight='bold')\n",
    "plt.ylabel('Counts',fontweight='bold')\n",
    "plt.xticks(rotation=90)\n",
    "plt.title('Movies counts per Genre',fontweight='bold')\n",
    "plt.show()"
   ]
  },
  {
   "cell_type": "markdown",
   "id": "b4a98d83-1de6-42c8-adbe-97a467715aa2",
   "metadata": {},
   "source": [
    "## Observation\n",
    "- The Above dataset it shows **Movies per Genres** "
   ]
  },
  {
   "cell_type": "markdown",
   "id": "277d1383-1da1-4404-b2a6-4b6beb4939f1",
   "metadata": {},
   "source": [
    "## Sort movies by popularity(or rating/votes depending on dataset)"
   ]
  },
  {
   "cell_type": "code",
   "execution_count": 43,
   "id": "d40392bd-c3a1-4fa7-bc3f-f17405b56d9a",
   "metadata": {},
   "outputs": [
    {
     "data": {
      "text/html": [
       "<div>\n",
       "<style scoped>\n",
       "    .dataframe tbody tr th:only-of-type {\n",
       "        vertical-align: middle;\n",
       "    }\n",
       "\n",
       "    .dataframe tbody tr th {\n",
       "        vertical-align: top;\n",
       "    }\n",
       "\n",
       "    .dataframe thead th {\n",
       "        text-align: right;\n",
       "    }\n",
       "</style>\n",
       "<table border=\"1\" class=\"dataframe\">\n",
       "  <thead>\n",
       "    <tr style=\"text-align: right;\">\n",
       "      <th></th>\n",
       "      <th>id</th>\n",
       "      <th>belongs_to_collection</th>\n",
       "      <th>budget</th>\n",
       "      <th>genres</th>\n",
       "      <th>homepage</th>\n",
       "      <th>imdb_id</th>\n",
       "      <th>original_language</th>\n",
       "      <th>original_title</th>\n",
       "      <th>overview</th>\n",
       "      <th>popularity</th>\n",
       "      <th>...</th>\n",
       "      <th>release_date</th>\n",
       "      <th>runtime</th>\n",
       "      <th>spoken_languages</th>\n",
       "      <th>status</th>\n",
       "      <th>tagline</th>\n",
       "      <th>title</th>\n",
       "      <th>Keywords</th>\n",
       "      <th>cast</th>\n",
       "      <th>crew</th>\n",
       "      <th>revenue</th>\n",
       "    </tr>\n",
       "  </thead>\n",
       "  <tbody>\n",
       "    <tr>\n",
       "      <th>518</th>\n",
       "      <td>519</td>\n",
       "      <td>[{'id': 468552, 'name': 'Wonder Woman Collecti...</td>\n",
       "      <td>149000000</td>\n",
       "      <td>[{'id': 28, 'name': 'Action'}, {'id': 12, 'nam...</td>\n",
       "      <td>http://www.warnerbros.com/wonder-woman</td>\n",
       "      <td>tt0451279</td>\n",
       "      <td>en</td>\n",
       "      <td>Wonder Woman</td>\n",
       "      <td>An Amazon princess comes to the world of Man t...</td>\n",
       "      <td>294.337037</td>\n",
       "      <td>...</td>\n",
       "      <td>5/30/17</td>\n",
       "      <td>141.0</td>\n",
       "      <td>[{'iso_639_1': 'de', 'name': 'Deutsch'}, {'iso...</td>\n",
       "      <td>Released</td>\n",
       "      <td>Power. Grace. Wisdom. Wonder.</td>\n",
       "      <td>Wonder Woman</td>\n",
       "      <td>[{'id': 849, 'name': 'dc comics'}, {'id': 1701...</td>\n",
       "      <td>NaN</td>\n",
       "      <td>NaN</td>\n",
       "      <td>820580447</td>\n",
       "    </tr>\n",
       "    <tr>\n",
       "      <th>684</th>\n",
       "      <td>685</td>\n",
       "      <td>NaN</td>\n",
       "      <td>160000000</td>\n",
       "      <td>[{'id': 10751, 'name': 'Family'}, {'id': 14, '...</td>\n",
       "      <td>http://movies.disney.com/beauty-and-the-beast-...</td>\n",
       "      <td>tt2771200</td>\n",
       "      <td>en</td>\n",
       "      <td>Beauty and the Beast</td>\n",
       "      <td>A live-action adaptation of Disney's version o...</td>\n",
       "      <td>287.253654</td>\n",
       "      <td>...</td>\n",
       "      <td>3/16/17</td>\n",
       "      <td>129.0</td>\n",
       "      <td>[{'iso_639_1': 'en', 'name': 'English'}]</td>\n",
       "      <td>Released</td>\n",
       "      <td>Be our guest.</td>\n",
       "      <td>Beauty and the Beast</td>\n",
       "      <td>[{'id': 254, 'name': 'france'}, {'id': 2343, '...</td>\n",
       "      <td>[{'cast_id': 174, 'character': 'Belle', 'credi...</td>\n",
       "      <td>[{'credit_id': '551879bec3a3681f840004eb', 'de...</td>\n",
       "      <td>1262886337</td>\n",
       "    </tr>\n",
       "    <tr>\n",
       "      <th>1695</th>\n",
       "      <td>1696</td>\n",
       "      <td>NaN</td>\n",
       "      <td>34000000</td>\n",
       "      <td>[{'id': 28, 'name': 'Action'}, {'id': 80, 'nam...</td>\n",
       "      <td>NaN</td>\n",
       "      <td>tt3890160</td>\n",
       "      <td>en</td>\n",
       "      <td>Baby Driver</td>\n",
       "      <td>After being coerced into working for a crime b...</td>\n",
       "      <td>228.032744</td>\n",
       "      <td>...</td>\n",
       "      <td>6/28/17</td>\n",
       "      <td>113.0</td>\n",
       "      <td>[{'iso_639_1': 'en', 'name': 'English'}]</td>\n",
       "      <td>Released</td>\n",
       "      <td>All you need is one killer track.</td>\n",
       "      <td>Baby Driver</td>\n",
       "      <td>[{'id': 642, 'name': 'robbery'}, {'id': 2076, ...</td>\n",
       "      <td>[{'cast_id': 9, 'character': 'Baby', 'credit_i...</td>\n",
       "      <td>[{'credit_id': '55c58c009251417a21000e5d', 'de...</td>\n",
       "      <td>224511319</td>\n",
       "    </tr>\n",
       "    <tr>\n",
       "      <th>2326</th>\n",
       "      <td>2327</td>\n",
       "      <td>[{'id': 448150, 'name': 'Deadpool Collection',...</td>\n",
       "      <td>58000000</td>\n",
       "      <td>[{'id': 28, 'name': 'Action'}, {'id': 12, 'nam...</td>\n",
       "      <td>http://www.foxmovies.com/movies/deadpool</td>\n",
       "      <td>tt1431045</td>\n",
       "      <td>en</td>\n",
       "      <td>Deadpool</td>\n",
       "      <td>Deadpool tells the origin story of former Spec...</td>\n",
       "      <td>187.860492</td>\n",
       "      <td>...</td>\n",
       "      <td>2/9/16</td>\n",
       "      <td>108.0</td>\n",
       "      <td>[{'iso_639_1': 'en', 'name': 'English'}]</td>\n",
       "      <td>Released</td>\n",
       "      <td>Witness the beginning of a happy ending</td>\n",
       "      <td>Deadpool</td>\n",
       "      <td>[{'id': 2095, 'name': 'anti hero'}, {'id': 307...</td>\n",
       "      <td>[{'cast_id': 99, 'character': 'Wade Wilson / D...</td>\n",
       "      <td>[{'credit_id': '57e564fac3a3681beb0000cc', 'de...</td>\n",
       "      <td>783112979</td>\n",
       "    </tr>\n",
       "    <tr>\n",
       "      <th>2126</th>\n",
       "      <td>2127</td>\n",
       "      <td>[{'id': 284433, 'name': 'Guardians of the Gala...</td>\n",
       "      <td>200000000</td>\n",
       "      <td>[{'id': 28, 'name': 'Action'}, {'id': 12, 'nam...</td>\n",
       "      <td>http://marvel.com/movies/movie/221/guardians_o...</td>\n",
       "      <td>tt3896198</td>\n",
       "      <td>en</td>\n",
       "      <td>Guardians of the Galaxy Vol. 2</td>\n",
       "      <td>The Guardians must fight to keep their newfoun...</td>\n",
       "      <td>185.330992</td>\n",
       "      <td>...</td>\n",
       "      <td>4/19/17</td>\n",
       "      <td>137.0</td>\n",
       "      <td>[{'iso_639_1': 'en', 'name': 'English'}]</td>\n",
       "      <td>Released</td>\n",
       "      <td>Obviously.</td>\n",
       "      <td>Guardians of the Galaxy Vol. 2</td>\n",
       "      <td>[{'id': 9663, 'name': 'sequel'}, {'id': 9715, ...</td>\n",
       "      <td>[{'cast_id': 3, 'character': 'Peter Quill / St...</td>\n",
       "      <td>[{'credit_id': '59171547925141583c0315a6', 'de...</td>\n",
       "      <td>863416141</td>\n",
       "    </tr>\n",
       "    <tr>\n",
       "      <th>...</th>\n",
       "      <td>...</td>\n",
       "      <td>...</td>\n",
       "      <td>...</td>\n",
       "      <td>...</td>\n",
       "      <td>...</td>\n",
       "      <td>...</td>\n",
       "      <td>...</td>\n",
       "      <td>...</td>\n",
       "      <td>...</td>\n",
       "      <td>...</td>\n",
       "      <td>...</td>\n",
       "      <td>...</td>\n",
       "      <td>...</td>\n",
       "      <td>...</td>\n",
       "      <td>...</td>\n",
       "      <td>...</td>\n",
       "      <td>...</td>\n",
       "      <td>...</td>\n",
       "      <td>...</td>\n",
       "      <td>...</td>\n",
       "      <td>...</td>\n",
       "    </tr>\n",
       "    <tr>\n",
       "      <th>773</th>\n",
       "      <td>774</td>\n",
       "      <td>NaN</td>\n",
       "      <td>0</td>\n",
       "      <td>[{'id': 99, 'name': 'Documentary'}]</td>\n",
       "      <td>NaN</td>\n",
       "      <td>tt0264802</td>\n",
       "      <td>en</td>\n",
       "      <td>Live Nude Girls Unite!</td>\n",
       "      <td>Documentary look at the 1996-97 effort of the ...</td>\n",
       "      <td>0.001272</td>\n",
       "      <td>...</td>\n",
       "      <td>10/6/00</td>\n",
       "      <td>75.0</td>\n",
       "      <td>[{'iso_639_1': 'en', 'name': 'English'}]</td>\n",
       "      <td>Released</td>\n",
       "      <td>NaN</td>\n",
       "      <td>Live Nude Girls Unite!</td>\n",
       "      <td>[{'id': 582, 'name': 'san francisco'}, {'id': ...</td>\n",
       "      <td>[]</td>\n",
       "      <td>[{'credit_id': '52fe4a249251416c750df26b', 'de...</td>\n",
       "      <td>48752</td>\n",
       "    </tr>\n",
       "    <tr>\n",
       "      <th>1503</th>\n",
       "      <td>1504</td>\n",
       "      <td>NaN</td>\n",
       "      <td>0</td>\n",
       "      <td>[{'id': 35, 'name': 'Comedy'}]</td>\n",
       "      <td>NaN</td>\n",
       "      <td>tt0092717</td>\n",
       "      <td>en</td>\n",
       "      <td>Campus Man</td>\n",
       "      <td>Todd Barret is an aspiring businessman. He's g...</td>\n",
       "      <td>0.000844</td>\n",
       "      <td>...</td>\n",
       "      <td>4/10/87</td>\n",
       "      <td>94.0</td>\n",
       "      <td>NaN</td>\n",
       "      <td>Released</td>\n",
       "      <td>All the girls want to take Brett Wilson home, ...</td>\n",
       "      <td>Campus Man</td>\n",
       "      <td>NaN</td>\n",
       "      <td>[{'cast_id': 7, 'character': 'Todd Barrett', '...</td>\n",
       "      <td>[{'credit_id': '59e1573292514172bb005191', 'de...</td>\n",
       "      <td>989000</td>\n",
       "    </tr>\n",
       "    <tr>\n",
       "      <th>741</th>\n",
       "      <td>742</td>\n",
       "      <td>NaN</td>\n",
       "      <td>0</td>\n",
       "      <td>[{'id': 10751, 'name': 'Family'}, {'id': 878, ...</td>\n",
       "      <td>NaN</td>\n",
       "      <td>tt0101343</td>\n",
       "      <td>en</td>\n",
       "      <td>And You Thought Your Parents Were Weird</td>\n",
       "      <td>Two boys follow in their late fathers foot ste...</td>\n",
       "      <td>0.000578</td>\n",
       "      <td>...</td>\n",
       "      <td>11/15/91</td>\n",
       "      <td>92.0</td>\n",
       "      <td>[{'iso_639_1': 'en', 'name': 'English'}]</td>\n",
       "      <td>Released</td>\n",
       "      <td>NaN</td>\n",
       "      <td>And You Thought Your Parents Were Weird!</td>\n",
       "      <td>[{'id': 5202, 'name': 'boy'}, {'id': 13130, 'n...</td>\n",
       "      <td>[{'cast_id': 3, 'character': 'Sarah Carson', '...</td>\n",
       "      <td>[{'credit_id': '52fe4978c3a368484e12ce53', 'de...</td>\n",
       "      <td>402539</td>\n",
       "    </tr>\n",
       "    <tr>\n",
       "      <th>1683</th>\n",
       "      <td>1684</td>\n",
       "      <td>NaN</td>\n",
       "      <td>0</td>\n",
       "      <td>[{'id': 18, 'name': 'Drama'}, {'id': 10749, 'n...</td>\n",
       "      <td>NaN</td>\n",
       "      <td>tt0090036</td>\n",
       "      <td>en</td>\n",
       "      <td>The Slugger's Wife</td>\n",
       "      <td>Darryl Palmer (Michael O'Keefe) is a major lea...</td>\n",
       "      <td>0.000308</td>\n",
       "      <td>...</td>\n",
       "      <td>3/29/85</td>\n",
       "      <td>105.0</td>\n",
       "      <td>[{'iso_639_1': 'en', 'name': 'English'}]</td>\n",
       "      <td>Released</td>\n",
       "      <td>NaN</td>\n",
       "      <td>The Slugger's Wife</td>\n",
       "      <td>NaN</td>\n",
       "      <td>[{'cast_id': 3, 'character': 'Darryl Palmer', ...</td>\n",
       "      <td>[{'credit_id': '52fe499ac3a368484e13425b', 'de...</td>\n",
       "      <td>1878561</td>\n",
       "    </tr>\n",
       "    <tr>\n",
       "      <th>2556</th>\n",
       "      <td>2557</td>\n",
       "      <td>NaN</td>\n",
       "      <td>0</td>\n",
       "      <td>[{'id': 99, 'name': 'Documentary'}, {'id': 18,...</td>\n",
       "      <td>NaN</td>\n",
       "      <td>tt0094743</td>\n",
       "      <td>en</td>\n",
       "      <td>Big Time</td>\n",
       "      <td>Bringing his unique sense of humor to this biz...</td>\n",
       "      <td>0.000001</td>\n",
       "      <td>...</td>\n",
       "      <td>9/15/88</td>\n",
       "      <td>87.0</td>\n",
       "      <td>[{'iso_639_1': 'en', 'name': 'English'}]</td>\n",
       "      <td>Released</td>\n",
       "      <td>The concert was \"the best live performance of ...</td>\n",
       "      <td>Big Time</td>\n",
       "      <td>[{'id': 10183, 'name': 'independent film'}]</td>\n",
       "      <td>[{'cast_id': 1, 'character': '', 'credit_id': ...</td>\n",
       "      <td>[{'credit_id': '5654795892514170210042e6', 'de...</td>\n",
       "      <td>148426</td>\n",
       "    </tr>\n",
       "  </tbody>\n",
       "</table>\n",
       "<p>3000 rows × 23 columns</p>\n",
       "</div>"
      ],
      "text/plain": [
       "        id                              belongs_to_collection     budget  \\\n",
       "518    519  [{'id': 468552, 'name': 'Wonder Woman Collecti...  149000000   \n",
       "684    685                                                NaN  160000000   \n",
       "1695  1696                                                NaN   34000000   \n",
       "2326  2327  [{'id': 448150, 'name': 'Deadpool Collection',...   58000000   \n",
       "2126  2127  [{'id': 284433, 'name': 'Guardians of the Gala...  200000000   \n",
       "...    ...                                                ...        ...   \n",
       "773    774                                                NaN          0   \n",
       "1503  1504                                                NaN          0   \n",
       "741    742                                                NaN          0   \n",
       "1683  1684                                                NaN          0   \n",
       "2556  2557                                                NaN          0   \n",
       "\n",
       "                                                 genres  \\\n",
       "518   [{'id': 28, 'name': 'Action'}, {'id': 12, 'nam...   \n",
       "684   [{'id': 10751, 'name': 'Family'}, {'id': 14, '...   \n",
       "1695  [{'id': 28, 'name': 'Action'}, {'id': 80, 'nam...   \n",
       "2326  [{'id': 28, 'name': 'Action'}, {'id': 12, 'nam...   \n",
       "2126  [{'id': 28, 'name': 'Action'}, {'id': 12, 'nam...   \n",
       "...                                                 ...   \n",
       "773                 [{'id': 99, 'name': 'Documentary'}]   \n",
       "1503                     [{'id': 35, 'name': 'Comedy'}]   \n",
       "741   [{'id': 10751, 'name': 'Family'}, {'id': 878, ...   \n",
       "1683  [{'id': 18, 'name': 'Drama'}, {'id': 10749, 'n...   \n",
       "2556  [{'id': 99, 'name': 'Documentary'}, {'id': 18,...   \n",
       "\n",
       "                                               homepage    imdb_id  \\\n",
       "518              http://www.warnerbros.com/wonder-woman  tt0451279   \n",
       "684   http://movies.disney.com/beauty-and-the-beast-...  tt2771200   \n",
       "1695                                                NaN  tt3890160   \n",
       "2326           http://www.foxmovies.com/movies/deadpool  tt1431045   \n",
       "2126  http://marvel.com/movies/movie/221/guardians_o...  tt3896198   \n",
       "...                                                 ...        ...   \n",
       "773                                                 NaN  tt0264802   \n",
       "1503                                                NaN  tt0092717   \n",
       "741                                                 NaN  tt0101343   \n",
       "1683                                                NaN  tt0090036   \n",
       "2556                                                NaN  tt0094743   \n",
       "\n",
       "     original_language                           original_title  \\\n",
       "518                 en                             Wonder Woman   \n",
       "684                 en                     Beauty and the Beast   \n",
       "1695                en                              Baby Driver   \n",
       "2326                en                                 Deadpool   \n",
       "2126                en           Guardians of the Galaxy Vol. 2   \n",
       "...                ...                                      ...   \n",
       "773                 en                   Live Nude Girls Unite!   \n",
       "1503                en                               Campus Man   \n",
       "741                 en  And You Thought Your Parents Were Weird   \n",
       "1683                en                       The Slugger's Wife   \n",
       "2556                en                                 Big Time   \n",
       "\n",
       "                                               overview  popularity  ...  \\\n",
       "518   An Amazon princess comes to the world of Man t...  294.337037  ...   \n",
       "684   A live-action adaptation of Disney's version o...  287.253654  ...   \n",
       "1695  After being coerced into working for a crime b...  228.032744  ...   \n",
       "2326  Deadpool tells the origin story of former Spec...  187.860492  ...   \n",
       "2126  The Guardians must fight to keep their newfoun...  185.330992  ...   \n",
       "...                                                 ...         ...  ...   \n",
       "773   Documentary look at the 1996-97 effort of the ...    0.001272  ...   \n",
       "1503  Todd Barret is an aspiring businessman. He's g...    0.000844  ...   \n",
       "741   Two boys follow in their late fathers foot ste...    0.000578  ...   \n",
       "1683  Darryl Palmer (Michael O'Keefe) is a major lea...    0.000308  ...   \n",
       "2556  Bringing his unique sense of humor to this biz...    0.000001  ...   \n",
       "\n",
       "     release_date runtime                                   spoken_languages  \\\n",
       "518       5/30/17   141.0  [{'iso_639_1': 'de', 'name': 'Deutsch'}, {'iso...   \n",
       "684       3/16/17   129.0           [{'iso_639_1': 'en', 'name': 'English'}]   \n",
       "1695      6/28/17   113.0           [{'iso_639_1': 'en', 'name': 'English'}]   \n",
       "2326       2/9/16   108.0           [{'iso_639_1': 'en', 'name': 'English'}]   \n",
       "2126      4/19/17   137.0           [{'iso_639_1': 'en', 'name': 'English'}]   \n",
       "...           ...     ...                                                ...   \n",
       "773       10/6/00    75.0           [{'iso_639_1': 'en', 'name': 'English'}]   \n",
       "1503      4/10/87    94.0                                                NaN   \n",
       "741      11/15/91    92.0           [{'iso_639_1': 'en', 'name': 'English'}]   \n",
       "1683      3/29/85   105.0           [{'iso_639_1': 'en', 'name': 'English'}]   \n",
       "2556      9/15/88    87.0           [{'iso_639_1': 'en', 'name': 'English'}]   \n",
       "\n",
       "        status                                            tagline  \\\n",
       "518   Released                      Power. Grace. Wisdom. Wonder.   \n",
       "684   Released                                      Be our guest.   \n",
       "1695  Released                  All you need is one killer track.   \n",
       "2326  Released            Witness the beginning of a happy ending   \n",
       "2126  Released                                         Obviously.   \n",
       "...        ...                                                ...   \n",
       "773   Released                                                NaN   \n",
       "1503  Released  All the girls want to take Brett Wilson home, ...   \n",
       "741   Released                                                NaN   \n",
       "1683  Released                                                NaN   \n",
       "2556  Released  The concert was \"the best live performance of ...   \n",
       "\n",
       "                                         title  \\\n",
       "518                               Wonder Woman   \n",
       "684                       Beauty and the Beast   \n",
       "1695                               Baby Driver   \n",
       "2326                                  Deadpool   \n",
       "2126            Guardians of the Galaxy Vol. 2   \n",
       "...                                        ...   \n",
       "773                     Live Nude Girls Unite!   \n",
       "1503                                Campus Man   \n",
       "741   And You Thought Your Parents Were Weird!   \n",
       "1683                        The Slugger's Wife   \n",
       "2556                                  Big Time   \n",
       "\n",
       "                                               Keywords  \\\n",
       "518   [{'id': 849, 'name': 'dc comics'}, {'id': 1701...   \n",
       "684   [{'id': 254, 'name': 'france'}, {'id': 2343, '...   \n",
       "1695  [{'id': 642, 'name': 'robbery'}, {'id': 2076, ...   \n",
       "2326  [{'id': 2095, 'name': 'anti hero'}, {'id': 307...   \n",
       "2126  [{'id': 9663, 'name': 'sequel'}, {'id': 9715, ...   \n",
       "...                                                 ...   \n",
       "773   [{'id': 582, 'name': 'san francisco'}, {'id': ...   \n",
       "1503                                                NaN   \n",
       "741   [{'id': 5202, 'name': 'boy'}, {'id': 13130, 'n...   \n",
       "1683                                                NaN   \n",
       "2556        [{'id': 10183, 'name': 'independent film'}]   \n",
       "\n",
       "                                                   cast  \\\n",
       "518                                                 NaN   \n",
       "684   [{'cast_id': 174, 'character': 'Belle', 'credi...   \n",
       "1695  [{'cast_id': 9, 'character': 'Baby', 'credit_i...   \n",
       "2326  [{'cast_id': 99, 'character': 'Wade Wilson / D...   \n",
       "2126  [{'cast_id': 3, 'character': 'Peter Quill / St...   \n",
       "...                                                 ...   \n",
       "773                                                  []   \n",
       "1503  [{'cast_id': 7, 'character': 'Todd Barrett', '...   \n",
       "741   [{'cast_id': 3, 'character': 'Sarah Carson', '...   \n",
       "1683  [{'cast_id': 3, 'character': 'Darryl Palmer', ...   \n",
       "2556  [{'cast_id': 1, 'character': '', 'credit_id': ...   \n",
       "\n",
       "                                                   crew     revenue  \n",
       "518                                                 NaN   820580447  \n",
       "684   [{'credit_id': '551879bec3a3681f840004eb', 'de...  1262886337  \n",
       "1695  [{'credit_id': '55c58c009251417a21000e5d', 'de...   224511319  \n",
       "2326  [{'credit_id': '57e564fac3a3681beb0000cc', 'de...   783112979  \n",
       "2126  [{'credit_id': '59171547925141583c0315a6', 'de...   863416141  \n",
       "...                                                 ...         ...  \n",
       "773   [{'credit_id': '52fe4a249251416c750df26b', 'de...       48752  \n",
       "1503  [{'credit_id': '59e1573292514172bb005191', 'de...      989000  \n",
       "741   [{'credit_id': '52fe4978c3a368484e12ce53', 'de...      402539  \n",
       "1683  [{'credit_id': '52fe499ac3a368484e13425b', 'de...     1878561  \n",
       "2556  [{'credit_id': '5654795892514170210042e6', 'de...      148426  \n",
       "\n",
       "[3000 rows x 23 columns]"
      ]
     },
     "execution_count": 43,
     "metadata": {},
     "output_type": "execute_result"
    }
   ],
   "source": [
    "df.sort_values('popularity',ascending=False)"
   ]
  },
  {
   "cell_type": "markdown",
   "id": "f32b39fe-b58c-49fa-a2b7-884ca4339877",
   "metadata": {},
   "source": [
    "## Observation\n",
    "- The Above the **Popularity** were arranged into **Descending order**."
   ]
  },
  {
   "cell_type": "markdown",
   "id": "653be009-631b-4183-8a06-16210c6b7c51",
   "metadata": {},
   "source": [
    "## List the top 10 Most popular films with their popularity values."
   ]
  },
  {
   "cell_type": "code",
   "execution_count": 145,
   "id": "14e76343-ed1e-4715-9064-b51e568e907d",
   "metadata": {},
   "outputs": [
    {
     "name": "stdout",
     "output_type": "stream",
     "text": [
      "                               title  popularity\n",
      "518                     Wonder Woman  294.337037\n",
      "684             Beauty and the Beast  287.253654\n",
      "1695                     Baby Driver  228.032744\n",
      "2326                        Deadpool  187.860492\n",
      "2126  Guardians of the Galaxy Vol. 2  185.330992\n",
      "1309                       Gone Girl  154.801009\n",
      "1715  War for the Planet of the Apes  146.161786\n",
      "1673                 The Dark Knight  123.167259\n",
      "1126                    The Avengers   89.887648\n",
      "2293                      The Circle   88.439243\n"
     ]
    }
   ],
   "source": [
    "Top_10 = df_sorted[['title','popularity']].head(10)\n",
    "print(Top_10)"
   ]
  },
  {
   "cell_type": "markdown",
   "id": "486301e4-a51d-47bb-97c7-3744ab4d7f5a",
   "metadata": {},
   "source": [
    "## Observation\n",
    "- The **Movie** got higher than **Other movies** by **Popularity**.\n",
    "- **The Circle** got **Lower**."
   ]
  },
  {
   "cell_type": "markdown",
   "id": "8f3b45fa-2d23-4055-b8a1-799fa07f9bb0",
   "metadata": {},
   "source": [
    "## Plot a line chart showing these 10 films by popularity."
   ]
  },
  {
   "cell_type": "code",
   "execution_count": 154,
   "id": "5909d541-3a0a-41f7-a55f-0721edaf37dc",
   "metadata": {},
   "outputs": [
    {
     "data": {
      "image/png": "[encoded data removed]",
      "text/plain": [
       "<Figure size 640x480 with 1 Axes>"
      ]
     },
     "metadata": {},
     "output_type": "display_data"
    }
   ],
   "source": [
    "plt.plot(Top_10['title'],Top_10['popularity'],marker='o')\n",
    "plt.title('Top 10 films by popularity')\n",
    "plt.xlabel('Movies')\n",
    "plt.ylabel('Popularity')\n",
    "plt.xticks(rotation=90)\n",
    "plt.show()"
   ]
  },
  {
   "cell_type": "markdown",
   "id": "053b08be-2626-4270-b45e-1a97c40c2755",
   "metadata": {},
   "source": [
    "## Observation\n",
    "- The above dataset I find the **Top 10 Movies by Popularity**.\n",
    "- Here, I plotted it in the **Line chart**."
   ]
  },
  {
   "cell_type": "markdown",
   "id": "1cbf69a0-4b6a-47d0-a3a4-d98363de623a",
   "metadata": {},
   "source": [
    "## Top 7 highest budgetted films."
   ]
  },
  {
   "cell_type": "code",
   "execution_count": 160,
   "id": "74cb8199-13ba-4267-8813-3bd507295f91",
   "metadata": {},
   "outputs": [
    {
     "name": "stdout",
     "output_type": "stream",
     "text": [
      "                                            title     budget\n",
      "2135  Pirates of the Caribbean: On Stranger Tides  380000000\n",
      "2209     Pirates of the Caribbean: At World's End  300000000\n",
      "2770                      Avengers: Age of Ultron  280000000\n",
      "1425                             Superman Returns  270000000\n",
      "1270                                  John Carter  260000000\n",
      "1630                Transformers: The Last Knight  260000000\n",
      "961        Harry Potter and the Half-Blood Prince  250000000\n"
     ]
    }
   ],
   "source": [
    "top7_budget = df.sort_values(by='budget',ascending = False).head(7)\n",
    "print(top7_budget[['title','budget']])"
   ]
  },
  {
   "cell_type": "markdown",
   "id": "dbdb735e-3f2b-4c11-950e-9f8fb45624fb",
   "metadata": {},
   "source": [
    "## Observation\n",
    "- Based on the **Budget**, the **Pirates of the caribbean: On stranger tides** Higher than other movies."
   ]
  },
  {
   "cell_type": "markdown",
   "id": "7a0b692d-63f1-4b48-b2c6-75ae57e321c9",
   "metadata": {},
   "source": [
    "## List their Title and Budgets"
   ]
  },
  {
   "cell_type": "code",
   "execution_count": 161,
   "id": "bef82126-2fe5-4dfa-8f9e-f42a28c1d570",
   "metadata": {},
   "outputs": [
    {
     "name": "stdout",
     "output_type": "stream",
     "text": [
      "                                            title     budget\n",
      "2135  Pirates of the Caribbean: On Stranger Tides  380000000\n",
      "2209     Pirates of the Caribbean: At World's End  300000000\n",
      "2770                      Avengers: Age of Ultron  280000000\n",
      "1425                             Superman Returns  270000000\n",
      "1270                                  John Carter  260000000\n",
      "1630                Transformers: The Last Knight  260000000\n",
      "961        Harry Potter and the Half-Blood Prince  250000000\n"
     ]
    }
   ],
   "source": [
    "print(top7_budget[['title','budget']])"
   ]
  },
  {
   "cell_type": "markdown",
   "id": "9b6a48d8-9edc-42b4-b309-f3f349e16544",
   "metadata": {},
   "source": [
    "## Observation\n",
    "- Here, I list out the film **Titles** and their **Budget**."
   ]
  },
  {
   "cell_type": "markdown",
   "id": "5fe792e0-6739-4a8e-8d33-bfe0f819e6aa",
   "metadata": {},
   "source": [
    "## Plot a bar chart or histogram for these 7 films."
   ]
  },
  {
   "cell_type": "code",
   "execution_count": 165,
   "id": "3c6abb5c-9e48-4796-956b-788142570aa8",
   "metadata": {},
   "outputs": [
    {
     "data": {
      "image/png": "[encoded data removed]",
      "text/plain": [
       "<Figure size 640x480 with 1 Axes>"
      ]
     },
     "metadata": {},
     "output_type": "display_data"
    }
   ],
   "source": [
    "bar=sns.barplot(x=top7_budget['title'], y=top7_budget['budget'])\n",
    "plt.xticks(rotation=75)\n",
    "plt.title('Top 7 Highest budgetted films')\n",
    "plt.ylabel('Budget')\n",
    "plt.xlabel('Films')\n",
    "plt.show()"
   ]
  },
  {
   "cell_type": "markdown",
   "id": "f8fdfc92-c03e-405c-ab9d-74214f58f1b3",
   "metadata": {},
   "source": [
    "## Observation\n",
    "- The **Bar chart** shows each film's budget clearly, so we can compare film to film.\n",
    "- It is better here because we are comparing individual films."
   ]
  },
  {
   "cell_type": "markdown",
   "id": "98167a55-963e-48ef-a3e0-1c034522ec45",
   "metadata": {},
   "source": [
    "## Final conclusion\n",
    "From the Imbd dataset analysis:\n",
    "1. **Dataset Quality**: After cleaning, duplicates were removed and missing values were handled to imporve efficiency.\n",
    "2. **Languages**: The film industry is dominated by a few key languages. **English** is most dominant, followed by **French and Russian**.\n",
    "3. **Genres**   : Movies span multiple genres, with **Drama, Comedy, and Action** being the most common.\n",
    "4. **Popularity**: The Top 10 most popular films show a clear trend where a few blockbusters gain massive popularity compared to other.\n",
    "5. **Budget**   : The Top 7 highest-budget films hace significantly larger budgets than the average movie, showing that high investments are concentrated in a few production.\n",
    "6. **Visualizations**: **Pie charts, Bar graphs and Line plots** helped us compare **Categories, Genres, Popularity, and Budgets**effectively.\n",
    "\n",
    "Overall insights, The dataset highlights how **language, genre, popularity, and budget** strongly influence the film industry trends. English-language films dominate globally, while budgets and popularity vary widely, with only a few films achieving very high investment and viewership."
   ]
  }
 ],
 "metadata": {
  "kernelspec": {
   "display_name": "Python 3 (ipykernel)",
   "language": "python",
   "name": "python3"
  },
  "language_info": {
   "codemirror_mode": {
    "name": "ipython",
    "version": 3
   },
   "file_extension": ".py",
   "mimetype": "text/x-python",
   "name": "python",
   "nbconvert_exporter": "python",
   "pygments_lexer": "ipython3",
   "version": "3.13.5"
  }
 },
 "nbformat": 4,
 "nbformat_minor": 5
}
