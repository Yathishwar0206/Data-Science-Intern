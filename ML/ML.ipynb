{
 "cells": [
  {
   "cell_type": "code",
   "execution_count": 2,
   "id": "8d4403c5-1942-4039-a693-ea31ea60ab42",
   "metadata": {},
   "outputs": [
    {
     "name": "stdout",
     "output_type": "stream",
     "text": [
      "    Name   Age\n",
      "0  Vijay  50.0\n",
      "1  Ajith   NaN\n",
      "2   None  55.0\n",
      "Name    1\n",
      "Age     1\n",
      "dtype: int64\n"
     ]
    }
   ],
   "source": [
    "# Machine learning\n",
    "# Handling missing value\n",
    "import pandas as pd\n",
    "import numpy as np\n",
    "data = {'Name':['Vijay','Ajith',None],'Age':[50,None,55]}\n",
    "df = pd.DataFrame(data)\n",
    "print(df)\n",
    "print(df.isnull().sum())"
   ]
  },
  {
   "cell_type": "code",
   "execution_count": 4,
   "id": "ad913e97-c0c4-4bbc-bd77-5cfed7c64d14",
   "metadata": {},
   "outputs": [
    {
     "name": "stdout",
     "output_type": "stream",
     "text": [
      "      Name   Age\n",
      "0    Vijay  50.0\n",
      "1    Ajith  52.5\n",
      "2  Unknown  55.0\n"
     ]
    }
   ],
   "source": [
    "df['Age'] = df['Age'].fillna(df['Age'].mean())\n",
    "df['Name'] = df['Name'].fillna('Unknown')\n",
    "print(df)"
   ]
  },
  {
   "cell_type": "code",
   "execution_count": 8,
   "id": "9c664a73-de0c-4630-a780-d1541ad71564",
   "metadata": {},
   "outputs": [
    {
     "name": "stdout",
     "output_type": "stream",
     "text": [
      "         Name Attendence\n",
      "1  Yathishwar    Present\n",
      "2      Allwin       None\n",
      "3        None    Present\n",
      "Name          1\n",
      "Attendence    1\n",
      "dtype: int64\n"
     ]
    }
   ],
   "source": [
    "data = {'Name':['Yathishwar','Allwin',None],'Attendence':['Present',None,'Present']}\n",
    "df = pd.DataFrame(data,index=[1,2,3])\n",
    "print(df)\n",
    "print(df.isnull().sum())"
   ]
  },
  {
   "cell_type": "code",
   "execution_count": 9,
   "id": "b17e2d24-eff8-4ea8-a482-e506af3dfa0a",
   "metadata": {},
   "outputs": [
    {
     "name": "stdout",
     "output_type": "stream",
     "text": [
      "         Name Attendence\n",
      "1  Yathishwar    Present\n",
      "2      Allwin     Absent\n",
      "3       Hyden    Present\n"
     ]
    }
   ],
   "source": [
    "df['Name'] = df['Name'].fillna('Hyden')\n",
    "df['Attendence'] = df['Attendence'].fillna('Absent')\n",
    "print(df)"
   ]
  },
  {
   "cell_type": "code",
   "execution_count": 15,
   "id": "e1b23f2f-8b41-4eb7-88f6-5fd23bb1f639",
   "metadata": {},
   "outputs": [
    {
     "name": "stdout",
     "output_type": "stream",
     "text": [
      "Original Height :\n",
      "    Height\n",
      "0     150\n",
      "1     162\n",
      "2     165\n",
      "3     170\n",
      "4     174\n",
      "5     181\n",
      "6     185\n",
      "7     198\n",
      "8     209\n",
      "9     300\n",
      "Filltered Height(Outliers removed) : \n",
      "    Height\n",
      "0     150\n",
      "1     162\n",
      "2     165\n",
      "3     170\n",
      "4     174\n",
      "5     181\n",
      "6     185\n",
      "7     198\n",
      "8     209\n",
      "Height    int64\n",
      "dtype: object\n"
     ]
    }
   ],
   "source": [
    "# Outliers Detection and Removal (IQR)\n",
    "df = pd.DataFrame({'Height':[150,162,165,170,174,181,185,198,209,300]})\n",
    "Q1 = df['Height'].quantile(0.25)\n",
    "Q3 = df['Height'].quantile(0.75)\n",
    "IQR = Q3 - Q1\n",
    "fillter_df = df[(df['Height'] >= Q1-1.5*IQR) & (df['Height'] <= Q3+1.5*IQR)]\n",
    "print('Original Height :\\n',df)\n",
    "print('Filltered Height(Outliers removed) : \\n',fillter_df)\n",
    "print(df.dtypes)"
   ]
  },
  {
   "cell_type": "code",
   "execution_count": 18,
   "id": "d8bfb7eb-3adb-4aa4-b9df-22d17df89414",
   "metadata": {},
   "outputs": [
    {
     "name": "stdout",
     "output_type": "stream",
     "text": [
      "Original marks is :\n",
      "    Marks\n",
      "0      1\n",
      "1     50\n",
      "2     70\n",
      "3     65\n",
      "4     86\n",
      "5     72\n",
      "6     98\n",
      "7    100\n",
      "8    300\n",
      "Outliers Removed :\n",
      "    Marks\n",
      "1     50\n",
      "2     70\n",
      "3     65\n",
      "4     86\n",
      "5     72\n",
      "6     98\n",
      "7    100\n"
     ]
    }
   ],
   "source": [
    "data = pd.DataFrame({'Marks':[1,50,70,65,86,72,98,100,300]})\n",
    "Q1 = data['Marks'].quantile(0.25)\n",
    "Q3 = data['Marks'].quantile(0.75)\n",
    "IQR = Q3 - Q1\n",
    "mark = data[(data['Marks'] >= Q1-1.5*IQR) & (data['Marks'] <= Q3+1.5*IQR)]\n",
    "print('Original marks is :\\n',data)\n",
    "print('Outliers Removed :\\n',mark)"
   ]
  },
  {
   "cell_type": "code",
   "execution_count": 12,
   "id": "593befd5-29f3-4240-8316-5e4ad543eb94",
   "metadata": {},
   "outputs": [
    {
     "name": "stdout",
     "output_type": "stream",
     "text": [
      "[[20 41 35 22 13]\n",
      " [10 43 27 26 29]\n",
      " [22 30 41 47 47]\n",
      " [43 46 34 46 44]\n",
      " [30 29 34 28 43]\n",
      " [20 24 43 18 14]\n",
      " [46 44 39 29 45]\n",
      " [32 32 23 17 19]]\n",
      "    0   1   2   3   4\n",
      "0  20  41  35  22  13\n",
      "1  10  43  27  26  29\n",
      "2  22  30  41  47  47\n",
      "3  43  46  34  46  44\n",
      "4  30  29  34  28  43\n",
      "5  20  24  43  18  14\n",
      "6  46  44  39  29  45\n",
      "7  32  32  23  17  19\n"
     ]
    }
   ],
   "source": [
    "age = np.array(np.random.randint(10,50,(8,5)))\n",
    "print(age)\n",
    "Age = pd.DataFrame(age)\n",
    "print(Age)"
   ]
  },
  {
   "cell_type": "code",
   "execution_count": 13,
   "id": "ecc04f90-ced0-4de0-ab56-474fd63aca80",
   "metadata": {},
   "outputs": [
    {
     "name": "stdout",
     "output_type": "stream",
     "text": [
      "[[27 29]\n",
      " [16 38]\n",
      " [26 24]\n",
      " [21 38]\n",
      " [25 20]\n",
      " [41 23]\n",
      " [25 19]\n",
      " [22 40]]\n"
     ]
    },
    {
     "data": {
      "text/html": [
       "<div>\n",
       "<style scoped>\n",
       "    .dataframe tbody tr th:only-of-type {\n",
       "        vertical-align: middle;\n",
       "    }\n",
       "\n",
       "    .dataframe tbody tr th {\n",
       "        vertical-align: top;\n",
       "    }\n",
       "\n",
       "    .dataframe thead th {\n",
       "        text-align: right;\n",
       "    }\n",
       "</style>\n",
       "<table border=\"1\" class=\"dataframe\">\n",
       "  <thead>\n",
       "    <tr style=\"text-align: right;\">\n",
       "      <th></th>\n",
       "      <th>0</th>\n",
       "      <th>1</th>\n",
       "    </tr>\n",
       "  </thead>\n",
       "  <tbody>\n",
       "    <tr>\n",
       "      <th>0</th>\n",
       "      <td>27</td>\n",
       "      <td>29</td>\n",
       "    </tr>\n",
       "    <tr>\n",
       "      <th>1</th>\n",
       "      <td>16</td>\n",
       "      <td>38</td>\n",
       "    </tr>\n",
       "    <tr>\n",
       "      <th>2</th>\n",
       "      <td>26</td>\n",
       "      <td>24</td>\n",
       "    </tr>\n",
       "    <tr>\n",
       "      <th>3</th>\n",
       "      <td>21</td>\n",
       "      <td>38</td>\n",
       "    </tr>\n",
       "    <tr>\n",
       "      <th>4</th>\n",
       "      <td>25</td>\n",
       "      <td>20</td>\n",
       "    </tr>\n",
       "    <tr>\n",
       "      <th>5</th>\n",
       "      <td>41</td>\n",
       "      <td>23</td>\n",
       "    </tr>\n",
       "    <tr>\n",
       "      <th>6</th>\n",
       "      <td>25</td>\n",
       "      <td>19</td>\n",
       "    </tr>\n",
       "    <tr>\n",
       "      <th>7</th>\n",
       "      <td>22</td>\n",
       "      <td>40</td>\n",
       "    </tr>\n",
       "  </tbody>\n",
       "</table>\n",
       "</div>"
      ],
      "text/plain": [
       "    0   1\n",
       "0  27  29\n",
       "1  16  38\n",
       "2  26  24\n",
       "3  21  38\n",
       "4  25  20\n",
       "5  41  23\n",
       "6  25  19\n",
       "7  22  40"
      ]
     },
     "execution_count": 13,
     "metadata": {},
     "output_type": "execute_result"
    }
   ],
   "source": [
    "a = np.array(np.random.randint(10,45,(8,2)))\n",
    "print(a)\n",
    "A = pd.DataFrame(a)\n",
    "A"
   ]
  },
  {
   "cell_type": "code",
   "execution_count": 73,
   "id": "d693542e-b555-4819-934d-176a3805df83",
   "metadata": {},
   "outputs": [
    {
     "name": "stdout",
     "output_type": "stream",
     "text": [
      "[[14]\n",
      " [36]\n",
      " [32]\n",
      " [23]\n",
      " [10]\n",
      " [38]\n",
      " [25]\n",
      " [43]]\n",
      "   age\n",
      "0   14\n",
      "1   36\n",
      "2   32\n",
      "3   23\n",
      "4   10\n",
      "5   38\n",
      "6   25\n",
      "7   43\n",
      "   age\n",
      "0   14\n",
      "1   36\n",
      "2   32\n",
      "3   23\n",
      "4   10\n",
      "5   38\n",
      "6   25\n",
      "7   43\n"
     ]
    }
   ],
   "source": [
    "a = np.array(np.random.randint(10,45,(8,1)))\n",
    "print(a)\n",
    "d = pd.DataFrame(a,columns=['age'])\n",
    "Q1 = d['age'].quantile(0.25)\n",
    "Q3 = d['age'].quantile(0.75)\n",
    "IQR = Q3-Q1\n",
    "Age_calculation = d[(d['age']>= (Q1-1.5*IQR)) & (d['age'] <= (Q3+1.5*IQR))]\n",
    "print(d)\n",
    "print(Age_calculation)"
   ]
  },
  {
   "cell_type": "code",
   "execution_count": 40,
   "id": "d41a6e4a-05c5-42f1-a6f5-eed16918534f",
   "metadata": {},
   "outputs": [
    {
     "name": "stdout",
     "output_type": "stream",
     "text": [
      "BMI Calculator : \n",
      "    Weight  Height        BMI\n",
      "0      62    1.60  24.218750\n",
      "1      75    1.75  24.489796\n",
      "2      81    1.80  25.000000\n"
     ]
    }
   ],
   "source": [
    "# Feature Engineering - Creating New columns\n",
    "data = pd.DataFrame({'Weight':[62,75,81],'Height':[1.6,1.75,1.8]})\n",
    "data['BMI'] = data['Weight'] / (data['Height']**2)\n",
    "print('BMI Calculator : \\n',data)"
   ]
  },
  {
   "cell_type": "code",
   "execution_count": 46,
   "id": "ab152858-1e6a-4011-bc1e-2d372dcd5ab6",
   "metadata": {},
   "outputs": [
    {
     "name": "stdout",
     "output_type": "stream",
     "text": [
      "   Commerce  Economics  Average\n",
      "0        75         78    114.0\n",
      "1        81         89    125.5\n",
      "2        99         97    147.5\n"
     ]
    }
   ],
   "source": [
    "mark = pd.DataFrame({'Commerce':[75,81,99],'Economics':[78,89,97]})\n",
    "mark['Average'] = mark['Commerce']+mark['Economics']/2\n",
    "print(mark)"
   ]
  },
  {
   "cell_type": "code",
   "execution_count": 59,
   "id": "6ea302bb-297c-4cd0-9cc9-983183c1f645",
   "metadata": {},
   "outputs": [
    {
     "name": "stdout",
     "output_type": "stream",
     "text": [
      "Column not removed : \n",
      "    ID     Name  Age\n",
      "0   1    Ashik   25\n",
      "1   2  Shaheed   35\n",
      "Column is removed : \n",
      "       Name  Age\n",
      "0    Ashik   25\n",
      "1  Shaheed   35\n"
     ]
    }
   ],
   "source": [
    "# Removing Unwanted Columns\n",
    "df = pd.DataFrame({'ID':[1,2],\n",
    "                   'Name':['Ashik','Shaheed'],\n",
    "                   'Age':[25,35]\n",
    "})\n",
    "# Dropping \n",
    "df.drop('ID',axis=1) # here the Inplace is not mentioned\n",
    "print('Column not removed : \\n',df)\n",
    "df.drop('ID',axis=1,inplace=True) # It is mentioned here.\n",
    "print('Column is removed : \\n',df)"
   ]
  },
  {
   "cell_type": "code",
   "execution_count": 123,
   "id": "ea0c8f36-830e-4cf8-85f6-c0c987774351",
   "metadata": {},
   "outputs": [
    {
     "name": "stdout",
     "output_type": "stream",
     "text": [
      "2025-09-17\n",
      "Age from BirthYear :\n",
      "    BirthYear  Age\n",
      "0       2005   20\n",
      "1       2007   18\n"
     ]
    }
   ],
   "source": [
    "# Creating new columns\n",
    "import datetime\n",
    "df = pd.DataFrame({'BirthYear':['2005','2007']})\n",
    "df['BirthYear'] = df['BirthYear'].astype(int) # converted the column type from string to integer.\n",
    "today = datetime.date.today()\n",
    "print(today)\n",
    "df['Age'] = 2025-df['BirthYear']\n",
    "print('Age from BirthYear :\\n',df)"
   ]
  },
  {
   "cell_type": "code",
   "execution_count": 120,
   "id": "8f763114-eb88-451b-b929-24a9c5a2588d",
   "metadata": {},
   "outputs": [
    {
     "name": "stdout",
     "output_type": "stream",
     "text": [
      "17:09:2025\n",
      "12:04:19\n"
     ]
    }
   ],
   "source": [
    "import datetime\n",
    "today = datetime.date.today()\n",
    "print(today.strftime('%d:%m:%Y'))\n",
    "time = datetime.datetime.now()\n",
    "print(time.strftime('%H:%M:%S'))"
   ]
  },
  {
   "cell_type": "code",
   "execution_count": 77,
   "id": "091a05c2-ef9e-47a7-b939-44a05250000d",
   "metadata": {},
   "outputs": [
    {
     "name": "stdout",
     "output_type": "stream",
     "text": [
      "Converted the salary into integer : \n",
      "    Salary\n",
      "0   15000\n",
      "1   30000\n",
      "2   75000\n",
      "Salary    int64\n",
      "dtype: object\n"
     ]
    }
   ],
   "source": [
    "# Converting column types\n",
    "df = pd.DataFrame({'Salary':['15000','30000','75000']})\n",
    "df['Salary'] = df['Salary'].astype(int)\n",
    "print('Converted the salary into integer : \\n',df)\n",
    "print(df.dtypes)"
   ]
  },
  {
   "cell_type": "code",
   "execution_count": 129,
   "id": "a1bd1d36-a6c0-476c-9cc9-c182326edf1b",
   "metadata": {},
   "outputs": [
    {
     "name": "stdout",
     "output_type": "stream",
     "text": [
      "Joindate    object\n",
      "dtype: object\n",
      "Converted to Datetime : \n",
      "     Joindate\n",
      "0 2005-06-02\n",
      "1 2007-01-26\n",
      "Joindate    datetime64[ns]\n",
      "dtype: object\n"
     ]
    }
   ],
   "source": [
    "date = pd.DataFrame({'Joindate':['2005-06-02','2007-01-26']})\n",
    "print(date.dtypes)\n",
    "date['Joindate'] = pd.to_datetime(date['Joindate'])\n",
    "print('Converted to Datetime : \\n',date)\n",
    "print(date.dtypes)"
   ]
  },
  {
   "cell_type": "code",
   "execution_count": 112,
   "id": "7ad164ac-420e-4889-940a-1a56141f4019",
   "metadata": {},
   "outputs": [
    {
     "name": "stdout",
     "output_type": "stream",
     "text": [
      "Before Renaming : \n",
      "   Employee Name Employee Age\n",
      "0         Alice           25\n",
      "1           Bob           27\n",
      "2       Charlie           23\n",
      "3         David           28\n",
      "4         Eswar           35\n",
      "It is importing the inplace indirectly : \n",
      "       Name  Age\n",
      "0    Alice   25\n",
      "1      Bob   27\n",
      "2  Charlie   23\n",
      "3    David   28\n",
      "4    Eswar   35\n",
      "This importing the inplace directly : \n",
      "       Name Age\n",
      "0    Alice  25\n",
      "1      Bob  27\n",
      "2  Charlie  23\n",
      "3    David  28\n",
      "4    Eswar  35\n"
     ]
    }
   ],
   "source": [
    "# Renaming columns\n",
    "df = pd.DataFrame({'Employee Name':['Alice','Bob','Charlie','David','Eswar'],'Employee Age':['25','27','23','28','35']})\n",
    "data=df.rename(columns={'Employee Name':'Name','Employee Age':'Age'})\n",
    "data['Age'] = data['Age'].astype(int)\n",
    "print('Before Renaming : \\n',df)\n",
    "print('It is importing the inplace indirectly : \\n',data)\n",
    "df.rename(columns={'Employee Name':'Name','Employee Age':'Age'},inplace=True)\n",
    "print('This importing the inplace directly : \\n',df)"
   ]
  },
  {
   "cell_type": "code",
   "execution_count": 98,
   "id": "fa28b3bb-ca57-4bee-9acb-8b93046570b5",
   "metadata": {},
   "outputs": [
    {
     "name": "stdout",
     "output_type": "stream",
     "text": [
      "   Age  Marks\n",
      "0   77     74\n",
      "1   85     86\n",
      "2   24     66\n",
      "3   26     23\n",
      "4   10     34\n",
      "5   95     75\n",
      "6   39     55\n",
      "7   16     42\n",
      "8   12     43\n",
      "9   32     95\n",
      "It is After the function : \n",
      "    Age  Marks\n",
      "0   77     74\n",
      "1   85     86\n",
      "2   24     66\n",
      "3   26     23\n",
      "4   10     34\n",
      "5   95     75\n",
      "6   39     55\n",
      "7   16     42\n",
      "8   12     43\n",
      "9   32     95\n"
     ]
    }
   ],
   "source": [
    "# Sample\n",
    "a = np.array(np.random.randint(0,100,(10,2)))\n",
    "df = pd.DataFrame(a,columns=['Age','Marks'])\n",
    "print(df)\n",
    "def remove_outliers(data,column):\n",
    "    Q1 = data[column].quantile(0.25)\n",
    "    Q3 = data[column].quantile(0.75)\n",
    "    IQR = Q3 - Q1\n",
    "    cleaned_data = data[(data[column] >= Q1-1.5*IQR) & (data[column] <= Q3+1.5*IQR)]\n",
    "    return cleaned_data\n",
    "df_clean = remove_outliers(df,'Age')\n",
    "df_clean = remove_outliers(df_clean,'Marks')\n",
    "print('It is After the function : \\n',df_clean)"
   ]
  },
  {
   "cell_type": "code",
   "execution_count": 103,
   "id": "0df0167b-6b31-4c58-ac2c-d8eb05a795bb",
   "metadata": {},
   "outputs": [
    {
     "name": "stdout",
     "output_type": "stream",
     "text": [
      "    Percent\n",
      "0 -0.207518\n",
      "1 -1.581986\n",
      "2 -0.211450\n",
      "3 -0.103839\n",
      "4 -0.728000\n",
      "After Outliers : \n",
      "     Percent\n",
      "0 -0.207518\n",
      "1 -1.581986\n",
      "2 -0.211450\n",
      "3 -0.103839\n",
      "4 -0.728000\n"
     ]
    }
   ],
   "source": [
    "a = np.array(np.random.randn(5))\n",
    "df = pd.DataFrame(a,columns=['Percent'])\n",
    "print(df)\n",
    "Q1 = df['Percent']\n",
    "Q3 = df['Percent']\n",
    "IQR = Q3 - Q1\n",
    "dj = df[(df['Percent'] >= Q1-1.5*IQR) & (df['Percent']<= Q3+1.5*IQR)]\n",
    "print('After Outliers : \\n',dj)"
   ]
  },
  {
   "cell_type": "code",
   "execution_count": 138,
   "id": "04c53e6f-412e-4d24-a02a-39c525b6eb5e",
   "metadata": {},
   "outputs": [
    {
     "name": "stdout",
     "output_type": "stream",
     "text": [
      "Joindate    datetime64[ns]\n",
      "dtype: object\n",
      "    Joindate\n",
      "0 2005-06-02\n",
      "1 2007-01-26\n",
      "2 1979-11-21\n",
      "3 1987-03-11\n",
      "    Joindate  Join_year  Join_month  Join_day\n",
      "0 2005-06-02       2005           6         2\n",
      "1 2007-01-26       2007           1        26\n",
      "2 1979-11-21       1979          11        21\n",
      "3 1987-03-11       1987           3        11\n"
     ]
    }
   ],
   "source": [
    "import pandas as pd\n",
    "from datetime import datetime\n",
    "df = pd.DataFrame({'Joindate':['2005-06-02','2007-01-26','1979-11-21','1987-03-11']})\n",
    "df['Joindate'] = pd.to_datetime(df['Joindate'],format='%Y-%m-%d')\n",
    "print(df.dtypes)\n",
    "print(df)\n",
    "df['Join_year'] = df['Joindate'].dt.year\n",
    "df['Join_month'] = df['Joindate'].dt.month\n",
    "df['Join_day'] = df['Joindate'].dt.day\n",
    "print(df)"
   ]
  }
 ],
 "metadata": {
  "kernelspec": {
   "display_name": "Python 3 (ipykernel)",
   "language": "python",
   "name": "python3"
  },
  "language_info": {
   "codemirror_mode": {
    "name": "ipython",
    "version": 3
   },
   "file_extension": ".py",
   "mimetype": "text/x-python",
   "name": "python",
   "nbconvert_exporter": "python",
   "pygments_lexer": "ipython3",
   "version": "3.13.5"
  }
 },
 "nbformat": 4,
 "nbformat_minor": 5
}
