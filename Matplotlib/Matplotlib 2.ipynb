{
 "cells": [
  {
   "cell_type": "code",
   "execution_count": 1,
   "id": "d5ea6b48-a16f-4e08-9093-46caf0b96f03",
   "metadata": {},
   "outputs": [
    {
     "name": "stdout",
     "output_type": "stream",
     "text": [
      "   Student Name  Math  Science  English\n",
      "0         Aarav    75      100       86\n",
      "1          Diya    91       73       93\n",
      "2         Kabir    94       89       94\n",
      "3         Meera    88       97       73\n",
      "4        Ishaan    77       80       74\n",
      "5        Ananya    72       90       72\n",
      "6         Rohan    90       81       80\n",
      "7         Sanya    89       77       90\n",
      "8         Arjun    73       81       84\n",
      "9         Priya    72       70       75\n",
      "10       Vihaan    91       77       79\n",
      "11        Nisha    89       85       70\n",
      "12       Aditya    78       94       72\n",
      "13        Kavya    75       75       76\n",
      "14        Manav    87       96       80\n",
      "15       Ritika    75       89       75\n",
      "16        Karan    80       94       97\n",
      "17       Simran    87       90       72\n",
      "18          Dev    83       77       91\n",
      "19        Pooja    75       77       94\n"
     ]
    }
   ],
   "source": [
    "import pandas as pd\n",
    "import matplotlib.pyplot as plt\n",
    "student = pd.read_csv(r'C:\\Users\\ADMIN\\Desktop\\Jupyter folder/Downloads/students_20.csv')\n",
    "print(student)"
   ]
  },
  {
   "cell_type": "code",
   "execution_count": 5,
   "id": "ffd5e728-8469-496d-9435-a9b115ef233e",
   "metadata": {},
   "outputs": [
    {
     "name": "stdout",
     "output_type": "stream",
     "text": [
      "  Student Name  Math  Science  English\n",
      "0        Aarav    75      100       86\n",
      "1         Diya    91       73       93\n",
      "2        Kabir    94       89       94\n",
      "3        Meera    88       97       73\n",
      "4       Ishaan    77       80       74\n"
     ]
    }
   ],
   "source": [
    "print(student.head(5))"
   ]
  },
  {
   "cell_type": "code",
   "execution_count": 15,
   "id": "774232e8-83ff-4941-b11e-156e7c9fdf45",
   "metadata": {},
   "outputs": [
    {
     "name": "stdout",
     "output_type": "stream",
     "text": [
      "   Student Name  Math\n",
      "0         Aarav    75\n",
      "1          Diya    91\n",
      "2         Kabir    94\n",
      "3         Meera    88\n",
      "4        Ishaan    77\n",
      "5        Ananya    72\n",
      "6         Rohan    90\n",
      "7         Sanya    89\n",
      "8         Arjun    73\n",
      "9         Priya    72\n",
      "10       Vihaan    91\n",
      "11        Nisha    89\n",
      "12       Aditya    78\n",
      "13        Kavya    75\n",
      "14        Manav    87\n",
      "15       Ritika    75\n",
      "16        Karan    80\n",
      "17       Simran    87\n",
      "18          Dev    83\n",
      "19        Pooja    75\n"
     ]
    }
   ],
   "source": [
    "print(student[[\"Student Name\",'Math']])"
   ]
  },
  {
   "cell_type": "code",
   "execution_count": 20,
   "id": "2d2341a1-d8fb-4861-9607-83c889d61eb8",
   "metadata": {},
   "outputs": [
    {
     "name": "stdout",
     "output_type": "stream",
     "text": [
      "Math       82.05\n",
      "Science    84.60\n",
      "English    81.35\n",
      "dtype: float64\n"
     ]
    }
   ],
   "source": [
    "print(student[['Math','Science','English']].mean())"
   ]
  },
  {
   "cell_type": "code",
   "execution_count": 31,
   "id": "3de6607f-1d13-42b7-83ff-420ca094471e",
   "metadata": {},
   "outputs": [
    {
     "name": "stdout",
     "output_type": "stream",
     "text": [
      "Aarav\n"
     ]
    }
   ],
   "source": [
    "print(student.loc[student['Science'].idxmax(),'Student Name'])"
   ]
  },
  {
   "cell_type": "code",
   "execution_count": 35,
   "id": "5f0e506d-b984-43d3-a0ed-cf12f8d81381",
   "metadata": {},
   "outputs": [
    {
     "name": "stdout",
     "output_type": "stream",
     "text": [
      "   Student Name  Math  Science  English\n",
      "1          Diya    91       73       93\n",
      "2         Kabir    94       89       94\n",
      "16        Karan    80       94       97\n",
      "18          Dev    83       77       91\n",
      "19        Pooja    75       77       94\n"
     ]
    }
   ],
   "source": [
    "print(student[student['English']>90])"
   ]
  },
  {
   "cell_type": "code",
   "execution_count": 45,
   "id": "79a173a6-62a3-41a4-94cd-102861eb6a67",
   "metadata": {},
   "outputs": [
    {
     "name": "stdout",
     "output_type": "stream",
     "text": [
      "   Student Name  Math  Science  English\n",
      "2         Kabir    94       89       94\n",
      "1          Diya    91       73       93\n",
      "10       Vihaan    91       77       79\n",
      "6         Rohan    90       81       80\n",
      "11        Nisha    89       85       70\n",
      "7         Sanya    89       77       90\n",
      "3         Meera    88       97       73\n",
      "17       Simran    87       90       72\n",
      "14        Manav    87       96       80\n",
      "18          Dev    83       77       91\n",
      "16        Karan    80       94       97\n",
      "12       Aditya    78       94       72\n",
      "4        Ishaan    77       80       74\n",
      "0         Aarav    75      100       86\n",
      "15       Ritika    75       89       75\n",
      "13        Kavya    75       75       76\n",
      "19        Pooja    75       77       94\n",
      "8         Arjun    73       81       84\n",
      "9         Priya    72       70       75\n",
      "5        Ananya    72       90       72\n"
     ]
    }
   ],
   "source": [
    "print(student.sort_values('Math',ascending=False))"
   ]
  },
  {
   "cell_type": "code",
   "execution_count": 5,
   "id": "0be18d30-323c-485c-8784-b4ca1042346f",
   "metadata": {},
   "outputs": [
    {
     "name": "stdout",
     "output_type": "stream",
     "text": [
      "   Student Name  Math  Science  English  Total\n",
      "0         Aarav    75      100       86    261\n",
      "1          Diya    91       73       93    257\n",
      "2         Kabir    94       89       94    277\n",
      "3         Meera    88       97       73    258\n",
      "4        Ishaan    77       80       74    231\n",
      "5        Ananya    72       90       72    234\n",
      "6         Rohan    90       81       80    251\n",
      "7         Sanya    89       77       90    256\n",
      "8         Arjun    73       81       84    238\n",
      "9         Priya    72       70       75    217\n",
      "10       Vihaan    91       77       79    247\n",
      "11        Nisha    89       85       70    244\n",
      "12       Aditya    78       94       72    244\n",
      "13        Kavya    75       75       76    226\n",
      "14        Manav    87       96       80    263\n",
      "15       Ritika    75       89       75    239\n",
      "16        Karan    80       94       97    271\n",
      "17       Simran    87       90       72    249\n",
      "18          Dev    83       77       91    251\n",
      "19        Pooja    75       77       94    246\n"
     ]
    }
   ],
   "source": [
    "student['Total'] = student['Math']+student['Science']+student['English']\n",
    "print(student)"
   ]
  },
  {
   "cell_type": "code",
   "execution_count": 57,
   "id": "31fde7ca-50c0-4f66-83e7-181819f47494",
   "metadata": {},
   "outputs": [
    {
     "name": "stdout",
     "output_type": "stream",
     "text": [
      "Kabir\n"
     ]
    }
   ],
   "source": [
    "print(student.loc[student['Total'].idxmax(),'Student Name'])"
   ]
  },
  {
   "cell_type": "code",
   "execution_count": 61,
   "id": "d543955f-0ed6-4de2-8d3d-c23c8899b0b2",
   "metadata": {},
   "outputs": [
    {
     "name": "stdout",
     "output_type": "stream",
     "text": [
      "   Student Name  Math  Science  English  Total\n",
      "0         Aarav    75      100       86    261\n",
      "1          Diya    91       73       93    257\n",
      "3         Meera    88       97       73    258\n",
      "4        Ishaan    77       80       74    231\n",
      "5        Ananya    72       90       72    234\n",
      "7         Sanya    89       77       90    256\n",
      "8         Arjun    73       81       84    238\n",
      "9         Priya    72       70       75    217\n",
      "10       Vihaan    91       77       79    247\n",
      "11        Nisha    89       85       70    244\n",
      "12       Aditya    78       94       72    244\n",
      "13        Kavya    75       75       76    226\n",
      "15       Ritika    75       89       75    239\n",
      "17       Simran    87       90       72    249\n",
      "18          Dev    83       77       91    251\n",
      "19        Pooja    75       77       94    246\n"
     ]
    }
   ],
   "source": [
    "print(student[(student['Math']<80)|(student['Science']<80)|(student['English']<80)])"
   ]
  },
  {
   "cell_type": "code",
   "execution_count": 63,
   "id": "0a687afa-279f-45ef-ac07-39d88af4c08f",
   "metadata": {},
   "outputs": [],
   "source": [
    "student.to_csv('student_with_total_csv',index=False)"
   ]
  },
  {
   "cell_type": "code",
   "execution_count": 65,
   "id": "e2f6f9ad-99bd-49bb-8709-2b2519756ac7",
   "metadata": {},
   "outputs": [
    {
     "name": "stdout",
     "output_type": "stream",
     "text": [
      "Highest :  94\n",
      "Lowest :  72\n"
     ]
    }
   ],
   "source": [
    "print('Highest : ',student['Math'].max())\n",
    "print('Lowest : ',student['Math'].min())"
   ]
  },
  {
   "cell_type": "code",
   "execution_count": 70,
   "id": "865e331b-b5ff-42fe-bccf-e3be25bf57bd",
   "metadata": {},
   "outputs": [
    {
     "name": "stdout",
     "output_type": "stream",
     "text": [
      "Average :  248.0\n"
     ]
    }
   ],
   "source": [
    "print('Average : ',student['Total'].mean())"
   ]
  },
  {
   "cell_type": "code",
   "execution_count": 76,
   "id": "038ac9ae-5c56-4c78-a9a2-2006ab6eb94c",
   "metadata": {},
   "outputs": [
    {
     "name": "stdout",
     "output_type": "stream",
     "text": [
      "   Student Name  Math  Science  English  Total\n",
      "16        Karan    80       94       97    271\n",
      "2         Kabir    94       89       94    277\n",
      "19        Pooja    75       77       94    246\n"
     ]
    }
   ],
   "source": [
    "print(student.sort_values(by='English',ascending=False).head(3))"
   ]
  },
  {
   "cell_type": "code",
   "execution_count": 84,
   "id": "3bd93c40-f4ef-4af2-85ba-c51a5480f40b",
   "metadata": {},
   "outputs": [
    {
     "name": "stdout",
     "output_type": "stream",
     "text": [
      "Student scored :  9\n"
     ]
    }
   ],
   "source": [
    "print('Student scored : ',(student['Science']> 85).sum())"
   ]
  },
  {
   "cell_type": "code",
   "execution_count": 87,
   "id": "bae4564b-3ec8-4781-8cec-beb305ecbbc5",
   "metadata": {},
   "outputs": [
    {
     "name": "stdout",
     "output_type": "stream",
     "text": [
      "   Student Name  Math  Science  English  Total Grade\n",
      "0         Aarav    75      100       86    261     A\n",
      "1          Diya    91       73       93    257     A\n",
      "2         Kabir    94       89       94    277     A\n",
      "3         Meera    88       97       73    258     A\n",
      "4        Ishaan    77       80       74    231     B\n",
      "5        Ananya    72       90       72    234     B\n",
      "6         Rohan    90       81       80    251     A\n",
      "7         Sanya    89       77       90    256     A\n",
      "8         Arjun    73       81       84    238     B\n",
      "9         Priya    72       70       75    217     B\n",
      "10       Vihaan    91       77       79    247     B\n",
      "11        Nisha    89       85       70    244     B\n",
      "12       Aditya    78       94       72    244     B\n",
      "13        Kavya    75       75       76    226     B\n",
      "14        Manav    87       96       80    263     A\n",
      "15       Ritika    75       89       75    239     B\n",
      "16        Karan    80       94       97    271     A\n",
      "17       Simran    87       90       72    249     B\n",
      "18          Dev    83       77       91    251     A\n",
      "19        Pooja    75       77       94    246     B\n"
     ]
    }
   ],
   "source": [
    "def grade(Total):\n",
    "    if Total >= 250:\n",
    "        return 'A'\n",
    "    elif Total >= 200:\n",
    "        return 'B'\n",
    "    else:\n",
    "        return 'C'\n",
    "student['Grade'] = student['Total'].apply(grade)\n",
    "print(student)"
   ]
  },
  {
   "cell_type": "code",
   "execution_count": 6,
   "id": "e416d2b6-4218-4949-a44d-b797ec847315",
   "metadata": {},
   "outputs": [
    {
     "name": "stdout",
     "output_type": "stream",
     "text": [
      "   Student Name  Math  Science  English  Total Grade\n",
      "0         Aarav    75      100       86    261     A\n",
      "1          Diya    91       73       93    257     A\n",
      "2         Kabir    94       89       94    277     A\n",
      "3         Meera    88       97       73    258     A\n",
      "4        Ishaan    77       80       74    231     B\n",
      "5        Ananya    72       90       72    234     B\n",
      "6         Rohan    90       81       80    251     A\n",
      "7         Sanya    89       77       90    256     A\n",
      "8         Arjun    73       81       84    238     B\n",
      "9         Priya    72       70       75    217     B\n",
      "10       Vihaan    91       77       79    247     B\n",
      "11        Nisha    89       85       70    244     B\n",
      "12       Aditya    78       94       72    244     B\n",
      "13        Kavya    75       75       76    226     B\n",
      "14        Manav    87       96       80    263     A\n",
      "15       Ritika    75       89       75    239     B\n",
      "16        Karan    80       94       97    271     A\n",
      "17       Simran    87       90       72    249     B\n",
      "18          Dev    83       77       91    251     A\n",
      "19        Pooja    75       77       94    246     B\n"
     ]
    }
   ],
   "source": [
    "def grade(Total):\n",
    "    return ('A' if Total>= 250 else 'B')\n",
    "student['Grade'] = student['Total'].apply(grade)\n",
    "print(student)"
   ]
  },
  {
   "cell_type": "code",
   "execution_count": 90,
   "id": "71c0967d-72a8-46e6-8257-4540494bee62",
   "metadata": {},
   "outputs": [
    {
     "name": "stdout",
     "output_type": "stream",
     "text": [
      "            Math    Science    English\n",
      "Grade                                 \n",
      "A      86.333333  87.111111  87.111111\n",
      "B      78.545455  82.545455  76.636364\n"
     ]
    }
   ],
   "source": [
    "print(student.groupby('Grade')[['Math','Science','English']].mean())"
   ]
  },
  {
   "cell_type": "code",
   "execution_count": 92,
   "id": "1cff672f-bfb7-40a5-9e10-b6f128543b5e",
   "metadata": {},
   "outputs": [
    {
     "name": "stdout",
     "output_type": "stream",
     "text": [
      "   Student Name  Math  Science  English  Total Grade\n",
      "2         Kabir    94       89       94    277     A\n",
      "5        Ananya    72       90       72    234     B\n",
      "13        Kavya    75       75       76    226     B\n",
      "15       Ritika    75       89       75    239     B\n"
     ]
    }
   ],
   "source": [
    "print(student[(student['Math']==student['Science']) |\n",
    "    (student['Science']==student['English']) |\n",
    "    (student['English']==student['Math'])])"
   ]
  },
  {
   "cell_type": "code",
   "execution_count": 96,
   "id": "ffaf5c4e-8f1c-415f-8f13-53852ea83a7f",
   "metadata": {},
   "outputs": [
    {
     "name": "stdout",
     "output_type": "stream",
     "text": [
      "   Student Name  Math  Science  English  Total Grade\n",
      "2         Kabir    94       89       94    277     A\n",
      "16        Karan    80       94       97    271     A\n",
      "14        Manav    87       96       80    263     A\n",
      "0         Aarav    75      100       86    261     A\n",
      "3         Meera    88       97       73    258     A\n"
     ]
    }
   ],
   "source": [
    "print(student.sort_values(by='Total',ascending=False).head(5))"
   ]
  },
  {
   "cell_type": "code",
   "execution_count": 102,
   "id": "2a2b88a8-29db-43b8-849a-6745281b0036",
   "metadata": {},
   "outputs": [
    {
     "name": "stdout",
     "output_type": "stream",
     "text": [
      "   Student Name Grade\n",
      "0         Aarav     A\n",
      "1          Diya     A\n",
      "2         Kabir     A\n",
      "3         Meera     A\n",
      "4        Ishaan     B\n",
      "5        Ananya     B\n",
      "6         Rohan     A\n",
      "7         Sanya     A\n",
      "8         Arjun     B\n",
      "9         Priya     B\n",
      "10       Vihaan     B\n",
      "11        Nisha     B\n",
      "12       Aditya     B\n",
      "13        Kavya     B\n",
      "14        Manav     A\n",
      "15       Ritika     B\n",
      "16        Karan     A\n",
      "17       Simran     B\n",
      "18          Dev     A\n",
      "19        Pooja     B\n"
     ]
    }
   ],
   "source": [
    "student[['Student Name','Grade']].to_csv('student_grades.csv',index=False)\n",
    "students = pd.read_csv(r'student_grades.csv')\n",
    "print(students)"
   ]
  },
  {
   "cell_type": "code",
   "execution_count": 143,
   "id": "6bdd17a7-296f-43ce-9f24-3db4845e03ef",
   "metadata": {},
   "outputs": [
    {
     "name": "stdout",
     "output_type": "stream",
     "text": [
      "    OrderID        Date Region SalesPerson     Product  Units  UnitPrice  \\\n",
      "0       101  2024-01-06  South       Diana      Laptop      2        600   \n",
      "1       102  2024-01-30  South       Diana      Tablet     13        250   \n",
      "2       103  2024-01-26   East         Bob       Phone      1        300   \n",
      "3       104  2024-01-01  North       Diana      Laptop      7        600   \n",
      "4       105  2024-01-13  South     Charlie     Monitor      6        200   \n",
      "5       106  2024-01-12   East       Alice      Tablet      8        250   \n",
      "6       107  2024-01-03   West      Edward     Monitor      8        200   \n",
      "7       108  2024-01-14  North     Charlie       Phone     14        300   \n",
      "8       109  2024-01-20  North         Bob     Monitor      2        200   \n",
      "9       110  2024-01-07  South         Bob      Tablet      8        250   \n",
      "10      111  2024-01-25   West      Edward       Phone     14        300   \n",
      "11      112  2024-01-08  South     Charlie     Monitor      3        200   \n",
      "12      113  2024-01-07   East       Alice       Phone     13        300   \n",
      "13      114  2024-01-08  South         Bob      Laptop      3        600   \n",
      "14      115  2024-01-26  South       Alice      Tablet      5        250   \n",
      "15      116  2024-01-01   West       Diana     Monitor      9        200   \n",
      "16      117  2024-01-24   West      Edward  Headphones     15        100   \n",
      "17      118  2024-01-20   East      Edward      Laptop     15        600   \n",
      "18      119  2024-01-19  South       Alice      Laptop      8        600   \n",
      "19      120  2024-01-25   East       Diana       Phone      1        300   \n",
      "20      121  2024-01-26   West       Diana     Monitor      7        200   \n",
      "21      122  2024-01-31  North       Diana     Monitor     15        200   \n",
      "22      123  2024-01-28   East         Bob      Laptop      2        600   \n",
      "23      124  2024-01-31  North       Alice      Laptop      5        600   \n",
      "24      125  2024-01-14   East       Diana       Phone     12        300   \n",
      "25      126  2024-01-20   West     Charlie     Monitor     10        200   \n",
      "26      127  2024-01-03  South       Diana       Phone      7        300   \n",
      "27      128  2024-01-07  South       Diana       Phone      3        300   \n",
      "28      129  2024-01-07   West       Diana  Headphones      8        100   \n",
      "29      130  2024-01-18   East       Diana      Laptop     15        600   \n",
      "30      131  2024-01-24  North         Bob  Headphones      3        100   \n",
      "31      132  2024-01-26  North       Diana     Monitor     10        200   \n",
      "32      133  2024-01-06  North      Edward     Monitor      1        200   \n",
      "33      134  2024-01-04  South       Alice      Laptop      1        600   \n",
      "34      135  2024-01-05   East      Edward  Headphones     15        100   \n",
      "35      136  2024-01-28  South       Alice      Tablet     11        250   \n",
      "36      137  2024-01-19   West     Charlie     Monitor      4        200   \n",
      "37      138  2024-01-12   West     Charlie     Monitor      7        200   \n",
      "38      139  2024-01-27   West     Charlie  Headphones     12        100   \n",
      "39      140  2024-01-05   East      Edward      Tablet     10        250   \n",
      "40      141  2024-01-14   West     Charlie       Phone      8        300   \n",
      "41      142  2024-01-19  South       Diana      Laptop      1        600   \n",
      "42      143  2024-01-15  South       Diana      Laptop      1        600   \n",
      "43      144  2024-01-20   East     Charlie      Laptop      9        600   \n",
      "44      145  2024-01-03  South         Bob       Phone     12        300   \n",
      "45      146  2024-01-07   East         Bob       Phone     14        300   \n",
      "46      147  2024-01-25  South       Diana      Laptop     12        600   \n",
      "47      148  2024-01-16   East     Charlie      Laptop     11        600   \n",
      "48      149  2024-01-20   East      Edward      Tablet      9        250   \n",
      "49      150  2024-01-29  South         Bob     Monitor      1        200   \n",
      "\n",
      "    TotalSales  \n",
      "0         1200  \n",
      "1         3250  \n",
      "2          300  \n",
      "3         4200  \n",
      "4         1200  \n",
      "5         2000  \n",
      "6         1600  \n",
      "7         4200  \n",
      "8          400  \n",
      "9         2000  \n",
      "10        4200  \n",
      "11         600  \n",
      "12        3900  \n",
      "13        1800  \n",
      "14        1250  \n",
      "15        1800  \n",
      "16        1500  \n",
      "17        9000  \n",
      "18        4800  \n",
      "19         300  \n",
      "20        1400  \n",
      "21        3000  \n",
      "22        1200  \n",
      "23        3000  \n",
      "24        3600  \n",
      "25        2000  \n",
      "26        2100  \n",
      "27         900  \n",
      "28         800  \n",
      "29        9000  \n",
      "30         300  \n",
      "31        2000  \n",
      "32         200  \n",
      "33         600  \n",
      "34        1500  \n",
      "35        2750  \n",
      "36         800  \n",
      "37        1400  \n",
      "38        1200  \n",
      "39        2500  \n",
      "40        2400  \n",
      "41         600  \n",
      "42         600  \n",
      "43        5400  \n",
      "44        3600  \n",
      "45        4200  \n",
      "46        7200  \n",
      "47        6600  \n",
      "48        2250  \n",
      "49         200  \n",
      "   OrderID        Date Region SalesPerson  Product  Units  UnitPrice  \\\n",
      "0      101  2024-01-06  South       Diana   Laptop      2        600   \n",
      "1      102  2024-01-30  South       Diana   Tablet     13        250   \n",
      "2      103  2024-01-26   East         Bob    Phone      1        300   \n",
      "3      104  2024-01-01  North       Diana   Laptop      7        600   \n",
      "4      105  2024-01-13  South     Charlie  Monitor      6        200   \n",
      "5      106  2024-01-12   East       Alice   Tablet      8        250   \n",
      "6      107  2024-01-03   West      Edward  Monitor      8        200   \n",
      "\n",
      "   TotalSales  \n",
      "0        1200  \n",
      "1        3250  \n",
      "2         300  \n",
      "3        4200  \n",
      "4        1200  \n",
      "5        2000  \n",
      "6        1600  \n"
     ]
    }
   ],
   "source": [
    "company = pd.read_csv(r'C:\\Users\\ADMIN\\Desktop\\Jupyter folder/Downloads/company_sales_person.csv')\n",
    "print(company)\n",
    "print(company.head(7))"
   ]
  },
  {
   "cell_type": "code",
   "execution_count": 105,
   "id": "e6750a5e-ce2f-4510-80c8-3fc36a51a98d",
   "metadata": {},
   "outputs": [
    {
     "name": "stdout",
     "output_type": "stream",
     "text": [
      "    OrderID        Date Region SalesPerson  Product  Units  UnitPrice  \\\n",
      "45      146  2024-01-07   East         Bob    Phone     14        300   \n",
      "46      147  2024-01-25  South       Diana   Laptop     12        600   \n",
      "47      148  2024-01-16   East     Charlie   Laptop     11        600   \n",
      "48      149  2024-01-20   East      Edward   Tablet      9        250   \n",
      "49      150  2024-01-29  South         Bob  Monitor      1        200   \n",
      "\n",
      "    TotalSales  \n",
      "45        4200  \n",
      "46        7200  \n",
      "47        6600  \n",
      "48        2250  \n",
      "49         200  \n"
     ]
    }
   ],
   "source": [
    "print(company.tail(5))"
   ]
  },
  {
   "cell_type": "code",
   "execution_count": 107,
   "id": "0f24e12d-ba91-4761-9907-44373b50eefd",
   "metadata": {},
   "outputs": [
    {
     "name": "stdout",
     "output_type": "stream",
     "text": [
      "(50, 8)\n"
     ]
    }
   ],
   "source": [
    "print(company.shape)"
   ]
  },
  {
   "cell_type": "code",
   "execution_count": 111,
   "id": "8a455a6c-f814-46c9-84de-9e5b2bf7b29a",
   "metadata": {},
   "outputs": [
    {
     "name": "stdout",
     "output_type": "stream",
     "text": [
      "OrderID         int64\n",
      "Date           object\n",
      "Region         object\n",
      "SalesPerson    object\n",
      "Product        object\n",
      "Units           int64\n",
      "UnitPrice       int64\n",
      "TotalSales      int64\n",
      "dtype: object\n"
     ]
    }
   ],
   "source": [
    "print(company.dtypes)"
   ]
  },
  {
   "cell_type": "code",
   "execution_count": 114,
   "id": "94d32cc8-b1f4-498b-b497-fbe2c4ec63dc",
   "metadata": {},
   "outputs": [
    {
     "name": "stdout",
     "output_type": "stream",
     "text": [
      "OrderID        0\n",
      "Date           0\n",
      "Region         0\n",
      "SalesPerson    0\n",
      "Product        0\n",
      "Units          0\n",
      "UnitPrice      0\n",
      "TotalSales     0\n",
      "dtype: int64\n"
     ]
    }
   ],
   "source": [
    "print(company.isnull().sum())"
   ]
  },
  {
   "cell_type": "code",
   "execution_count": 115,
   "id": "11820161-da1d-4386-a856-7e90f2e017fe",
   "metadata": {},
   "outputs": [
    {
     "name": "stdout",
     "output_type": "stream",
     "text": [
      "   SalesPerson  TotalSales\n",
      "0        Diana        1200\n",
      "1        Diana        3250\n",
      "2          Bob         300\n",
      "3        Diana        4200\n",
      "4      Charlie        1200\n",
      "5        Alice        2000\n",
      "6       Edward        1600\n",
      "7      Charlie        4200\n",
      "8          Bob         400\n",
      "9          Bob        2000\n",
      "10      Edward        4200\n",
      "11     Charlie         600\n",
      "12       Alice        3900\n",
      "13         Bob        1800\n",
      "14       Alice        1250\n",
      "15       Diana        1800\n",
      "16      Edward        1500\n",
      "17      Edward        9000\n",
      "18       Alice        4800\n",
      "19       Diana         300\n",
      "20       Diana        1400\n",
      "21       Diana        3000\n",
      "22         Bob        1200\n",
      "23       Alice        3000\n",
      "24       Diana        3600\n",
      "25     Charlie        2000\n",
      "26       Diana        2100\n",
      "27       Diana         900\n",
      "28       Diana         800\n",
      "29       Diana        9000\n",
      "30         Bob         300\n",
      "31       Diana        2000\n",
      "32      Edward         200\n",
      "33       Alice         600\n",
      "34      Edward        1500\n",
      "35       Alice        2750\n",
      "36     Charlie         800\n",
      "37     Charlie        1400\n",
      "38     Charlie        1200\n",
      "39      Edward        2500\n",
      "40     Charlie        2400\n",
      "41       Diana         600\n",
      "42       Diana         600\n",
      "43     Charlie        5400\n",
      "44         Bob        3600\n",
      "45         Bob        4200\n",
      "46       Diana        7200\n",
      "47     Charlie        6600\n",
      "48      Edward        2250\n",
      "49         Bob         200\n"
     ]
    }
   ],
   "source": [
    "print(company[['SalesPerson','TotalSales']])"
   ]
  },
  {
   "cell_type": "code",
   "execution_count": 117,
   "id": "2efd724b-723b-4268-aae1-03f37f1adb56",
   "metadata": {},
   "outputs": [
    {
     "name": "stdout",
     "output_type": "stream",
     "text": [
      "    OrderID        Date Region SalesPerson  Product  Units  UnitPrice  \\\n",
      "0       101  2024-01-06  South       Diana   Laptop      2        600   \n",
      "1       102  2024-01-30  South       Diana   Tablet     13        250   \n",
      "4       105  2024-01-13  South     Charlie  Monitor      6        200   \n",
      "9       110  2024-01-07  South         Bob   Tablet      8        250   \n",
      "11      112  2024-01-08  South     Charlie  Monitor      3        200   \n",
      "13      114  2024-01-08  South         Bob   Laptop      3        600   \n",
      "14      115  2024-01-26  South       Alice   Tablet      5        250   \n",
      "18      119  2024-01-19  South       Alice   Laptop      8        600   \n",
      "26      127  2024-01-03  South       Diana    Phone      7        300   \n",
      "27      128  2024-01-07  South       Diana    Phone      3        300   \n",
      "33      134  2024-01-04  South       Alice   Laptop      1        600   \n",
      "35      136  2024-01-28  South       Alice   Tablet     11        250   \n",
      "41      142  2024-01-19  South       Diana   Laptop      1        600   \n",
      "42      143  2024-01-15  South       Diana   Laptop      1        600   \n",
      "44      145  2024-01-03  South         Bob    Phone     12        300   \n",
      "46      147  2024-01-25  South       Diana   Laptop     12        600   \n",
      "49      150  2024-01-29  South         Bob  Monitor      1        200   \n",
      "\n",
      "    TotalSales  \n",
      "0         1200  \n",
      "1         3250  \n",
      "4         1200  \n",
      "9         2000  \n",
      "11         600  \n",
      "13        1800  \n",
      "14        1250  \n",
      "18        4800  \n",
      "26        2100  \n",
      "27         900  \n",
      "33         600  \n",
      "35        2750  \n",
      "41         600  \n",
      "42         600  \n",
      "44        3600  \n",
      "46        7200  \n",
      "49         200  \n"
     ]
    }
   ],
   "source": [
    "print(company[company['Region'] == 'South'])"
   ]
  },
  {
   "cell_type": "code",
   "execution_count": 119,
   "id": "db81b722-5c5a-421f-a4a3-dc37f65cf4a6",
   "metadata": {},
   "outputs": [
    {
     "name": "stdout",
     "output_type": "stream",
     "text": [
      "    OrderID        Date Region SalesPerson     Product  Units  UnitPrice  \\\n",
      "1       102  2024-01-30  South       Diana      Tablet     13        250   \n",
      "7       108  2024-01-14  North     Charlie       Phone     14        300   \n",
      "10      111  2024-01-25   West      Edward       Phone     14        300   \n",
      "12      113  2024-01-07   East       Alice       Phone     13        300   \n",
      "16      117  2024-01-24   West      Edward  Headphones     15        100   \n",
      "17      118  2024-01-20   East      Edward      Laptop     15        600   \n",
      "21      122  2024-01-31  North       Diana     Monitor     15        200   \n",
      "24      125  2024-01-14   East       Diana       Phone     12        300   \n",
      "29      130  2024-01-18   East       Diana      Laptop     15        600   \n",
      "34      135  2024-01-05   East      Edward  Headphones     15        100   \n",
      "35      136  2024-01-28  South       Alice      Tablet     11        250   \n",
      "38      139  2024-01-27   West     Charlie  Headphones     12        100   \n",
      "44      145  2024-01-03  South         Bob       Phone     12        300   \n",
      "45      146  2024-01-07   East         Bob       Phone     14        300   \n",
      "46      147  2024-01-25  South       Diana      Laptop     12        600   \n",
      "47      148  2024-01-16   East     Charlie      Laptop     11        600   \n",
      "\n",
      "    TotalSales  \n",
      "1         3250  \n",
      "7         4200  \n",
      "10        4200  \n",
      "12        3900  \n",
      "16        1500  \n",
      "17        9000  \n",
      "21        3000  \n",
      "24        3600  \n",
      "29        9000  \n",
      "34        1500  \n",
      "35        2750  \n",
      "38        1200  \n",
      "44        3600  \n",
      "45        4200  \n",
      "46        7200  \n",
      "47        6600  \n"
     ]
    }
   ],
   "source": [
    "print(company[company['Units']>10])"
   ]
  },
  {
   "cell_type": "code",
   "execution_count": 121,
   "id": "bd8cd025-ceef-4aa9-978f-2197b0c49e3d",
   "metadata": {},
   "outputs": [
    {
     "name": "stdout",
     "output_type": "stream",
     "text": [
      "    OrderID        Date Region SalesPerson Product  Units  UnitPrice  \\\n",
      "0       101  2024-01-06  South       Diana  Laptop      2        600   \n",
      "3       104  2024-01-01  North       Diana  Laptop      7        600   \n",
      "13      114  2024-01-08  South         Bob  Laptop      3        600   \n",
      "17      118  2024-01-20   East      Edward  Laptop     15        600   \n",
      "18      119  2024-01-19  South       Alice  Laptop      8        600   \n",
      "22      123  2024-01-28   East         Bob  Laptop      2        600   \n",
      "23      124  2024-01-31  North       Alice  Laptop      5        600   \n",
      "29      130  2024-01-18   East       Diana  Laptop     15        600   \n",
      "33      134  2024-01-04  South       Alice  Laptop      1        600   \n",
      "41      142  2024-01-19  South       Diana  Laptop      1        600   \n",
      "42      143  2024-01-15  South       Diana  Laptop      1        600   \n",
      "43      144  2024-01-20   East     Charlie  Laptop      9        600   \n",
      "46      147  2024-01-25  South       Diana  Laptop     12        600   \n",
      "47      148  2024-01-16   East     Charlie  Laptop     11        600   \n",
      "\n",
      "    TotalSales  \n",
      "0         1200  \n",
      "3         4200  \n",
      "13        1800  \n",
      "17        9000  \n",
      "18        4800  \n",
      "22        1200  \n",
      "23        3000  \n",
      "29        9000  \n",
      "33         600  \n",
      "41         600  \n",
      "42         600  \n",
      "43        5400  \n",
      "46        7200  \n",
      "47        6600  \n"
     ]
    }
   ],
   "source": [
    "print(company[company['Product'] == 'Laptop'])"
   ]
  },
  {
   "cell_type": "code",
   "execution_count": 122,
   "id": "4234d8b1-4c97-4ace-afc4-c45ac5c73567",
   "metadata": {},
   "outputs": [
    {
     "name": "stdout",
     "output_type": "stream",
     "text": [
      "    OrderID        Date Region SalesPerson     Product  Units  UnitPrice  \\\n",
      "2       103  2024-01-26   East         Bob       Phone      1        300   \n",
      "8       109  2024-01-20  North         Bob     Monitor      2        200   \n",
      "9       110  2024-01-07  South         Bob      Tablet      8        250   \n",
      "13      114  2024-01-08  South         Bob      Laptop      3        600   \n",
      "22      123  2024-01-28   East         Bob      Laptop      2        600   \n",
      "30      131  2024-01-24  North         Bob  Headphones      3        100   \n",
      "44      145  2024-01-03  South         Bob       Phone     12        300   \n",
      "45      146  2024-01-07   East         Bob       Phone     14        300   \n",
      "49      150  2024-01-29  South         Bob     Monitor      1        200   \n",
      "\n",
      "    TotalSales  \n",
      "2          300  \n",
      "8          400  \n",
      "9         2000  \n",
      "13        1800  \n",
      "22        1200  \n",
      "30         300  \n",
      "44        3600  \n",
      "45        4200  \n",
      "49         200  \n"
     ]
    }
   ],
   "source": [
    "print(company[company['SalesPerson'] == 'Bob'])"
   ]
  },
  {
   "cell_type": "code",
   "execution_count": 124,
   "id": "1ce5c1e6-fed9-4b16-acac-bcfb95436401",
   "metadata": {},
   "outputs": [
    {
     "name": "stdout",
     "output_type": "stream",
     "text": [
      "    OrderID        Date Region SalesPerson     Product  Units  UnitPrice  \\\n",
      "0       101  2024-01-06  South       Diana      Laptop      2        600   \n",
      "1       102  2024-01-30  South       Diana      Tablet     13        250   \n",
      "2       103  2024-01-26   East         Bob       Phone      1        300   \n",
      "3       104  2024-01-01  North       Diana      Laptop      7        600   \n",
      "4       105  2024-01-13  South     Charlie     Monitor      6        200   \n",
      "5       106  2024-01-12   East       Alice      Tablet      8        250   \n",
      "6       107  2024-01-03   West      Edward     Monitor      8        200   \n",
      "7       108  2024-01-14  North     Charlie       Phone     14        300   \n",
      "8       109  2024-01-20  North         Bob     Monitor      2        200   \n",
      "9       110  2024-01-07  South         Bob      Tablet      8        250   \n",
      "10      111  2024-01-25   West      Edward       Phone     14        300   \n",
      "11      112  2024-01-08  South     Charlie     Monitor      3        200   \n",
      "12      113  2024-01-07   East       Alice       Phone     13        300   \n",
      "13      114  2024-01-08  South         Bob      Laptop      3        600   \n",
      "14      115  2024-01-26  South       Alice      Tablet      5        250   \n",
      "15      116  2024-01-01   West       Diana     Monitor      9        200   \n",
      "16      117  2024-01-24   West      Edward  Headphones     15        100   \n",
      "17      118  2024-01-20   East      Edward      Laptop     15        600   \n",
      "18      119  2024-01-19  South       Alice      Laptop      8        600   \n",
      "19      120  2024-01-25   East       Diana       Phone      1        300   \n",
      "20      121  2024-01-26   West       Diana     Monitor      7        200   \n",
      "21      122  2024-01-31  North       Diana     Monitor     15        200   \n",
      "22      123  2024-01-28   East         Bob      Laptop      2        600   \n",
      "23      124  2024-01-31  North       Alice      Laptop      5        600   \n",
      "24      125  2024-01-14   East       Diana       Phone     12        300   \n",
      "25      126  2024-01-20   West     Charlie     Monitor     10        200   \n",
      "26      127  2024-01-03  South       Diana       Phone      7        300   \n",
      "27      128  2024-01-07  South       Diana       Phone      3        300   \n",
      "28      129  2024-01-07   West       Diana  Headphones      8        100   \n",
      "29      130  2024-01-18   East       Diana      Laptop     15        600   \n",
      "30      131  2024-01-24  North         Bob  Headphones      3        100   \n",
      "31      132  2024-01-26  North       Diana     Monitor     10        200   \n",
      "32      133  2024-01-06  North      Edward     Monitor      1        200   \n",
      "33      134  2024-01-04  South       Alice      Laptop      1        600   \n",
      "34      135  2024-01-05   East      Edward  Headphones     15        100   \n",
      "35      136  2024-01-28  South       Alice      Tablet     11        250   \n",
      "36      137  2024-01-19   West     Charlie     Monitor      4        200   \n",
      "37      138  2024-01-12   West     Charlie     Monitor      7        200   \n",
      "38      139  2024-01-27   West     Charlie  Headphones     12        100   \n",
      "39      140  2024-01-05   East      Edward      Tablet     10        250   \n",
      "40      141  2024-01-14   West     Charlie       Phone      8        300   \n",
      "41      142  2024-01-19  South       Diana      Laptop      1        600   \n",
      "42      143  2024-01-15  South       Diana      Laptop      1        600   \n",
      "43      144  2024-01-20   East     Charlie      Laptop      9        600   \n",
      "44      145  2024-01-03  South         Bob       Phone     12        300   \n",
      "45      146  2024-01-07   East         Bob       Phone     14        300   \n",
      "46      147  2024-01-25  South       Diana      Laptop     12        600   \n",
      "47      148  2024-01-16   East     Charlie      Laptop     11        600   \n",
      "48      149  2024-01-20   East      Edward      Tablet      9        250   \n",
      "49      150  2024-01-29  South         Bob     Monitor      1        200   \n",
      "\n",
      "    TotalSales  Dicount  \n",
      "0         1200   1080.0  \n",
      "1         3250   2925.0  \n",
      "2          300    270.0  \n",
      "3         4200   3780.0  \n",
      "4         1200   1080.0  \n",
      "5         2000   1800.0  \n",
      "6         1600   1440.0  \n",
      "7         4200   3780.0  \n",
      "8          400    360.0  \n",
      "9         2000   1800.0  \n",
      "10        4200   3780.0  \n",
      "11         600    540.0  \n",
      "12        3900   3510.0  \n",
      "13        1800   1620.0  \n",
      "14        1250   1125.0  \n",
      "15        1800   1620.0  \n",
      "16        1500   1350.0  \n",
      "17        9000   8100.0  \n",
      "18        4800   4320.0  \n",
      "19         300    270.0  \n",
      "20        1400   1260.0  \n",
      "21        3000   2700.0  \n",
      "22        1200   1080.0  \n",
      "23        3000   2700.0  \n",
      "24        3600   3240.0  \n",
      "25        2000   1800.0  \n",
      "26        2100   1890.0  \n",
      "27         900    810.0  \n",
      "28         800    720.0  \n",
      "29        9000   8100.0  \n",
      "30         300    270.0  \n",
      "31        2000   1800.0  \n",
      "32         200    180.0  \n",
      "33         600    540.0  \n",
      "34        1500   1350.0  \n",
      "35        2750   2475.0  \n",
      "36         800    720.0  \n",
      "37        1400   1260.0  \n",
      "38        1200   1080.0  \n",
      "39        2500   2250.0  \n",
      "40        2400   2160.0  \n",
      "41         600    540.0  \n",
      "42         600    540.0  \n",
      "43        5400   4860.0  \n",
      "44        3600   3240.0  \n",
      "45        4200   3780.0  \n",
      "46        7200   6480.0  \n",
      "47        6600   5940.0  \n",
      "48        2250   2025.0  \n",
      "49         200    180.0  \n"
     ]
    }
   ],
   "source": [
    "company['Dicount'] = company['TotalSales'] *0.9\n",
    "print(company)"
   ]
  },
  {
   "cell_type": "code",
   "execution_count": 126,
   "id": "ddca749e-7fdc-44e0-82be-f1d4ad83622a",
   "metadata": {},
   "outputs": [
    {
     "name": "stdout",
     "output_type": "stream",
     "text": [
      "    OrderID        Date Region SalesPerson     Product  Units  UnitPrice  \\\n",
      "0       101  2024-01-06  South       Diana      Laptop      2        600   \n",
      "1       102  2024-01-30  South       Diana      Tablet     13        250   \n",
      "2       103  2024-01-26   East         Bob       Phone      1        300   \n",
      "3       104  2024-01-01  North       Diana      Laptop      7        600   \n",
      "4       105  2024-01-13  South     Charlie     Monitor      6        200   \n",
      "5       106  2024-01-12   East       Alice      Tablet      8        250   \n",
      "6       107  2024-01-03   West      Edward     Monitor      8        200   \n",
      "7       108  2024-01-14  North     Charlie       Phone     14        300   \n",
      "8       109  2024-01-20  North         Bob     Monitor      2        200   \n",
      "9       110  2024-01-07  South         Bob      Tablet      8        250   \n",
      "10      111  2024-01-25   West      Edward       Phone     14        300   \n",
      "11      112  2024-01-08  South     Charlie     Monitor      3        200   \n",
      "12      113  2024-01-07   East       Alice       Phone     13        300   \n",
      "13      114  2024-01-08  South         Bob      Laptop      3        600   \n",
      "14      115  2024-01-26  South       Alice      Tablet      5        250   \n",
      "15      116  2024-01-01   West       Diana     Monitor      9        200   \n",
      "16      117  2024-01-24   West      Edward  Headphones     15        100   \n",
      "17      118  2024-01-20   East      Edward      Laptop     15        600   \n",
      "18      119  2024-01-19  South       Alice      Laptop      8        600   \n",
      "19      120  2024-01-25   East       Diana       Phone      1        300   \n",
      "20      121  2024-01-26   West       Diana     Monitor      7        200   \n",
      "21      122  2024-01-31  North       Diana     Monitor     15        200   \n",
      "22      123  2024-01-28   East         Bob      Laptop      2        600   \n",
      "23      124  2024-01-31  North       Alice      Laptop      5        600   \n",
      "24      125  2024-01-14   East       Diana       Phone     12        300   \n",
      "25      126  2024-01-20   West     Charlie     Monitor     10        200   \n",
      "26      127  2024-01-03  South       Diana       Phone      7        300   \n",
      "27      128  2024-01-07  South       Diana       Phone      3        300   \n",
      "28      129  2024-01-07   West       Diana  Headphones      8        100   \n",
      "29      130  2024-01-18   East       Diana      Laptop     15        600   \n",
      "30      131  2024-01-24  North         Bob  Headphones      3        100   \n",
      "31      132  2024-01-26  North       Diana     Monitor     10        200   \n",
      "32      133  2024-01-06  North      Edward     Monitor      1        200   \n",
      "33      134  2024-01-04  South       Alice      Laptop      1        600   \n",
      "34      135  2024-01-05   East      Edward  Headphones     15        100   \n",
      "35      136  2024-01-28  South       Alice      Tablet     11        250   \n",
      "36      137  2024-01-19   West     Charlie     Monitor      4        200   \n",
      "37      138  2024-01-12   West     Charlie     Monitor      7        200   \n",
      "38      139  2024-01-27   West     Charlie  Headphones     12        100   \n",
      "39      140  2024-01-05   East      Edward      Tablet     10        250   \n",
      "40      141  2024-01-14   West     Charlie       Phone      8        300   \n",
      "41      142  2024-01-19  South       Diana      Laptop      1        600   \n",
      "42      143  2024-01-15  South       Diana      Laptop      1        600   \n",
      "43      144  2024-01-20   East     Charlie      Laptop      9        600   \n",
      "44      145  2024-01-03  South         Bob       Phone     12        300   \n",
      "45      146  2024-01-07   East         Bob       Phone     14        300   \n",
      "46      147  2024-01-25  South       Diana      Laptop     12        600   \n",
      "47      148  2024-01-16   East     Charlie      Laptop     11        600   \n",
      "48      149  2024-01-20   East      Edward      Tablet      9        250   \n",
      "49      150  2024-01-29  South         Bob     Monitor      1        200   \n",
      "\n",
      "    TotalSales  Dicount  Profit  \n",
      "0         1200   1080.0   300.0  \n",
      "1         3250   2925.0   812.5  \n",
      "2          300    270.0    75.0  \n",
      "3         4200   3780.0  1050.0  \n",
      "4         1200   1080.0   300.0  \n",
      "5         2000   1800.0   500.0  \n",
      "6         1600   1440.0   400.0  \n",
      "7         4200   3780.0  1050.0  \n",
      "8          400    360.0   100.0  \n",
      "9         2000   1800.0   500.0  \n",
      "10        4200   3780.0  1050.0  \n",
      "11         600    540.0   150.0  \n",
      "12        3900   3510.0   975.0  \n",
      "13        1800   1620.0   450.0  \n",
      "14        1250   1125.0   312.5  \n",
      "15        1800   1620.0   450.0  \n",
      "16        1500   1350.0   375.0  \n",
      "17        9000   8100.0  2250.0  \n",
      "18        4800   4320.0  1200.0  \n",
      "19         300    270.0    75.0  \n",
      "20        1400   1260.0   350.0  \n",
      "21        3000   2700.0   750.0  \n",
      "22        1200   1080.0   300.0  \n",
      "23        3000   2700.0   750.0  \n",
      "24        3600   3240.0   900.0  \n",
      "25        2000   1800.0   500.0  \n",
      "26        2100   1890.0   525.0  \n",
      "27         900    810.0   225.0  \n",
      "28         800    720.0   200.0  \n",
      "29        9000   8100.0  2250.0  \n",
      "30         300    270.0    75.0  \n",
      "31        2000   1800.0   500.0  \n",
      "32         200    180.0    50.0  \n",
      "33         600    540.0   150.0  \n",
      "34        1500   1350.0   375.0  \n",
      "35        2750   2475.0   687.5  \n",
      "36         800    720.0   200.0  \n",
      "37        1400   1260.0   350.0  \n",
      "38        1200   1080.0   300.0  \n",
      "39        2500   2250.0   625.0  \n",
      "40        2400   2160.0   600.0  \n",
      "41         600    540.0   150.0  \n",
      "42         600    540.0   150.0  \n",
      "43        5400   4860.0  1350.0  \n",
      "44        3600   3240.0   900.0  \n",
      "45        4200   3780.0  1050.0  \n",
      "46        7200   6480.0  1800.0  \n",
      "47        6600   5940.0  1650.0  \n",
      "48        2250   2025.0   562.5  \n",
      "49         200    180.0    50.0  \n"
     ]
    }
   ],
   "source": [
    "company['Profit'] = company['TotalSales']*0.25\n",
    "print(company)"
   ]
  },
  {
   "cell_type": "code",
   "execution_count": 177,
   "id": "9c725633-85dc-451e-b618-9cc45a4f5c08",
   "metadata": {},
   "outputs": [],
   "source": [
    "company.to_csv('company_with_profit.csv')"
   ]
  },
  {
   "cell_type": "code",
   "execution_count": 179,
   "id": "fe38f27c-9755-48de-aad6-ca283d23d136",
   "metadata": {},
   "outputs": [
    {
     "name": "stdout",
     "output_type": "stream",
     "text": [
      "    OrderID        Date      Region SalesPerson     Product  Units  UnitPrice  \\\n",
      "17      118  2024-01-20        East      Edward      Laptop     15        600   \n",
      "29      130  2024-01-18        East       Diana      Laptop     15        600   \n",
      "46      147  2024-01-25       South       Diana      Laptop     12        600   \n",
      "47      148  2024-01-16        East     Charlie      Laptop     11        600   \n",
      "43      144  2024-01-20        East     Charlie      Laptop      9        600   \n",
      "18      119  2024-01-19       South       Alice      Laptop      8        600   \n",
      "10      111  2024-01-25        West      Edward       Phone     14        300   \n",
      "7       108  2024-01-14  North Zone     Charlie       Phone     14        300   \n",
      "45      146  2024-01-07        East         Bob       Phone     14        300   \n",
      "3       104  2024-01-01  North Zone       Diana      Laptop      7        600   \n",
      "12      113  2024-01-07        East       Alice       Phone     13        300   \n",
      "24      125  2024-01-14        East       Diana       Phone     12        300   \n",
      "44      145  2024-01-03       South         Bob       Phone     12        300   \n",
      "1       102  2024-01-30       South       Diana      Tablet     13        250   \n",
      "23      124  2024-01-31  North Zone       Alice      Laptop      5        600   \n",
      "21      122  2024-01-31  North Zone       Diana     Monitor     15        200   \n",
      "35      136  2024-01-28       South       Alice      Tablet     11        250   \n",
      "39      140  2024-01-05        East      Edward      Tablet     10        250   \n",
      "40      141  2024-01-14        West     Charlie       Phone      8        300   \n",
      "48      149  2024-01-20        East      Edward      Tablet      9        250   \n",
      "26      127  2024-01-03       South       Diana       Phone      7        300   \n",
      "5       106  2024-01-12        East       Alice      Tablet      8        250   \n",
      "31      132  2024-01-26  North Zone       Diana     Monitor     10        200   \n",
      "25      126  2024-01-20        West     Charlie     Monitor     10        200   \n",
      "9       110  2024-01-07       South         Bob      Tablet      8        250   \n",
      "15      116  2024-01-01        West       Diana     Monitor      9        200   \n",
      "13      114  2024-01-08       South         Bob      Laptop      3        600   \n",
      "6       107  2024-01-03        West      Edward     Monitor      8        200   \n",
      "16      117  2024-01-24        West      Edward  Headphones     15        100   \n",
      "34      135  2024-01-05        East      Edward  Headphones     15        100   \n",
      "37      138  2024-01-12        West     Charlie     Monitor      7        200   \n",
      "20      121  2024-01-26        West       Diana     Monitor      7        200   \n",
      "14      115  2024-01-26       South       Alice      Tablet      5        250   \n",
      "0       101  2024-01-06       South       Diana      Laptop      2        600   \n",
      "22      123  2024-01-28        East         Bob      Laptop      2        600   \n",
      "38      139  2024-01-27        West     Charlie  Headphones     12        100   \n",
      "4       105  2024-01-13       South     Charlie     Monitor      6        200   \n",
      "27      128  2024-01-07       South       Diana       Phone      3        300   \n",
      "36      137  2024-01-19        West     Charlie     Monitor      4        200   \n",
      "28      129  2024-01-07        West       Diana  Headphones      8        100   \n",
      "11      112  2024-01-08       South     Charlie     Monitor      3        200   \n",
      "41      142  2024-01-19       South       Diana      Laptop      1        600   \n",
      "42      143  2024-01-15       South       Diana      Laptop      1        600   \n",
      "33      134  2024-01-04       South       Alice      Laptop      1        600   \n",
      "8       109  2024-01-20  North Zone         Bob     Monitor      2        200   \n",
      "2       103  2024-01-26        East         Bob       Phone      1        300   \n",
      "19      120  2024-01-25        East       Diana       Phone      1        300   \n",
      "30      131  2024-01-24  North Zone         Bob  Headphones      3        100   \n",
      "32      133  2024-01-06  North Zone      Edward     Monitor      1        200   \n",
      "49      150  2024-01-29       South         Bob     Monitor      1        200   \n",
      "\n",
      "    TotalSales    Month  \n",
      "17        9000  January  \n",
      "29        9000  January  \n",
      "46        7200  January  \n",
      "47        6600  January  \n",
      "43        5400  January  \n",
      "18        4800  January  \n",
      "10        4200  January  \n",
      "7         4200  January  \n",
      "45        4200  January  \n",
      "3         4200  January  \n",
      "12        3900  January  \n",
      "24        3600  January  \n",
      "44        3600  January  \n",
      "1         3250  January  \n",
      "23        3000  January  \n",
      "21        3000  January  \n",
      "35        2750  January  \n",
      "39        2500  January  \n",
      "40        2400  January  \n",
      "48        2250  January  \n",
      "26        2100  January  \n",
      "5         2000  January  \n",
      "31        2000  January  \n",
      "25        2000  January  \n",
      "9         2000  January  \n",
      "15        1800  January  \n",
      "13        1800  January  \n",
      "6         1600  January  \n",
      "16        1500  January  \n",
      "34        1500  January  \n",
      "37        1400  January  \n",
      "20        1400  January  \n",
      "14        1250  January  \n",
      "0         1200  January  \n",
      "22        1200  January  \n",
      "38        1200  January  \n",
      "4         1200  January  \n",
      "27         900  January  \n",
      "36         800  January  \n",
      "28         800  January  \n",
      "11         600  January  \n",
      "41         600  January  \n",
      "42         600  January  \n",
      "33         600  January  \n",
      "8          400  January  \n",
      "2          300  January  \n",
      "19         300  January  \n",
      "30         300  January  \n",
      "32         200  January  \n",
      "49         200  January  \n"
     ]
    }
   ],
   "source": [
    "print(company.sort_values(by='TotalSales',ascending=False))"
   ]
  },
  {
   "cell_type": "code",
   "execution_count": 144,
   "id": "6d0b5857-ff35-43f2-9225-4dc561bdc1bf",
   "metadata": {},
   "outputs": [
    {
     "name": "stdout",
     "output_type": "stream",
     "text": [
      "    OrderID        Date      Region SalesPerson     Product  Units  UnitPrice  \\\n",
      "0       101  2024-01-06       South       Diana      Laptop      2        600   \n",
      "1       102  2024-01-30       South       Diana      Tablet     13        250   \n",
      "2       103  2024-01-26        East         Bob       Phone      1        300   \n",
      "3       104  2024-01-01  North Zone       Diana      Laptop      7        600   \n",
      "4       105  2024-01-13       South     Charlie     Monitor      6        200   \n",
      "5       106  2024-01-12        East       Alice      Tablet      8        250   \n",
      "6       107  2024-01-03        West      Edward     Monitor      8        200   \n",
      "7       108  2024-01-14  North Zone     Charlie       Phone     14        300   \n",
      "8       109  2024-01-20  North Zone         Bob     Monitor      2        200   \n",
      "9       110  2024-01-07       South         Bob      Tablet      8        250   \n",
      "10      111  2024-01-25        West      Edward       Phone     14        300   \n",
      "11      112  2024-01-08       South     Charlie     Monitor      3        200   \n",
      "12      113  2024-01-07        East       Alice       Phone     13        300   \n",
      "13      114  2024-01-08       South         Bob      Laptop      3        600   \n",
      "14      115  2024-01-26       South       Alice      Tablet      5        250   \n",
      "15      116  2024-01-01        West       Diana     Monitor      9        200   \n",
      "16      117  2024-01-24        West      Edward  Headphones     15        100   \n",
      "17      118  2024-01-20        East      Edward      Laptop     15        600   \n",
      "18      119  2024-01-19       South       Alice      Laptop      8        600   \n",
      "19      120  2024-01-25        East       Diana       Phone      1        300   \n",
      "20      121  2024-01-26        West       Diana     Monitor      7        200   \n",
      "21      122  2024-01-31  North Zone       Diana     Monitor     15        200   \n",
      "22      123  2024-01-28        East         Bob      Laptop      2        600   \n",
      "23      124  2024-01-31  North Zone       Alice      Laptop      5        600   \n",
      "24      125  2024-01-14        East       Diana       Phone     12        300   \n",
      "25      126  2024-01-20        West     Charlie     Monitor     10        200   \n",
      "26      127  2024-01-03       South       Diana       Phone      7        300   \n",
      "27      128  2024-01-07       South       Diana       Phone      3        300   \n",
      "28      129  2024-01-07        West       Diana  Headphones      8        100   \n",
      "29      130  2024-01-18        East       Diana      Laptop     15        600   \n",
      "30      131  2024-01-24  North Zone         Bob  Headphones      3        100   \n",
      "31      132  2024-01-26  North Zone       Diana     Monitor     10        200   \n",
      "32      133  2024-01-06  North Zone      Edward     Monitor      1        200   \n",
      "33      134  2024-01-04       South       Alice      Laptop      1        600   \n",
      "34      135  2024-01-05        East      Edward  Headphones     15        100   \n",
      "35      136  2024-01-28       South       Alice      Tablet     11        250   \n",
      "36      137  2024-01-19        West     Charlie     Monitor      4        200   \n",
      "37      138  2024-01-12        West     Charlie     Monitor      7        200   \n",
      "38      139  2024-01-27        West     Charlie  Headphones     12        100   \n",
      "39      140  2024-01-05        East      Edward      Tablet     10        250   \n",
      "40      141  2024-01-14        West     Charlie       Phone      8        300   \n",
      "41      142  2024-01-19       South       Diana      Laptop      1        600   \n",
      "42      143  2024-01-15       South       Diana      Laptop      1        600   \n",
      "43      144  2024-01-20        East     Charlie      Laptop      9        600   \n",
      "44      145  2024-01-03       South         Bob       Phone     12        300   \n",
      "45      146  2024-01-07        East         Bob       Phone     14        300   \n",
      "46      147  2024-01-25       South       Diana      Laptop     12        600   \n",
      "47      148  2024-01-16        East     Charlie      Laptop     11        600   \n",
      "48      149  2024-01-20        East      Edward      Tablet      9        250   \n",
      "49      150  2024-01-29       South         Bob     Monitor      1        200   \n",
      "\n",
      "    TotalSales  \n",
      "0         1200  \n",
      "1         3250  \n",
      "2          300  \n",
      "3         4200  \n",
      "4         1200  \n",
      "5         2000  \n",
      "6         1600  \n",
      "7         4200  \n",
      "8          400  \n",
      "9         2000  \n",
      "10        4200  \n",
      "11         600  \n",
      "12        3900  \n",
      "13        1800  \n",
      "14        1250  \n",
      "15        1800  \n",
      "16        1500  \n",
      "17        9000  \n",
      "18        4800  \n",
      "19         300  \n",
      "20        1400  \n",
      "21        3000  \n",
      "22        1200  \n",
      "23        3000  \n",
      "24        3600  \n",
      "25        2000  \n",
      "26        2100  \n",
      "27         900  \n",
      "28         800  \n",
      "29        9000  \n",
      "30         300  \n",
      "31        2000  \n",
      "32         200  \n",
      "33         600  \n",
      "34        1500  \n",
      "35        2750  \n",
      "36         800  \n",
      "37        1400  \n",
      "38        1200  \n",
      "39        2500  \n",
      "40        2400  \n",
      "41         600  \n",
      "42         600  \n",
      "43        5400  \n",
      "44        3600  \n",
      "45        4200  \n",
      "46        7200  \n",
      "47        6600  \n",
      "48        2250  \n",
      "49         200  \n"
     ]
    }
   ],
   "source": [
    "company['Region'] = company['Region'].replace('North','North Zone')\n",
    "print(company)"
   ]
  },
  {
   "cell_type": "code",
   "execution_count": 145,
   "id": "27ba28fa-b3ae-4ef0-b81d-912ebb28859a",
   "metadata": {},
   "outputs": [
    {
     "name": "stdout",
     "output_type": "stream",
     "text": [
      "    OrderID        Date      Region SalesPerson     Product  Units  UnitPrice  \\\n",
      "0       101  2024-01-06       South       Diana      Laptop      2        600   \n",
      "1       102  2024-01-30       South       Diana      Tablet     13        250   \n",
      "2       103  2024-01-26        East         Bob       Phone      1        300   \n",
      "3       104  2024-01-01  North Zone       Diana      Laptop      7        600   \n",
      "4       105  2024-01-13       South     Charlie     Monitor      6        200   \n",
      "5       106  2024-01-12        East       Alice      Tablet      8        250   \n",
      "6       107  2024-01-03        West      Edward     Monitor      8        200   \n",
      "7       108  2024-01-14  North Zone     Charlie       Phone     14        300   \n",
      "8       109  2024-01-20  North Zone         Bob     Monitor      2        200   \n",
      "9       110  2024-01-07       South         Bob      Tablet      8        250   \n",
      "10      111  2024-01-25        West      Edward       Phone     14        300   \n",
      "11      112  2024-01-08       South     Charlie     Monitor      3        200   \n",
      "12      113  2024-01-07        East       Alice       Phone     13        300   \n",
      "13      114  2024-01-08       South         Bob      Laptop      3        600   \n",
      "14      115  2024-01-26       South       Alice      Tablet      5        250   \n",
      "15      116  2024-01-01        West       Diana     Monitor      9        200   \n",
      "16      117  2024-01-24        West      Edward  Headphones     15        100   \n",
      "17      118  2024-01-20        East      Edward      Laptop     15        600   \n",
      "18      119  2024-01-19       South       Alice      Laptop      8        600   \n",
      "19      120  2024-01-25        East       Diana       Phone      1        300   \n",
      "20      121  2024-01-26        West       Diana     Monitor      7        200   \n",
      "21      122  2024-01-31  North Zone       Diana     Monitor     15        200   \n",
      "22      123  2024-01-28        East         Bob      Laptop      2        600   \n",
      "23      124  2024-01-31  North Zone       Alice      Laptop      5        600   \n",
      "24      125  2024-01-14        East       Diana       Phone     12        300   \n",
      "25      126  2024-01-20        West     Charlie     Monitor     10        200   \n",
      "26      127  2024-01-03       South       Diana       Phone      7        300   \n",
      "27      128  2024-01-07       South       Diana       Phone      3        300   \n",
      "28      129  2024-01-07        West       Diana  Headphones      8        100   \n",
      "29      130  2024-01-18        East       Diana      Laptop     15        600   \n",
      "30      131  2024-01-24  North Zone         Bob  Headphones      3        100   \n",
      "31      132  2024-01-26  North Zone       Diana     Monitor     10        200   \n",
      "32      133  2024-01-06  North Zone      Edward     Monitor      1        200   \n",
      "33      134  2024-01-04       South       Alice      Laptop      1        600   \n",
      "34      135  2024-01-05        East      Edward  Headphones     15        100   \n",
      "35      136  2024-01-28       South       Alice      Tablet     11        250   \n",
      "36      137  2024-01-19        West     Charlie     Monitor      4        200   \n",
      "37      138  2024-01-12        West     Charlie     Monitor      7        200   \n",
      "38      139  2024-01-27        West     Charlie  Headphones     12        100   \n",
      "39      140  2024-01-05        East      Edward      Tablet     10        250   \n",
      "40      141  2024-01-14        West     Charlie       Phone      8        300   \n",
      "41      142  2024-01-19       South       Diana      Laptop      1        600   \n",
      "42      143  2024-01-15       South       Diana      Laptop      1        600   \n",
      "43      144  2024-01-20        East     Charlie      Laptop      9        600   \n",
      "44      145  2024-01-03       South         Bob       Phone     12        300   \n",
      "45      146  2024-01-07        East         Bob       Phone     14        300   \n",
      "46      147  2024-01-25       South       Diana      Laptop     12        600   \n",
      "47      148  2024-01-16        East     Charlie      Laptop     11        600   \n",
      "48      149  2024-01-20        East      Edward      Tablet      9        250   \n",
      "49      150  2024-01-29       South         Bob     Monitor      1        200   \n",
      "\n",
      "    TotalSales    Month  \n",
      "0         1200  January  \n",
      "1         3250  January  \n",
      "2          300  January  \n",
      "3         4200  January  \n",
      "4         1200  January  \n",
      "5         2000  January  \n",
      "6         1600  January  \n",
      "7         4200  January  \n",
      "8          400  January  \n",
      "9         2000  January  \n",
      "10        4200  January  \n",
      "11         600  January  \n",
      "12        3900  January  \n",
      "13        1800  January  \n",
      "14        1250  January  \n",
      "15        1800  January  \n",
      "16        1500  January  \n",
      "17        9000  January  \n",
      "18        4800  January  \n",
      "19         300  January  \n",
      "20        1400  January  \n",
      "21        3000  January  \n",
      "22        1200  January  \n",
      "23        3000  January  \n",
      "24        3600  January  \n",
      "25        2000  January  \n",
      "26        2100  January  \n",
      "27         900  January  \n",
      "28         800  January  \n",
      "29        9000  January  \n",
      "30         300  January  \n",
      "31        2000  January  \n",
      "32         200  January  \n",
      "33         600  January  \n",
      "34        1500  January  \n",
      "35        2750  January  \n",
      "36         800  January  \n",
      "37        1400  January  \n",
      "38        1200  January  \n",
      "39        2500  January  \n",
      "40        2400  January  \n",
      "41         600  January  \n",
      "42         600  January  \n",
      "43        5400  January  \n",
      "44        3600  January  \n",
      "45        4200  January  \n",
      "46        7200  January  \n",
      "47        6600  January  \n",
      "48        2250  January  \n",
      "49         200  January  \n"
     ]
    }
   ],
   "source": [
    "company['Month'] = pd.to_datetime(company['Date']).dt.month_name()\n",
    "print(company)"
   ]
  },
  {
   "cell_type": "code",
   "execution_count": 146,
   "id": "414ac544-94fb-4fe8-9f72-bc9a3ed4a5a2",
   "metadata": {},
   "outputs": [
    {
     "name": "stdout",
     "output_type": "stream",
     "text": [
      "Region\n",
      "East          51750\n",
      "North Zone    17300\n",
      "South         34650\n",
      "West          19100\n",
      "Name: TotalSales, dtype: int64\n"
     ]
    }
   ],
   "source": [
    "print(company.groupby('Region')['TotalSales'].sum())"
   ]
  },
  {
   "cell_type": "code",
   "execution_count": 147,
   "id": "60ef0890-d2f0-479d-a719-afcde2466ac7",
   "metadata": {},
   "outputs": [
    {
     "name": "stdout",
     "output_type": "stream",
     "text": [
      "Product\n",
      "Headphones    10.600000\n",
      "Laptop         6.571429\n",
      "Monitor        6.384615\n",
      "Phone          9.000000\n",
      "Tablet         9.142857\n",
      "Name: Units, dtype: float64\n"
     ]
    }
   ],
   "source": [
    "print(company.groupby('Product')['Units'].mean())"
   ]
  },
  {
   "cell_type": "code",
   "execution_count": 150,
   "id": "feef2f6c-8f2e-4b5f-8a5d-0020b40befa8",
   "metadata": {},
   "outputs": [
    {
     "name": "stdout",
     "output_type": "stream",
     "text": [
      "SalesPerson\n",
      "Diana      16\n",
      "Charlie    10\n",
      "Bob         9\n",
      "Edward      8\n",
      "Alice       7\n",
      "Name: count, dtype: int64\n"
     ]
    }
   ],
   "source": [
    "print(company['SalesPerson'].value_counts())"
   ]
  },
  {
   "cell_type": "code",
   "execution_count": 154,
   "id": "25a77eee-19b6-4e1b-a074-5cc798f650cd",
   "metadata": {},
   "outputs": [
    {
     "name": "stdout",
     "output_type": "stream",
     "text": [
      "East\n"
     ]
    }
   ],
   "source": [
    "print(company.loc[company['TotalSales'].idxmax(),'Region'])"
   ]
  },
  {
   "cell_type": "code",
   "execution_count": 156,
   "id": "f4a8915b-775b-49f2-a729-c1c752fc384a",
   "metadata": {},
   "outputs": [
    {
     "name": "stdout",
     "output_type": "stream",
     "text": [
      "Region\n",
      "East          9000\n",
      "North Zone    4200\n",
      "South         7200\n",
      "West          4200\n",
      "Name: TotalSales, dtype: int64\n"
     ]
    }
   ],
   "source": [
    "print(company.groupby('Region')['TotalSales'].max())"
   ]
  },
  {
   "cell_type": "code",
   "execution_count": 158,
   "id": "f18d1a76-6679-4e15-ac3e-918191b951b2",
   "metadata": {},
   "outputs": [
    {
     "name": "stdout",
     "output_type": "stream",
     "text": [
      "Product\n",
      "Headphones     5300\n",
      "Laptop        55200\n",
      "Monitor       16600\n",
      "Phone         29700\n",
      "Tablet        16000\n",
      "Name: TotalSales, dtype: int64\n"
     ]
    }
   ],
   "source": [
    "print(company.groupby('Product')['TotalSales'].sum())"
   ]
  },
  {
   "cell_type": "code",
   "execution_count": 160,
   "id": "d3425365-d87c-4333-a1de-ce831965152c",
   "metadata": {},
   "outputs": [
    {
     "name": "stdout",
     "output_type": "stream",
     "text": [
      "Diana\n"
     ]
    }
   ],
   "source": [
    "print(company.groupby('SalesPerson')['TotalSales'].sum().idxmax())"
   ]
  },
  {
   "cell_type": "code",
   "execution_count": 161,
   "id": "b83232d9-17ac-4bb0-9702-5e48018e69a9",
   "metadata": {},
   "outputs": [
    {
     "name": "stdout",
     "output_type": "stream",
     "text": [
      "Laptop\n"
     ]
    }
   ],
   "source": [
    "print(company.groupby('Product')['TotalSales'].sum().idxmax())"
   ]
  },
  {
   "cell_type": "code",
   "execution_count": 162,
   "id": "2afeeeaf-dec4-4cf9-b531-08ad9269730f",
   "metadata": {},
   "outputs": [
    {
     "name": "stdout",
     "output_type": "stream",
     "text": [
      "Month\n",
      "January    122800\n",
      "Name: TotalSales, dtype: int64\n"
     ]
    }
   ],
   "source": [
    "print(company.groupby('Month')['TotalSales'].sum())"
   ]
  },
  {
   "cell_type": "code",
   "execution_count": 168,
   "id": "7d0889f8-3b42-4e7c-8d0e-750212298d09",
   "metadata": {},
   "outputs": [
    {
     "name": "stdout",
     "output_type": "stream",
     "text": [
      "Product\n",
      "Headphones    [100]\n",
      "Laptop        [600]\n",
      "Monitor       [200]\n",
      "Phone         [300]\n",
      "Tablet        [250]\n",
      "Name: UnitPrice, dtype: object\n",
      "UnitPrice\n",
      "100    [Headphones]\n",
      "200       [Monitor]\n",
      "250        [Tablet]\n",
      "300         [Phone]\n",
      "600        [Laptop]\n",
      "Name: Product, dtype: object\n"
     ]
    }
   ],
   "source": [
    "print(company.groupby('Product')['UnitPrice'].unique())\n",
    "print(company.groupby('UnitPrice')['Product'].unique())"
   ]
  },
  {
   "cell_type": "code",
   "execution_count": 181,
   "id": "faabc834-08ad-42fe-9a0a-666c39161e93",
   "metadata": {},
   "outputs": [
    {
     "name": "stdout",
     "output_type": "stream",
     "text": [
      "       Product SalesPerson  TotalSales\n",
      "0       Laptop       Diana        1200\n",
      "1       Tablet       Diana        3250\n",
      "2        Phone         Bob         300\n",
      "3       Laptop       Diana        4200\n",
      "4      Monitor     Charlie        1200\n",
      "5       Tablet       Alice        2000\n",
      "6      Monitor      Edward        1600\n",
      "7        Phone     Charlie        4200\n",
      "8      Monitor         Bob         400\n",
      "9       Tablet         Bob        2000\n",
      "10       Phone      Edward        4200\n",
      "11     Monitor     Charlie         600\n",
      "12       Phone       Alice        3900\n",
      "13      Laptop         Bob        1800\n",
      "14      Tablet       Alice        1250\n",
      "15     Monitor       Diana        1800\n",
      "16  Headphones      Edward        1500\n",
      "17      Laptop      Edward        9000\n",
      "18      Laptop       Alice        4800\n",
      "19       Phone       Diana         300\n",
      "20     Monitor       Diana        1400\n",
      "21     Monitor       Diana        3000\n",
      "22      Laptop         Bob        1200\n",
      "23      Laptop       Alice        3000\n",
      "24       Phone       Diana        3600\n",
      "25     Monitor     Charlie        2000\n",
      "26       Phone       Diana        2100\n",
      "27       Phone       Diana         900\n",
      "28  Headphones       Diana         800\n",
      "29      Laptop       Diana        9000\n",
      "30  Headphones         Bob         300\n",
      "31     Monitor       Diana        2000\n",
      "32     Monitor      Edward         200\n",
      "33      Laptop       Alice         600\n",
      "34  Headphones      Edward        1500\n",
      "35      Tablet       Alice        2750\n",
      "36     Monitor     Charlie         800\n",
      "37     Monitor     Charlie        1400\n",
      "38  Headphones     Charlie        1200\n",
      "39      Tablet      Edward        2500\n",
      "40       Phone     Charlie        2400\n",
      "41      Laptop       Diana         600\n",
      "42      Laptop       Diana         600\n",
      "43      Laptop     Charlie        5400\n",
      "44       Phone         Bob        3600\n",
      "45       Phone         Bob        4200\n",
      "46      Laptop       Diana        7200\n",
      "47      Laptop     Charlie        6600\n",
      "48      Tablet      Edward        2250\n",
      "49     Monitor         Bob         200\n"
     ]
    }
   ],
   "source": [
    "company[['Product','SalesPerson','TotalSales']].to_csv('company_sales_updated.csv',index=False)\n",
    "company_sales = pd.read_csv('company_sales_updated.csv')\n",
    "print(company_sales)"
   ]
  }
 ],
 "metadata": {
  "kernelspec": {
   "display_name": "Python 3 (ipykernel)",
   "language": "python",
   "name": "python3"
  },
  "language_info": {
   "codemirror_mode": {
    "name": "ipython",
    "version": 3
   },
   "file_extension": ".py",
   "mimetype": "text/x-python",
   "name": "python",
   "nbconvert_exporter": "python",
   "pygments_lexer": "ipython3",
   "version": "3.13.5"
  }
 },
 "nbformat": 4,
 "nbformat_minor": 5
}
