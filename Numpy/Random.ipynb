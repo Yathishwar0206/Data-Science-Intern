{
 "cells": [
  {
   "cell_type": "code",
   "execution_count": 34,
   "id": "7c5840af-3b06-44d6-a640-5f7598cf1f6a",
   "metadata": {},
   "outputs": [
    {
     "name": "stdout",
     "output_type": "stream",
     "text": [
      "[[0.38995758 0.75613605 0.78458926]\n",
      " [0.10412273 0.8935025  0.1572973 ]\n",
      " [0.39077706 0.36778629 0.69639038]\n",
      " [0.06224901 0.40065821 0.24329428]]\n"
     ]
    }
   ],
   "source": [
    "import numpy as li\n",
    "a = li.random.rand(4,3) # I given here 4 show it shows 4 array randomly.\n",
    "print(a)"
   ]
  },
  {
   "cell_type": "code",
   "execution_count": 35,
   "id": "444cb6b1-3229-4d43-be77-6e1f39f2e92d",
   "metadata": {},
   "outputs": [
    {
     "name": "stdout",
     "output_type": "stream",
     "text": [
      "[[ 0.73912232]\n",
      " [ 0.74997375]\n",
      " [-0.79764985]\n",
      " [-0.54024181]\n",
      " [ 1.53112308]\n",
      " [ 0.18224755]]\n"
     ]
    }
   ],
   "source": [
    "a = li.random.randn(6,1)\n",
    "print(a)"
   ]
  },
  {
   "cell_type": "code",
   "execution_count": 36,
   "id": "52d5d3b4-3019-4020-b061-65857d6cd6dc",
   "metadata": {},
   "outputs": [
    {
     "name": "stdout",
     "output_type": "stream",
     "text": [
      "9\n"
     ]
    }
   ],
   "source": [
    "a = li.random.randint(1,10)\n",
    "print(a)"
   ]
  },
  {
   "cell_type": "code",
   "execution_count": 37,
   "id": "ca365258-6b1d-4a40-ad36-b64e3d20b6f2",
   "metadata": {},
   "outputs": [
    {
     "data": {
      "text/plain": [
       "array([ 6, 12,  9,  8, 11])"
      ]
     },
     "execution_count": 37,
     "metadata": {},
     "output_type": "execute_result"
    }
   ],
   "source": [
    "a = li.array(li.random.randint(1,10,(5,2)))\n",
    "a.sum(axis=0)\n",
    "a.sum(axis=1)"
   ]
  },
  {
   "cell_type": "code",
   "execution_count": 39,
   "id": "bdfbdd5e-0bff-49be-908e-b9f7da130df3",
   "metadata": {},
   "outputs": [
    {
     "data": {
      "text/plain": [
       "array([ 6, 12,  9,  8, 11])"
      ]
     },
     "execution_count": 39,
     "metadata": {},
     "output_type": "execute_result"
    }
   ],
   "source": [
    "a.sum(axis=1)"
   ]
  },
  {
   "cell_type": "code",
   "execution_count": 45,
   "id": "1f3dc52a-02a7-4f75-bbaf-956585154bd3",
   "metadata": {},
   "outputs": [
    {
     "data": {
      "text/plain": [
       "(10, 20, 30)"
      ]
     },
     "execution_count": 45,
     "metadata": {},
     "output_type": "execute_result"
    }
   ],
   "source": [
    "a = ([10,20,30,40,50,60,70,80])\n",
    "a[0],a[1],a[2]"
   ]
  },
  {
   "cell_type": "code",
   "execution_count": 46,
   "id": "c4c03e84-e4ee-48b9-bddf-01331e668b8f",
   "metadata": {},
   "outputs": [
    {
     "data": {
      "text/plain": [
       "('apple', 'n')"
      ]
     },
     "execution_count": 46,
     "metadata": {},
     "output_type": "execute_result"
    }
   ],
   "source": [
    "a = (['apple','banana'])\n",
    "a[0],a[1][2]"
   ]
  },
  {
   "cell_type": "code",
   "execution_count": 49,
   "id": "12f395a1-e984-4721-bd47-610042d548f4",
   "metadata": {},
   "outputs": [
    {
     "name": "stdout",
     "output_type": "stream",
     "text": [
      "[[7 7 8 5 9]\n",
      " [7 6 8 7 7]]\n"
     ]
    }
   ],
   "source": [
    "a = li.array(li.random.randint(5,10,(2,5)))\n",
    "print(a)"
   ]
  },
  {
   "cell_type": "code",
   "execution_count": 50,
   "id": "32c48d99-9572-42eb-a620-5511c3088bc3",
   "metadata": {},
   "outputs": [
    {
     "data": {
      "text/plain": [
       "array([7, 7, 8, 5, 9, 7, 6, 8, 7, 7], dtype=int32)"
      ]
     },
     "execution_count": 50,
     "metadata": {},
     "output_type": "execute_result"
    }
   ],
   "source": [
    "a.flatten()"
   ]
  },
  {
   "cell_type": "code",
   "execution_count": 51,
   "id": "6342d9f5-c9fe-4a94-b4d7-d5f52ea0b7dc",
   "metadata": {},
   "outputs": [
    {
     "name": "stdout",
     "output_type": "stream",
     "text": [
      "[7 7 8 5 9 7 6 8 7 7]\n"
     ]
    }
   ],
   "source": [
    "print(a.ravel())"
   ]
  },
  {
   "cell_type": "code",
   "execution_count": 52,
   "id": "1cae2108-8cd9-4321-889c-e7fc1c2591fe",
   "metadata": {},
   "outputs": [
    {
     "name": "stdout",
     "output_type": "stream",
     "text": [
      "[7 7 8 5 9 7 6 8 7 7]\n"
     ]
    }
   ],
   "source": [
    "print(a.flatten())"
   ]
  },
  {
   "cell_type": "code",
   "execution_count": 53,
   "id": "8b296d55-1e57-4587-84b7-d31c790c8885",
   "metadata": {},
   "outputs": [
    {
     "name": "stdout",
     "output_type": "stream",
     "text": [
      "[[8 8]\n",
      " [8 8]]\n"
     ]
    }
   ],
   "source": [
    "a = li.full((2,2),8)\n",
    "print(a)"
   ]
  },
  {
   "cell_type": "code",
   "execution_count": null,
   "id": "25579038-14d0-4652-8e55-be911501b5f8",
   "metadata": {},
   "outputs": [],
   "source": []
  }
 ],
 "metadata": {
  "kernelspec": {
   "display_name": "Python 3 (ipykernel)",
   "language": "python",
   "name": "python3"
  },
  "language_info": {
   "codemirror_mode": {
    "name": "ipython",
    "version": 3
   },
   "file_extension": ".py",
   "mimetype": "text/x-python",
   "name": "python",
   "nbconvert_exporter": "python",
   "pygments_lexer": "ipython3",
   "version": "3.13.5"
  }
 },
 "nbformat": 4,
 "nbformat_minor": 5
}
