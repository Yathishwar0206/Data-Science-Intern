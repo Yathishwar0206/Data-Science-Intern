{
 "cells": [
  {
   "cell_type": "code",
   "execution_count": 2,
   "id": "125cdf00-5952-4392-9cbb-8233969d8ece",
   "metadata": {},
   "outputs": [
    {
     "name": "stdout",
     "output_type": "stream",
     "text": [
      "[ 2  4  6  8 10]\n",
      "<class 'numpy.ndarray'>\n"
     ]
    }
   ],
   "source": [
    "import numpy as np # first step\n",
    "a = np.array([2,4,6,8,10])\n",
    "print(a)\n",
    "print(type(a))"
   ]
  },
  {
   "cell_type": "code",
   "execution_count": 4,
   "id": "5a3b5f7a-97b1-45e9-b133-aef97e6d62ee",
   "metadata": {},
   "outputs": [
    {
     "data": {
      "text/plain": [
       "(5,)"
      ]
     },
     "execution_count": 4,
     "metadata": {},
     "output_type": "execute_result"
    }
   ],
   "source": [
    "a.shape"
   ]
  },
  {
   "cell_type": "code",
   "execution_count": 6,
   "id": "f2217b37-6c59-40ec-a1cf-c270e5db16f8",
   "metadata": {},
   "outputs": [
    {
     "name": "stdout",
     "output_type": "stream",
     "text": [
      "[ 2  4  6  8 10] <class 'numpy.ndarray'> (5,)\n"
     ]
    }
   ],
   "source": [
    "print(a,type(a),a.shape)"
   ]
  },
  {
   "cell_type": "code",
   "execution_count": 8,
   "id": "ea3a9c23-3589-4bae-877a-be336ed910ed",
   "metadata": {},
   "outputs": [
    {
     "name": "stdout",
     "output_type": "stream",
     "text": [
      "[[1 2 3]\n",
      " [4 5 6]] <class 'numpy.ndarray'> (2, 3)\n"
     ]
    }
   ],
   "source": [
    "# 2D array\n",
    "b = np.array([[1,2,3],[4,5,6]])\n",
    "print(b,type(b),b.shape)"
   ]
  },
  {
   "cell_type": "code",
   "execution_count": 10,
   "id": "b51cae25-203b-4b26-a92b-7b6892570387",
   "metadata": {},
   "outputs": [
    {
     "name": "stdout",
     "output_type": "stream",
     "text": [
      "[[[ 1  2  3]\n",
      "  [ 4  5  6]]\n",
      "\n",
      " [[ 7  8  9]\n",
      "  [10 11 12]]] <class 'numpy.ndarray'> (2, 2, 3)\n"
     ]
    }
   ],
   "source": [
    "# 3D array\n",
    "c = np.array([[[1,2,3],[4,5,6]],\n",
    "             [[7,8,9],[10,11,12]]])\n",
    "print(c,type(c),c.shape)"
   ]
  },
  {
   "cell_type": "code",
   "execution_count": 16,
   "id": "2d9554f0-e114-478b-8f27-ae41ba5aeba7",
   "metadata": {},
   "outputs": [
    {
     "name": "stdout",
     "output_type": "stream",
     "text": [
      "[[[ 1  2  3  4  5]\n",
      "  [ 6  7  8  9 10]\n",
      "  [11 12 13 14 15]]]\n"
     ]
    }
   ],
   "source": [
    "three_array = np.array([\n",
    "   [\n",
    "    [1,2,3,4,5],\n",
    "    [6,7,8,9,10],\n",
    "    [11,12,13,14,15]\n",
    "   ]\n",
    "])\n",
    "print(three_array)"
   ]
  },
  {
   "cell_type": "code",
   "execution_count": 17,
   "id": "9acb577d-7b4e-4530-8f95-2f19be196c7f",
   "metadata": {},
   "outputs": [
    {
     "data": {
      "text/plain": [
       "(1, 3, 5)"
      ]
     },
     "execution_count": 17,
     "metadata": {},
     "output_type": "execute_result"
    }
   ],
   "source": [
    "three_array.shape"
   ]
  },
  {
   "cell_type": "code",
   "execution_count": 21,
   "id": "ff13eadb-7798-429a-a97a-c851447275f1",
   "metadata": {},
   "outputs": [
    {
     "name": "stdout",
     "output_type": "stream",
     "text": [
      "[[[[15  5  3 19  7]\n",
      "   [15  1  8 16 17]\n",
      "   [ 2 10 17 17 13]\n",
      "   [ 7 10  8 19 16]]\n",
      "\n",
      "  [[17 17 15 15  7]\n",
      "   [19 15  7  1 16]\n",
      "   [ 4  5 11 11 10]\n",
      "   [ 9 19  8  7  9]]\n",
      "\n",
      "  [[18 11  5 17 11]\n",
      "   [ 9 13 12 17 14]\n",
      "   [ 8 16 14 16 11]\n",
      "   [ 7  6 15  5 11]]]\n",
      "\n",
      "\n",
      " [[[19 12 13 17 19]\n",
      "   [ 7 10 16  9  7]\n",
      "   [ 8  7 17 16 16]\n",
      "   [19 13  1 14  7]]\n",
      "\n",
      "  [[ 9 19  6  9  8]\n",
      "   [ 8  3  8 18 12]\n",
      "   [ 2 12  8  9 17]\n",
      "   [11  2 10  5  7]]\n",
      "\n",
      "  [[ 5  7 17 13 10]\n",
      "   [ 1  5  2 18  7]\n",
      "   [15  8  6  6  4]\n",
      "   [10 10 18  2  7]]]]\n",
      "Shape :  (2, 3, 4, 5)\n"
     ]
    }
   ],
   "source": [
    "# 4D array\n",
    "four_array = np.random.randint(1,20, size=(2,3,4,5))\n",
    "print(four_array)\n",
    "print('Shape : ',four_array.shape)"
   ]
  },
  {
   "cell_type": "code",
   "execution_count": 22,
   "id": "da3c3636-d635-42cd-bea1-08a1b382f5cb",
   "metadata": {},
   "outputs": [
    {
     "name": "stdout",
     "output_type": "stream",
     "text": [
      "[[[[19 36 41 28 22 20 11 23 44 25]\n",
      "   [49 22  2 44 39 11 38 19 24 34]\n",
      "   [16 38  4 39 17 37 39 39 29 47]\n",
      "   [43 48 32 29 38 11 23  6 36  5]\n",
      "   [32 20 49 14 11 33 44  2 31 12]]\n",
      "\n",
      "  [[ 2 43 45 29 23 33 33 45 16 21]\n",
      "   [45 45  1 12 17 16 40 35 13  6]\n",
      "   [33 23  2 16 12  1 27 49 39 14]\n",
      "   [39 11 10 14 48 27 20 21 26 11]\n",
      "   [39  6 49 46 25  3 29  7  8 43]]\n",
      "\n",
      "  [[38 13 19 37 22 42 36 38 37 14]\n",
      "   [23 15  3 33  1 29 46 16 36 34]\n",
      "   [ 5 25 29  6  5 44 27 33 33 24]\n",
      "   [13 46 25 45 24 42 28 39 46 24]\n",
      "   [21  7 27 43 28 48 27 17 20 46]]\n",
      "\n",
      "  [[16 46 35  6 19 27 28 25 39 15]\n",
      "   [26 19 10 34 23 28 23  6 38 15]\n",
      "   [33 17 12  4 36 31 33  5 28  6]\n",
      "   [47 35 26 25 11 46 46  3 18 33]\n",
      "   [19 29 10 22  5  5 33 12 41 21]]]\n",
      "\n",
      "\n",
      " [[[39 17 12 43 27 16 25 15 15 35]\n",
      "   [ 9 17 39 43 32 10  8 37 47 11]\n",
      "   [14 37 26 46 45  5 48 36 13 33]\n",
      "   [43 16 14 33 41 26 28  6 49  5]\n",
      "   [ 9 47 45 22 32 18 13 31 38 35]]\n",
      "\n",
      "  [[23 48 10  9 31 49 25 25 38 17]\n",
      "   [24 20 14  8 38 47 21  6 33 38]\n",
      "   [46 12 13  8 16 48 20 41 32 25]\n",
      "   [23  8 23 49 39 23  5 40 22 41]\n",
      "   [47  3 17 15 41  4 42 46 46  3]]\n",
      "\n",
      "  [[ 6 38 21 35  8 46 19  2  4 24]\n",
      "   [ 4 44 12 46 18 10 26 22 30 44]\n",
      "   [16  2 42  3 43 39  1 18 45 26]\n",
      "   [35 28  7 34  3 37 25 12 23 21]\n",
      "   [20  9  4 24 18 33  1 34 34  6]]\n",
      "\n",
      "  [[49 30 20 12 46  8  8 19 49  7]\n",
      "   [19 15 32 33 13 43 34 30 31 17]\n",
      "   [38 42 16 18 49 20 32 28 30 18]\n",
      "   [49 41 18  6 43 23 28 39  3 35]\n",
      "   [29 10 45 31  3 44 14 41  8  5]]]\n",
      "\n",
      "\n",
      " [[[42 40  8 18 20 26 18 28 26 34]\n",
      "   [19 31  6 20 47 36 48 28 31 21]\n",
      "   [ 2 47  5 22 15 15 44 21 35 36]\n",
      "   [10 11 30 13 46 31  1  3 49 48]\n",
      "   [23 21 43  6 28 47 12 24 16 39]]\n",
      "\n",
      "  [[45 22 28 25 31 20  9 28 30 11]\n",
      "   [33 19 27  7 30  9 41 20 37 15]\n",
      "   [41 38  6 45 44 30  8 40 24 40]\n",
      "   [22 32  1 38 16 13  4  7 26 33]\n",
      "   [ 3 45 15 13  7 43 40 21 10  7]]\n",
      "\n",
      "  [[28 38 29 47  9  7  1  4 33 38]\n",
      "   [19 11 43  2 17 43 24 19 39 44]\n",
      "   [39  3 49 30 16 40  2 18  7 31]\n",
      "   [34  3 42 34 29  5 23  1 18 15]\n",
      "   [33  5 47 15 18 19 29 20  9 34]]\n",
      "\n",
      "  [[ 3 11 32 20  1 40 47 25 18 31]\n",
      "   [ 2 28 22  6 30 34 45 25 25 47]\n",
      "   [42 18 22  6 15 28  9 40 27 10]\n",
      "   [31 13 23 46 32 21 39 12 34 27]\n",
      "   [21  5 17 13 29 11 40 24 47 23]]]]\n",
      "Shape :  (3, 4, 5, 10)\n"
     ]
    }
   ],
   "source": [
    "blocks = np.random.randint(1,50, size=(3,4,5,10))\n",
    "print(blocks)\n",
    "print('Shape : ',blocks.shape)"
   ]
  },
  {
   "cell_type": "code",
   "execution_count": 6,
   "id": "1e136d34-e52c-4401-a915-1f9be75ebf22",
   "metadata": {},
   "outputs": [
    {
     "name": "stdout",
     "output_type": "stream",
     "text": [
      "[[[1 3 3 2 3]\n",
      "  [3 3 1 3 4]\n",
      "  [1 3 1 2 1]]]\n"
     ]
    },
    {
     "data": {
      "text/plain": [
       "(1, 3, 5)"
      ]
     },
     "execution_count": 6,
     "metadata": {},
     "output_type": "execute_result"
    }
   ],
   "source": [
    "c = np.random.randint(1,5,size=(1,3,5))\n",
    "print(c)\n",
    "c.shape"
   ]
  },
  {
   "cell_type": "code",
   "execution_count": 25,
   "id": "78e5e5cc-dd97-44d1-963c-b4b4a345bdd2",
   "metadata": {},
   "outputs": [
    {
     "name": "stdout",
     "output_type": "stream",
     "text": [
      "[1, 2, 3, 4, 5, 1, 2, 3, 4, 5]\n",
      "[ 2  4  6  8 10]\n"
     ]
    }
   ],
   "source": [
    "# List vs Array\n",
    "a_list = [1,2,3,4,5]\n",
    "print(a_list*2)\n",
    "a_array = np.array( [1,2,3,4,5])\n",
    "print(a_array*2)"
   ]
  },
  {
   "cell_type": "code",
   "execution_count": 34,
   "id": "3c7e449e-6b02-4b43-8709-092f10e2bdfd",
   "metadata": {},
   "outputs": [
    {
     "name": "stdout",
     "output_type": "stream",
     "text": [
      "[1, 2, 3, 4, 5, 6, 7, 8, 9, 10, 1, 2, 3, 4, 5, 6, 7, 8, 9, 10]\n",
      "[ 2  4  6  8 10 12 14 16 18 20]\n"
     ]
    }
   ],
   "source": [
    "b = [1,2,3,4,5,6,7,8,9,10]\n",
    "print(b*2)\n",
    "b_array = np.array(b)\n",
    "print(b_array*2)"
   ]
  },
  {
   "cell_type": "code",
   "execution_count": 38,
   "id": "13913061-c077-41df-a3a1-80546cbe401e",
   "metadata": {},
   "outputs": [
    {
     "name": "stdout",
     "output_type": "stream",
     "text": [
      "Dimensions of a :  1\n",
      "Dimensions of b :  2\n",
      "Dimension of c :  3\n"
     ]
    }
   ],
   "source": [
    "# ndarray.ndim\n",
    "a = np.array([0,1,2,3,4,5,6,7,8,9,10])\n",
    "print('Dimensions of a : ',a.ndim)\n",
    "b = np.array([[1,2,3,4,5],[6,7,8,9,10]])\n",
    "print('Dimensions of b : ',b.ndim)\n",
    "c = np.array([[[1,2,3]],[[4,5,6]],[[7,8,9]]])\n",
    "print('Dimension of c : ',c.ndim)"
   ]
  },
  {
   "cell_type": "code",
   "execution_count": 39,
   "id": "cf35211d-37f3-45e0-a39b-024060a4c70c",
   "metadata": {},
   "outputs": [
    {
     "name": "stdout",
     "output_type": "stream",
     "text": [
      "Dimensions of a :  11\n",
      "Dimensions of b :  10\n",
      "Dimension of c :  9\n"
     ]
    }
   ],
   "source": [
    "# ndarray.size\n",
    "a = np.array([0,1,2,3,4,5,6,7,8,9,10])\n",
    "print('Dimensions of a : ',a.size)\n",
    "b = np.array([[1,2,3,4,5],[6,7,8,9,10]])\n",
    "print('Dimensions of b : ',b.size)\n",
    "c = np.array([[[1,2,3]],[[4,5,6]],[[7,8,9]]])\n",
    "print('Dimension of c : ',c.size)"
   ]
  },
  {
   "cell_type": "code",
   "execution_count": 41,
   "id": "4e44fd9c-ce79-414e-a280-42aba97b5b17",
   "metadata": {},
   "outputs": [
    {
     "name": "stdout",
     "output_type": "stream",
     "text": [
      "int64\n"
     ]
    }
   ],
   "source": [
    "# ndarray.dtype\n",
    "a = np.array([0,1,2,3,4,5,6,7,8,9,10])\n",
    "print(a.dtype)"
   ]
  },
  {
   "cell_type": "code",
   "execution_count": 42,
   "id": "53830cf9-2f62-4599-a8a8-2d5d1a7b6500",
   "metadata": {},
   "outputs": [
    {
     "name": "stdout",
     "output_type": "stream",
     "text": [
      "int64\n"
     ]
    }
   ],
   "source": [
    "b = np.array([[1,2,3,4,5],[6,7,8,9,10]])\n",
    "print(b.dtype)"
   ]
  },
  {
   "cell_type": "code",
   "execution_count": 43,
   "id": "bb7afe9c-511c-42fe-8763-074d17b5cbab",
   "metadata": {},
   "outputs": [
    {
     "name": "stdout",
     "output_type": "stream",
     "text": [
      "int64\n"
     ]
    }
   ],
   "source": [
    "c = np.array([[[1,2,3]],[[4,5,6]],[[7,8,9]]])\n",
    "print(c.dtype)"
   ]
  },
  {
   "cell_type": "code",
   "execution_count": 45,
   "id": "6d6a2f5a-8812-4b76-9a10-02b3ae182faf",
   "metadata": {},
   "outputs": [
    {
     "name": "stdout",
     "output_type": "stream",
     "text": [
      "<U21\n"
     ]
    }
   ],
   "source": [
    "d = np.array([0,1,2,3,4,5,6,7,8,9,10,'abc'])\n",
    "print(d.dtype)"
   ]
  },
  {
   "cell_type": "code",
   "execution_count": 8,
   "id": "45ad3f75-6b9d-4ef2-9392-84fc67e027f8",
   "metadata": {},
   "outputs": [
    {
     "name": "stdout",
     "output_type": "stream",
     "text": [
      "[ 0  1  2  3  4  5  6  7  8  9 10]\n",
      "int64\n",
      "[ 0.  1.  2.  3.  4.  5.  6.  7.  8.  9. 10.]\n",
      "float64\n"
     ]
    }
   ],
   "source": [
    "# ndarray.astype\n",
    "a = np.array([0,1,2,3,4,5,6,7,8,9,10])\n",
    "print(a)\n",
    "print(a.dtype)\n",
    "\n",
    "a_type = a.astype('float64')\n",
    "print(a_type)\n",
    "print(a_type.dtype)"
   ]
  },
  {
   "cell_type": "code",
   "execution_count": 51,
   "id": "baa43af0-627b-4277-8e3e-af1e7fbfe84f",
   "metadata": {},
   "outputs": [
    {
     "name": "stdout",
     "output_type": "stream",
     "text": [
      "Size of each element of list in bytes :  152\n",
      "Size of whole elements of list in bytes :  1672\n",
      "Size of each element of array in bytes :  8\n",
      "Size of whole elements of array in bytes :  88\n"
     ]
    }
   ],
   "source": [
    "# Memory\n",
    "import numpy as np\n",
    "import sys\n",
    "# declaring a list of 10 elements\n",
    "a = [0,1,2,3,4,5,6,7,8,9,10] # list\n",
    "print('Size of each element of list in bytes : ',sys.getsizeof(a))\n",
    "print('Size of whole elements of list in bytes : ',sys.getsizeof(a)*len(a))\n",
    "# declaring a array of 10 elements\n",
    "a_array = np.array([0,1,2,3,4,5,6,7,8,9,10])\n",
    "print('Size of each element of array in bytes : ',a_array.itemsize)\n",
    "print('Size of whole elements of array in bytes : ',a_array.size*a_array.itemsize)"
   ]
  },
  {
   "cell_type": "code",
   "execution_count": 54,
   "id": "ed7218ef-af45-467a-8089-d8323173fe09",
   "metadata": {},
   "outputs": [
    {
     "name": "stdout",
     "output_type": "stream",
     "text": [
      "Time taken by lists to perform multiplication :  0.0020575523376464844 Seconds\n",
      "Time taken by Numpy Arrays to perform multiplication :  0.00010967254638671875 Seconds\n"
     ]
    }
   ],
   "source": [
    "# Performance\n",
    "import numpy as ab\n",
    "import time\n",
    "size = 10000 # size and list\n",
    "# declaring list\n",
    "list1 = range(size)\n",
    "list2 = range(size)\n",
    "# declaring array\n",
    "array1 = ab.arange(size)\n",
    "array2 = ab.arange(size)\n",
    "\n",
    "# capturing time before the multiplication of python lists\n",
    "initialTime = time.time()\n",
    "\n",
    "# multiplying elements of both the lists and stored in another list\n",
    "resultantList = [(a*b) for a,b in zip(list1,list2)]\n",
    "\n",
    "# Calculating execution time\n",
    "print('Time taken by lists to perform multiplication : ',(time.time()-initialTime),'Seconds')\n",
    "\n",
    "# capturing time before the multiplication of Numpy arrays\n",
    "initialTime = time.time()\n",
    "\n",
    "# multiplying elements of both the Numpy arrays and stored in another Numpy array\n",
    "resultantArray = array1*array2\n",
    "\n",
    "# calculating execution time\n",
    "print('Time taken by Numpy Arrays to perform multiplication : ',(time.time()-initialTime),'Seconds')"
   ]
  },
  {
   "cell_type": "code",
   "execution_count": 66,
   "id": "4a0d5e7b-7e0e-4340-b76c-8481427dc65c",
   "metadata": {},
   "outputs": [
    {
     "name": "stdout",
     "output_type": "stream",
     "text": [
      "[[0. 0. 0.]\n",
      " [0. 0. 0.]\n",
      " [0. 0. 0.]]\n",
      "[[0 0 0]\n",
      " [0 0 0]\n",
      " [0 0 0]\n",
      " [0 0 0]]\n"
     ]
    }
   ],
   "source": [
    "# Initialized\n",
    "import numpy as np\n",
    "zero_array = np.zeros((3,3))\n",
    "another_zero_array = np.zeros((4,3),dtype=int)\n",
    "print(zero_array)\n",
    "print(another_zero_array)"
   ]
  },
  {
   "cell_type": "code",
   "execution_count": 67,
   "id": "2c7d8cf7-4218-48ce-b555-3a4a5e0591ee",
   "metadata": {},
   "outputs": [
    {
     "name": "stdout",
     "output_type": "stream",
     "text": [
      "[[1. 1. 1.]\n",
      " [1. 1. 1.]\n",
      " [1. 1. 1.]]\n",
      "[[1 1 1]\n",
      " [1 1 1]\n",
      " [1 1 1]\n",
      " [1 1 1]]\n"
     ]
    }
   ],
   "source": [
    "ones_array = np.ones((3,3))\n",
    "another_ones_array = np.ones((4,3),dtype=int)\n",
    "print(ones_array)\n",
    "print(another_ones_array)"
   ]
  },
  {
   "cell_type": "code",
   "execution_count": 68,
   "id": "cf915bdb-0bbd-4193-9261-adfd1af3a843",
   "metadata": {},
   "outputs": [
    {
     "name": "stdout",
     "output_type": "stream",
     "text": [
      "[[30 30 30]\n",
      " [30 30 30]\n",
      " [30 30 30]]\n"
     ]
    }
   ],
   "source": [
    "a = np.full((3,3),30)\n",
    "print(a)"
   ]
  },
  {
   "cell_type": "code",
   "execution_count": 69,
   "id": "b42ca050-e8d2-4a69-897f-8b7c4f917f64",
   "metadata": {},
   "outputs": [
    {
     "name": "stdout",
     "output_type": "stream",
     "text": [
      "[[1. 0. 0. 0.]\n",
      " [0. 1. 0. 0.]\n",
      " [0. 0. 1. 0.]\n",
      " [0. 0. 0. 1.]]\n"
     ]
    }
   ],
   "source": [
    "a = np.identity(4)\n",
    "print(a)"
   ]
  },
  {
   "cell_type": "code",
   "execution_count": 78,
   "id": "d35d5586-81d6-43d5-9583-0643b8febd6e",
   "metadata": {},
   "outputs": [
    {
     "name": "stdout",
     "output_type": "stream",
     "text": [
      "[0 1 2 3 4 5 6]\n"
     ]
    }
   ],
   "source": [
    "# Array from numerical ranges\n",
    "array_with_range = np.arange(7)\n",
    "print(array_with_range)"
   ]
  },
  {
   "cell_type": "code",
   "execution_count": 79,
   "id": "0c1f86c6-93f1-4f7a-9925-f21393cf9bf7",
   "metadata": {},
   "outputs": [
    {
     "name": "stdout",
     "output_type": "stream",
     "text": [
      "[10 12 14 16 18]\n"
     ]
    }
   ],
   "source": [
    "array_with_range = np.arange(10,20,2)\n",
    "print(array_with_range)"
   ]
  },
  {
   "cell_type": "code",
   "execution_count": 85,
   "id": "e4aadc16-3afb-42c6-a2c9-618b5e17b373",
   "metadata": {},
   "outputs": [
    {
     "name": "stdout",
     "output_type": "stream",
     "text": [
      "[0 1 2 3 4 5 6 7 8 9]\n"
     ]
    }
   ],
   "source": [
    "array_range = np.arange(10)\n",
    "print(array_range)"
   ]
  },
  {
   "cell_type": "code",
   "execution_count": 89,
   "id": "9b7f50d3-b7e8-4185-97ec-b7f7944cb68f",
   "metadata": {},
   "outputs": [
    {
     "name": "stdout",
     "output_type": "stream",
     "text": [
      "[  5  10  15  20  25  30  35  40  45  50  55  60  65  70  75  80  85  90\n",
      "  95 100]\n"
     ]
    }
   ],
   "source": [
    "array_range = np.arange(5,105,5)\n",
    "print(array_range)"
   ]
  },
  {
   "cell_type": "code",
   "execution_count": 3,
   "id": "f1710c05-ba85-4930-b352-f5a76b7fd359",
   "metadata": {},
   "outputs": [
    {
     "name": "stdout",
     "output_type": "stream",
     "text": [
      "List converted into Array :  [1 2 3 4 5] Shapes :  (5,)\n"
     ]
    }
   ],
   "source": [
    "# Creating ndarray \n",
    "# convert list into array\n",
    "array_list = [1,2,3,4,5]\n",
    "convert_list_array = np.asarray(array_list)\n",
    "print('List converted into Array : ',convert_list_array,'Shapes : ',convert_list_array.shape)"
   ]
  },
  {
   "cell_type": "code",
   "execution_count": 96,
   "id": "62d57614-c663-4317-8a21-199c8e154584",
   "metadata": {},
   "outputs": [
    {
     "name": "stdout",
     "output_type": "stream",
     "text": [
      "Tuple converted into Array :  [1 2 3 4 5] Shapes :  (5,)\n"
     ]
    }
   ],
   "source": [
    "# convert tuple into array\n",
    "array_tuple = (1,2,3,4,5)\n",
    "convert_tuple_array = np.asarray(array_tuple)\n",
    "print('Tuple converted into Array : ',convert_tuple_array,'Shapes : ',convert_tuple_array.shape)"
   ]
  },
  {
   "cell_type": "code",
   "execution_count": 101,
   "id": "6cc9cc44-5ecf-480c-9424-06c4734c32ba",
   "metadata": {},
   "outputs": [
    {
     "name": "stdout",
     "output_type": "stream",
     "text": [
      "List converted into Array :  [1 2 3 4 5] Shapes :  (5,)\n",
      "Tuple converted into Array :  [1 2 3 4 5] Shapes :  (5,)\n"
     ]
    }
   ],
   "source": [
    "# Output\n",
    "print('List converted into Array : ',convert_list_array,'Shapes : ',convert_list_array.shape)\n",
    "print('Tuple converted into Array : ',convert_tuple_array,'Shapes : ',convert_tuple_array.shape)"
   ]
  },
  {
   "cell_type": "code",
   "execution_count": 113,
   "id": "f3dd4c38-caed-400c-925c-f953b669161c",
   "metadata": {},
   "outputs": [
    {
     "name": "stdout",
     "output_type": "stream",
     "text": [
      "[0 1 2 3 4 5 6 7 8 9]\n",
      "[2 3 4 5 6 7 8]\n"
     ]
    }
   ],
   "source": [
    "a = np.arange(10)\n",
    "print(a)\n",
    "print(a[2:9])"
   ]
  },
  {
   "cell_type": "code",
   "execution_count": 121,
   "id": "b649f2c6-9735-47ab-b574-153852003275",
   "metadata": {},
   "outputs": [
    {
     "name": "stdout",
     "output_type": "stream",
     "text": [
      "[0.34732429 0.38041604 0.39270227 0.94404438 0.58522352 0.43046205\n",
      " 0.54805702 0.49863859 0.31115125 0.04414498]\n"
     ]
    }
   ],
   "source": [
    "a = np.random.random(10) # range 0 to 1\n",
    "print(a)"
   ]
  },
  {
   "cell_type": "code",
   "execution_count": 124,
   "id": "dfa1417b-86d6-4556-9012-140bd3fa2a79",
   "metadata": {},
   "outputs": [
    {
     "name": "stdout",
     "output_type": "stream",
     "text": [
      "[0.34732429 0.39270227 0.58522352 0.54805702 0.31115125]\n"
     ]
    }
   ],
   "source": [
    "print(a[::2])"
   ]
  },
  {
   "cell_type": "code",
   "execution_count": 9,
   "id": "9408ecb9-9c75-4d5a-9ee1-ff8c1ac51366",
   "metadata": {},
   "outputs": [
    {
     "name": "stdout",
     "output_type": "stream",
     "text": [
      "Array :  [[1 2 3]\n",
      " [4 5 6]\n",
      " [7 8 9]]\n",
      "Shape : (3, 3)\n",
      "2\n",
      "1\n",
      "[[1 2 3]\n",
      " [4 5 6]]\n",
      "[[3]]\n"
     ]
    }
   ],
   "source": [
    "# 2-D Array\n",
    "a = np.array([[1,2,3],[4,5,6],[7,8,9]])\n",
    "print('Array : ',a)\n",
    "print('Shape :' ,a.shape)\n",
    "print(a[0,1])\n",
    "print(a[0,0])\n",
    "print(a[0:2])\n",
    "print(a[0:1,-1:])"
   ]
  },
  {
   "cell_type": "code",
   "execution_count": 134,
   "id": "e3577f7c-aa43-4d7e-b93f-2e12315d9077",
   "metadata": {},
   "outputs": [
    {
     "name": "stdout",
     "output_type": "stream",
     "text": [
      "Array :  [[[ 1  2]\n",
      "  [ 3  4]\n",
      "  [ 5  6]]\n",
      "\n",
      " [[ 7  8]\n",
      "  [ 9 10]\n",
      "  [11 12]]\n",
      "\n",
      " [[13 14]\n",
      "  [15 16]\n",
      "  [17 18]]]\n",
      "Shapes :  (3, 3, 2)\n",
      "Slicing :  [[[ 1  2]\n",
      "  [ 3  4]\n",
      "  [ 5  6]]\n",
      "\n",
      " [[ 7  8]\n",
      "  [ 9 10]\n",
      "  [11 12]]]\n",
      "[[ 3  4]\n",
      " [ 9 10]]\n",
      "[[[ 3  4]\n",
      "  [ 5  6]]\n",
      "\n",
      " [[ 9 10]\n",
      "  [11 12]]]\n",
      "[[ 4  6]\n",
      " [10 12]]\n",
      "[[[ 4]\n",
      "  [ 6]]\n",
      "\n",
      " [[10]\n",
      "  [12]]]\n"
     ]
    }
   ],
   "source": [
    "a = np.array([[[1,2],[3,4],[5,6]],\n",
    "              [[7,8],[9,10],[11,12]],\n",
    "              [[13,14],[15,16],[17,18]]])\n",
    "print('Array : ',a)\n",
    "print('Shapes : ',a.shape)\n",
    "print('Slicing : ',a[0:2])\n",
    "print(a[0:2,1])\n",
    "print(a[0:2,1:])\n",
    "print(a[0:2,1:,1])\n",
    "print(a[0:2,1:,1:])"
   ]
  },
  {
   "cell_type": "code",
   "execution_count": 135,
   "id": "2c52ef25-5095-42f6-89d0-477f39a0d8dc",
   "metadata": {},
   "outputs": [
    {
     "name": "stdout",
     "output_type": "stream",
     "text": [
      "[[[ 1 10]\n",
      "  [ 2 20]\n",
      "  [ 3 30]]\n",
      "\n",
      " [[ 4 40]\n",
      "  [ 5 50]\n",
      "  [ 6 60]]\n",
      "\n",
      " [[ 7 70]\n",
      "  [ 8 80]\n",
      "  [ 9 90]]]\n",
      "(3, 3, 2)\n"
     ]
    }
   ],
   "source": [
    "b = np.array([[[1,10],[2,20],[3,30]],\n",
    "              [[4,40],[5,50],[6,60]],\n",
    "              [[7,70],[8,80],[9,90]]])\n",
    "print(b)\n",
    "print(b.shape)\n"
   ]
  },
  {
   "cell_type": "code",
   "execution_count": 141,
   "id": "6d12f31f-4257-4c95-b722-28ad46c33520",
   "metadata": {},
   "outputs": [
    {
     "name": "stdout",
     "output_type": "stream",
     "text": [
      "[ 1 10] [ 2 20] [ 3 30]\n"
     ]
    }
   ],
   "source": [
    "print(b[0,0],b[0,1],b[0,2])"
   ]
  },
  {
   "cell_type": "code",
   "execution_count": 144,
   "id": "1e086931-68fe-43cf-a0da-3ac51bfc5553",
   "metadata": {},
   "outputs": [
    {
     "name": "stdout",
     "output_type": "stream",
     "text": [
      "[[ 2 20]\n",
      " [ 5 50]]\n"
     ]
    }
   ],
   "source": [
    "print(b[0:2,1])"
   ]
  },
  {
   "cell_type": "code",
   "execution_count": 10,
   "id": "bac46ae6-305b-4126-8238-4782e2edf049",
   "metadata": {},
   "outputs": [
    {
     "name": "stdout",
     "output_type": "stream",
     "text": [
      "The defined array is \n",
      " [[12 39]\n",
      " [26 27]\n",
      " [27 24]\n",
      " [43 17]\n",
      " [16 34]\n",
      " [16 22]\n",
      " [28 34]\n",
      " [36 19]]\n",
      "The defined array is \n",
      " (8, 2)\n"
     ]
    }
   ],
   "source": [
    "# Transpose\n",
    "# Create a 2 D array \n",
    "arravali = np.array(np.random.randint(10,45,(8,2)))\n",
    "print(f'The defined array is \\n {arravali}')\n",
    "print(f'The defined array is \\n {arravali.shape}')"
   ]
  },
  {
   "cell_type": "code",
   "execution_count": 12,
   "id": "52a73964-bb8f-49c7-b466-b8981a649be6",
   "metadata": {},
   "outputs": [
    {
     "name": "stdout",
     "output_type": "stream",
     "text": [
      "[[12 26 27 43 16 16 28 36]\n",
      " [39 27 24 17 34 22 34 19]]\n",
      "(2, 8)\n"
     ]
    }
   ],
   "source": [
    "x = np.transpose(arravali)\n",
    "print(x)\n",
    "print(x.shape)"
   ]
  },
  {
   "cell_type": "code",
   "execution_count": 15,
   "id": "98d9b593-395f-4372-a3e9-f7dce14d0d89",
   "metadata": {},
   "outputs": [
    {
     "name": "stdout",
     "output_type": "stream",
     "text": [
      "[[[ 6  6 23]\n",
      "  [12 20 24]\n",
      "  [19 15 13]\n",
      "  [ 5  5 11]\n",
      "  [22 10  9]\n",
      "  [23 10 21]]\n",
      "\n",
      " [[ 5 11 16]\n",
      "  [12 10 19]\n",
      "  [24  9 23]\n",
      "  [15 14 10]\n",
      "  [13  6 14]\n",
      "  [ 6 10  7]]]\n",
      "(2, 6, 3)\n"
     ]
    }
   ],
   "source": [
    "a = np.array(np.random.randint(5,25,(2,6,3)))\n",
    "print(a)\n",
    "print(a.shape)"
   ]
  },
  {
   "cell_type": "code",
   "execution_count": 16,
   "id": "67c7b718-181d-474f-81b5-4ef236eaafc8",
   "metadata": {},
   "outputs": [
    {
     "name": "stdout",
     "output_type": "stream",
     "text": [
      "[[[ 6  5]\n",
      "  [12 12]\n",
      "  [19 24]\n",
      "  [ 5 15]\n",
      "  [22 13]\n",
      "  [23  6]]\n",
      "\n",
      " [[ 6 11]\n",
      "  [20 10]\n",
      "  [15  9]\n",
      "  [ 5 14]\n",
      "  [10  6]\n",
      "  [10 10]]\n",
      "\n",
      " [[23 16]\n",
      "  [24 19]\n",
      "  [13 23]\n",
      "  [11 10]\n",
      "  [ 9 14]\n",
      "  [21  7]]]\n",
      "(3, 6, 2)\n"
     ]
    }
   ],
   "source": [
    "b = np.transpose(a)\n",
    "print(b)\n",
    "print(b.shape)"
   ]
  },
  {
   "cell_type": "code",
   "execution_count": 21,
   "id": "219c07a6-d60a-49df-94fd-7c16f1af7852",
   "metadata": {},
   "outputs": [
    {
     "name": "stdout",
     "output_type": "stream",
     "text": [
      "[[24 21]\n",
      " [20 21]\n",
      " [20 21]\n",
      " [13 10]]\n",
      "(4, 2)\n"
     ]
    }
   ],
   "source": [
    "Lr = np.array(np.random.randint(5,25,(4,2)))\n",
    "print(Lr)\n",
    "print(Lr.shape)"
   ]
  },
  {
   "cell_type": "code",
   "execution_count": 22,
   "id": "9e415814-0f26-4b89-bcb4-4c1e302fd57f",
   "metadata": {},
   "outputs": [
    {
     "name": "stdout",
     "output_type": "stream",
     "text": [
      "[[[24 21]\n",
      "  [20 21]]\n",
      "\n",
      " [[20 21]\n",
      "  [13 10]]]\n"
     ]
    }
   ],
   "source": [
    "Rr = (2,2,2)\n",
    "a = np.reshape(Lr,Rr)\n",
    "print(a)"
   ]
  },
  {
   "cell_type": "code",
   "execution_count": 24,
   "id": "8b89a1e5-5f9c-4029-9057-5f805a9f0e2b",
   "metadata": {},
   "outputs": [
    {
     "name": "stdout",
     "output_type": "stream",
     "text": [
      "[[[27 19]\n",
      "  [ 5 30]\n",
      "  [28 15]]\n",
      "\n",
      " [[12 16]\n",
      "  [10 32]\n",
      "  [34 20]]]\n",
      "(2, 3, 2)\n"
     ]
    }
   ],
   "source": [
    "vi = np.array(np.random.randint(5,35,(2,3,2)))\n",
    "print(vi)\n",
    "print(vi.shape)"
   ]
  },
  {
   "cell_type": "code",
   "execution_count": 31,
   "id": "03a1e120-e75b-449b-b902-3af67a09b55f",
   "metadata": {},
   "outputs": [
    {
     "name": "stdout",
     "output_type": "stream",
     "text": [
      "[[[27 19]\n",
      "  [ 5 30]]\n",
      "\n",
      " [[28 15]\n",
      "  [12 16]]\n",
      "\n",
      " [[10 32]\n",
      "  [34 20]]]\n",
      "\n",
      " (3, 2, 2)\n"
     ]
    }
   ],
   "source": [
    "Li = (3,2,2)\n",
    "shape = np.reshape(vi,Li)\n",
    "print(shape)\n",
    "print(f'\\n {shape.shape}')"
   ]
  },
  {
   "cell_type": "code",
   "execution_count": 36,
   "id": "cc68148e-bffd-477c-9033-304e9b985ded",
   "metadata": {},
   "outputs": [
    {
     "name": "stdout",
     "output_type": "stream",
     "text": [
      "[[[ 63  32  80  43  37  26  98  67]\n",
      "  [ 95  45  67  93  64  94  72  75]]\n",
      "\n",
      " [[ 87  71 100  71  43  47  27  38]\n",
      "  [ 65  58  31  96  76  10  15  21]]\n",
      "\n",
      " [[ 54  51  42  62  56  26 103  91]\n",
      "  [ 20  42  24  54  42  88  49  94]]]\n"
     ]
    }
   ],
   "source": [
    "# resize\n",
    "land = np.array(np.random.randint(5,105,(3,2,8))) # Total elements is 48\n",
    "print(land)"
   ]
  },
  {
   "cell_type": "code",
   "execution_count": 37,
   "id": "2858c75e-03f8-4c05-b0f6-04c36b23714d",
   "metadata": {},
   "outputs": [
    {
     "name": "stdout",
     "output_type": "stream",
     "text": [
      "[[[ 63  32  80  43  37  26  98  67  95  45]\n",
      "  [ 67  93  64  94  72  75  87  71 100  71]]\n",
      "\n",
      " [[ 43  47  27  38  65  58  31  96  76  10]\n",
      "  [ 15  21  54  51  42  62  56  26 103  91]]\n",
      "\n",
      " [[ 20  42  24  54  42  88  49  94  63  32]\n",
      "  [ 80  43  37  26  98  67  95  45  67  93]]\n",
      "\n",
      " [[ 64  94  72  75  87  71 100  71  43  47]\n",
      "  [ 27  38  65  58  31  96  76  10  15  21]]\n",
      "\n",
      " [[ 54  51  42  62  56  26 103  91  20  42]\n",
      "  [ 24  54  42  88  49  94  63  32  80  43]]]\n"
     ]
    }
   ],
   "source": [
    "plant = (5,2,10) # here the total elements is 100\n",
    "building = np.resize(land,plant)\n",
    "print(building)"
   ]
  },
  {
   "cell_type": "code",
   "execution_count": 39,
   "id": "4285bf1f-a0fd-454e-b69f-d2c66b393618",
   "metadata": {},
   "outputs": [
    {
     "name": "stdout",
     "output_type": "stream",
     "text": [
      "[[[ 79  98  62  60 101  53  45  17  28  28]\n",
      "  [ 49  24  93  96  59  41  42  91  40  81]]\n",
      "\n",
      " [[ 27  51  75  21  26  13  34  96  62  21]\n",
      "  [ 83  83  48  68  71  41  98  27  84  84]]\n",
      "\n",
      " [[ 97  19  64  99  89  11  28  67  55  30]\n",
      "  [  5  90  30  20  27  60  74  88  30  76]]\n",
      "\n",
      " [[ 80  51 102  60  77  67  15  98  28  90]\n",
      "  [ 34  13  77  33 101  69  57  43  19  21]]\n",
      "\n",
      " [[ 24  75  35  65  56  36 102  78  91  77]\n",
      "  [ 26  43  89  83 100  79   6  21  84  31]]]\n"
     ]
    }
   ],
   "source": [
    "# flatten\n",
    "land = np.array(np.random.randint(5,105,(5,2,10)))\n",
    "print(land)"
   ]
  },
  {
   "cell_type": "code",
   "execution_count": 43,
   "id": "933d84d6-2faf-46e3-abf1-1065cda0235c",
   "metadata": {},
   "outputs": [
    {
     "data": {
      "text/plain": [
       "array([ 79,  98,  62,  60, 101,  53,  45,  17,  28,  28,  49,  24,  93,\n",
       "        96,  59,  41,  42,  91,  40,  81,  27,  51,  75,  21,  26,  13,\n",
       "        34,  96,  62,  21,  83,  83,  48,  68,  71,  41,  98,  27,  84,\n",
       "        84,  97,  19,  64,  99,  89,  11,  28,  67,  55,  30,   5,  90,\n",
       "        30,  20,  27,  60,  74,  88,  30,  76,  80,  51, 102,  60,  77,\n",
       "        67,  15,  98,  28,  90,  34,  13,  77,  33, 101,  69,  57,  43,\n",
       "        19,  21,  24,  75,  35,  65,  56,  36, 102,  78,  91,  77,  26,\n",
       "        43,  89,  83, 100,  79,   6,  21,  84,  31], dtype=int32)"
      ]
     },
     "execution_count": 43,
     "metadata": {},
     "output_type": "execute_result"
    }
   ],
   "source": [
    "land.flatten()"
   ]
  },
  {
   "cell_type": "code",
   "execution_count": 45,
   "id": "7ba02630-3500-4c8a-9350-ded3c7ca9d60",
   "metadata": {},
   "outputs": [
    {
     "name": "stdout",
     "output_type": "stream",
     "text": [
      "[27 19  5 30 28 15 12 16 10 32 34 20]\n"
     ]
    }
   ],
   "source": [
    "print(shape.flatten())"
   ]
  },
  {
   "cell_type": "code",
   "execution_count": null,
   "id": "c5708e4d-c65b-4690-8d85-6ac6abcfc0e9",
   "metadata": {},
   "outputs": [],
   "source": [
    "a = np.array(np.random.randi)"
   ]
  }
 ],
 "metadata": {
  "kernelspec": {
   "display_name": "Python 3 (ipykernel)",
   "language": "python",
   "name": "python3"
  },
  "language_info": {
   "codemirror_mode": {
    "name": "ipython",
    "version": 3
   },
   "file_extension": ".py",
   "mimetype": "text/x-python",
   "name": "python",
   "nbconvert_exporter": "python",
   "pygments_lexer": "ipython3",
   "version": "3.13.5"
  }
 },
 "nbformat": 4,
 "nbformat_minor": 5
}
