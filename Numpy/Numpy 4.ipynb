{
 "cells": [
  {
   "cell_type": "code",
   "execution_count": 2,
   "id": "017835c6-7d8c-41f2-abbb-2b329847da41",
   "metadata": {},
   "outputs": [
    {
     "name": "stdout",
     "output_type": "stream",
     "text": [
      "[2 3 4 5]\n",
      "<class 'numpy.ndarray'>\n"
     ]
    }
   ],
   "source": [
    "import numpy as np\n",
    "a = np.array([2,3,4,5])\n",
    "print(a)\n",
    "print(type(a))"
   ]
  },
  {
   "cell_type": "code",
   "execution_count": 3,
   "id": "26af6b52-b0a8-4dd0-9c2b-25c5a7b5bc84",
   "metadata": {},
   "outputs": [
    {
     "data": {
      "text/plain": [
       "(4,)"
      ]
     },
     "execution_count": 3,
     "metadata": {},
     "output_type": "execute_result"
    }
   ],
   "source": [
    "a.shape"
   ]
  },
  {
   "cell_type": "code",
   "execution_count": 4,
   "id": "e14d18a6-b791-4593-a51f-e84bf59c29b7",
   "metadata": {},
   "outputs": [
    {
     "name": "stdout",
     "output_type": "stream",
     "text": [
      "[[1 2 3]\n",
      " [4 5 6]]\n",
      "(2, 3)\n"
     ]
    }
   ],
   "source": [
    "a = np.array([[1,2,3],[4,5,6]])\n",
    "print(a)\n",
    "print(a.shape)"
   ]
  },
  {
   "cell_type": "code",
   "execution_count": 5,
   "id": "d9b7c19c-7eda-4f24-8bbf-b106d1dc0ee5",
   "metadata": {},
   "outputs": [
    {
     "name": "stdout",
     "output_type": "stream",
     "text": [
      "[[[1 2 3]\n",
      "  [4 5 6]]\n",
      "\n",
      " [[7 8 9]\n",
      "  [1 2 3]]]\n"
     ]
    },
    {
     "data": {
      "text/plain": [
       "(2, 2, 3)"
      ]
     },
     "execution_count": 5,
     "metadata": {},
     "output_type": "execute_result"
    }
   ],
   "source": [
    "a = np.array([[[1,2,3],[4,5,6]],\n",
    "              [[7,8,9],[1,2,3]]])\n",
    "print(a)\n",
    "a.shape"
   ]
  },
  {
   "cell_type": "code",
   "execution_count": 6,
   "id": "709ff499-91ca-45a5-bf76-be654795c8f6",
   "metadata": {},
   "outputs": [
    {
     "name": "stdout",
     "output_type": "stream",
     "text": [
      "[[[[11  3  4  2  7]\n",
      "   [ 5 15 19  1  1]\n",
      "   [ 8 15 19  4  8]\n",
      "   [ 4  1  6 19  2]]\n",
      "\n",
      "  [[ 7 18 10 15  3]\n",
      "   [13  9 19 13  1]\n",
      "   [10 19 19 10  2]\n",
      "   [12 15  3 11 10]]\n",
      "\n",
      "  [[10  8 15  1 13]\n",
      "   [ 7  1  3 14 18]\n",
      "   [ 3 15 14 17  5]\n",
      "   [15 16  9 11 13]]]\n",
      "\n",
      "\n",
      " [[[11 18  3  3 13]\n",
      "   [ 5  2 12 10 14]\n",
      "   [ 1  8 15  2  6]\n",
      "   [16  6 16 16  4]]\n",
      "\n",
      "  [[ 4 16  9 19 15]\n",
      "   [ 3  3  9 16  1]\n",
      "   [17  8 15  4  1]\n",
      "   [16 13 10 19  9]]\n",
      "\n",
      "  [[ 8  9 13 11 15]\n",
      "   [ 1 19  7  9 15]\n",
      "   [ 6  3  6  6  1]\n",
      "   [19  2  5  8 14]]]]\n"
     ]
    }
   ],
   "source": [
    "a = np.array(np.random.randint(1,20,size=(2,3,4,5)))\n",
    "print(a)"
   ]
  },
  {
   "cell_type": "code",
   "execution_count": 7,
   "id": "4194c30e-870d-47b7-9b65-7320d514f0c5",
   "metadata": {},
   "outputs": [
    {
     "name": "stdout",
     "output_type": "stream",
     "text": [
      "[1, 2, 3, 4, 5, 1, 2, 3, 4, 5]\n",
      "[ 2  4  6  8 10]\n"
     ]
    }
   ],
   "source": [
    "a_list = [1,2,3,4,5]\n",
    "print(a_list*2)\n",
    "a_array = np.array([1,2,3,4,5])\n",
    "print(a_array*2)"
   ]
  },
  {
   "cell_type": "code",
   "execution_count": 8,
   "id": "dff0966e-8c1f-4f53-b902-49ce5c84d6f4",
   "metadata": {},
   "outputs": [
    {
     "name": "stdout",
     "output_type": "stream",
     "text": [
      "1\n",
      "5\n"
     ]
    }
   ],
   "source": [
    "print(a_array.ndim)\n",
    "print(a_array.size)"
   ]
  },
  {
   "cell_type": "code",
   "execution_count": 9,
   "id": "20c624a8-0c30-414d-8eb3-122c55a47d01",
   "metadata": {},
   "outputs": [
    {
     "data": {
      "text/plain": [
       "dtype('int32')"
      ]
     },
     "execution_count": 9,
     "metadata": {},
     "output_type": "execute_result"
    }
   ],
   "source": [
    "a.dtype"
   ]
  },
  {
   "cell_type": "code",
   "execution_count": 10,
   "id": "ff1b638c-690b-40e2-bff8-b899aa30c786",
   "metadata": {},
   "outputs": [
    {
     "name": "stdout",
     "output_type": "stream",
     "text": [
      "[ 1  2  3  4  5  6  7  8  9 10]\n",
      "[ 1.  2.  3.  4.  5.  6.  7.  8.  9. 10.]\n"
     ]
    }
   ],
   "source": [
    "a = np.array([1,2,3,4,5,6,7,8,9,10])\n",
    "print(a)\n",
    "b = a.astype('float64')\n",
    "print(b)"
   ]
  },
  {
   "cell_type": "code",
   "execution_count": 11,
   "id": "0b4941f8-e3ef-4c8b-89d9-99cd70fa8b60",
   "metadata": {},
   "outputs": [
    {
     "name": "stdout",
     "output_type": "stream",
     "text": [
      "104\n",
      "624\n"
     ]
    }
   ],
   "source": [
    "import sys\n",
    "# List\n",
    "a = [1,2,3,4,5,6]\n",
    "print(sys.getsizeof(a))\n",
    "print(sys.getsizeof(a)*len(a))"
   ]
  },
  {
   "cell_type": "code",
   "execution_count": 12,
   "id": "f9e40bcf-9838-422f-8393-35637a48b179",
   "metadata": {},
   "outputs": [
    {
     "name": "stdout",
     "output_type": "stream",
     "text": [
      "8\n",
      "48\n"
     ]
    }
   ],
   "source": [
    "# Array\n",
    "a = np.array([1,2,3,4,5,6])\n",
    "print(a.itemsize)\n",
    "print(a.size*a.itemsize)"
   ]
  },
  {
   "cell_type": "code",
   "execution_count": 13,
   "id": "8c6d7387-8656-44a5-915d-b99310e352bf",
   "metadata": {},
   "outputs": [
    {
     "data": {
      "text/plain": [
       "array([[0., 0., 0., 0.],\n",
       "       [0., 0., 0., 0.],\n",
       "       [0., 0., 0., 0.]])"
      ]
     },
     "execution_count": 13,
     "metadata": {},
     "output_type": "execute_result"
    }
   ],
   "source": [
    "zero = np.zeros((3,4))\n",
    "zero"
   ]
  },
  {
   "cell_type": "code",
   "execution_count": 14,
   "id": "35fa5c65-b417-44b2-ad5c-aef82025b8fb",
   "metadata": {},
   "outputs": [
    {
     "data": {
      "text/plain": [
       "array([[1, 1, 1, 1],\n",
       "       [1, 1, 1, 1],\n",
       "       [1, 1, 1, 1]])"
      ]
     },
     "execution_count": 14,
     "metadata": {},
     "output_type": "execute_result"
    }
   ],
   "source": [
    "ones = np.ones((3,4),dtype=int)\n",
    "ones"
   ]
  },
  {
   "cell_type": "code",
   "execution_count": 15,
   "id": "2e39d4d2-d580-4b3b-ad52-db86c690dfe4",
   "metadata": {},
   "outputs": [
    {
     "data": {
      "text/plain": [
       "array([[24, 24, 24],\n",
       "       [24, 24, 24],\n",
       "       [24, 24, 24]])"
      ]
     },
     "execution_count": 15,
     "metadata": {},
     "output_type": "execute_result"
    }
   ],
   "source": [
    "b = np.full((3,3),24)\n",
    "b"
   ]
  },
  {
   "cell_type": "code",
   "execution_count": 16,
   "id": "72e691dc-48ad-4124-b94e-41669adaf3e1",
   "metadata": {},
   "outputs": [
    {
     "data": {
      "text/plain": [
       "array([[1., 0., 0., 0.],\n",
       "       [0., 1., 0., 0.],\n",
       "       [0., 0., 1., 0.],\n",
       "       [0., 0., 0., 1.]])"
      ]
     },
     "execution_count": 16,
     "metadata": {},
     "output_type": "execute_result"
    }
   ],
   "source": [
    "b = np.identity(4)\n",
    "b"
   ]
  },
  {
   "cell_type": "code",
   "execution_count": 17,
   "id": "5d7a3320-d5e3-4ddc-9036-be8d86137229",
   "metadata": {},
   "outputs": [
    {
     "name": "stdout",
     "output_type": "stream",
     "text": [
      "[0 1 2 3 4 5 6]\n"
     ]
    }
   ],
   "source": [
    "c = np.arange(7)\n",
    "print(c)"
   ]
  },
  {
   "cell_type": "code",
   "execution_count": 18,
   "id": "d2be2818-e8e3-47da-9f73-402b755e7088",
   "metadata": {},
   "outputs": [
    {
     "data": {
      "text/plain": [
       "array([1, 2, 3, 4, 5, 6])"
      ]
     },
     "execution_count": 18,
     "metadata": {},
     "output_type": "execute_result"
    }
   ],
   "source": [
    "list1 = [1,2,3,4,5,6]\n",
    "converted = np.asarray(list1)\n",
    "converted"
   ]
  },
  {
   "cell_type": "code",
   "execution_count": 19,
   "id": "79fc2763-c38a-46aa-b065-0774fdc4ed65",
   "metadata": {},
   "outputs": [
    {
     "name": "stdout",
     "output_type": "stream",
     "text": [
      "[0 1 2 3 4 5 6 7 8 9]\n",
      "[2 3 4 5 6 7]\n",
      "[9 8 7 6 5 4 3 2 1 0]\n"
     ]
    }
   ],
   "source": [
    "a = np.arange(10)\n",
    "print(a)\n",
    "print(a[2:8])\n",
    "print(a[::-1])"
   ]
  },
  {
   "cell_type": "code",
   "execution_count": 20,
   "id": "35a71f9c-c6d7-466c-9210-28ce06ffa808",
   "metadata": {},
   "outputs": [
    {
     "data": {
      "text/plain": [
       "array([9.88538289e-03, 1.35327897e-04, 3.87843124e-01, 8.86519588e-01,\n",
       "       1.90591095e-01, 4.16244574e-01, 7.80753034e-02, 8.41754714e-01,\n",
       "       9.52076148e-01, 8.54816455e-01])"
      ]
     },
     "execution_count": 20,
     "metadata": {},
     "output_type": "execute_result"
    }
   ],
   "source": [
    "a = np.random.random(10)\n",
    "a"
   ]
  },
  {
   "cell_type": "code",
   "execution_count": 21,
   "id": "7fe33f45-e46a-42c5-b0cb-0a1093c88099",
   "metadata": {},
   "outputs": [
    {
     "data": {
      "text/plain": [
       "array([[1, 6, 4, 9]], dtype=int32)"
      ]
     },
     "execution_count": 21,
     "metadata": {},
     "output_type": "execute_result"
    }
   ],
   "source": [
    "a = np.random.randint(10,size=(1,4))\n",
    "a"
   ]
  },
  {
   "cell_type": "code",
   "execution_count": 22,
   "id": "52153fc2-e9c1-4101-ad35-71c44906d59f",
   "metadata": {},
   "outputs": [
    {
     "name": "stdout",
     "output_type": "stream",
     "text": [
      "[[13 26]\n",
      " [33 32]\n",
      " [37 33]\n",
      " [28 18]\n",
      " [20 27]\n",
      " [32 38]\n",
      " [43 29]\n",
      " [24 35]]\n",
      "[[13 33 37 28 20 32 43 24]\n",
      " [26 32 33 18 27 38 29 35]]\n"
     ]
    }
   ],
   "source": [
    "arravali = np.array(np.random.randint(10,45,(8,2)))\n",
    "print(arravali)\n",
    "x = np.transpose(arravali)\n",
    "print(x)"
   ]
  },
  {
   "cell_type": "code",
   "execution_count": 23,
   "id": "9a35a698-af90-4772-aba5-d006215661f9",
   "metadata": {},
   "outputs": [
    {
     "name": "stdout",
     "output_type": "stream",
     "text": [
      "[13 33 37 28 20 32 43 24 26 32 33 18 27 38 29 35]\n"
     ]
    }
   ],
   "source": [
    "print(x.flatten())"
   ]
  },
  {
   "cell_type": "code",
   "execution_count": 24,
   "id": "6f97113c-7cfb-42f7-b3b6-b4ac861eaca8",
   "metadata": {},
   "outputs": [
    {
     "name": "stdout",
     "output_type": "stream",
     "text": [
      "[[1 6 5 5 5]\n",
      " [2 4 7 0 1]]\n"
     ]
    }
   ],
   "source": [
    "x = np.array(np.random.randint(10,size=(2,5)))\n",
    "print(x)"
   ]
  },
  {
   "cell_type": "code",
   "execution_count": 25,
   "id": "bb2e5495-5316-4946-8da0-a41c09218727",
   "metadata": {},
   "outputs": [
    {
     "name": "stdout",
     "output_type": "stream",
     "text": [
      "[[1 6]\n",
      " [5 5]\n",
      " [5 2]\n",
      " [4 7]\n",
      " [0 1]]\n"
     ]
    }
   ],
   "source": [
    "print(x.reshape(5,2))"
   ]
  },
  {
   "cell_type": "code",
   "execution_count": 26,
   "id": "633a443b-4960-4254-81b0-f74249f22cf5",
   "metadata": {},
   "outputs": [
    {
     "name": "stdout",
     "output_type": "stream",
     "text": [
      "[[7 3 2 3 1]\n",
      " [2 1 0 2 4]]\n"
     ]
    }
   ],
   "source": [
    "land = np.array(np.random.randint(10,size=(2,5)))\n",
    "print(land)"
   ]
  },
  {
   "cell_type": "code",
   "execution_count": 27,
   "id": "ee1dba6a-2bf2-4902-98c7-f1e589760575",
   "metadata": {},
   "outputs": [
    {
     "name": "stdout",
     "output_type": "stream",
     "text": [
      "[[[7 3 2 3 1]\n",
      "  [2 1 0 2 4]]\n",
      "\n",
      " [[7 3 2 3 1]\n",
      "  [2 1 0 2 4]]\n",
      "\n",
      " [[7 3 2 3 1]\n",
      "  [2 1 0 2 4]]]\n"
     ]
    }
   ],
   "source": [
    "plant = (3,2,5)\n",
    "b = np.resize(land,plant)\n",
    "print(b)"
   ]
  },
  {
   "cell_type": "code",
   "execution_count": 28,
   "id": "63c93240-230b-4460-bc09-a5d6307ca1b5",
   "metadata": {},
   "outputs": [
    {
     "name": "stdout",
     "output_type": "stream",
     "text": [
      "[7 3 2 3 1 2 1 0 2 4 7 3 2 3 1 2 1 0 2 4 7 3 2 3 1 2 1 0 2 4]\n"
     ]
    }
   ],
   "source": [
    "print(b.flatten())"
   ]
  },
  {
   "cell_type": "code",
   "execution_count": null,
   "id": "289b3236-025f-4617-b1fa-bc0616e8a3c0",
   "metadata": {},
   "outputs": [],
   "source": []
  }
 ],
 "metadata": {
  "kernelspec": {
   "display_name": "Python 3 (ipykernel)",
   "language": "python",
   "name": "python3"
  },
  "language_info": {
   "codemirror_mode": {
    "name": "ipython",
    "version": 3
   },
   "file_extension": ".py",
   "mimetype": "text/x-python",
   "name": "python",
   "nbconvert_exporter": "python",
   "pygments_lexer": "ipython3",
   "version": "3.13.5"
  }
 },
 "nbformat": 4,
 "nbformat_minor": 5
}
