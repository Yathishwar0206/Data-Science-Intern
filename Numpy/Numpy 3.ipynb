{
 "cells": [
  {
   "cell_type": "code",
   "execution_count": 2,
   "id": "ccafc082-d0fb-4ec7-b996-48a9155489e2",
   "metadata": {},
   "outputs": [
    {
     "name": "stdout",
     "output_type": "stream",
     "text": [
      "[ 1  2  3  4  5  6  7  8  9 10]\n",
      "(10,)\n"
     ]
    }
   ],
   "source": [
    "# Numpy\n",
    "import numpy as ak\n",
    "numbers = ak.array(ak.arange(1,11))\n",
    "print(numbers)\n",
    "print(numbers.shape)"
   ]
  },
  {
   "cell_type": "code",
   "execution_count": 5,
   "id": "4003a4a9-7921-4b36-b06d-e4f3f465c1e2",
   "metadata": {},
   "outputs": [
    {
     "name": "stdout",
     "output_type": "stream",
     "text": [
      "[0 0 0 0 0]\n"
     ]
    }
   ],
   "source": [
    "zero = ak.zeros(5,dtype=int)\n",
    "print(zero)"
   ]
  },
  {
   "cell_type": "code",
   "execution_count": 13,
   "id": "d970a503-2be1-4097-824a-31ecafba4d57",
   "metadata": {},
   "outputs": [
    {
     "name": "stdout",
     "output_type": "stream",
     "text": [
      "[[1 1 1 1]\n",
      " [1 1 1 1]\n",
      " [1 1 1 1]\n",
      " [1 1 1 1]]\n"
     ]
    }
   ],
   "source": [
    "number = ak.ones((4,4),dtype=int)\n",
    "print(number)"
   ]
  },
  {
   "cell_type": "code",
   "execution_count": 18,
   "id": "276731c5-2a6a-4c75-8928-5269004761ea",
   "metadata": {},
   "outputs": [
    {
     "name": "stdout",
     "output_type": "stream",
     "text": [
      "even_numbers are [ 2  4  6  8 10 12 14 16 18 20]\n"
     ]
    }
   ],
   "source": [
    "even_number = ak.arange(21)\n",
    "print(f'even_numbers are {even_number[2:21:2]}')"
   ]
  },
  {
   "cell_type": "code",
   "execution_count": 21,
   "id": "e4eb50e6-78f5-41d7-9353-7ebf7510ff42",
   "metadata": {},
   "outputs": [
    {
     "name": "stdout",
     "output_type": "stream",
     "text": [
      " Array values of 5 steps : [ 5 10 15 20 25 30 35 40 45]\n"
     ]
    }
   ],
   "source": [
    "values = ak.arange(5,50,5)\n",
    "print(f' Array values of 5 steps : {values}')"
   ]
  },
  {
   "cell_type": "code",
   "execution_count": 23,
   "id": "db600fe8-7bfb-451a-a4c7-82bd21d82905",
   "metadata": {},
   "outputs": [
    {
     "name": "stdout",
     "output_type": "stream",
     "text": [
      "Multiply the 1,2,3 with 3 is the answer is [3 6 9]\n"
     ]
    }
   ],
   "source": [
    "multiply = ak.array([1,2,3])*3\n",
    "print(f'Multiply the 1,2,3 with 3 is the answer is {multiply}')"
   ]
  },
  {
   "cell_type": "code",
   "execution_count": 24,
   "id": "cdacbe92-2d1a-43ae-b6d0-87884b6bc87d",
   "metadata": {},
   "outputs": [
    {
     "name": "stdout",
     "output_type": "stream",
     "text": [
      "Sum :  [50 70 90]\n"
     ]
    }
   ],
   "source": [
    "a = ak.array([10,20,30])\n",
    "b = ak.array([40,50,60])\n",
    "print('Sum : ',a+b)"
   ]
  },
  {
   "cell_type": "code",
   "execution_count": 29,
   "id": "9de11650-428c-423b-b2a8-85006cc6b56e",
   "metadata": {},
   "outputs": [
    {
     "name": "stdout",
     "output_type": "stream",
     "text": [
      "25.0\n"
     ]
    }
   ],
   "source": [
    "a = ak.array([10,20,30,40])\n",
    "print(a.mean())"
   ]
  },
  {
   "cell_type": "code",
   "execution_count": 30,
   "id": "85000115-3af7-4d2e-b14b-fea2ca731681",
   "metadata": {},
   "outputs": [
    {
     "name": "stdout",
     "output_type": "stream",
     "text": [
      "[2. 3. 4. 5.]\n"
     ]
    }
   ],
   "source": [
    "b = ak.array([4,9,16,25])\n",
    "print(ak.sqrt(b))"
   ]
  },
  {
   "cell_type": "code",
   "execution_count": 32,
   "id": "8a136772-f79b-4ad1-9a66-86bd348323b9",
   "metadata": {},
   "outputs": [
    {
     "name": "stdout",
     "output_type": "stream",
     "text": [
      "Sum :  2.211407175227124\n"
     ]
    }
   ],
   "source": [
    "c = ak.array(ak.random.random(5))\n",
    "print('Sum : ',ak.sum(c))"
   ]
  },
  {
   "cell_type": "code",
   "execution_count": 34,
   "id": "e9fb3982-1978-4263-bedc-f66d3662b4ee",
   "metadata": {},
   "outputs": [
    {
     "name": "stdout",
     "output_type": "stream",
     "text": [
      "First 5 element :  [1 2 3 4 5]\n"
     ]
    }
   ],
   "source": [
    "abc = ak.array(ak.arange(1,10))\n",
    "print('First 5 element : ',abc[:5])"
   ]
  },
  {
   "cell_type": "code",
   "execution_count": 36,
   "id": "29d8b7b0-33d2-4146-9b4e-88114ef7961e",
   "metadata": {},
   "outputs": [
    {
     "name": "stdout",
     "output_type": "stream",
     "text": [
      "Last two elements :  [40 50]\n"
     ]
    }
   ],
   "source": [
    "abc = ak.array([10,20,30,40,50])\n",
    "print('Last two elements : ',abc[3:])"
   ]
  },
  {
   "cell_type": "code",
   "execution_count": 38,
   "id": "84c24494-4850-4aa0-8337-ddef22694355",
   "metadata": {},
   "outputs": [
    {
     "name": "stdout",
     "output_type": "stream",
     "text": [
      "The 3rd element is changed as :  [ 1  2 99  4  5]\n"
     ]
    }
   ],
   "source": [
    "xyz = ak.array([1,2,3,4,5])\n",
    "xyz[2] = 99\n",
    "print('The 3rd element is changed as : ',xyz)"
   ]
  },
  {
   "cell_type": "code",
   "execution_count": 39,
   "id": "3866e230-f4c2-4723-97d6-38c95da2e4e8",
   "metadata": {},
   "outputs": [
    {
     "name": "stdout",
     "output_type": "stream",
     "text": [
      "[[ 8 21 26]\n",
      " [14  7 16]\n",
      " [28 18 18]]\n"
     ]
    }
   ],
   "source": [
    "xyz = ak.array(ak.random.randint(5,30,(3,3)))\n",
    "print(xyz)"
   ]
  },
  {
   "cell_type": "code",
   "execution_count": 40,
   "id": "aafb1798-e034-4d84-b93b-cda8c654f63a",
   "metadata": {},
   "outputs": [
    {
     "name": "stdout",
     "output_type": "stream",
     "text": [
      "[[ 8 21 26]\n",
      " [14  7 16]]\n"
     ]
    }
   ],
   "source": [
    "xyz.resize(2,3)\n",
    "print(xyz)"
   ]
  },
  {
   "cell_type": "code",
   "execution_count": 41,
   "id": "799e7683-45d0-40c3-b29d-86e89850cdc9",
   "metadata": {},
   "outputs": [
    {
     "name": "stdout",
     "output_type": "stream",
     "text": [
      " Reverse [50 40 30 20 10]\n"
     ]
    }
   ],
   "source": [
    "kj = ak.array([10,20,30,40,50])\n",
    "print(f' Reverse {kj[::-1]}')"
   ]
  },
  {
   "cell_type": "code",
   "execution_count": 49,
   "id": "b1bc57c5-64a7-458b-93e8-0e74c127527c",
   "metadata": {},
   "outputs": [
    {
     "name": "stdout",
     "output_type": "stream",
     "text": [
      "[ 6 48 56 34 42]\n"
     ]
    }
   ],
   "source": [
    "jk = ak.array(ak.random.randint(1,100,(5,)))\n",
    "print(jk)"
   ]
  },
  {
   "cell_type": "code",
   "execution_count": 53,
   "id": "eb4a47bc-d01c-4f17-be1e-3124c59adb48",
   "metadata": {},
   "outputs": [
    {
     "name": "stdout",
     "output_type": "stream",
     "text": [
      "[[ 3 14  4]\n",
      " [16 19 14]\n",
      " [22 19  6]]\n"
     ]
    }
   ],
   "source": [
    "ji = ak.array(ak.random.randint(1,25,(3,3)))\n",
    "print(ji)"
   ]
  },
  {
   "cell_type": "code",
   "execution_count": 77,
   "id": "9d9fd077-eee5-466b-89b9-f4fcd311d170",
   "metadata": {},
   "outputs": [
    {
     "name": "stdout",
     "output_type": "stream",
     "text": [
      "1\n"
     ]
    }
   ],
   "source": [
    "ji = ak.array(ak.random.randint(5))\n",
    "print(ji)"
   ]
  },
  {
   "cell_type": "code",
   "execution_count": 4,
   "id": "e84f10c0-ed20-4ca3-a558-64876bb859fe",
   "metadata": {},
   "outputs": [
    {
     "name": "stdout",
     "output_type": "stream",
     "text": [
      "[0.79802481 0.02267241 0.92920355 0.0958657  0.006762   0.89499388\n",
      " 0.45102849 0.61287901 0.43322264 0.33112964]\n"
     ]
    }
   ],
   "source": [
    "gk = ak.array(ak.random.random(10))\n",
    "print(gk)"
   ]
  },
  {
   "cell_type": "code",
   "execution_count": 94,
   "id": "25ce8fb8-1c19-4c2e-aabc-a35487e7a299",
   "metadata": {},
   "outputs": [
    {
     "name": "stdout",
     "output_type": "stream",
     "text": [
      "[[12  4]\n",
      " [ 9 22]\n",
      " [23 13]]\n"
     ]
    }
   ],
   "source": [
    "abc = ak.array(ak.random.randint(1,25,(3,2)))\n",
    "print(abc)"
   ]
  },
  {
   "cell_type": "code",
   "execution_count": 95,
   "id": "1b823878-ad85-434f-a291-c3d83c7acc79",
   "metadata": {},
   "outputs": [
    {
     "name": "stdout",
     "output_type": "stream",
     "text": [
      "[[12  9 23]\n",
      " [ 4 22 13]]\n"
     ]
    }
   ],
   "source": [
    "print(abc.transpose())"
   ]
  },
  {
   "cell_type": "code",
   "execution_count": 96,
   "id": "94007926-2f56-44be-97d1-14fd79b96b80",
   "metadata": {},
   "outputs": [
    {
     "name": "stdout",
     "output_type": "stream",
     "text": [
      "[ 1  2  3  4  5  6  7  8  9 10 11 12]\n",
      "(12,)\n"
     ]
    }
   ],
   "source": [
    "abc = ak.array([1,2,3,4,5,6,7,8,9,10,11,12])\n",
    "print(abc)\n",
    "print(abc.shape)"
   ]
  },
  {
   "cell_type": "code",
   "execution_count": 98,
   "id": "2a61137a-fa8b-4fc7-a32c-d56717ed8e5b",
   "metadata": {},
   "outputs": [
    {
     "name": "stdout",
     "output_type": "stream",
     "text": [
      "[[ 1  2  3  4]\n",
      " [ 5  6  7  8]\n",
      " [ 9 10 11 12]]\n"
     ]
    }
   ],
   "source": [
    "print(abc.reshape(3,4))"
   ]
  },
  {
   "cell_type": "code",
   "execution_count": 99,
   "id": "466eeaf2-98e6-46b2-9392-21042249b0a1",
   "metadata": {},
   "outputs": [
    {
     "name": "stdout",
     "output_type": "stream",
     "text": [
      "[[ 1  2]\n",
      " [ 3  4]\n",
      " [ 5  6]\n",
      " [ 7  8]\n",
      " [ 9 10]\n",
      " [11 12]]\n"
     ]
    }
   ],
   "source": [
    "print(abc.reshape(6,2))"
   ]
  },
  {
   "cell_type": "code",
   "execution_count": 101,
   "id": "695630b9-7430-4acd-9d70-bfb89f27373e",
   "metadata": {},
   "outputs": [
    {
     "name": "stdout",
     "output_type": "stream",
     "text": [
      "[[ 1  2  3  4  5  6  7  8  9 10 11 12]]\n"
     ]
    }
   ],
   "source": [
    "print(abc.reshape(1,12))"
   ]
  },
  {
   "cell_type": "code",
   "execution_count": 102,
   "id": "d7ce097b-5bb0-4927-bdb6-23524dafdcf4",
   "metadata": {},
   "outputs": [
    {
     "name": "stdout",
     "output_type": "stream",
     "text": [
      "[[1 7]\n",
      " [9 3]\n",
      " [4 8]\n",
      " [2 1]\n",
      " [1 9]]\n"
     ]
    }
   ],
   "source": [
    "abc = ak.array(ak.random.randint(1,11,(5,2)))\n",
    "print(abc)"
   ]
  },
  {
   "cell_type": "code",
   "execution_count": 108,
   "id": "b75351a7-dbf6-4f12-8024-6658bc3f467f",
   "metadata": {},
   "outputs": [
    {
     "name": "stdout",
     "output_type": "stream",
     "text": [
      "[1 7 9 3 4]\n"
     ]
    }
   ],
   "source": [
    "print(abc.flatten())"
   ]
  },
  {
   "cell_type": "code",
   "execution_count": 116,
   "id": "ea3bf311-5df7-4149-a0ba-cacdfae14cba",
   "metadata": {},
   "outputs": [
    {
     "name": "stdout",
     "output_type": "stream",
     "text": [
      "[0.45055841 0.52254116 0.14133403 0.39132041 0.25866844 0.02016011\n",
      " 0.02813822 0.64354152 0.83125704 0.89061164]\n"
     ]
    }
   ],
   "source": [
    "arr = ak.random.uniform(0,1,10)\n",
    "print(arr)"
   ]
  },
  {
   "cell_type": "code",
   "execution_count": 127,
   "id": "566323cd-2e69-4553-8d32-c1823d793a17",
   "metadata": {},
   "outputs": [
    {
     "name": "stdout",
     "output_type": "stream",
     "text": [
      "[0.48887018 0.75584154 0.19127499 0.3507648  0.03035833 0.79791612\n",
      " 0.73434748 0.12960757 0.22423501 0.1528964 ]\n"
     ]
    }
   ],
   "source": [
    "arr = ak.random.rand(10)*1\n",
    "print(arr)"
   ]
  },
  {
   "cell_type": "code",
   "execution_count": 133,
   "id": "a49ce9e4-f470-47fd-880f-9f8f5477dafc",
   "metadata": {},
   "outputs": [
    {
     "name": "stdout",
     "output_type": "stream",
     "text": [
      "[3 2 1 5 4]\n"
     ]
    }
   ],
   "source": [
    "abc = ak.array([1,2,3,4,5])\n",
    "ak.random.shuffle(abc)\n",
    "print(abc)"
   ]
  },
  {
   "cell_type": "code",
   "execution_count": 135,
   "id": "bc107292-c720-460a-be77-d915add19c8b",
   "metadata": {},
   "outputs": [
    {
     "name": "stdout",
     "output_type": "stream",
     "text": [
      "[1 2 3 4 5] (5,)\n"
     ]
    }
   ],
   "source": [
    "abcd = ak.array([1,2,3,4,5])\n",
    "print(abcd,abcd.shape)"
   ]
  },
  {
   "cell_type": "code",
   "execution_count": 154,
   "id": "1f2c91b6-fd99-4b24-9fcf-a5e77082404f",
   "metadata": {},
   "outputs": [
    {
     "name": "stdout",
     "output_type": "stream",
     "text": [
      "[1 2 3 4 5 1 2 3 4]\n"
     ]
    }
   ],
   "source": [
    "abc_repeat = ak.tile(abcd,2)[:9]\n",
    "print(abc_repeat)"
   ]
  },
  {
   "cell_type": "code",
   "execution_count": 157,
   "id": "9873300e-6290-4a41-8a68-1a405e7b4768",
   "metadata": {},
   "outputs": [
    {
     "name": "stdout",
     "output_type": "stream",
     "text": [
      "[[1 2 3]\n",
      " [4 5 1]\n",
      " [2 3 4]]\n"
     ]
    }
   ],
   "source": [
    "print(abc_repeat.reshape(3,3))\n"
   ]
  },
  {
   "cell_type": "code",
   "execution_count": 161,
   "id": "23b56afa-296d-4ff0-8ca4-07b139ae0933",
   "metadata": {},
   "outputs": [
    {
     "name": "stdout",
     "output_type": "stream",
     "text": [
      "[1 2 3 4 5 0 0 0 0 0 0 0 0 0]\n"
     ]
    }
   ],
   "source": [
    "zeo = ak.pad(abcd,(0,9))\n",
    "print(zeo)"
   ]
  },
  {
   "cell_type": "code",
   "execution_count": 165,
   "id": "7dbfd888-a44c-4653-90f2-8fdecebc7f97",
   "metadata": {},
   "outputs": [
    {
     "name": "stdout",
     "output_type": "stream",
     "text": [
      "[[1 2 3 4]\n",
      " [5 0 0 0]\n",
      " [0 0 0 0]]\n"
     ]
    }
   ],
   "source": [
    "print(zeo.reshape(3,4))"
   ]
  },
  {
   "cell_type": "code",
   "execution_count": 180,
   "id": "62de8b5b-b1ba-403a-bbef-e406c9d8e652",
   "metadata": {},
   "outputs": [
    {
     "name": "stdout",
     "output_type": "stream",
     "text": [
      "[7 2 7 4 3]\n"
     ]
    }
   ],
   "source": [
    "defg = ak.array(ak.random.randint(1,8,(5,)))\n",
    "print(defg)"
   ]
  },
  {
   "cell_type": "code",
   "execution_count": 181,
   "id": "7164ee9d-21af-44ac-b107-5ddd0b86c96f",
   "metadata": {},
   "outputs": [
    {
     "name": "stdout",
     "output_type": "stream",
     "text": [
      "[7 2 7 4 3 7 2 7 4 3]\n",
      "[[7 2 7 4 3]\n",
      " [7 2 7 4 3]]\n"
     ]
    }
   ],
   "source": [
    "abc = ak.tile(defg,3)[:10]\n",
    "print(abc)\n",
    "print(abc.reshape(2,5))"
   ]
  },
  {
   "cell_type": "code",
   "execution_count": 188,
   "id": "8a8fdd49-d98f-417c-b085-88037c7e873d",
   "metadata": {},
   "outputs": [
    {
     "name": "stdout",
     "output_type": "stream",
     "text": [
      "[7 2 7 4 3 0 0 0 0 0 0 0 0 0 0 0 0 0 0 0]\n",
      "[[[7 2 7 4 3]\n",
      "  [0 0 0 0 0]]\n",
      "\n",
      " [[0 0 0 0 0]\n",
      "  [0 0 0 0 0]]]\n"
     ]
    }
   ],
   "source": [
    "jio = ak.pad(defg,(0,15))\n",
    "print(jio)\n",
    "print(jio.reshape(2,2,5))"
   ]
  },
  {
   "cell_type": "code",
   "execution_count": 6,
   "id": "794c8e9d-4dcc-4dd5-88df-bf35cb546a9a",
   "metadata": {},
   "outputs": [
    {
     "name": "stdout",
     "output_type": "stream",
     "text": [
      "10\n",
      "2.5\n",
      "1\n",
      "4\n",
      "1.118033988749895\n",
      "[4 6]\n",
      "[3 7]\n"
     ]
    }
   ],
   "source": [
    "# Aggregate function\n",
    "import numpy as np\n",
    "a = np.array([[1,2],[3,4]]) # [1,2]\n",
    "print(np.sum(a))             # [3,4]\n",
    "print(np.mean(a))\n",
    "print(np.min(a))\n",
    "print(np.max(a))\n",
    "print(np.std(a))\n",
    "print(np.sum(a,axis=0))\n",
    "print(np.sum(a,axis=1))"
   ]
  },
  {
   "cell_type": "code",
   "execution_count": null,
   "id": "b20de8cc-7337-4d93-a0c8-be50f42a4ab4",
   "metadata": {},
   "outputs": [],
   "source": []
  }
 ],
 "metadata": {
  "kernelspec": {
   "display_name": "Python 3 (ipykernel)",
   "language": "python",
   "name": "python3"
  },
  "language_info": {
   "codemirror_mode": {
    "name": "ipython",
    "version": 3
   },
   "file_extension": ".py",
   "mimetype": "text/x-python",
   "name": "python",
   "nbconvert_exporter": "python",
   "pygments_lexer": "ipython3",
   "version": "3.13.5"
  }
 },
 "nbformat": 4,
 "nbformat_minor": 5
}
