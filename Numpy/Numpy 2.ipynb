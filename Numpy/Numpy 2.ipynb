{
 "cells": [
  {
   "cell_type": "code",
   "execution_count": 2,
   "id": "c8261a73-2d94-445c-a28c-854296714a20",
   "metadata": {},
   "outputs": [
    {
     "name": "stdout",
     "output_type": "stream",
     "text": [
      " 1D array [1 2 3 4 5 6 7 8 9]\n",
      "(9,)\n"
     ]
    }
   ],
   "source": [
    "# Create a 1D NumPy array with numbers from 1 to 10\n",
    "import numpy as rr\n",
    "a = rr.array([1,2,3,4,5,6,7,8,9])\n",
    "print(f' 1D array {a}')\n",
    "print(a.shape)"
   ]
  },
  {
   "cell_type": "code",
   "execution_count": 11,
   "id": "47e8dbc1-cbe2-4d13-ab50-afff209f3005",
   "metadata": {},
   "outputs": [
    {
     "name": "stdout",
     "output_type": "stream",
     "text": [
      "[0 0 0 0 0]\n",
      "(5,)\n"
     ]
    }
   ],
   "source": [
    "# Create a NumPy array of zeros of size 5.\n",
    "a = rr.zeros((5),dtype=int)\n",
    "print(a)\n",
    "print(a.shape)"
   ]
  },
  {
   "cell_type": "code",
   "execution_count": 12,
   "id": "461dd425-67bc-4205-91f8-fedde89f0c9e",
   "metadata": {},
   "outputs": [
    {
     "name": "stdout",
     "output_type": "stream",
     "text": [
      "[[1 1 1 1]\n",
      " [1 1 1 1]\n",
      " [1 1 1 1]\n",
      " [1 1 1 1]]\n",
      "(4, 4)\n"
     ]
    }
   ],
   "source": [
    "# Create a NumPy array of ones of size 4 × 4.\n",
    "a = rr.ones((4,4),dtype=int)\n",
    "print(a)\n",
    "print(a.shape)"
   ]
  },
  {
   "cell_type": "code",
   "execution_count": 19,
   "id": "5aa0cff6-4795-4a91-8e99-a5968d250593",
   "metadata": {},
   "outputs": [
    {
     "name": "stdout",
     "output_type": "stream",
     "text": [
      " The Even numbers are [ 2  4  6  8 10 12 14 16 18 20]\n"
     ]
    }
   ],
   "source": [
    "# Create an array of even numbers from 2 to 20.\n",
    "even_number = rr.arange(21)\n",
    "print(f' The Even numbers are {even_number[2:21:2]}')"
   ]
  },
  {
   "cell_type": "code",
   "execution_count": 16,
   "id": "097111ff-13e9-4c97-9282-67b6067401df",
   "metadata": {},
   "outputs": [
    {
     "name": "stdout",
     "output_type": "stream",
     "text": [
      "[10 15 20 25 30 35 40 45]\n"
     ]
    }
   ],
   "source": [
    "# Create an array with values from 10 to 50, step 5.\n",
    "value = rr.arange(10,50,5)\n",
    "print(value)"
   ]
  },
  {
   "cell_type": "code",
   "execution_count": 21,
   "id": "bec687c6-823d-492e-8867-914bfb65c8e7",
   "metadata": {},
   "outputs": [
    {
     "name": "stdout",
     "output_type": "stream",
     "text": [
      "[3 6 9]\n"
     ]
    }
   ],
   "source": [
    "# Create an array [1, 2, 3] and multiply it by 3.\n",
    "multiply = rr.array([1,2,3])*3\n",
    "print(multiply)"
   ]
  },
  {
   "cell_type": "code",
   "execution_count": 25,
   "id": "8a61e5a0-a417-42cf-8d70-4fbb1f2cf67a",
   "metadata": {},
   "outputs": [
    {
     "name": "stdout",
     "output_type": "stream",
     "text": [
      "Sum :  [5 7 9]\n"
     ]
    }
   ],
   "source": [
    "# Create two arrays and add them element-wise.\n",
    "a = rr.array([1,2,3])\n",
    "b = rr.array([4,5,6])\n",
    "print('Sum : ',a+b)"
   ]
  },
  {
   "cell_type": "code",
   "execution_count": 24,
   "id": "8c0bc024-f565-4632-bb5c-6a78c77eea6a",
   "metadata": {},
   "outputs": [
    {
     "name": "stdout",
     "output_type": "stream",
     "text": [
      " Mean : 25.0\n"
     ]
    }
   ],
   "source": [
    "# Create an array [10, 20, 30, 40] and find its mean.\n",
    "a = rr.array([10,20,30,40])\n",
    "print(f' Mean : {a.mean()}')"
   ]
  },
  {
   "cell_type": "code",
   "execution_count": 29,
   "id": "42eb6478-094b-439f-a9fe-fcbdd10ef705",
   "metadata": {},
   "outputs": [
    {
     "name": "stdout",
     "output_type": "stream",
     "text": [
      "Square root is  [2. 3. 4. 5.]\n"
     ]
    }
   ],
   "source": [
    "# Create an array [4, 9, 16, 25] and find the square root.\n",
    "square = rr.array([4,9,16,25])\n",
    "print('Square root is ',rr.sqrt(square))"
   ]
  },
  {
   "cell_type": "code",
   "execution_count": 32,
   "id": "483ad6a2-b6af-44ea-9b41-766e13366a2a",
   "metadata": {},
   "outputs": [
    {
     "name": "stdout",
     "output_type": "stream",
     "text": [
      "Sum :  2.3297249687515165\n"
     ]
    }
   ],
   "source": [
    "# Create a random array of size 5 and find its sum.\n",
    "abc = rr.random.random(5)\n",
    "print ('Sum : ',abc.sum())"
   ]
  },
  {
   "cell_type": "code",
   "execution_count": 36,
   "id": "49d0cb3d-870a-4347-9780-1e678f6ed632",
   "metadata": {},
   "outputs": [
    {
     "name": "stdout",
     "output_type": "stream",
     "text": [
      "[1 2 3 4 5]\n",
      "[6 7 8 9]\n"
     ]
    }
   ],
   "source": [
    "# Slice the first 5 elements from an array of numbers from 1 to 10.\n",
    "Def = rr.array(rr.arange(1,10))\n",
    "print(Def[:5])\n",
    "print(Def[5:])"
   ]
  },
  {
   "cell_type": "code",
   "execution_count": 38,
   "id": "85bd62a4-3c7b-478e-82c9-84cd6a7a2e9a",
   "metadata": {},
   "outputs": [
    {
     "name": "stdout",
     "output_type": "stream",
     "text": [
      "[40 50]\n"
     ]
    }
   ],
   "source": [
    "# Get the last two elements of [10, 20, 30, 40, 50].\n",
    "hij = rr.array([10, 20, 30, 40, 50])\n",
    "print(hij[3:])"
   ]
  },
  {
   "cell_type": "code",
   "execution_count": 39,
   "id": "65ffe7c4-a200-4580-8ca5-37c21cfdc745",
   "metadata": {},
   "outputs": [
    {
     "name": "stdout",
     "output_type": "stream",
     "text": [
      "Changed elemennt of abc :  [1, 2, 99, 4, 5]\n"
     ]
    }
   ],
   "source": [
    "# Change the 3rd element of [1, 2, 3, 4, 5] to 99.\n",
    "abc = [1,2,3,4,5]\n",
    "abc[2] = 99\n",
    "print('Changed elemennt of abc : ',abc)"
   ]
  },
  {
   "cell_type": "code",
   "execution_count": 40,
   "id": "42043553-6680-4141-8975-03437ee66fd1",
   "metadata": {},
   "outputs": [
    {
     "name": "stdout",
     "output_type": "stream",
     "text": [
      "[[16 16 29]\n",
      " [ 5 10 28]\n",
      " [19 21  5]]\n"
     ]
    }
   ],
   "source": [
    "# Create a 3×3 matrix and access the element in the 2nd row, 3rd column.\n",
    "abc = rr.array(rr.random.randint(5,30,(3,3)))\n",
    "print(abc)"
   ]
  },
  {
   "cell_type": "code",
   "execution_count": 41,
   "id": "04bbd070-2e14-4bdc-934b-40746edc5861",
   "metadata": {},
   "outputs": [
    {
     "name": "stdout",
     "output_type": "stream",
     "text": [
      "[[16 16 29]\n",
      " [ 5 10 28]]\n"
     ]
    }
   ],
   "source": [
    "ijk = (2,3)\n",
    "jk = rr.resize(abc,ijk)\n",
    "print(jk)"
   ]
  },
  {
   "cell_type": "code",
   "execution_count": 46,
   "id": "528c78f1-5e40-4b4f-b541-213541903f76",
   "metadata": {},
   "outputs": [
    {
     "name": "stdout",
     "output_type": "stream",
     "text": [
      "[[3 2]\n",
      " [7 2]\n",
      " [2 4]]\n"
     ]
    }
   ],
   "source": [
    "# Transpose a 2×3 matrix.\n",
    "a = rr.array(rr.random.randint(1,10,(3,2)))\n",
    "print(a)"
   ]
  },
  {
   "cell_type": "code",
   "execution_count": 47,
   "id": "4ecdac51-868a-418b-b3bb-7f8c328a5309",
   "metadata": {},
   "outputs": [
    {
     "name": "stdout",
     "output_type": "stream",
     "text": [
      "[[3 7 2]\n",
      " [2 2 4]]\n"
     ]
    }
   ],
   "source": [
    "print(a.transpose()) # 2 x 3"
   ]
  },
  {
   "cell_type": "code",
   "execution_count": 50,
   "id": "c54f870e-a6c9-4f54-887d-36adf6005b6a",
   "metadata": {},
   "outputs": [
    {
     "name": "stdout",
     "output_type": "stream",
     "text": [
      "[ 0  1  2  3  4  5  6  7  8  9 10]\n",
      "Reverse :  [10  9  8  7  6  5  4  3  2  1  0]\n"
     ]
    }
   ],
   "source": [
    "# Create a 1D array and reverse it using slicing.\n",
    "abc = rr.array(rr.arange(0,11))\n",
    "print(abc)\n",
    "print('Reverse : ',abc[::-1])"
   ]
  },
  {
   "cell_type": "code",
   "execution_count": 55,
   "id": "a902be9b-2b79-4d0e-a466-f68405a61e46",
   "metadata": {},
   "outputs": [
    {
     "name": "stdout",
     "output_type": "stream",
     "text": [
      "Random integer : [[58  5 97 66 90]\n",
      " [20 12 74 64 36]]\n",
      "(2, 5)\n"
     ]
    }
   ],
   "source": [
    "# Generate a random integer between 1 and 100.\n",
    "random_int = rr.array(rr.random.randint(1,100,(2,5)))\n",
    "print('Random integer :',random_int)\n",
    "print(random_int.shape)"
   ]
  },
  {
   "cell_type": "code",
   "execution_count": 56,
   "id": "f5950e25-fe8d-4a41-903a-dc07f7d52544",
   "metadata": {},
   "outputs": [
    {
     "name": "stdout",
     "output_type": "stream",
     "text": [
      "[[4 4 3]\n",
      " [4 3 4]\n",
      " [8 0 0]]\n"
     ]
    }
   ],
   "source": [
    "# Generate a random array of size 3 × 3.\n",
    "random_array = rr.array(rr.random.randint(0,9,(3,3)))\n",
    "print(random_array)"
   ]
  },
  {
   "cell_type": "code",
   "execution_count": 75,
   "id": "4f102077-de0f-49e0-ab55-51c6507a5ffc",
   "metadata": {},
   "outputs": [
    {
     "name": "stdout",
     "output_type": "stream",
     "text": [
      "[ 1  2  3  4  5  6  7  8  9 10 11]\n"
     ]
    }
   ],
   "source": [
    "# Reshape a 1D array (1 to 12) into 3×4.\n",
    "abc = rr.array(rr.arange(1,12))\n",
    "print(abc)"
   ]
  },
  {
   "cell_type": "code",
   "execution_count": 72,
   "id": "658be4db-286a-4429-aa02-44f11cf4ea53",
   "metadata": {},
   "outputs": [
    {
     "name": "stdout",
     "output_type": "stream",
     "text": [
      "Reshape :  [[ 1  2  3  4]\n",
      " [ 5  6  7  8]\n",
      " [ 9 10 11 12]]\n"
     ]
    }
   ],
   "source": [
    "print('Reshape : ',abc.reshape(3,4))"
   ]
  },
  {
   "cell_type": "code",
   "execution_count": 3,
   "id": "3563e344-114f-4599-869c-84de06c5613f",
   "metadata": {},
   "outputs": [
    {
     "name": "stdout",
     "output_type": "stream",
     "text": [
      "[0.08186279 0.52687371 0.29214962 0.79827387 0.10742251]\n"
     ]
    }
   ],
   "source": [
    "arr = rr.array(rr.random.random(5))\n",
    "print(arr)"
   ]
  },
  {
   "cell_type": "code",
   "execution_count": 9,
   "id": "8502e82b-e0dd-45d6-b22f-826cf1af422f",
   "metadata": {},
   "outputs": [
    {
     "name": "stdout",
     "output_type": "stream",
     "text": [
      "[2.89700338 0.59436718 0.20593953 0.28139524 1.10902553]\n"
     ]
    }
   ],
   "source": [
    "# normal distribution\n",
    "arr = rr.random.normal(loc=0, scale = 1, size = 5)\n",
    "print(arr)"
   ]
  },
  {
   "cell_type": "code",
   "execution_count": null,
   "id": "dc4956ca-952d-4b7a-bfbc-449fa2923eba",
   "metadata": {},
   "outputs": [],
   "source": []
  }
 ],
 "metadata": {
  "kernelspec": {
   "display_name": "Python 3 (ipykernel)",
   "language": "python",
   "name": "python3"
  },
  "language_info": {
   "codemirror_mode": {
    "name": "ipython",
    "version": 3
   },
   "file_extension": ".py",
   "mimetype": "text/x-python",
   "name": "python",
   "nbconvert_exporter": "python",
   "pygments_lexer": "ipython3",
   "version": "3.13.5"
  }
 },
 "nbformat": 4,
 "nbformat_minor": 5
}
