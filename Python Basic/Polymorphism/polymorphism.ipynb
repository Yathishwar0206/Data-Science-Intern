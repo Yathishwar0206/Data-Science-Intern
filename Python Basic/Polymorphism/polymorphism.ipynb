{
 "cells": [
  {
   "cell_type": "code",
   "execution_count": 10,
   "id": "b3732256-f46b-4c3b-8599-2815b82a66e3",
   "metadata": {},
   "outputs": [
    {
     "name": "stdout",
     "output_type": "stream",
     "text": [
      "64 GB\n",
      "256 GB\n"
     ]
    }
   ],
   "source": [
    "# Polymorphism\n",
    "class Mobile:\n",
    "    def ram_storage(self):\n",
    "        print('Different storage')\n",
    "# Redmi note 11\n",
    "class Redmi_note_11(Mobile):\n",
    "    def ram_storage(self):\n",
    "        print ('64 GB')\n",
    "# One_plus_nord\n",
    "class One_plus_nord(Mobile):\n",
    "    def ram_storage(self):\n",
    "        print ('256 GB')\n",
    "redmi = Redmi_note_11( )\n",
    "One_plus = One_plus_nord( )\n",
    "redmi.ram_storage()\n",
    "One_plus.ram_storage()"
   ]
  },
  {
   "cell_type": "code",
   "execution_count": 11,
   "id": "1f93f97c-1271-4a49-986c-f46a6128291e",
   "metadata": {},
   "outputs": [
    {
     "name": "stdout",
     "output_type": "stream",
     "text": [
      "Cow speaks Moo\n",
      "Sheep speaks Baa\n"
     ]
    }
   ],
   "source": [
    "class Animal:\n",
    "    def speak(self):\n",
    "        print('Animal sound')\n",
    "# Cow\n",
    "class cow(Animal):\n",
    "    def speak(self):\n",
    "        print ('Cow speaks Moo')\n",
    "# Sheep\n",
    "class sheep(Animal):\n",
    "    def speak(self):\n",
    "        print('Sheep speaks Baa')\n",
    "# Usage\n",
    "cow = cow()\n",
    "sheep = sheep()\n",
    "cow.speak()\n",
    "sheep.speak()"
   ]
  },
  {
   "cell_type": "code",
   "execution_count": 12,
   "id": "66368b6a-9dd8-4b33-97e2-3bc0f7c34439",
   "metadata": {},
   "outputs": [
    {
     "name": "stdout",
     "output_type": "stream",
     "text": [
      "Car horn : Beep Beep\n",
      "Bike horn : Peep Peep\n"
     ]
    }
   ],
   "source": [
    "# Car and bike\n",
    "class Vehicle:\n",
    "    def horn(self):\n",
    "        return 'Vehicle sound different'\n",
    "# Car\n",
    "class car(Vehicle):\n",
    "    def horn(self):\n",
    "        return 'Car horn : Beep Beep'\n",
    "# Bike\n",
    "class bike(Vehicle):\n",
    "    def horn(self):\n",
    "        return 'Bike horn : Peep Peep'\n",
    "# Usage\n",
    "Car = car()\n",
    "print(Car.horn())\n",
    "Bike = bike()\n",
    "print(Bike.horn())"
   ]
  },
  {
   "cell_type": "code",
   "execution_count": 30,
   "id": "78d106d7-3a87-4927-acbc-ab9c4b95e1bb",
   "metadata": {},
   "outputs": [
    {
     "name": "stdout",
     "output_type": "stream",
     "text": [
      "Shapes perimeter :  20\n",
      "Shapes perimeter :  12\n"
     ]
    }
   ],
   "source": [
    "# Shapes\n",
    "class Shape:\n",
    "    def perimeter(self):\n",
    "        return ('Shapes perimeter')\n",
    "# Square\n",
    "class square(Shape):\n",
    "    def __init__(self,side):\n",
    "        self.side = side\n",
    "    \n",
    "    def perimeter(self):\n",
    "         return 4*self.side   # 5\n",
    "# Triangle\n",
    "class triangle(Shape):\n",
    "    def __init__(self,a,b,c):\n",
    "        self.a = a\n",
    "        self.b = b\n",
    "        self.c = c\n",
    "    def perimeter(self):\n",
    "        return self.a+self.b+self.c  # 3,4,5\n",
    "# Usage\n",
    "Shapes = [square(5),triangle(3,4,5)]\n",
    "for Shape in Shapes:\n",
    "    print('Shapes perimeter : ',Shape.perimeter())"
   ]
  },
  {
   "cell_type": "code",
   "execution_count": 33,
   "id": "6188caea-26b9-407d-962e-ef8892068c2c",
   "metadata": {},
   "outputs": [
    {
     "name": "stdout",
     "output_type": "stream",
     "text": [
      "Shapes area :  50\n",
      "Shapes area :  307.72\n"
     ]
    }
   ],
   "source": [
    "# Circle and Rectangle\n",
    "class shape:\n",
    "    def area(self):\n",
    "        return('Shapes area')   # class variable\n",
    "# Rectangle\n",
    "class rectangle(shape):\n",
    "    def __init__(self,length,width):\n",
    "        self.length = length\n",
    "        self.width = width\n",
    "\n",
    "    def area(self):\n",
    "        return self.length*self.width\n",
    "# Circle\n",
    "class circle(shape):\n",
    "    def __init__(self,radius):\n",
    "        self.radius = radius   # Instance variable\n",
    "    def area(self):\n",
    "        return 3.14*self.radius*self.radius*2\n",
    "# Usage\n",
    "shapes = [rectangle(10,5),circle(7)]\n",
    "for shape in shapes:\n",
    "    print('Shapes area : ',shape.area())\n",
    "'''\n",
    "shape - class\n",
    "rectangle - object\n",
    "circle - object\n",
    "length,width,radius - Attributes\n",
    "area - method\n",
    "'''"
   ]
  },
  {
   "cell_type": "code",
   "execution_count": 7,
   "id": "6a961e6f-89ad-4218-8d2b-bf30cae66fe7",
   "metadata": {},
   "outputs": [
    {
     "name": "stdout",
     "output_type": "stream",
     "text": [
      "Brand :  royal enfield\n",
      "Model :  classic 350\n",
      "Year :  2017\n"
     ]
    }
   ],
   "source": [
    "class bike:\n",
    "    def __init__(self,brand,model,year):\n",
    "        self.brand = brand\n",
    "        self.model = model\n",
    "        self.year = year\n",
    "Bike = bike('royal enfield','classic 350',2017)\n",
    "print('Brand : ',Bike.brand)\n",
    "print('Model : ',Bike.model)\n",
    "print('Year : ',Bike.year)"
   ]
  },
  {
   "cell_type": "code",
   "execution_count": 8,
   "id": "bd05699e-42dc-47f4-861b-b401a32f31b0",
   "metadata": {},
   "outputs": [
    {
     "name": "stdout",
     "output_type": "stream",
     "text": [
      "Grand father :  S.A.Chandrasekar\n",
      "Father :  Thalapthy vijay\n",
      "Son :  Jason sanjay\n"
     ]
    }
   ],
   "source": [
    "class Actors:\n",
    "    def __init__(self,Grandfather,Father,Son):\n",
    "        self.Grandfather = Grandfather\n",
    "        self.Father = Father\n",
    "        self.Son = Son\n",
    "Actor = Actors('S.A.Chandrasekar','Thalapthy vijay','Jason sanjay')\n",
    "print('Grand father : ',Actor.Grandfather)\n",
    "print('Father : ',Actor.Father)\n",
    "print('Son : ',Actor.Son)"
   ]
  },
  {
   "cell_type": "code",
   "execution_count": 11,
   "id": "1a752479-7f89-431c-9365-dd6e677f6512",
   "metadata": {},
   "outputs": [
    {
     "name": "stdout",
     "output_type": "stream",
     "text": [
      "Father(Director)   :  S.A.Chandrasekar\n",
      "Son(Famous Actor)  :  Thalapthy vijay\n",
      "Grandson(Director) :  Jason sanjay\n"
     ]
    }
   ],
   "source": [
    "class Actors:\n",
    "    def __init__(self,Father,Son,Grandson):\n",
    "        self.Father = Father\n",
    "        self.Son = Son\n",
    "        self.Grandson = Grandson\n",
    "Actor = Actors('S.A.Chandrasekar','Thalapthy vijay','Jason sanjay')\n",
    "print('Father(Director)   : ',Actor.Father)\n",
    "print('Son(Famous Actor)  : ',Actor.Son)\n",
    "print('Grandson(Director) : ',Actor.Grandson)"
   ]
  },
  {
   "cell_type": "code",
   "execution_count": null,
   "id": "8cd07e90-f6d2-48f5-a1a0-e400aa81e6c6",
   "metadata": {},
   "outputs": [],
   "source": []
  }
 ],
 "metadata": {
  "kernelspec": {
   "display_name": "Python 3 (ipykernel)",
   "language": "python",
   "name": "python3"
  },
  "language_info": {
   "codemirror_mode": {
    "name": "ipython",
    "version": 3
   },
   "file_extension": ".py",
   "mimetype": "text/x-python",
   "name": "python",
   "nbconvert_exporter": "python",
   "pygments_lexer": "ipython3",
   "version": "3.13.5"
  }
 },
 "nbformat": 4,
 "nbformat_minor": 5
}
