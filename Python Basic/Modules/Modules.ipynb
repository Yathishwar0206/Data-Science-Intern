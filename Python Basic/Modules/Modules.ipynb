{
 "cells": [
  {
   "cell_type": "code",
   "execution_count": 1,
   "id": "a397349f-5adb-4246-82c7-5cdb6901a154",
   "metadata": {},
   "outputs": [
    {
     "name": "stdout",
     "output_type": "stream",
     "text": [
      "6.324555320336759\n"
     ]
    }
   ],
   "source": [
    "# import math\n",
    "num = 40\n",
    "sqrt_vle = num**0.5\n",
    "print(sqrt_vle)"
   ]
  },
  {
   "cell_type": "code",
   "execution_count": 49,
   "id": "6149be23-7f7e-44d1-b647-7399925c0e6b",
   "metadata": {},
   "outputs": [],
   "source": [
    "import math"
   ]
  },
  {
   "cell_type": "code",
   "execution_count": 6,
   "id": "2adf927f-bf54-44f2-81ea-76c52301e95c",
   "metadata": {},
   "outputs": [
    {
     "name": "stdout",
     "output_type": "stream",
     "text": [
      "The square root is :  2.23606797749979\n"
     ]
    }
   ],
   "source": [
    "print('The square root is : ',math.sqrt(5))"
   ]
  },
  {
   "cell_type": "code",
   "execution_count": 50,
   "id": "e6eb0a7b-c878-4de0-a920-e95ffdbbb131",
   "metadata": {},
   "outputs": [
    {
     "name": "stdout",
     "output_type": "stream",
     "text": [
      "The square root is :  3.1622776601683795\n"
     ]
    }
   ],
   "source": [
    "print('The square root is : ',math.sqrt(10))"
   ]
  },
  {
   "cell_type": "code",
   "execution_count": 7,
   "id": "491b1439-7eab-4431-86d7-1bde44335151",
   "metadata": {},
   "outputs": [],
   "source": [
    "import random"
   ]
  },
  {
   "cell_type": "code",
   "execution_count": 15,
   "id": "f9645c27-56c3-4029-956e-3ed6754d4b4e",
   "metadata": {},
   "outputs": [
    {
     "name": "stdout",
     "output_type": "stream",
     "text": [
      "The Random number is :  7\n"
     ]
    }
   ],
   "source": [
    "print('The Random number is : ',random.randint(1,10))"
   ]
  },
  {
   "cell_type": "code",
   "execution_count": 16,
   "id": "9e378074-f61f-4942-aad8-a874034c6ec1",
   "metadata": {},
   "outputs": [
    {
     "name": "stdout",
     "output_type": "stream",
     "text": [
      "The Random number is :  3\n"
     ]
    }
   ],
   "source": [
    "print('The Random number is : ',random.randint(1,10))"
   ]
  },
  {
   "cell_type": "code",
   "execution_count": 17,
   "id": "5cb32a2c-1e1a-4b2d-868d-7ecaa2afed65",
   "metadata": {},
   "outputs": [
    {
     "name": "stdout",
     "output_type": "stream",
     "text": [
      "The Random number is :  3\n"
     ]
    }
   ],
   "source": [
    "print('The Random number is : ',random.randint(1,10))"
   ]
  },
  {
   "cell_type": "code",
   "execution_count": 18,
   "id": "e53edeb0-1291-433d-8a3c-ce9cc001f2d4",
   "metadata": {},
   "outputs": [
    {
     "name": "stdout",
     "output_type": "stream",
     "text": [
      "The Random number is :  9\n"
     ]
    }
   ],
   "source": [
    "print('The Random number is : ',random.randint(1,10))"
   ]
  },
  {
   "cell_type": "code",
   "execution_count": 23,
   "id": "ad6ef71e-a909-482a-8ed7-1f6bf747f62f",
   "metadata": {},
   "outputs": [
    {
     "name": "stdout",
     "output_type": "stream",
     "text": [
      "The Random choice :  29\n"
     ]
    }
   ],
   "source": [
    "import random\n",
    "print('The Random choice : ',random.randint(1,101))"
   ]
  },
  {
   "cell_type": "code",
   "execution_count": 51,
   "id": "c07eb3b7-2b89-4f8f-82a3-27e71a83a736",
   "metadata": {},
   "outputs": [],
   "source": [
    "import random"
   ]
  },
  {
   "cell_type": "code",
   "execution_count": 58,
   "id": "265df326-db76-444c-90ce-b5d5fd7e6e3d",
   "metadata": {},
   "outputs": [
    {
     "name": "stdout",
     "output_type": "stream",
     "text": [
      "The name is :  Ajith\n"
     ]
    }
   ],
   "source": [
    "names = ['Naveen','Surya','Ajith','Yathishwar']\n",
    "print('The name is : ',random.choice(names))"
   ]
  },
  {
   "cell_type": "code",
   "execution_count": 61,
   "id": "b2b132c1-41c7-4bd4-beba-676827742597",
   "metadata": {},
   "outputs": [
    {
     "name": "stdout",
     "output_type": "stream",
     "text": [
      "The name is :  Yathishwar\n"
     ]
    }
   ],
   "source": [
    "print('The name is : ',random.choice(names))"
   ]
  },
  {
   "cell_type": "code",
   "execution_count": 60,
   "id": "f7f9e847-39a9-490d-93ac-a121fe4908b5",
   "metadata": {},
   "outputs": [
    {
     "name": "stdout",
     "output_type": "stream",
     "text": [
      "The name is :  Ajith\n"
     ]
    }
   ],
   "source": [
    "print('The name is : ',random.choice(names))"
   ]
  },
  {
   "cell_type": "code",
   "execution_count": 59,
   "id": "09816bbf-954e-4043-b914-e66f907422ad",
   "metadata": {},
   "outputs": [
    {
     "name": "stdout",
     "output_type": "stream",
     "text": [
      "The name is :  Yathishwar\n"
     ]
    }
   ],
   "source": [
    "print('The name is : ',random.choice(names))"
   ]
  },
  {
   "cell_type": "code",
   "execution_count": 77,
   "id": "5d172c14-8962-48b0-bb43-e06c8295748d",
   "metadata": {},
   "outputs": [
    {
     "data": {
      "text/plain": [
       "'Naveen'"
      ]
     },
     "execution_count": 77,
     "metadata": {},
     "output_type": "execute_result"
    }
   ],
   "source": [
    "import random\n",
    "tuples = ('yathishwar','Naveen',2005)\n",
    "random.choice(tuples)"
   ]
  },
  {
   "cell_type": "code",
   "execution_count": 78,
   "id": "5732ef8e-3fe4-4b66-aea6-1bea597edd91",
   "metadata": {},
   "outputs": [
    {
     "data": {
      "text/plain": [
       "'Naveen'"
      ]
     },
     "execution_count": 78,
     "metadata": {},
     "output_type": "execute_result"
    }
   ],
   "source": [
    "random.choice(tuples)"
   ]
  },
  {
   "cell_type": "code",
   "execution_count": 85,
   "id": "00673dc5-37fd-4019-bf5f-32b22a0b0865",
   "metadata": {},
   "outputs": [
    {
     "data": {
      "text/plain": [
       "'yathishwar'"
      ]
     },
     "execution_count": 85,
     "metadata": {},
     "output_type": "execute_result"
    }
   ],
   "source": [
    "random.choice(tuples)"
   ]
  },
  {
   "cell_type": "code",
   "execution_count": 3,
   "id": "dca0a7a5-3c32-44f8-9dfc-03f33c190dd3",
   "metadata": {},
   "outputs": [
    {
     "name": "stdout",
     "output_type": "stream",
     "text": [
      "10\n",
      "n\n",
      "c\n",
      "12\n"
     ]
    }
   ],
   "source": [
    "import random\n",
    "# list\n",
    "print(random.choice([1,5,10]))\n",
    "\n",
    "# tuples\n",
    "print(random.choice('Naveen'))\n",
    "\n",
    "# String\n",
    "print(random.choice('Data science'))\n",
    "\n",
    "# range\n",
    "print(random.choice(range(10,100)))"
   ]
  },
  {
   "cell_type": "code",
   "execution_count": 95,
   "id": "4fb6499c-f320-44d6-a1c0-efcef0fdda8f",
   "metadata": {},
   "outputs": [
    {
     "name": "stdout",
     "output_type": "stream",
     "text": [
      "Today :  2025-08-18\n"
     ]
    }
   ],
   "source": [
    "import datetime\n",
    "today = datetime.date.today()\n",
    "print('Today : ',today)"
   ]
  },
  {
   "cell_type": "code",
   "execution_count": 98,
   "id": "d753892c-e5a8-4339-a50e-f750f3ed7a9f",
   "metadata": {},
   "outputs": [
    {
     "name": "stdout",
     "output_type": "stream",
     "text": [
      "Today :  18-08-2025\n"
     ]
    }
   ],
   "source": [
    "print('Today : ',today.strftime('%d-%m-%Y'))"
   ]
  },
  {
   "cell_type": "code",
   "execution_count": 96,
   "id": "f0abd2b8-c009-441c-8df3-164cc078c215",
   "metadata": {},
   "outputs": [
    {
     "name": "stdout",
     "output_type": "stream",
     "text": [
      "Now the date and time is :  18-08-2025 12:01:20\n"
     ]
    }
   ],
   "source": [
    "now  = datetime.datetime.now()\n",
    "print('Now the date and time is : ',now.strftime('%d-%m-%Y %H:%M:%S'))"
   ]
  },
  {
   "cell_type": "code",
   "execution_count": 99,
   "id": "bb12f5ef-f600-445f-a01e-92cb1da15496",
   "metadata": {},
   "outputs": [
    {
     "name": "stdout",
     "output_type": "stream",
     "text": [
      "Now the date and time is :  18-08-2025 12:01:20\n"
     ]
    }
   ],
   "source": [
    "print('Now the date and time is : ',now.strftime('%d-%m-%Y %H:%M:%S'))"
   ]
  },
  {
   "cell_type": "code",
   "execution_count": 100,
   "id": "d9b2e515-0ff8-43ff-a5e6-3c75d20280e5",
   "metadata": {},
   "outputs": [
    {
     "name": "stdout",
     "output_type": "stream",
     "text": [
      "Now the date and time is :  18-08-2025 12:03:17\n"
     ]
    }
   ],
   "source": [
    "now  = datetime.datetime.now()\n",
    "print('Now the date and time is : ',now.strftime('%d-%m-%Y %H:%M:%S')) "
   ]
  },
  {
   "cell_type": "code",
   "execution_count": 102,
   "id": "40184977-743f-49a2-83db-b28499352855",
   "metadata": {},
   "outputs": [
    {
     "name": "stdout",
     "output_type": "stream",
     "text": [
      "Mean : 21\n",
      "Mode : 7\n"
     ]
    }
   ],
   "source": [
    "import statistics\n",
    "x = [7,14,21,28,35]\n",
    "print('Mean :',statistics.mean(x))\n",
    "print('Mode :',statistics.mode(x))"
   ]
  },
  {
   "cell_type": "code",
   "execution_count": 103,
   "id": "91e0818f-32fc-41d9-a089-4adeacc6ce82",
   "metadata": {},
   "outputs": [
    {
     "name": "stdout",
     "output_type": "stream",
     "text": [
      "    August 2025\n",
      "Mo Tu We Th Fr Sa Su\n",
      "             1  2  3\n",
      " 4  5  6  7  8  9 10\n",
      "11 12 13 14 15 16 17\n",
      "18 19 20 21 22 23 24\n",
      "25 26 27 28 29 30 31\n",
      "\n"
     ]
    }
   ],
   "source": [
    "import calendar\n",
    "print(calendar.month(2025,8))"
   ]
  },
  {
   "cell_type": "code",
   "execution_count": 107,
   "id": "e0178f24-1cd8-49ad-8549-551d9f07c282",
   "metadata": {},
   "outputs": [
    {
     "ename": "ModuleNotFoundError",
     "evalue": "No module named 'emoji'",
     "output_type": "error",
     "traceback": [
      "\u001b[31m---------------------------------------------------------------------------\u001b[39m",
      "\u001b[31mModuleNotFoundError\u001b[39m                       Traceback (most recent call last)",
      "\u001b[36mCell\u001b[39m\u001b[36m \u001b[39m\u001b[32mIn[107]\u001b[39m\u001b[32m, line 1\u001b[39m\n\u001b[32m----> \u001b[39m\u001b[32m1\u001b[39m \u001b[38;5;28;01mimport\u001b[39;00m\u001b[38;5;250m \u001b[39m\u001b[34;01memoji\u001b[39;00m\n",
      "\u001b[31mModuleNotFoundError\u001b[39m: No module named 'emoji'"
     ]
    }
   ],
   "source": [
    "import emoji\n"
   ]
  },
  {
   "cell_type": "code",
   "execution_count": 108,
   "id": "ed2bdd0e-ae52-4b52-9e0e-a69263ebfe8a",
   "metadata": {},
   "outputs": [
    {
     "ename": "FileNotFoundError",
     "evalue": "[WinError 2] The system cannot find the file specified",
     "output_type": "error",
     "traceback": [
      "\u001b[31m---------------------------------------------------------------------------\u001b[39m",
      "\u001b[31mFileNotFoundError\u001b[39m                         Traceback (most recent call last)",
      "\u001b[36mCell\u001b[39m\u001b[36m \u001b[39m\u001b[32mIn[108]\u001b[39m\u001b[32m, line 1\u001b[39m\n\u001b[32m----> \u001b[39m\u001b[32m1\u001b[39m \u001b[43mget_ipython\u001b[49m\u001b[43m(\u001b[49m\u001b[43m)\u001b[49m\u001b[43m.\u001b[49m\u001b[43msystem\u001b[49m\u001b[43m(\u001b[49m\u001b[33;43m'\u001b[39;49m\u001b[33;43mpip install emoji\u001b[39;49m\u001b[33;43m'\u001b[39;49m\u001b[43m)\u001b[49m\n",
      "\u001b[36mFile \u001b[39m\u001b[32m~\\AppData\\Local\\Programs\\Python\\Python313\\Lib\\site-packages\\ipykernel\\zmqshell.py:683\u001b[39m, in \u001b[36mZMQInteractiveShell.system_piped\u001b[39m\u001b[34m(self, cmd)\u001b[39m\n\u001b[32m    681\u001b[39m         \u001b[38;5;28;01mif\u001b[39;00m path \u001b[38;5;129;01mis\u001b[39;00m \u001b[38;5;129;01mnot\u001b[39;00m \u001b[38;5;28;01mNone\u001b[39;00m:\n\u001b[32m    682\u001b[39m             cmd = \u001b[33mf\u001b[39m\u001b[33m\"\u001b[39m\u001b[33mpushd \u001b[39m\u001b[38;5;132;01m{\u001b[39;00mpath\u001b[38;5;132;01m}\u001b[39;00m\u001b[33m &&\u001b[39m\u001b[38;5;132;01m{\u001b[39;00mcmd\u001b[38;5;132;01m}\u001b[39;00m\u001b[33m\"\u001b[39m\n\u001b[32m--> \u001b[39m\u001b[32m683\u001b[39m         \u001b[38;5;28mself\u001b[39m.user_ns[\u001b[33m\"\u001b[39m\u001b[33m_exit_code\u001b[39m\u001b[33m\"\u001b[39m] = \u001b[43msystem\u001b[49m\u001b[43m(\u001b[49m\u001b[43mcmd\u001b[49m\u001b[43m)\u001b[49m\n\u001b[32m    684\u001b[39m \u001b[38;5;28;01melse\u001b[39;00m:\n\u001b[32m    685\u001b[39m     \u001b[38;5;28mself\u001b[39m.user_ns[\u001b[33m\"\u001b[39m\u001b[33m_exit_code\u001b[39m\u001b[33m\"\u001b[39m] = system(\u001b[38;5;28mself\u001b[39m.var_expand(cmd, depth=\u001b[32m1\u001b[39m))\n",
      "\u001b[36mFile \u001b[39m\u001b[32m~\\AppData\\Local\\Programs\\Python\\Python313\\Lib\\site-packages\\IPython\\utils\\_process_win32.py:138\u001b[39m, in \u001b[36msystem\u001b[39m\u001b[34m(cmd)\u001b[39m\n\u001b[32m    136\u001b[39m \u001b[38;5;28;01mif\u001b[39;00m path \u001b[38;5;129;01mis\u001b[39;00m \u001b[38;5;129;01mnot\u001b[39;00m \u001b[38;5;28;01mNone\u001b[39;00m:\n\u001b[32m    137\u001b[39m     cmd = \u001b[33m'\u001b[39m\u001b[33m\"\u001b[39m\u001b[33mpushd \u001b[39m\u001b[38;5;132;01m%s\u001b[39;00m\u001b[33m &&\u001b[39m\u001b[33m\"\u001b[39m\u001b[38;5;132;01m%s\u001b[39;00m\u001b[33m'\u001b[39m % (path, cmd)\n\u001b[32m--> \u001b[39m\u001b[32m138\u001b[39m res = \u001b[43mprocess_handler\u001b[49m\u001b[43m(\u001b[49m\u001b[43mcmd\u001b[49m\u001b[43m,\u001b[49m\u001b[43m \u001b[49m\u001b[43m_system_body\u001b[49m\u001b[43m)\u001b[49m\n\u001b[32m    139\u001b[39m \u001b[38;5;28;01massert\u001b[39;00m \u001b[38;5;28misinstance\u001b[39m(res, \u001b[38;5;28mint\u001b[39m | \u001b[38;5;28mtype\u001b[39m(\u001b[38;5;28;01mNone\u001b[39;00m))\n\u001b[32m    140\u001b[39m \u001b[38;5;28;01mreturn\u001b[39;00m res\n",
      "\u001b[36mFile \u001b[39m\u001b[32m~\\AppData\\Local\\Programs\\Python\\Python313\\Lib\\site-packages\\IPython\\utils\\_process_common.py:85\u001b[39m, in \u001b[36mprocess_handler\u001b[39m\u001b[34m(cmd, callback, stderr)\u001b[39m\n\u001b[32m     83\u001b[39m \u001b[38;5;28;01mif\u001b[39;00m shell \u001b[38;5;129;01mand\u001b[39;00m os.name == \u001b[33m'\u001b[39m\u001b[33mposix\u001b[39m\u001b[33m'\u001b[39m \u001b[38;5;129;01mand\u001b[39;00m \u001b[33m'\u001b[39m\u001b[33mSHELL\u001b[39m\u001b[33m'\u001b[39m \u001b[38;5;129;01min\u001b[39;00m os.environ:\n\u001b[32m     84\u001b[39m     executable = os.environ[\u001b[33m'\u001b[39m\u001b[33mSHELL\u001b[39m\u001b[33m'\u001b[39m]\n\u001b[32m---> \u001b[39m\u001b[32m85\u001b[39m p = \u001b[43msubprocess\u001b[49m\u001b[43m.\u001b[49m\u001b[43mPopen\u001b[49m\u001b[43m(\u001b[49m\u001b[43mcmd\u001b[49m\u001b[43m,\u001b[49m\u001b[43m \u001b[49m\u001b[43mshell\u001b[49m\u001b[43m=\u001b[49m\u001b[43mshell\u001b[49m\u001b[43m,\u001b[49m\n\u001b[32m     86\u001b[39m \u001b[43m                     \u001b[49m\u001b[43mexecutable\u001b[49m\u001b[43m=\u001b[49m\u001b[43mexecutable\u001b[49m\u001b[43m,\u001b[49m\n\u001b[32m     87\u001b[39m \u001b[43m                     \u001b[49m\u001b[43mstdin\u001b[49m\u001b[43m=\u001b[49m\u001b[43msubprocess\u001b[49m\u001b[43m.\u001b[49m\u001b[43mPIPE\u001b[49m\u001b[43m,\u001b[49m\n\u001b[32m     88\u001b[39m \u001b[43m                     \u001b[49m\u001b[43mstdout\u001b[49m\u001b[43m=\u001b[49m\u001b[43msubprocess\u001b[49m\u001b[43m.\u001b[49m\u001b[43mPIPE\u001b[49m\u001b[43m,\u001b[49m\n\u001b[32m     89\u001b[39m \u001b[43m                     \u001b[49m\u001b[43mstderr\u001b[49m\u001b[43m=\u001b[49m\u001b[43mstderr\u001b[49m\u001b[43m,\u001b[49m\n\u001b[32m     90\u001b[39m \u001b[43m                     \u001b[49m\u001b[43mclose_fds\u001b[49m\u001b[43m=\u001b[49m\u001b[43mclose_fds\u001b[49m\u001b[43m)\u001b[49m\n\u001b[32m     92\u001b[39m \u001b[38;5;28;01mtry\u001b[39;00m:\n\u001b[32m     93\u001b[39m     out = callback(p)\n",
      "\u001b[36mFile \u001b[39m\u001b[32m~\\AppData\\Local\\Programs\\Python\\Python313\\Lib\\subprocess.py:1039\u001b[39m, in \u001b[36mPopen.__init__\u001b[39m\u001b[34m(self, args, bufsize, executable, stdin, stdout, stderr, preexec_fn, close_fds, shell, cwd, env, universal_newlines, startupinfo, creationflags, restore_signals, start_new_session, pass_fds, user, group, extra_groups, encoding, errors, text, umask, pipesize, process_group)\u001b[39m\n\u001b[32m   1035\u001b[39m         \u001b[38;5;28;01mif\u001b[39;00m \u001b[38;5;28mself\u001b[39m.text_mode:\n\u001b[32m   1036\u001b[39m             \u001b[38;5;28mself\u001b[39m.stderr = io.TextIOWrapper(\u001b[38;5;28mself\u001b[39m.stderr,\n\u001b[32m   1037\u001b[39m                     encoding=encoding, errors=errors)\n\u001b[32m-> \u001b[39m\u001b[32m1039\u001b[39m     \u001b[38;5;28;43mself\u001b[39;49m\u001b[43m.\u001b[49m\u001b[43m_execute_child\u001b[49m\u001b[43m(\u001b[49m\u001b[43margs\u001b[49m\u001b[43m,\u001b[49m\u001b[43m \u001b[49m\u001b[43mexecutable\u001b[49m\u001b[43m,\u001b[49m\u001b[43m \u001b[49m\u001b[43mpreexec_fn\u001b[49m\u001b[43m,\u001b[49m\u001b[43m \u001b[49m\u001b[43mclose_fds\u001b[49m\u001b[43m,\u001b[49m\n\u001b[32m   1040\u001b[39m \u001b[43m                        \u001b[49m\u001b[43mpass_fds\u001b[49m\u001b[43m,\u001b[49m\u001b[43m \u001b[49m\u001b[43mcwd\u001b[49m\u001b[43m,\u001b[49m\u001b[43m \u001b[49m\u001b[43menv\u001b[49m\u001b[43m,\u001b[49m\n\u001b[32m   1041\u001b[39m \u001b[43m                        \u001b[49m\u001b[43mstartupinfo\u001b[49m\u001b[43m,\u001b[49m\u001b[43m \u001b[49m\u001b[43mcreationflags\u001b[49m\u001b[43m,\u001b[49m\u001b[43m \u001b[49m\u001b[43mshell\u001b[49m\u001b[43m,\u001b[49m\n\u001b[32m   1042\u001b[39m \u001b[43m                        \u001b[49m\u001b[43mp2cread\u001b[49m\u001b[43m,\u001b[49m\u001b[43m \u001b[49m\u001b[43mp2cwrite\u001b[49m\u001b[43m,\u001b[49m\n\u001b[32m   1043\u001b[39m \u001b[43m                        \u001b[49m\u001b[43mc2pread\u001b[49m\u001b[43m,\u001b[49m\u001b[43m \u001b[49m\u001b[43mc2pwrite\u001b[49m\u001b[43m,\u001b[49m\n\u001b[32m   1044\u001b[39m \u001b[43m                        \u001b[49m\u001b[43merrread\u001b[49m\u001b[43m,\u001b[49m\u001b[43m \u001b[49m\u001b[43merrwrite\u001b[49m\u001b[43m,\u001b[49m\n\u001b[32m   1045\u001b[39m \u001b[43m                        \u001b[49m\u001b[43mrestore_signals\u001b[49m\u001b[43m,\u001b[49m\n\u001b[32m   1046\u001b[39m \u001b[43m                        \u001b[49m\u001b[43mgid\u001b[49m\u001b[43m,\u001b[49m\u001b[43m \u001b[49m\u001b[43mgids\u001b[49m\u001b[43m,\u001b[49m\u001b[43m \u001b[49m\u001b[43muid\u001b[49m\u001b[43m,\u001b[49m\u001b[43m \u001b[49m\u001b[43mumask\u001b[49m\u001b[43m,\u001b[49m\n\u001b[32m   1047\u001b[39m \u001b[43m                        \u001b[49m\u001b[43mstart_new_session\u001b[49m\u001b[43m,\u001b[49m\u001b[43m \u001b[49m\u001b[43mprocess_group\u001b[49m\u001b[43m)\u001b[49m\n\u001b[32m   1048\u001b[39m \u001b[38;5;28;01mexcept\u001b[39;00m:\n\u001b[32m   1049\u001b[39m     \u001b[38;5;66;03m# Cleanup if the child failed starting.\u001b[39;00m\n\u001b[32m   1050\u001b[39m     \u001b[38;5;28;01mfor\u001b[39;00m f \u001b[38;5;129;01min\u001b[39;00m \u001b[38;5;28mfilter\u001b[39m(\u001b[38;5;28;01mNone\u001b[39;00m, (\u001b[38;5;28mself\u001b[39m.stdin, \u001b[38;5;28mself\u001b[39m.stdout, \u001b[38;5;28mself\u001b[39m.stderr)):\n",
      "\u001b[36mFile \u001b[39m\u001b[32m~\\AppData\\Local\\Programs\\Python\\Python313\\Lib\\subprocess.py:1554\u001b[39m, in \u001b[36mPopen._execute_child\u001b[39m\u001b[34m(self, args, executable, preexec_fn, close_fds, pass_fds, cwd, env, startupinfo, creationflags, shell, p2cread, p2cwrite, c2pread, c2pwrite, errread, errwrite, unused_restore_signals, unused_gid, unused_gids, unused_uid, unused_umask, unused_start_new_session, unused_process_group)\u001b[39m\n\u001b[32m   1552\u001b[39m \u001b[38;5;66;03m# Start the process\u001b[39;00m\n\u001b[32m   1553\u001b[39m \u001b[38;5;28;01mtry\u001b[39;00m:\n\u001b[32m-> \u001b[39m\u001b[32m1554\u001b[39m     hp, ht, pid, tid = \u001b[43m_winapi\u001b[49m\u001b[43m.\u001b[49m\u001b[43mCreateProcess\u001b[49m\u001b[43m(\u001b[49m\u001b[43mexecutable\u001b[49m\u001b[43m,\u001b[49m\u001b[43m \u001b[49m\u001b[43margs\u001b[49m\u001b[43m,\u001b[49m\n\u001b[32m   1555\u001b[39m \u001b[43m                             \u001b[49m\u001b[38;5;66;43;03m# no special security\u001b[39;49;00m\n\u001b[32m   1556\u001b[39m \u001b[43m                             \u001b[49m\u001b[38;5;28;43;01mNone\u001b[39;49;00m\u001b[43m,\u001b[49m\u001b[43m \u001b[49m\u001b[38;5;28;43;01mNone\u001b[39;49;00m\u001b[43m,\u001b[49m\n\u001b[32m   1557\u001b[39m \u001b[43m                             \u001b[49m\u001b[38;5;28;43mint\u001b[39;49m\u001b[43m(\u001b[49m\u001b[38;5;129;43;01mnot\u001b[39;49;00m\u001b[43m \u001b[49m\u001b[43mclose_fds\u001b[49m\u001b[43m)\u001b[49m\u001b[43m,\u001b[49m\n\u001b[32m   1558\u001b[39m \u001b[43m                             \u001b[49m\u001b[43mcreationflags\u001b[49m\u001b[43m,\u001b[49m\n\u001b[32m   1559\u001b[39m \u001b[43m                             \u001b[49m\u001b[43menv\u001b[49m\u001b[43m,\u001b[49m\n\u001b[32m   1560\u001b[39m \u001b[43m                             \u001b[49m\u001b[43mcwd\u001b[49m\u001b[43m,\u001b[49m\n\u001b[32m   1561\u001b[39m \u001b[43m                             \u001b[49m\u001b[43mstartupinfo\u001b[49m\u001b[43m)\u001b[49m\n\u001b[32m   1562\u001b[39m \u001b[38;5;28;01mfinally\u001b[39;00m:\n\u001b[32m   1563\u001b[39m     \u001b[38;5;66;03m# Child is launched. Close the parent's copy of those pipe\u001b[39;00m\n\u001b[32m   1564\u001b[39m     \u001b[38;5;66;03m# handles that only the child should have open.  You need\u001b[39;00m\n\u001b[32m   (...)\u001b[39m\u001b[32m   1567\u001b[39m     \u001b[38;5;66;03m# pipe will not close when the child process exits and the\u001b[39;00m\n\u001b[32m   1568\u001b[39m     \u001b[38;5;66;03m# ReadFile will hang.\u001b[39;00m\n\u001b[32m   1569\u001b[39m     \u001b[38;5;28mself\u001b[39m._close_pipe_fds(p2cread, p2cwrite,\n\u001b[32m   1570\u001b[39m                          c2pread, c2pwrite,\n\u001b[32m   1571\u001b[39m                          errread, errwrite)\n",
      "\u001b[31mFileNotFoundError\u001b[39m: [WinError 2] The system cannot find the file specified"
     ]
    }
   ],
   "source": [
    "!pip install emoji"
   ]
  },
  {
   "cell_type": "code",
   "execution_count": 110,
   "id": "0ef5af1a-3d8e-4201-a805-4a833050fcce",
   "metadata": {},
   "outputs": [
    {
     "name": "stdout",
     "output_type": "stream",
     "text": [
      "Current directory :  C:\\Users\\ADMIN\\Desktop\\Jupyter folder\n"
     ]
    }
   ],
   "source": [
    "import os \n",
    "print('Current directory : ', os.getcwd())"
   ]
  },
  {
   "cell_type": "code",
   "execution_count": 111,
   "id": "ef2097e5-08fc-4df5-9a17-1bed7ceb98f9",
   "metadata": {},
   "outputs": [
    {
     "name": "stdout",
     "output_type": "stream",
     "text": [
      "['.ipynb_checkpoints', 'Modules.ipynb', 'polymorphism.ipynb', 'Practice 1.ipynb', 'practice 16aug.ipynb', 'practice 2.ipynb', 'Practice spot.ipynb', 'Practice(Question).ipynb', 'practicing 15 aug.ipynb', 'practicing 16 aug 2.ipynb', 'practicing 17 aug.ipynb', 'practicing.ipynb', 'Untitled.ipynb']\n"
     ]
    }
   ],
   "source": [
    "print(os.listdir())"
   ]
  },
  {
   "cell_type": "code",
   "execution_count": 117,
   "id": "85592bb5-fcaa-4ec7-80f7-98ba2cec6524",
   "metadata": {},
   "outputs": [
    {
     "name": "stdout",
     "output_type": "stream",
     "text": [
      "Overwriting mymodule.py\n"
     ]
    }
   ],
   "source": [
    "%%writefile mymodule.py\n",
    "\n",
    "def greet(name):\n",
    "    return (f'hello {name}')\n",
    "def add(a,b):\n",
    "    return a+b"
   ]
  },
  {
   "cell_type": "code",
   "execution_count": 118,
   "id": "9aa06e4a-8174-449d-b16b-bdf5769bef5c",
   "metadata": {},
   "outputs": [
    {
     "name": "stdout",
     "output_type": "stream",
     "text": [
      "hello Yathishwar\n",
      "10\n"
     ]
    }
   ],
   "source": [
    "import mymodule\n",
    "print(mymodule.greet('Yathishwar'))\n",
    "print(mymodule.add(6,4))"
   ]
  },
  {
   "cell_type": "code",
   "execution_count": 131,
   "id": "2fcd79aa-0877-4a0b-b909-14a834951209",
   "metadata": {},
   "outputs": [
    {
     "name": "stdout",
     "output_type": "stream",
     "text": [
      "Overwriting yathishmodule.py\n"
     ]
    }
   ],
   "source": [
    "%%writefile yathishmodule.py\n",
    "def greet(name):\n",
    "    return f'hello {name}'\n",
    "def add(x,y):\n",
    "    return x+y\n",
    "    "
   ]
  },
  {
   "cell_type": "code",
   "execution_count": 133,
   "id": "16eccaa5-625c-4278-a2d1-0aa3f3fe8b61",
   "metadata": {},
   "outputs": [
    {
     "name": "stdout",
     "output_type": "stream",
     "text": [
      "hello Naveen kumar\n"
     ]
    },
    {
     "ename": "NameError",
     "evalue": "name 'a' is not defined",
     "output_type": "error",
     "traceback": [
      "\u001b[31m---------------------------------------------------------------------------\u001b[39m",
      "\u001b[31mNameError\u001b[39m                                 Traceback (most recent call last)",
      "\u001b[36mCell\u001b[39m\u001b[36m \u001b[39m\u001b[32mIn[133]\u001b[39m\u001b[32m, line 3\u001b[39m\n\u001b[32m      1\u001b[39m \u001b[38;5;28;01mimport\u001b[39;00m\u001b[38;5;250m \u001b[39m\u001b[34;01myathishmodule\u001b[39;00m\n\u001b[32m      2\u001b[39m \u001b[38;5;28mprint\u001b[39m(yathishmodule.greet(\u001b[33m'\u001b[39m\u001b[33mNaveen kumar\u001b[39m\u001b[33m'\u001b[39m))\n\u001b[32m----> \u001b[39m\u001b[32m3\u001b[39m \u001b[38;5;28mprint\u001b[39m(\u001b[43myathishmodule\u001b[49m\u001b[43m.\u001b[49m\u001b[43madd\u001b[49m\u001b[43m(\u001b[49m\u001b[32;43m25\u001b[39;49m\u001b[43m,\u001b[49m\u001b[32;43m75\u001b[39;49m\u001b[43m)\u001b[49m)\n",
      "\u001b[36mFile \u001b[39m\u001b[32m~\\Desktop\\Jupyter folder\\yathishmodule.py:4\u001b[39m, in \u001b[36madd\u001b[39m\u001b[34m(x, y)\u001b[39m\n\u001b[32m      3\u001b[39m \u001b[38;5;28;01mdef\u001b[39;00m\u001b[38;5;250m \u001b[39m\u001b[34madd\u001b[39m(x,y):\n\u001b[32m----> \u001b[39m\u001b[32m4\u001b[39m     \u001b[38;5;28;01mreturn\u001b[39;00m \u001b[43ma\u001b[49m+b\n",
      "\u001b[31mNameError\u001b[39m: name 'a' is not defined"
     ]
    }
   ],
   "source": [
    "import yathishmodule\n",
    "print(yathishmodule.greet('Naveen kumar'))\n",
    "print(yathishmodule.add(25,75))"
   ]
  },
  {
   "cell_type": "code",
   "execution_count": 135,
   "id": "74a2de71-fe85-41b9-850c-649cf6729641",
   "metadata": {},
   "outputs": [
    {
     "name": "stdout",
     "output_type": "stream",
     "text": [
      "Writing yathish.py\n"
     ]
    }
   ],
   "source": [
    "%%writefile yathish.py\n",
    "def greet(name):\n",
    "    return f'hello {name}'\n",
    "def add(x,y):\n",
    "    return x+y"
   ]
  },
  {
   "cell_type": "code",
   "execution_count": 136,
   "id": "767b82dd-c7f1-4068-bd12-6308a40c0972",
   "metadata": {},
   "outputs": [
    {
     "name": "stdout",
     "output_type": "stream",
     "text": [
      "hello Naveen kumar\n",
      "100\n"
     ]
    }
   ],
   "source": [
    "import yathish\n",
    "print(yathish.greet('Naveen kumar'))\n",
    "print(yathish.add(25,75))"
   ]
  },
  {
   "cell_type": "code",
   "execution_count": 138,
   "id": "6d39def6-7b27-440e-9a80-96a0489448b4",
   "metadata": {},
   "outputs": [
    {
     "name": "stdout",
     "output_type": "stream",
     "text": [
      "     June 2005\n",
      "Mo Tu We Th Fr Sa Su\n",
      "       1  2  3  4  5\n",
      " 6  7  8  9 10 11 12\n",
      "13 14 15 16 17 18 19\n",
      "20 21 22 23 24 25 26\n",
      "27 28 29 30\n",
      "\n"
     ]
    }
   ],
   "source": [
    "import calendar\n",
    "print(calendar.month(2005,6))"
   ]
  },
  {
   "cell_type": "code",
   "execution_count": 139,
   "id": "3eb135c8-e860-4855-9f8b-6e5b6bfe95cf",
   "metadata": {},
   "outputs": [
    {
     "name": "stdout",
     "output_type": "stream",
     "text": [
      "    January 2007\n",
      "Mo Tu We Th Fr Sa Su\n",
      " 1  2  3  4  5  6  7\n",
      " 8  9 10 11 12 13 14\n",
      "15 16 17 18 19 20 21\n",
      "22 23 24 25 26 27 28\n",
      "29 30 31\n",
      "\n"
     ]
    }
   ],
   "source": [
    "print(calendar.month(2007,1))"
   ]
  },
  {
   "cell_type": "code",
   "execution_count": 141,
   "id": "fb123602-89fb-438d-ba9a-6ecff1e7f564",
   "metadata": {},
   "outputs": [
    {
     "name": "stdout",
     "output_type": "stream",
     "text": [
      "18-08-2025 12:40:53\n"
     ]
    }
   ],
   "source": [
    "import datetime\n",
    "now = datetime.datetime.now()\n",
    "print(now.strftime('%d-%m-%Y %H:%M:%S'))"
   ]
  },
  {
   "cell_type": "code",
   "execution_count": 142,
   "id": "bf8559ad-e1f7-4efc-a4a3-aec4dbc1f9f1",
   "metadata": {},
   "outputs": [
    {
     "name": "stdout",
     "output_type": "stream",
     "text": [
      "18-08-2025 12:41:05\n"
     ]
    }
   ],
   "source": [
    "import datetime\n",
    "now = datetime.datetime.now()\n",
    "print(now.strftime('%d-%m-%Y %H:%M:%S'))"
   ]
  },
  {
   "cell_type": "code",
   "execution_count": 144,
   "id": "feced7b1-cc74-43de-a7c1-96f162b9aede",
   "metadata": {},
   "outputs": [
    {
     "name": "stdout",
     "output_type": "stream",
     "text": [
      "C:\\Users\\ADMIN\\Desktop\\Jupyter folder\n",
      "['.ipynb_checkpoints', 'Modules.ipynb', 'mymodule.py', 'polymorphism.ipynb', 'Practice 1.ipynb', 'practice 16aug.ipynb', 'practice 2.ipynb', 'Practice spot.ipynb', 'Practice(Question).ipynb', 'practicing 15 aug.ipynb', 'practicing 16 aug 2.ipynb', 'practicing 17 aug.ipynb', 'practicing.ipynb', 'Untitled.ipynb', 'yathish.py', 'yathishmodule.py', '__pycache__']\n"
     ]
    }
   ],
   "source": [
    "import os\n",
    "print(os.getcwd())\n",
    "\n",
    "print(os.listdir())"
   ]
  },
  {
   "cell_type": "code",
   "execution_count": 5,
   "id": "e97e2ca5-fb69-4109-b305-2cfe05a1d2aa",
   "metadata": {},
   "outputs": [
    {
     "name": "stdout",
     "output_type": "stream",
     "text": [
      "2025-08-24 00:01:58.137477\n"
     ]
    },
    {
     "data": {
      "text/plain": [
       "datetime.datetime(2025, 8, 24, 0, 1, 58, 137477)"
      ]
     },
     "execution_count": 5,
     "metadata": {},
     "output_type": "execute_result"
    }
   ],
   "source": [
    "import datetime\n",
    "now = datetime.datetime.now()\n",
    "print(now)\n",
    "now"
   ]
  }
 ],
 "metadata": {
  "kernelspec": {
   "display_name": "Python 3 (ipykernel)",
   "language": "python",
   "name": "python3"
  },
  "language_info": {
   "codemirror_mode": {
    "name": "ipython",
    "version": 3
   },
   "file_extension": ".py",
   "mimetype": "text/x-python",
   "name": "python",
   "nbconvert_exporter": "python",
   "pygments_lexer": "ipython3",
   "version": "3.13.5"
  }
 },
 "nbformat": 4,
 "nbformat_minor": 5
}
