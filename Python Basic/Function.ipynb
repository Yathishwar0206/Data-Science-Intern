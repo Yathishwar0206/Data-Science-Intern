{
 "cells": [
  {
   "cell_type": "code",
   "execution_count": null,
   "metadata": {
    "id": "OfetMQWqVHxm"
   },
   "outputs": [],
   "source": [
    "# Function\n",
    "def name(a):\n",
    "  print(f'Hello {a}')"
   ]
  },
  {
   "cell_type": "code",
   "execution_count": null,
   "metadata": {
    "colab": {
     "base_uri": "https://localhost:8080/"
    },
    "executionInfo": {
     "elapsed": 14,
     "status": "ok",
     "timestamp": 1754029966739,
     "user": {
      "displayName": "Babu Mani",
      "userId": "10034538337864737368"
     },
     "user_tz": -330
    },
    "id": "M-Hs3hubVRyv",
    "outputId": "9fd8cc3c-7443-4996-81b9-9891d491b118"
   },
   "outputs": [
    {
     "name": "stdout",
     "output_type": "stream",
     "text": [
      "Hello Yathishwar\n"
     ]
    }
   ],
   "source": [
    "name('Yathishwar')"
   ]
  },
  {
   "cell_type": "code",
   "execution_count": null,
   "metadata": {
    "id": "eqDgZOJpT0PW"
   },
   "outputs": [],
   "source": [
    "def add(a,b):\n",
    "  return(a+b)"
   ]
  },
  {
   "cell_type": "code",
   "execution_count": null,
   "metadata": {
    "colab": {
     "base_uri": "https://localhost:8080/"
    },
    "executionInfo": {
     "elapsed": 22,
     "status": "ok",
     "timestamp": 1754030000561,
     "user": {
      "displayName": "Babu Mani",
      "userId": "10034538337864737368"
     },
     "user_tz": -330
    },
    "id": "kf9QdIQ6VZ8z",
    "outputId": "1a72e4e1-e853-4df6-ee45-7322071081cb"
   },
   "outputs": [
    {
     "data": {
      "text/plain": [
       "9"
      ]
     },
     "execution_count": 27,
     "metadata": {},
     "output_type": "execute_result"
    }
   ],
   "source": [
    "add(4,5)"
   ]
  },
  {
   "cell_type": "code",
   "execution_count": null,
   "metadata": {
    "id": "USpcveLZWUeo"
   },
   "outputs": [],
   "source": [
    "def num(a,b):\n",
    "  return(a+b,a-b,a*b,a**b,a/b,a//b)"
   ]
  },
  {
   "cell_type": "code",
   "execution_count": null,
   "metadata": {
    "colab": {
     "base_uri": "https://localhost:8080/"
    },
    "executionInfo": {
     "elapsed": 30,
     "status": "ok",
     "timestamp": 1754030296063,
     "user": {
      "displayName": "Babu Mani",
      "userId": "10034538337864737368"
     },
     "user_tz": -330
    },
    "id": "1qRu8iT9WgoO",
    "outputId": "e7a77ec8-b668-4799-85fc-dd12bef55550"
   },
   "outputs": [
    {
     "data": {
      "text/plain": [
       "(15, 5, 50, 100000, 2.0, 2)"
      ]
     },
     "execution_count": 32,
     "metadata": {},
     "output_type": "execute_result"
    }
   ],
   "source": [
    "num(10,5)"
   ]
  },
  {
   "cell_type": "code",
   "execution_count": null,
   "metadata": {
    "id": "dlYjcl3XVto_"
   },
   "outputs": [],
   "source": [
    "def number(number):\n",
    "  if number%2==0:\n",
    "    print('Even')\n",
    "  else:\n",
    "    print('Odd')\n"
   ]
  },
  {
   "cell_type": "code",
   "execution_count": null,
   "metadata": {
    "colab": {
     "base_uri": "https://localhost:8080/"
    },
    "executionInfo": {
     "elapsed": 76,
     "status": "ok",
     "timestamp": 1754030214165,
     "user": {
      "displayName": "Babu Mani",
      "userId": "10034538337864737368"
     },
     "user_tz": -330
    },
    "id": "om6S7cCpWLyi",
    "outputId": "304232d5-30d1-4da9-f810-327f73592769"
   },
   "outputs": [
    {
     "name": "stdout",
     "output_type": "stream",
     "text": [
      "Even\n"
     ]
    }
   ],
   "source": [
    "number(4)"
   ]
  },
  {
   "cell_type": "code",
   "execution_count": null,
   "metadata": {
    "colab": {
     "base_uri": "https://localhost:8080/"
    },
    "executionInfo": {
     "elapsed": 89,
     "status": "ok",
     "timestamp": 1754030223980,
     "user": {
      "displayName": "Babu Mani",
      "userId": "10034538337864737368"
     },
     "user_tz": -330
    },
    "id": "vd4xOuS6WRdT",
    "outputId": "4304a36e-d363-4993-e671-02767423019f"
   },
   "outputs": [
    {
     "name": "stdout",
     "output_type": "stream",
     "text": [
      "Odd\n"
     ]
    }
   ],
   "source": [
    "number(5)"
   ]
  },
  {
   "cell_type": "code",
   "execution_count": null,
   "metadata": {
    "id": "oMfTFWKCWp_E"
   },
   "outputs": [],
   "source": [
    "def numb(number):\n",
    "  if number/2==0:\n",
    "    print('It is Even')\n",
    "  else:\n",
    "    print('It is Odd')"
   ]
  },
  {
   "cell_type": "code",
   "execution_count": null,
   "metadata": {
    "colab": {
     "base_uri": "https://localhost:8080/"
    },
    "executionInfo": {
     "elapsed": 14,
     "status": "ok",
     "timestamp": 1754030408463,
     "user": {
      "displayName": "Babu Mani",
      "userId": "10034538337864737368"
     },
     "user_tz": -330
    },
    "id": "ITGRaRtWW9AV",
    "outputId": "e5d7932a-f155-46c3-a199-629945b0c2be"
   },
   "outputs": [
    {
     "name": "stdout",
     "output_type": "stream",
     "text": [
      "Even\n"
     ]
    }
   ],
   "source": [
    "number(10)"
   ]
  },
  {
   "cell_type": "code",
   "execution_count": null,
   "metadata": {
    "colab": {
     "base_uri": "https://localhost:8080/"
    },
    "executionInfo": {
     "elapsed": 17,
     "status": "ok",
     "timestamp": 1754030419820,
     "user": {
      "displayName": "Babu Mani",
      "userId": "10034538337864737368"
     },
     "user_tz": -330
    },
    "id": "j42FUOJpXAoH",
    "outputId": "3f9162db-3aea-4e28-d71e-3d7c5bdb9657"
   },
   "outputs": [
    {
     "name": "stdout",
     "output_type": "stream",
     "text": [
      "Odd\n"
     ]
    }
   ],
   "source": [
    "number(9)"
   ]
  },
  {
   "cell_type": "code",
   "execution_count": null,
   "metadata": {
    "id": "RZJctcNpXMer"
   },
   "outputs": [],
   "source": [
    "def numb(number):\n",
    "  if number-2==0:\n",
    "    print('It is Even')\n",
    "  else:\n",
    "    print('It is Odd')"
   ]
  },
  {
   "cell_type": "code",
   "execution_count": null,
   "metadata": {
    "colab": {
     "base_uri": "https://localhost:8080/"
    },
    "executionInfo": {
     "elapsed": 10,
     "status": "ok",
     "timestamp": 1754030551850,
     "user": {
      "displayName": "Babu Mani",
      "userId": "10034538337864737368"
     },
     "user_tz": -330
    },
    "id": "34PODOXMXPy6",
    "outputId": "0804e471-45d5-47cf-8359-2a779ad1506c"
   },
   "outputs": [
    {
     "name": "stdout",
     "output_type": "stream",
     "text": [
      "Odd\n"
     ]
    }
   ],
   "source": [
    "number(11)"
   ]
  },
  {
   "cell_type": "code",
   "execution_count": null,
   "metadata": {
    "id": "djVkoU-IX4y1"
   },
   "outputs": [],
   "source": [
    "def name(a):\n",
    "  if ('Meghna_died'):\n",
    "    print('Suriya join in the Indian Army')\n",
    "  else:\n",
    "    print('Suriya not join in the Indian Army')"
   ]
  },
  {
   "cell_type": "code",
   "execution_count": null,
   "metadata": {
    "colab": {
     "base_uri": "https://localhost:8080/"
    },
    "executionInfo": {
     "elapsed": 8,
     "status": "ok",
     "timestamp": 1754030954549,
     "user": {
      "displayName": "Babu Mani",
      "userId": "10034538337864737368"
     },
     "user_tz": -330
    },
    "id": "_O_ciT9hY_A2",
    "outputId": "03739e8c-c315-4cdc-ad0f-0d900adeba1f"
   },
   "outputs": [
    {
     "name": "stdout",
     "output_type": "stream",
     "text": [
      "Suriya join in the Indian Army\n"
     ]
    }
   ],
   "source": [
    "name('meghna_died')"
   ]
  },
  {
   "cell_type": "code",
   "execution_count": null,
   "metadata": {
    "id": "vgLhPRuVPYnX"
   },
   "outputs": [],
   "source": [
    "def Mark(mark):\n",
    "  if mark >=90:\n",
    "    print('Grade O')\n",
    "  elif mark>=80:\n",
    "    print('Grade A+')\n",
    "  elif mark>=70:\n",
    "    print('Grade A')\n",
    "  elif mark>=60:\n",
    "    print('Grade B+')\n",
    "  elif mark>=50:\n",
    "    print('Grade B')\n",
    "  elif mark>=40:\n",
    "    print('Grade C')\n",
    "  else:\n",
    "    print('Fail')\n"
   ]
  },
  {
   "cell_type": "code",
   "execution_count": null,
   "metadata": {
    "colab": {
     "base_uri": "https://localhost:8080/"
    },
    "executionInfo": {
     "elapsed": 15,
     "status": "ok",
     "timestamp": 1754280454649,
     "user": {
      "displayName": "Babu Mani",
      "userId": "10034538337864737368"
     },
     "user_tz": -330
    },
    "id": "iZ2kY5ydQb26",
    "outputId": "74d6c373-0993-4a3f-8614-a1fbae6ae3a6"
   },
   "outputs": [
    {
     "name": "stdout",
     "output_type": "stream",
     "text": [
      "Grade O\n"
     ]
    }
   ],
   "source": [
    "Mark(90)"
   ]
  },
  {
   "cell_type": "code",
   "execution_count": null,
   "metadata": {
    "id": "vKULsV9iRkuO"
   },
   "outputs": [],
   "source": [
    "def result(score):\n",
    "  if score>=40:\n",
    "    print('Pass')\n",
    "  else:\n",
    "    print('Fail')"
   ]
  },
  {
   "cell_type": "code",
   "execution_count": null,
   "metadata": {
    "colab": {
     "base_uri": "https://localhost:8080/"
    },
    "executionInfo": {
     "elapsed": 12,
     "status": "ok",
     "timestamp": 1754280832476,
     "user": {
      "displayName": "Babu Mani",
      "userId": "10034538337864737368"
     },
     "user_tz": -330
    },
    "id": "Ww2aK0AjRvk6",
    "outputId": "6d588388-dd3f-4759-b848-88f4066334dc"
   },
   "outputs": [
    {
     "name": "stdout",
     "output_type": "stream",
     "text": [
      "Pass\n"
     ]
    }
   ],
   "source": [
    "result(95)"
   ]
  },
  {
   "cell_type": "code",
   "execution_count": null,
   "metadata": {
    "id": "cKZs9CwcST6q"
   },
   "outputs": [],
   "source": [
    "def Class(percentage):\n",
    "  if percentage>=80:\n",
    "    print('Distinction')\n",
    "  elif percentage>=60:\n",
    "    print('First class')\n",
    "  elif percentage>=50:\n",
    "    print('Second class')\n",
    "  elif percentage>=40:\n",
    "    print('Third class')\n",
    "  else:\n",
    "    print('NIL')"
   ]
  },
  {
   "cell_type": "code",
   "execution_count": null,
   "metadata": {
    "colab": {
     "base_uri": "https://localhost:8080/"
    },
    "executionInfo": {
     "elapsed": 18,
     "status": "ok",
     "timestamp": 1754281001927,
     "user": {
      "displayName": "Babu Mani",
      "userId": "10034538337864737368"
     },
     "user_tz": -330
    },
    "id": "SAoCYvwpS4F9",
    "outputId": "3f5ff001-341d-46b4-9866-896962ac01c4"
   },
   "outputs": [
    {
     "name": "stdout",
     "output_type": "stream",
     "text": [
      "Distinction\n"
     ]
    }
   ],
   "source": [
    "Class(95)"
   ]
  },
  {
   "cell_type": "code",
   "execution_count": null,
   "metadata": {
    "colab": {
     "base_uri": "https://localhost:8080/"
    },
    "executionInfo": {
     "elapsed": 29,
     "status": "ok",
     "timestamp": 1754281023770,
     "user": {
      "displayName": "Babu Mani",
      "userId": "10034538337864737368"
     },
     "user_tz": -330
    },
    "id": "0yRmUPdFS9lh",
    "outputId": "846139bc-ce74-4fef-d142-3a66e46ee56a"
   },
   "outputs": [
    {
     "name": "stdout",
     "output_type": "stream",
     "text": [
      "First class\n"
     ]
    }
   ],
   "source": [
    "Class(78)"
   ]
  },
  {
   "cell_type": "code",
   "execution_count": null,
   "metadata": {
    "colab": {
     "base_uri": "https://localhost:8080/"
    },
    "executionInfo": {
     "elapsed": 16,
     "status": "ok",
     "timestamp": 1754281046089,
     "user": {
      "displayName": "Babu Mani",
      "userId": "10034538337864737368"
     },
     "user_tz": -330
    },
    "id": "ywq8WF5nTCT3",
    "outputId": "2a8b494a-20f0-4e54-85f9-71d486a1ae2e"
   },
   "outputs": [
    {
     "name": "stdout",
     "output_type": "stream",
     "text": [
      "First class\n"
     ]
    }
   ],
   "source": [
    "Class(75.56)"
   ]
  },
  {
   "cell_type": "code",
   "execution_count": null,
   "metadata": {
    "colab": {
     "base_uri": "https://localhost:8080/"
    },
    "executionInfo": {
     "elapsed": 8,
     "status": "ok",
     "timestamp": 1754281069730,
     "user": {
      "displayName": "Babu Mani",
      "userId": "10034538337864737368"
     },
     "user_tz": -330
    },
    "id": "h20grAqxTJB0",
    "outputId": "2f14f661-36e4-40ae-97ea-b75cedf75e05"
   },
   "outputs": [
    {
     "name": "stdout",
     "output_type": "stream",
     "text": [
      "Second class\n"
     ]
    }
   ],
   "source": [
    "Class(55)"
   ]
  },
  {
   "cell_type": "code",
   "execution_count": null,
   "metadata": {
    "colab": {
     "base_uri": "https://localhost:8080/"
    },
    "executionInfo": {
     "elapsed": 16,
     "status": "ok",
     "timestamp": 1754281090756,
     "user": {
      "displayName": "Babu Mani",
      "userId": "10034538337864737368"
     },
     "user_tz": -330
    },
    "id": "PIibC6ezTNe9",
    "outputId": "047a2e41-7cbc-4adb-ade1-4ab3b2834fdc"
   },
   "outputs": [
    {
     "name": "stdout",
     "output_type": "stream",
     "text": [
      "Third class\n"
     ]
    }
   ],
   "source": [
    "Class(48.1)"
   ]
  },
  {
   "cell_type": "code",
   "execution_count": null,
   "metadata": {
    "id": "ajs1O2uqT_9Y"
   },
   "outputs": [],
   "source": [
    "# Lenght of the String\n",
    "def String_length(s):\n",
    "  return len(s)"
   ]
  },
  {
   "cell_type": "code",
   "execution_count": null,
   "metadata": {
    "colab": {
     "base_uri": "https://localhost:8080/"
    },
    "executionInfo": {
     "elapsed": 33,
     "status": "ok",
     "timestamp": 1754281716864,
     "user": {
      "displayName": "Babu Mani",
      "userId": "10034538337864737368"
     },
     "user_tz": -330
    },
    "id": "dqdqjb76Vlig",
    "outputId": "e3ec5d24-f0a7-4bf7-9993-70932f7aad59"
   },
   "outputs": [
    {
     "data": {
      "text/plain": [
       "10"
      ]
     },
     "execution_count": 32,
     "metadata": {},
     "output_type": "execute_result"
    }
   ],
   "source": [
    "String_length('Ajay kumar')"
   ]
  },
  {
   "cell_type": "code",
   "execution_count": null,
   "metadata": {
    "id": "nx0zKRjzVsbN"
   },
   "outputs": [],
   "source": [
    "# Print numbers from 1 to n\n",
    "def print_number(n):\n",
    "  for i in range(1,n+1):\n",
    "    print(i)"
   ]
  },
  {
   "cell_type": "code",
   "execution_count": null,
   "metadata": {
    "colab": {
     "base_uri": "https://localhost:8080/"
    },
    "executionInfo": {
     "elapsed": 29,
     "status": "ok",
     "timestamp": 1754281926471,
     "user": {
      "displayName": "Babu Mani",
      "userId": "10034538337864737368"
     },
     "user_tz": -330
    },
    "id": "_4j1pc9yWPZZ",
    "outputId": "b449e282-b78a-4c2e-d8cb-d0f55545c6b8"
   },
   "outputs": [
    {
     "name": "stdout",
     "output_type": "stream",
     "text": [
      "1\n",
      "2\n",
      "3\n",
      "4\n",
      "5\n",
      "6\n",
      "7\n",
      "8\n",
      "9\n",
      "10\n",
      "11\n",
      "12\n"
     ]
    }
   ],
   "source": [
    "print_number(12)"
   ]
  },
  {
   "cell_type": "code",
   "execution_count": null,
   "metadata": {
    "id": "Pt6YtKeZWfJN"
   },
   "outputs": [],
   "source": [
    "# square of number\n",
    "def square(numb):\n",
    "  return numb**2\n"
   ]
  },
  {
   "cell_type": "code",
   "execution_count": null,
   "metadata": {
    "colab": {
     "base_uri": "https://localhost:8080/"
    },
    "executionInfo": {
     "elapsed": 32,
     "status": "ok",
     "timestamp": 1754282047895,
     "user": {
      "displayName": "Babu Mani",
      "userId": "10034538337864737368"
     },
     "user_tz": -330
    },
    "id": "UyDqviO0W2ey",
    "outputId": "cfaebaad-53d0-4b08-da91-3f16214b19b9"
   },
   "outputs": [
    {
     "data": {
      "text/plain": [
       "49"
      ]
     },
     "execution_count": 40,
     "metadata": {},
     "output_type": "execute_result"
    }
   ],
   "source": [
    "square(7)"
   ]
  },
  {
   "cell_type": "code",
   "execution_count": null,
   "metadata": {
    "colab": {
     "base_uri": "https://localhost:8080/"
    },
    "executionInfo": {
     "elapsed": 13,
     "status": "ok",
     "timestamp": 1754282059875,
     "user": {
      "displayName": "Babu Mani",
      "userId": "10034538337864737368"
     },
     "user_tz": -330
    },
    "id": "bZ-tIgCpW8CZ",
    "outputId": "b967ed57-ba70-44a8-c274-cf50d011e807"
   },
   "outputs": [
    {
     "data": {
      "text/plain": [
       "225"
      ]
     },
     "execution_count": 41,
     "metadata": {},
     "output_type": "execute_result"
    }
   ],
   "source": [
    "square(15)"
   ]
  },
  {
   "cell_type": "code",
   "execution_count": null,
   "metadata": {
    "id": "c2pacmilW--8"
   },
   "outputs": [],
   "source": [
    "# find maximum from two numbers\n",
    "def number(a,b):\n",
    "  if a>b:\n",
    "    return a\n",
    "  else:\n",
    "    return b\n"
   ]
  },
  {
   "cell_type": "code",
   "execution_count": null,
   "metadata": {
    "colab": {
     "base_uri": "https://localhost:8080/"
    },
    "executionInfo": {
     "elapsed": 36,
     "status": "ok",
     "timestamp": 1754282234771,
     "user": {
      "displayName": "Babu Mani",
      "userId": "10034538337864737368"
     },
     "user_tz": -330
    },
    "id": "ghmDn3jQXO6f",
    "outputId": "f332c1f8-308f-4f75-e7ff-3518fe41b627"
   },
   "outputs": [
    {
     "data": {
      "text/plain": [
       "6"
      ]
     },
     "execution_count": 43,
     "metadata": {},
     "output_type": "execute_result"
    }
   ],
   "source": [
    "number(6,5)"
   ]
  },
  {
   "cell_type": "code",
   "execution_count": null,
   "metadata": {
    "colab": {
     "base_uri": "https://localhost:8080/"
    },
    "executionInfo": {
     "elapsed": 51,
     "status": "ok",
     "timestamp": 1754282261311,
     "user": {
      "displayName": "Babu Mani",
      "userId": "10034538337864737368"
     },
     "user_tz": -330
    },
    "id": "6BxRPmkGXqXN",
    "outputId": "0beaa264-8691-4c70-defe-4ec1fb9088a1"
   },
   "outputs": [
    {
     "data": {
      "text/plain": [
       "10"
      ]
     },
     "execution_count": 44,
     "metadata": {},
     "output_type": "execute_result"
    }
   ],
   "source": [
    "number(5,10)"
   ]
  },
  {
   "cell_type": "code",
   "execution_count": null,
   "metadata": {
    "id": "JMkzrBRzXzII"
   },
   "outputs": [],
   "source": [
    "# Find minimum from two numbers\n",
    "def numb(x,y):\n",
    "  if x<y:\n",
    "    return x\n",
    "  else:\n",
    "    return y\n"
   ]
  },
  {
   "cell_type": "code",
   "execution_count": null,
   "metadata": {
    "id": "aFJIl5S9oAG4"
   },
   "outputs": [],
   "source": [
    "# Write a function to print numbers from 1 to n.\n",
    "def number(n):\n",
    "  for s in range(1,n+1):\n",
    "    print(s)"
   ]
  },
  {
   "cell_type": "code",
   "execution_count": null,
   "metadata": {
    "colab": {
     "base_uri": "https://localhost:8080/"
    },
    "executionInfo": {
     "elapsed": 17,
     "status": "ok",
     "timestamp": 1754287037126,
     "user": {
      "displayName": "Babu Mani",
      "userId": "10034538337864737368"
     },
     "user_tz": -330
    },
    "id": "E9tVnHpbojFN",
    "outputId": "ddd5bce3-6d00-45b3-c325-dc4b7ce4bc6c"
   },
   "outputs": [
    {
     "name": "stdout",
     "output_type": "stream",
     "text": [
      "1\n",
      "2\n",
      "3\n",
      "4\n",
      "5\n"
     ]
    }
   ],
   "source": [
    "number(5)"
   ]
  },
  {
   "cell_type": "code",
   "execution_count": null,
   "metadata": {
    "id": "-831ZESrorVB"
   },
   "outputs": [],
   "source": [
    "# Write a function to join a list of strings into a single string\n",
    "def string(str1,str2,str3):\n",
    "  return (str1+str2+str3)"
   ]
  },
  {
   "cell_type": "code",
   "execution_count": null,
   "metadata": {
    "colab": {
     "base_uri": "https://localhost:8080/",
     "height": 36
    },
    "executionInfo": {
     "elapsed": 16,
     "status": "ok",
     "timestamp": 1754287306397,
     "user": {
      "displayName": "Babu Mani",
      "userId": "10034538337864737368"
     },
     "user_tz": -330
    },
    "id": "xI6vBZPCpJEG",
    "outputId": "c33e85d7-710b-4371-94a5-20644c24c2bd"
   },
   "outputs": [
    {
     "data": {
      "application/vnd.google.colaboratory.intrinsic+json": {
       "type": "string"
      },
      "text/plain": [
       "'FieldCommanderAjaykumar'"
      ]
     },
     "execution_count": 94,
     "metadata": {},
     "output_type": "execute_result"
    }
   ],
   "source": [
    "string('Field','Commander','Ajaykumar')"
   ]
  },
  {
   "cell_type": "code",
   "execution_count": null,
   "metadata": {
    "id": "HrgoGdYjpmg9"
   },
   "outputs": [],
   "source": [
    "# Write a fuction to count the number of vowels in a word.\n",
    "def alp(vowels):\n",
    "  vowels='aeiouAEIUO'\n",
    "  return vowels.count(vowels)"
   ]
  },
  {
   "cell_type": "code",
   "execution_count": null,
   "metadata": {
    "colab": {
     "base_uri": "https://localhost:8080/"
    },
    "executionInfo": {
     "elapsed": 25,
     "status": "ok",
     "timestamp": 1754287323718,
     "user": {
      "displayName": "Babu Mani",
      "userId": "10034538337864737368"
     },
     "user_tz": -330
    },
    "id": "8Y-5YMq-rAQp",
    "outputId": "0f8adbaf-80aa-4b79-de99-7915028596b5"
   },
   "outputs": [
    {
     "data": {
      "text/plain": [
       "1"
      ]
     },
     "execution_count": 95,
     "metadata": {},
     "output_type": "execute_result"
    }
   ],
   "source": [
    "alp('Letter')"
   ]
  },
  {
   "cell_type": "code",
   "execution_count": null,
   "metadata": {
    "colab": {
     "base_uri": "https://localhost:8080/"
    },
    "executionInfo": {
     "elapsed": 4,
     "status": "ok",
     "timestamp": 1754287528832,
     "user": {
      "displayName": "Babu Mani",
      "userId": "10034538337864737368"
     },
     "user_tz": -330
    },
    "id": "bUQdaRpOrEdC",
    "outputId": "691bc407-2e36-472d-8fb2-d64a945eea79"
   },
   "outputs": [
    {
     "data": {
      "text/plain": [
       "1"
      ]
     },
     "execution_count": 100,
     "metadata": {},
     "output_type": "execute_result"
    }
   ],
   "source": [
    "alp('professor')"
   ]
  },
  {
   "cell_type": "code",
   "execution_count": null,
   "metadata": {
    "id": "urLMSiaNrQPk"
   },
   "outputs": [],
   "source": [
    "# Write a function to reverse a string\n",
    "def name(word):\n",
    "  return word[::-1]"
   ]
  },
  {
   "cell_type": "code",
   "execution_count": null,
   "metadata": {
    "colab": {
     "base_uri": "https://localhost:8080/",
     "height": 36
    },
    "executionInfo": {
     "elapsed": 20,
     "status": "ok",
     "timestamp": 1754287529231,
     "user": {
      "displayName": "Babu Mani",
      "userId": "10034538337864737368"
     },
     "user_tz": -330
    },
    "id": "m6PwAquqrt82",
    "outputId": "d59c35f5-576e-4cd5-a6b9-6b762f73f18d"
   },
   "outputs": [
    {
     "data": {
      "application/vnd.google.colaboratory.intrinsic+json": {
       "type": "string"
      },
      "text/plain": [
       "'rawhsihtaY'"
      ]
     },
     "execution_count": 101,
     "metadata": {},
     "output_type": "execute_result"
    }
   ],
   "source": [
    "name('Yathishwar')"
   ]
  },
  {
   "cell_type": "code",
   "execution_count": null,
   "metadata": {
    "id": "_VTuTt_sr0xh"
   },
   "outputs": [],
   "source": [
    "# Write a maximum to find the maximum of three numbers.\n",
    "def num(a,b,c):\n",
    "  if a>b:\n",
    "    return a\n",
    "  elif b>c:\n",
    "    return b\n",
    "  else:\n",
    "    return c"
   ]
  },
  {
   "cell_type": "code",
   "execution_count": null,
   "metadata": {
    "colab": {
     "base_uri": "https://localhost:8080/"
    },
    "executionInfo": {
     "elapsed": 33,
     "status": "ok",
     "timestamp": 1754287771128,
     "user": {
      "displayName": "Babu Mani",
      "userId": "10034538337864737368"
     },
     "user_tz": -330
    },
    "id": "tIQw8BflsoRV",
    "outputId": "da00f048-daa8-4b05-f1e8-d5d88208214a"
   },
   "outputs": [
    {
     "data": {
      "text/plain": [
       "7"
      ]
     },
     "execution_count": 103,
     "metadata": {},
     "output_type": "execute_result"
    }
   ],
   "source": [
    "num(5,6,7)"
   ]
  },
  {
   "cell_type": "code",
   "execution_count": null,
   "metadata": {
    "id": "AjVuRNsY7-dJ"
   },
   "outputs": [],
   "source": [
    "# Multipy all numbers in a list and return the final product.\n",
    "def multiply_list(numbers):\n",
    "  result=1\n",
    "  for num in numbers:\n",
    "    result*=num\n",
    "    return result"
   ]
  },
  {
   "cell_type": "code",
   "execution_count": null,
   "metadata": {
    "colab": {
     "base_uri": "https://localhost:8080/"
    },
    "executionInfo": {
     "elapsed": 15,
     "status": "ok",
     "timestamp": 1754409341425,
     "user": {
      "displayName": "Babu Mani",
      "userId": "10034538337864737368"
     },
     "user_tz": -330
    },
    "id": "ldAuW09a8V9c",
    "outputId": "665eec39-1798-4829-e417-22ac377baae1"
   },
   "outputs": [
    {
     "data": {
      "text/plain": [
       "1"
      ]
     },
     "execution_count": 25,
     "metadata": {},
     "output_type": "execute_result"
    }
   ],
   "source": [
    "multiply_list([1,2,3,4,5])"
   ]
  },
  {
   "cell_type": "code",
   "execution_count": null,
   "metadata": {
    "id": "civSHF9C9ely"
   },
   "outputs": [],
   "source": [
    "# Check if two words are anagrams\n",
    "def is_anagram(word1,word2):\n",
    "  word1 = word1.replace(\" \",\" \").lower()\n",
    "  word2 = word2.replace(\" \",\" \").lower()\n",
    "  return sorted(word1)==sorted(word2)"
   ]
  },
  {
   "cell_type": "code",
   "execution_count": null,
   "metadata": {
    "colab": {
     "base_uri": "https://localhost:8080/"
    },
    "executionInfo": {
     "elapsed": 33,
     "status": "ok",
     "timestamp": 1754409783420,
     "user": {
      "displayName": "Babu Mani",
      "userId": "10034538337864737368"
     },
     "user_tz": -330
    },
    "id": "NzL0Vz7N-APb",
    "outputId": "113dc440-2d41-435a-8a4c-396d95af1ca7"
   },
   "outputs": [
    {
     "name": "stdout",
     "output_type": "stream",
     "text": [
      "True\n"
     ]
    }
   ],
   "source": [
    "print(is_anagram('appa','papa'))"
   ]
  },
  {
   "cell_type": "code",
   "execution_count": null,
   "metadata": {
    "colab": {
     "base_uri": "https://localhost:8080/"
    },
    "executionInfo": {
     "elapsed": 17,
     "status": "ok",
     "timestamp": 1754409814517,
     "user": {
      "displayName": "Babu Mani",
      "userId": "10034538337864737368"
     },
     "user_tz": -330
    },
    "id": "0Gjbb7-C-OFx",
    "outputId": "3fc06330-862c-458d-8db2-237e6a605edf"
   },
   "outputs": [
    {
     "name": "stdout",
     "output_type": "stream",
     "text": [
      "False\n"
     ]
    }
   ],
   "source": [
    "print(is_anagram('hello','world'))"
   ]
  },
  {
   "cell_type": "code",
   "execution_count": null,
   "metadata": {
    "id": "h1NnwUBn-VHj"
   },
   "outputs": [],
   "source": [
    "# Check if a word is an Isogram\n",
    "def is_isogram(word):\n",
    "  word=word.replace(' ',' ').lower()\n",
    "  return len(set(word))==len(word)"
   ]
  },
  {
   "cell_type": "code",
   "execution_count": null,
   "metadata": {
    "colab": {
     "base_uri": "https://localhost:8080/"
    },
    "executionInfo": {
     "elapsed": 39,
     "status": "ok",
     "timestamp": 1754409957487,
     "user": {
      "displayName": "Babu Mani",
      "userId": "10034538337864737368"
     },
     "user_tz": -330
    },
    "id": "4Bi0haTY-qYf",
    "outputId": "90faf521-bd0c-4804-9a71-768ace401d02"
   },
   "outputs": [
    {
     "name": "stdout",
     "output_type": "stream",
     "text": [
      "True\n"
     ]
    }
   ],
   "source": [
    "print(is_isogram('ak'))"
   ]
  },
  {
   "cell_type": "code",
   "execution_count": null,
   "metadata": {
    "colab": {
     "base_uri": "https://localhost:8080/"
    },
    "executionInfo": {
     "elapsed": 30,
     "status": "ok",
     "timestamp": 1754409985433,
     "user": {
      "displayName": "Babu Mani",
      "userId": "10034538337864737368"
     },
     "user_tz": -330
    },
    "id": "jsq146Xi-4AS",
    "outputId": "b1296fb7-9b17-42d0-c184-93cba98310a2"
   },
   "outputs": [
    {
     "name": "stdout",
     "output_type": "stream",
     "text": [
      "False\n"
     ]
    }
   ],
   "source": [
    "print(is_isogram('ajay'))"
   ]
  },
  {
   "cell_type": "code",
   "execution_count": null,
   "metadata": {
    "id": "-5sLJ8lV-_SO"
   },
   "outputs": [],
   "source": [
    "# Check if a word is a palindrome\n",
    "def is_palindrome(word):\n",
    "  word=word.replace(' ',' ').lower()\n",
    "  return word==word[::-1]\n"
   ]
  },
  {
   "cell_type": "code",
   "execution_count": null,
   "metadata": {
    "colab": {
     "base_uri": "https://localhost:8080/"
    },
    "executionInfo": {
     "elapsed": 118,
     "status": "ok",
     "timestamp": 1754410122144,
     "user": {
      "displayName": "Babu Mani",
      "userId": "10034538337864737368"
     },
     "user_tz": -330
    },
    "id": "_zUYXd9N_a3l",
    "outputId": "d7a11afa-084c-4d91-945c-701e69b51d46"
   },
   "outputs": [
    {
     "name": "stdout",
     "output_type": "stream",
     "text": [
      "True\n"
     ]
    }
   ],
   "source": [
    "print(is_palindrome('mom'))"
   ]
  },
  {
   "cell_type": "code",
   "execution_count": null,
   "metadata": {
    "colab": {
     "base_uri": "https://localhost:8080/"
    },
    "executionInfo": {
     "elapsed": 28,
     "status": "ok",
     "timestamp": 1754410150118,
     "user": {
      "displayName": "Babu Mani",
      "userId": "10034538337864737368"
     },
     "user_tz": -330
    },
    "id": "akTFhNIt_gVf",
    "outputId": "a8221c44-c995-484e-d1fd-5eaa4acac99f"
   },
   "outputs": [
    {
     "name": "stdout",
     "output_type": "stream",
     "text": [
      "False\n"
     ]
    }
   ],
   "source": [
    "print(is_palindrome('ajay'))"
   ]
  },
  {
   "cell_type": "code",
   "execution_count": null,
   "metadata": {
    "id": "0VZERIfWAB9D"
   },
   "outputs": [],
   "source": [
    "# Multiply all numbers in a list\n",
    "def multiply_list(numbers):\n",
    "  result = 1\n",
    "  for num in numbers:\n",
    "    result *= num\n",
    "  return result"
   ]
  },
  {
   "cell_type": "code",
   "execution_count": null,
   "metadata": {
    "colab": {
     "base_uri": "https://localhost:8080/"
    },
    "executionInfo": {
     "elapsed": 20,
     "status": "ok",
     "timestamp": 1754410511857,
     "user": {
      "displayName": "Babu Mani",
      "userId": "10034538337864737368"
     },
     "user_tz": -330
    },
    "id": "itaIhdEQAbMr",
    "outputId": "335f30f3-474c-48e0-f04b-6665905fc0f1"
   },
   "outputs": [
    {
     "name": "stdout",
     "output_type": "stream",
     "text": [
      "24\n"
     ]
    }
   ],
   "source": [
    "print(multiply_list([2, 3, 4]))"
   ]
  },
  {
   "cell_type": "code",
   "execution_count": null,
   "metadata": {
    "id": "6DGGVZENA_8t"
   },
   "outputs": [],
   "source": [
    "# Return numbers greater than 10 from a list\n",
    "def greater_than_10(numbers):\n",
    "  result = []\n",
    "  for num in numbers:\n",
    "    if num > 10:\n",
    "      result.append(num)\n",
    "  return result"
   ]
  },
  {
   "cell_type": "code",
   "execution_count": null,
   "metadata": {
    "colab": {
     "base_uri": "https://localhost:8080/"
    },
    "executionInfo": {
     "elapsed": 17,
     "status": "ok",
     "timestamp": 1754410675802,
     "user": {
      "displayName": "Babu Mani",
      "userId": "10034538337864737368"
     },
     "user_tz": -330
    },
    "id": "cnkqBN9NBZnJ",
    "outputId": "d5943fe4-425c-4467-e552-b4e52a9f8d0e"
   },
   "outputs": [
    {
     "data": {
      "text/plain": [
       "[11, 15, 17, 19, 20]"
      ]
     },
     "execution_count": 55,
     "metadata": {},
     "output_type": "execute_result"
    }
   ],
   "source": [
    "greater_than_10([4,10,11,15,17,19,20])"
   ]
  },
  {
   "cell_type": "code",
   "execution_count": 5,
   "metadata": {
    "executionInfo": {
     "elapsed": 24,
     "status": "ok",
     "timestamp": 1754453516575,
     "user": {
      "displayName": "Babu Mani",
      "userId": "10034538337864737368"
     },
     "user_tz": -330
    },
    "id": "TTzHFajOkehg"
   },
   "outputs": [],
   "source": [
    "def multiply_list(numb):\n",
    "  result=2\n",
    "  for num in numb:\n",
    "    result*=num\n",
    "  return result"
   ]
  },
  {
   "cell_type": "code",
   "execution_count": 6,
   "metadata": {
    "colab": {
     "base_uri": "https://localhost:8080/"
    },
    "executionInfo": {
     "elapsed": 17,
     "status": "ok",
     "timestamp": 1754453518430,
     "user": {
      "displayName": "Babu Mani",
      "userId": "10034538337864737368"
     },
     "user_tz": -330
    },
    "id": "rY6r28LBkydM",
    "outputId": "89d4de37-5a5f-4b6e-adf2-8a2c5d5811d4"
   },
   "outputs": [
    {
     "data": {
      "text/plain": [
       "1900800"
      ]
     },
     "execution_count": 6,
     "metadata": {},
     "output_type": "execute_result"
    }
   ],
   "source": [
    "multiply_list([11,15,16,18,20])"
   ]
  },
  {
   "cell_type": "code",
   "execution_count": 7,
   "metadata": {
    "executionInfo": {
     "elapsed": 4,
     "status": "ok",
     "timestamp": 1754453585612,
     "user": {
      "displayName": "Babu Mani",
      "userId": "10034538337864737368"
     },
     "user_tz": -330
    },
    "id": "mTmyXeEWlDPA"
   },
   "outputs": [],
   "source": [
    "def greater_than_15(numb):\n",
    "  result=[]\n",
    "  for num in numb:\n",
    "    if num > 15:\n",
    "      result.append(num)\n",
    "  return result"
   ]
  },
  {
   "cell_type": "code",
   "execution_count": 8,
   "metadata": {
    "colab": {
     "base_uri": "https://localhost:8080/"
    },
    "executionInfo": {
     "elapsed": 18,
     "status": "ok",
     "timestamp": 1754453610067,
     "user": {
      "displayName": "Babu Mani",
      "userId": "10034538337864737368"
     },
     "user_tz": -330
    },
    "id": "j9-qLsAElTg3",
    "outputId": "3d7d2ae5-97ef-4f4d-80f8-9b440c23eb8a"
   },
   "outputs": [
    {
     "data": {
      "text/plain": [
       "[16, 18, 20]"
      ]
     },
     "execution_count": 8,
     "metadata": {},
     "output_type": "execute_result"
    }
   ],
   "source": [
    "greater_than_15([11,15,16,18,20])"
   ]
  },
  {
   "cell_type": "code",
   "execution_count": 14,
   "metadata": {
    "executionInfo": {
     "elapsed": 13,
     "status": "ok",
     "timestamp": 1754453811802,
     "user": {
      "displayName": "Babu Mani",
      "userId": "10034538337864737368"
     },
     "user_tz": -330
    },
    "id": "G6yKMrVhlsrh"
   },
   "outputs": [],
   "source": [
    "# Get first and last characters of a word.\n",
    "def first_last(word):\n",
    "  return word[0], word[::-1]"
   ]
  },
  {
   "cell_type": "code",
   "execution_count": 15,
   "metadata": {
    "colab": {
     "base_uri": "https://localhost:8080/"
    },
    "executionInfo": {
     "elapsed": 15,
     "status": "ok",
     "timestamp": 1754453813995,
     "user": {
      "displayName": "Babu Mani",
      "userId": "10034538337864737368"
     },
     "user_tz": -330
    },
    "id": "QQxsRe5vl8Ij",
    "outputId": "175221bc-cb50-4593-f2ea-aade9ae5e86c"
   },
   "outputs": [
    {
     "data": {
      "text/plain": [
       "('Y', 'rawhsihtaY')"
      ]
     },
     "execution_count": 15,
     "metadata": {},
     "output_type": "execute_result"
    }
   ],
   "source": [
    "first_last('Yathishwar')"
   ]
  },
  {
   "cell_type": "code",
   "execution_count": 18,
   "metadata": {
    "executionInfo": {
     "elapsed": 9,
     "status": "ok",
     "timestamp": 1754453941218,
     "user": {
      "displayName": "Babu Mani",
      "userId": "10034538337864737368"
     },
     "user_tz": -330
    },
    "id": "ArxdGKE_mP3m"
   },
   "outputs": [],
   "source": [
    "# find maximum from two numbers.\n",
    "def numbers(x,y,z):\n",
    "  if x > y:\n",
    "    return x\n",
    "  elif y > z:\n",
    "    return y\n",
    "  else:\n",
    "    return z"
   ]
  },
  {
   "cell_type": "code",
   "execution_count": 19,
   "metadata": {
    "colab": {
     "base_uri": "https://localhost:8080/"
    },
    "executionInfo": {
     "elapsed": 28,
     "status": "ok",
     "timestamp": 1754453946205,
     "user": {
      "displayName": "Babu Mani",
      "userId": "10034538337864737368"
     },
     "user_tz": -330
    },
    "id": "q35KCxL6mb64",
    "outputId": "24f4fe1d-f4c2-479b-dab0-c2c090ee4f52"
   },
   "outputs": [
    {
     "data": {
      "text/plain": [
       "10"
      ]
     },
     "execution_count": 19,
     "metadata": {},
     "output_type": "execute_result"
    }
   ],
   "source": [
    "numbers(4,5,10)"
   ]
  },
  {
   "cell_type": "code",
   "execution_count": 20,
   "metadata": {
    "executionInfo": {
     "elapsed": 45,
     "status": "ok",
     "timestamp": 1754453999388,
     "user": {
      "displayName": "Babu Mani",
      "userId": "10034538337864737368"
     },
     "user_tz": -330
    },
    "id": "vU0BQDcBmsJ-"
   },
   "outputs": [],
   "source": [
    "# Reverse a string\n",
    "def sun(str1):\n",
    "  return str1[::-1]"
   ]
  },
  {
   "cell_type": "code",
   "execution_count": 21,
   "metadata": {
    "colab": {
     "base_uri": "https://localhost:8080/",
     "height": 36
    },
    "executionInfo": {
     "elapsed": 24,
     "status": "ok",
     "timestamp": 1754454010864,
     "user": {
      "displayName": "Babu Mani",
      "userId": "10034538337864737368"
     },
     "user_tz": -330
    },
    "id": "FXaNLkyGm4d_",
    "outputId": "e05cf9c2-2423-485e-daa0-476a7bc7e69b"
   },
   "outputs": [
    {
     "data": {
      "application/vnd.google.colaboratory.intrinsic+json": {
       "type": "string"
      },
      "text/plain": [
       "'nanrak'"
      ]
     },
     "execution_count": 21,
     "metadata": {},
     "output_type": "execute_result"
    }
   ],
   "source": [
    "sun('karnan')"
   ]
  },
  {
   "cell_type": "code",
   "execution_count": 22,
   "metadata": {
    "executionInfo": {
     "elapsed": 7,
     "status": "ok",
     "timestamp": 1754454348525,
     "user": {
      "displayName": "Babu Mani",
      "userId": "10034538337864737368"
     },
     "user_tz": -330
    },
    "id": "O_iTDa9sn3vL"
   },
   "outputs": [],
   "source": [
    "# Anagrams\n",
    "def v(v1,v2):\n",
    "  v1=v1.replace(' ',' ')\n",
    "  v2=v2.replace(' ',' ')\n",
    "  return sorted(v1)==sorted(v2)"
   ]
  },
  {
   "cell_type": "code",
   "execution_count": 23,
   "metadata": {
    "colab": {
     "base_uri": "https://localhost:8080/"
    },
    "executionInfo": {
     "elapsed": 30,
     "status": "ok",
     "timestamp": 1754454392662,
     "user": {
      "displayName": "Babu Mani",
      "userId": "10034538337864737368"
     },
     "user_tz": -330
    },
    "id": "RJlq1rsboOOr",
    "outputId": "def0f282-a3b1-4db8-924a-ecb22059a316"
   },
   "outputs": [
    {
     "data": {
      "text/plain": [
       "True"
      ]
     },
     "execution_count": 23,
     "metadata": {},
     "output_type": "execute_result"
    }
   ],
   "source": [
    "v('owl','low')"
   ]
  },
  {
   "cell_type": "code",
   "execution_count": 24,
   "metadata": {
    "executionInfo": {
     "elapsed": 42,
     "status": "ok",
     "timestamp": 1754454474410,
     "user": {
      "displayName": "Babu Mani",
      "userId": "10034538337864737368"
     },
     "user_tz": -330
    },
    "id": "TsNQDILEoYoD"
   },
   "outputs": [],
   "source": [
    "# Isograms\n",
    "def v(v1):\n",
    "  v1=v1.replace('','')\n",
    "  return len(set(v1))==len(v1)"
   ]
  },
  {
   "cell_type": "code",
   "execution_count": 27,
   "metadata": {
    "colab": {
     "base_uri": "https://localhost:8080/"
    },
    "executionInfo": {
     "elapsed": 17,
     "status": "ok",
     "timestamp": 1754454602541,
     "user": {
      "displayName": "Babu Mani",
      "userId": "10034538337864737368"
     },
     "user_tz": -330
    },
    "id": "fbqoxYztosVf",
    "outputId": "85965248-1452-44f0-fb1c-328427bbf4c6"
   },
   "outputs": [
    {
     "data": {
      "text/plain": [
       "True"
      ]
     },
     "execution_count": 27,
     "metadata": {},
     "output_type": "execute_result"
    }
   ],
   "source": [
    "v('fb')"
   ]
  },
  {
   "cell_type": "code",
   "execution_count": 28,
   "metadata": {
    "colab": {
     "base_uri": "https://localhost:8080/"
    },
    "executionInfo": {
     "elapsed": 27,
     "status": "ok",
     "timestamp": 1754454618095,
     "user": {
      "displayName": "Babu Mani",
      "userId": "10034538337864737368"
     },
     "user_tz": -330
    },
    "id": "p4IMcmcDpMAq",
    "outputId": "79bfa5a0-87a3-4371-b11c-dba4363891b1"
   },
   "outputs": [
    {
     "data": {
      "text/plain": [
       "False"
      ]
     },
     "execution_count": 28,
     "metadata": {},
     "output_type": "execute_result"
    }
   ],
   "source": [
    "v('Facebook')"
   ]
  },
  {
   "cell_type": "code",
   "execution_count": 31,
   "metadata": {
    "executionInfo": {
     "elapsed": 20,
     "status": "ok",
     "timestamp": 1754454741901,
     "user": {
      "displayName": "Babu Mani",
      "userId": "10034538337864737368"
     },
     "user_tz": -330
    },
    "id": "4ZyQtUbXpL9N"
   },
   "outputs": [],
   "source": [
    "# Palindrome\n",
    "def v(v1):\n",
    "  v1=v1.replace(' ',' ')\n",
    "  return v1==v1[::-1]"
   ]
  },
  {
   "cell_type": "code",
   "execution_count": 32,
   "metadata": {
    "colab": {
     "base_uri": "https://localhost:8080/"
    },
    "executionInfo": {
     "elapsed": 112,
     "status": "ok",
     "timestamp": 1754454743890,
     "user": {
      "displayName": "Babu Mani",
      "userId": "10034538337864737368"
     },
     "user_tz": -330
    },
    "id": "z8FQijD_pbog",
    "outputId": "0995d0a4-2f2e-41c4-ee31-1216d5c3c5e9"
   },
   "outputs": [
    {
     "data": {
      "text/plain": [
       "True"
      ]
     },
     "execution_count": 32,
     "metadata": {},
     "output_type": "execute_result"
    }
   ],
   "source": [
    "v('malayalam')"
   ]
  },
  {
   "cell_type": "code",
   "execution_count": 33,
   "metadata": {
    "colab": {
     "base_uri": "https://localhost:8080/"
    },
    "executionInfo": {
     "elapsed": 18,
     "status": "ok",
     "timestamp": 1754454769423,
     "user": {
      "displayName": "Babu Mani",
      "userId": "10034538337864737368"
     },
     "user_tz": -330
    },
    "id": "Y7n9aBUzpuVI",
    "outputId": "83ceabdc-4710-4f4a-eb93-ab5a08709821"
   },
   "outputs": [
    {
     "data": {
      "text/plain": [
       "True"
      ]
     },
     "execution_count": 33,
     "metadata": {},
     "output_type": "execute_result"
    }
   ],
   "source": [
    "v('pop')"
   ]
  },
  {
   "cell_type": "code",
   "execution_count": 42,
   "metadata": {
    "executionInfo": {
     "elapsed": 21,
     "status": "ok",
     "timestamp": 1754454941850,
     "user": {
      "displayName": "Babu Mani",
      "userId": "10034538337864737368"
     },
     "user_tz": -330
    },
    "id": "T2WMh7YGp0cy"
   },
   "outputs": [],
   "source": [
    "# Sum(add)\n",
    "def v(v1):\n",
    "  total=1\n",
    "  for i in v1:\n",
    "    total+=i\n",
    "  return total"
   ]
  },
  {
   "cell_type": "code",
   "execution_count": 43,
   "metadata": {
    "colab": {
     "base_uri": "https://localhost:8080/"
    },
    "executionInfo": {
     "elapsed": 20,
     "status": "ok",
     "timestamp": 1754454944023,
     "user": {
      "displayName": "Babu Mani",
      "userId": "10034538337864737368"
     },
     "user_tz": -330
    },
    "id": "LFuHES-3qP97",
    "outputId": "8cdddfa9-9a20-46b3-b91d-587bf8443192"
   },
   "outputs": [
    {
     "data": {
      "text/plain": [
       "31"
      ]
     },
     "execution_count": 43,
     "metadata": {},
     "output_type": "execute_result"
    }
   ],
   "source": [
    "v([2,4,6,8,10])"
   ]
  },
  {
   "cell_type": "code",
   "execution_count": 44,
   "metadata": {
    "executionInfo": {
     "elapsed": 11,
     "status": "ok",
     "timestamp": 1754455003765,
     "user": {
      "displayName": "Babu Mani",
      "userId": "10034538337864737368"
     },
     "user_tz": -330
    },
    "id": "hNhfdjZYqfJj"
   },
   "outputs": [],
   "source": [
    "# Sum(sub)\n",
    "def v(v1):\n",
    "  total=1\n",
    "  for i in v1:\n",
    "    total-=i\n",
    "  return total"
   ]
  },
  {
   "cell_type": "code",
   "execution_count": 45,
   "metadata": {
    "colab": {
     "base_uri": "https://localhost:8080/"
    },
    "executionInfo": {
     "elapsed": 19,
     "status": "ok",
     "timestamp": 1754455014821,
     "user": {
      "displayName": "Babu Mani",
      "userId": "10034538337864737368"
     },
     "user_tz": -330
    },
    "id": "MT7xzHR4qtqs",
    "outputId": "d9cd6d44-b7e4-474a-ebb3-0630886329ee"
   },
   "outputs": [
    {
     "data": {
      "text/plain": [
       "-23"
      ]
     },
     "execution_count": 45,
     "metadata": {},
     "output_type": "execute_result"
    }
   ],
   "source": [
    "v([3,5,7,9])"
   ]
  },
  {
   "cell_type": "code",
   "execution_count": null,
   "metadata": {},
   "outputs": [],
   "source": [
    "def vary(v):\n",
    "    pro = 0\n",
    "    for i in v:\n",
    "        pro+=i\n",
    "    return pro\n"
   ]
  }
 ],
 "metadata": {
  "colab": {
   "authorship_tag": "ABX9TyP7xUscYSyfW3HEZIxOcgC0",
   "provenance": []
  },
  "kernelspec": {
   "display_name": "Python 3 (ipykernel)",
   "language": "python",
   "name": "python3"
  },
  "language_info": {
   "codemirror_mode": {
    "name": "ipython",
    "version": 3
   },
   "file_extension": ".py",
   "mimetype": "text/x-python",
   "name": "python",
   "nbconvert_exporter": "python",
   "pygments_lexer": "ipython3",
   "version": "3.13.5"
  }
 },
 "nbformat": 4,
 "nbformat_minor": 4
}
