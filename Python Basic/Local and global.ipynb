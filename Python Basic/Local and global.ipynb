{
 "cells": [
  {
   "cell_type": "code",
   "execution_count": 2,
   "id": "2ed2c873-d135-464a-916f-d3af53832f4b",
   "metadata": {},
   "outputs": [
    {
     "name": "stdout",
     "output_type": "stream",
     "text": [
      "Inside the variable :  Hello\n"
     ]
    },
    {
     "ename": "NameError",
     "evalue": "name 'msg' is not defined",
     "output_type": "error",
     "traceback": [
      "\u001b[31m---------------------------------------------------------------------------\u001b[39m",
      "\u001b[31mNameError\u001b[39m                                 Traceback (most recent call last)",
      "\u001b[36mCell\u001b[39m\u001b[36m \u001b[39m\u001b[32mIn[2]\u001b[39m\u001b[32m, line 7\u001b[39m\n\u001b[32m      5\u001b[39m \u001b[38;5;66;03m# outside\u001b[39;00m\n\u001b[32m      6\u001b[39m greet()\n\u001b[32m----> \u001b[39m\u001b[32m7\u001b[39m \u001b[38;5;28mprint\u001b[39m(\u001b[33m'\u001b[39m\u001b[33mOutside the variable :\u001b[39m\u001b[33m'\u001b[39m,\u001b[43mmsg\u001b[49m)\n",
      "\u001b[31mNameError\u001b[39m: name 'msg' is not defined"
     ]
    }
   ],
   "source": [
    "# Local variable\n",
    "def greet():\n",
    "    msg = 'Hello'\n",
    "    print('Inside the variable : ',msg)\n",
    "# outside\n",
    "greet()\n",
    "print('Outside the variable :',msg)"
   ]
  },
  {
   "cell_type": "code",
   "execution_count": 3,
   "id": "f84c04f8-9a45-4109-9247-a77053b1d19a",
   "metadata": {},
   "outputs": [
    {
     "name": "stdout",
     "output_type": "stream",
     "text": [
      "Inside variable :  hello\n",
      "outside variable :  hello\n"
     ]
    }
   ],
   "source": [
    "msg = 'hello'\n",
    "def greet():\n",
    "    print('Inside variable : ',msg)\n",
    "# outside\n",
    "greet()\n",
    "print('outside variable : ',msg)"
   ]
  },
  {
   "cell_type": "code",
   "execution_count": 4,
   "id": "ddd34827-ea75-4715-935f-500623c5bf58",
   "metadata": {},
   "outputs": [
    {
     "name": "stdout",
     "output_type": "stream",
     "text": [
      "Inside variable :  100\n",
      "outside variable :  50\n"
     ]
    }
   ],
   "source": [
    "x = 50\n",
    "def num():\n",
    "    x = 100\n",
    "    print('Inside variable : ',x)\n",
    "# outside\n",
    "num()\n",
    "print('outside variable : ',x)"
   ]
  },
  {
   "cell_type": "code",
   "execution_count": 1,
   "id": "21d1bea6-58d9-478c-aa23-af34646be455",
   "metadata": {},
   "outputs": [
    {
     "name": "stdin",
     "output_type": "stream",
     "text": [
      "Enter the message :  Python is a programming language.\n"
     ]
    },
    {
     "name": "stdout",
     "output_type": "stream",
     "text": [
      "Inside variable :  Python is a programming language.\n"
     ]
    },
    {
     "ename": "NameError",
     "evalue": "name 'x' is not defined",
     "output_type": "error",
     "traceback": [
      "\u001b[31m---------------------------------------------------------------------------\u001b[39m",
      "\u001b[31mNameError\u001b[39m                                 Traceback (most recent call last)",
      "\u001b[36mCell\u001b[39m\u001b[36m \u001b[39m\u001b[32mIn[1]\u001b[39m\u001b[32m, line 5\u001b[39m\n\u001b[32m      3\u001b[39m     \u001b[38;5;28mprint\u001b[39m(\u001b[33m'\u001b[39m\u001b[33mInside variable : \u001b[39m\u001b[33m'\u001b[39m,x)\n\u001b[32m      4\u001b[39m msg()\n\u001b[32m----> \u001b[39m\u001b[32m5\u001b[39m \u001b[38;5;28mprint\u001b[39m(\u001b[33m'\u001b[39m\u001b[33mOutside variable : \u001b[39m\u001b[33m'\u001b[39m,\u001b[43mx\u001b[49m)\n",
      "\u001b[31mNameError\u001b[39m: name 'x' is not defined"
     ]
    }
   ],
   "source": [
    "def msg():\n",
    "    x = input('Enter the message : ')\n",
    "    print('Inside variable : ',x)\n",
    "msg()\n",
    "print('Outside variable : ',x)"
   ]
  },
  {
   "cell_type": "code",
   "execution_count": 3,
   "id": "947c7dbc-1201-47a8-8ed0-4d6ede1ff34a",
   "metadata": {},
   "outputs": [
    {
     "name": "stdin",
     "output_type": "stream",
     "text": [
      "Enter the message :  Python is a programming language.\n"
     ]
    },
    {
     "name": "stdout",
     "output_type": "stream",
     "text": [
      "Inside variable :  Python is a programming language.\n",
      "Outside variable :  Python is a programming language.\n"
     ]
    }
   ],
   "source": [
    "x = input('Enter the message : ')\n",
    "def msg():\n",
    "    print('Inside variable : ',x)\n",
    "msg()\n",
    "print('Outside variable : ',x)"
   ]
  },
  {
   "cell_type": "code",
   "execution_count": null,
   "id": "af3b99c0-7f82-4231-9eec-3be3b91d7be9",
   "metadata": {},
   "outputs": [],
   "source": []
  }
 ],
 "metadata": {
  "kernelspec": {
   "display_name": "Python 3 (ipykernel)",
   "language": "python",
   "name": "python3"
  },
  "language_info": {
   "codemirror_mode": {
    "name": "ipython",
    "version": 3
   },
   "file_extension": ".py",
   "mimetype": "text/x-python",
   "name": "python",
   "nbconvert_exporter": "python",
   "pygments_lexer": "ipython3",
   "version": "3.13.5"
  }
 },
 "nbformat": 4,
 "nbformat_minor": 5
}
