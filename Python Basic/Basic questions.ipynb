{
 "cells": [
  {
   "cell_type": "code",
   "execution_count": 1,
   "id": "0799286a-f97a-4d37-a075-04d2368b2681",
   "metadata": {},
   "outputs": [
    {
     "name": "stdout",
     "output_type": "stream",
     "text": [
      "['Apple', 'Mango', 'Orange', 'Grapes', 'Banana']\n"
     ]
    }
   ],
   "source": [
    "# List\n",
    "# Create a five fruits and print it.\n",
    "fruits = ['Apple','Mango','Orange','Grapes','Banana']\n",
    "print(fruits)"
   ]
  },
  {
   "cell_type": "code",
   "execution_count": 2,
   "id": "d3b92090-eb20-4921-b7a7-b4f05aaa624a",
   "metadata": {},
   "outputs": [
    {
     "name": "stdout",
     "output_type": "stream",
     "text": [
      "The first number is :  10\n",
      "The last number is :  80\n"
     ]
    }
   ],
   "source": [
    "# Print the first and last element from the list of number.\n",
    "numbers = [10,20,30,40,50,60,70,80]\n",
    "print('The first number is : ',numbers[0])\n",
    "print('The last number is : ',numbers[7])"
   ]
  },
  {
   "cell_type": "code",
   "execution_count": 3,
   "id": "30ce80e2-dcdb-45d3-a9ca-03af4f1c5bfe",
   "metadata": {},
   "outputs": [
    {
     "name": "stdout",
     "output_type": "stream",
     "text": [
      "['Apple', 'Mango', 'Orange', 'Grapes', 'Banana', 'Jackfruit']\n"
     ]
    }
   ],
   "source": [
    "# Add a new fruits to existing list.\n",
    "fruits.append('Jackfruit')\n",
    "print(fruits)"
   ]
  },
  {
   "cell_type": "code",
   "execution_count": 5,
   "id": "3d8fb2c3-266b-4380-83c9-933dac374336",
   "metadata": {},
   "outputs": [
    {
     "name": "stdout",
     "output_type": "stream",
     "text": [
      "['Apple', 'Mango', 'Grapes', 'Banana', 'Jackfruit']\n"
     ]
    }
   ],
   "source": [
    "# Remove an element from a list.\n",
    "fruits.remove('Orange')\n",
    "print(fruits)"
   ]
  },
  {
   "cell_type": "code",
   "execution_count": 7,
   "id": "c4aea822-58fc-4832-9a5b-35b2f615587e",
   "metadata": {},
   "outputs": [
    {
     "name": "stdout",
     "output_type": "stream",
     "text": [
      "5\n"
     ]
    }
   ],
   "source": [
    "# Find the length of a list\n",
    "print(len(fruits))"
   ]
  },
  {
   "cell_type": "code",
   "execution_count": 9,
   "id": "fd71da09-4d1a-4069-b4f3-1cd9c3c309b2",
   "metadata": {},
   "outputs": [
    {
     "name": "stdout",
     "output_type": "stream",
     "text": [
      "['Apple', 'Mango', 'Grapes', 'Banana', 'Jackfruit', 'Cherry', 'Littchi']\n"
     ]
    }
   ],
   "source": [
    "# Allow two list\n",
    "fruits.extend(['Cherry','Littchi'])\n",
    "print(fruits)"
   ]
  },
  {
   "cell_type": "code",
   "execution_count": 10,
   "id": "6e2a48c7-a9b2-4602-a3ab-03ff0f37bfcd",
   "metadata": {},
   "outputs": [
    {
     "name": "stdout",
     "output_type": "stream",
     "text": [
      "['Apple', 'Mango', 'Grapes', 'Banana', 'Jackfruit', 'Cherry', 'Watermelon']\n"
     ]
    }
   ],
   "source": [
    "# Replace one element with another.\n",
    "fruits[6] = 'Watermelon'\n",
    "print(fruits)"
   ]
  },
  {
   "cell_type": "code",
   "execution_count": 11,
   "id": "2b280c4a-7908-4959-856a-a4dbe012afb9",
   "metadata": {},
   "outputs": [
    {
     "name": "stdout",
     "output_type": "stream",
     "text": [
      "['Apple', 'Mango', 'Grapes', 'Banana', 'Jackfruit', 'Guava', 'Cherry', 'Watermelon']\n"
     ]
    }
   ],
   "source": [
    "# Insert at second index.\n",
    "fruits.insert(5,'Guava')\n",
    "print(fruits)"
   ]
  },
  {
   "cell_type": "code",
   "execution_count": 12,
   "id": "a92eec22-1199-4f3d-aae0-120efcd8c20a",
   "metadata": {},
   "outputs": [
    {
     "data": {
      "text/plain": [
       "8"
      ]
     },
     "execution_count": 12,
     "metadata": {},
     "output_type": "execute_result"
    }
   ],
   "source": [
    "len(fruits)"
   ]
  },
  {
   "cell_type": "code",
   "execution_count": 15,
   "id": "37381bdd-a0fc-4821-9916-f44c9dfd012f",
   "metadata": {},
   "outputs": [
    {
     "name": "stdout",
     "output_type": "stream",
     "text": [
      "True\n"
     ]
    }
   ],
   "source": [
    "# Check any elements in the list\n",
    "print('Mango' in fruits)"
   ]
  },
  {
   "cell_type": "code",
   "execution_count": 16,
   "id": "5f741e2b-be57-4c6c-a4be-978f38bb1d5a",
   "metadata": {},
   "outputs": [
    {
     "name": "stdout",
     "output_type": "stream",
     "text": [
      "False\n"
     ]
    }
   ],
   "source": [
    "print('Littchi' in fruits)"
   ]
  },
  {
   "cell_type": "code",
   "execution_count": 23,
   "id": "bea6b423-c2cb-4688-ab09-e47500402c7a",
   "metadata": {},
   "outputs": [
    {
     "name": "stdout",
     "output_type": "stream",
     "text": [
      "('Red', 'Yellow', 'Green', 'Blue', 'Black')\n"
     ]
    },
    {
     "data": {
      "text/plain": [
       "tuple"
      ]
     },
     "execution_count": 23,
     "metadata": {},
     "output_type": "execute_result"
    }
   ],
   "source": [
    "# Tuples\n",
    "# Create a tuple of 5 colors and print it.\n",
    "colours = ('Red','Yellow','Green','Blue','Black')\n",
    "print(colours)\n",
    "type(colours)"
   ]
  },
  {
   "cell_type": "code",
   "execution_count": 24,
   "id": "bcc95b63-547e-4c40-bef9-ea3878ef72e2",
   "metadata": {},
   "outputs": [
    {
     "name": "stdout",
     "output_type": "stream",
     "text": [
      "The second item is :  Yellow\n",
      "The second item is :  Blue\n"
     ]
    }
   ],
   "source": [
    "# print second and fourth items of the tuple.\n",
    "print('The second item is : ',colours[1])\n",
    "print('The second item is : ',colours[3])"
   ]
  },
  {
   "cell_type": "code",
   "execution_count": 27,
   "id": "8700cea9-d4d9-4999-89fe-b65462893efe",
   "metadata": {},
   "outputs": [
    {
     "data": {
      "text/plain": [
       "7"
      ]
     },
     "execution_count": 27,
     "metadata": {},
     "output_type": "execute_result"
    }
   ],
   "source": [
    "# Find the number items in tuple.\n",
    "numbers = (10,20,30,40,50,20,10)\n",
    "len(numbers)"
   ]
  },
  {
   "cell_type": "code",
   "execution_count": 31,
   "id": "c4eeedc9-06af-44fd-aeca-f4c26f45a978",
   "metadata": {},
   "outputs": [
    {
     "name": "stdout",
     "output_type": "stream",
     "text": [
      "The updated list is :  ['Carrot', 'Raddish', 'Brinjal', 'Chilli']\n"
     ]
    }
   ],
   "source": [
    "# Convert a tuple to a list and update it.\n",
    "vegetable = ('Carrot','Raddish','Brinjal')\n",
    "veg_list = list(vegetable)\n",
    "veg_list.append('Chilli')\n",
    "print('The updated list is : ',veg_list)"
   ]
  },
  {
   "cell_type": "code",
   "execution_count": 35,
   "id": "3a99b926-2d35-441e-8cb3-5fd721b421a8",
   "metadata": {},
   "outputs": [
    {
     "name": "stdout",
     "output_type": "stream",
     "text": [
      "{1, 2, 3, 4, 5, 7}\n"
     ]
    }
   ],
   "source": [
    "# Set\n",
    "numbers = {1,2,3,4,5}\n",
    "numbers.add(7)\n",
    "print(numbers)"
   ]
  },
  {
   "cell_type": "code",
   "execution_count": 38,
   "id": "9c7b6667-96d2-4c50-9d90-12d90f1778fa",
   "metadata": {},
   "outputs": [
    {
     "name": "stdout",
     "output_type": "stream",
     "text": [
      "{1, 3, 5, 7}\n"
     ]
    }
   ],
   "source": [
    "N = {1,3,5}\n",
    "N.add(7)\n",
    "print(N)"
   ]
  },
  {
   "cell_type": "code",
   "execution_count": 39,
   "id": "5db75cde-e6fe-4e9f-afbc-d90ddf967631",
   "metadata": {},
   "outputs": [
    {
     "name": "stdout",
     "output_type": "stream",
     "text": [
      "{'Tamil', 'Telugu', 'Malayalam'}\n"
     ]
    }
   ],
   "source": [
    "# Remove an element from a set.\n",
    "language = {'Tamil','Malayalam','Telugu','Hindi'}\n",
    "language.remove('Hindi')\n",
    "print(language)"
   ]
  },
  {
   "cell_type": "code",
   "execution_count": 40,
   "id": "c435c58f-6bcc-4916-abbb-2f5a752f5cc6",
   "metadata": {},
   "outputs": [
    {
     "data": {
      "text/plain": [
       "{'Risk managment'}"
      ]
     },
     "execution_count": 40,
     "metadata": {},
     "output_type": "execute_result"
    }
   ],
   "source": [
    "# Find the common elements between two set.\n",
    "business = {'Innovative','Financial managment','Risk managment'}\n",
    "Business = {'Risk managment','Problem solving','Decision making'}\n",
    "business.intersection(Business)"
   ]
  },
  {
   "cell_type": "code",
   "execution_count": 41,
   "id": "3a47a519-a2fa-46fc-93cb-545784782606",
   "metadata": {},
   "outputs": [
    {
     "data": {
      "text/plain": [
       "{'Decision making',\n",
       " 'Financial managment',\n",
       " 'Innovative',\n",
       " 'Problem solving',\n",
       " 'Risk managment'}"
      ]
     },
     "execution_count": 41,
     "metadata": {},
     "output_type": "execute_result"
    }
   ],
   "source": [
    "business.union(Business)"
   ]
  },
  {
   "cell_type": "code",
   "execution_count": 42,
   "id": "3ba800c8-f850-4ad1-a6ea-02e07a9697ff",
   "metadata": {},
   "outputs": [
    {
     "data": {
      "text/plain": [
       "{'Decision making',\n",
       " 'Financial managment',\n",
       " 'Innovative',\n",
       " 'Problem solving',\n",
       " 'Risk managment'}"
      ]
     },
     "execution_count": 42,
     "metadata": {},
     "output_type": "execute_result"
    }
   ],
   "source": [
    "Business.union(business)"
   ]
  },
  {
   "cell_type": "code",
   "execution_count": 44,
   "id": "836982ca-8ec3-42fa-bc5d-c1b17425e47c",
   "metadata": {},
   "outputs": [
    {
     "data": {
      "text/plain": [
       "{'Financial managment', 'Innovative'}"
      ]
     },
     "execution_count": 44,
     "metadata": {},
     "output_type": "execute_result"
    }
   ],
   "source": [
    "business.difference(Business)"
   ]
  },
  {
   "cell_type": "code",
   "execution_count": 45,
   "id": "fcbe6802-7a03-4252-8eea-2c5d9a22581c",
   "metadata": {},
   "outputs": [
    {
     "data": {
      "text/plain": [
       "{'Decision making', 'Problem solving'}"
      ]
     },
     "execution_count": 45,
     "metadata": {},
     "output_type": "execute_result"
    }
   ],
   "source": [
    "Business.difference(business)"
   ]
  },
  {
   "cell_type": "code",
   "execution_count": 46,
   "id": "7cad621c-29e0-4a63-a9f5-8a7157fe2a0f",
   "metadata": {},
   "outputs": [
    {
     "data": {
      "text/plain": [
       "{'Decision making', 'Financial managment', 'Innovative', 'Problem solving'}"
      ]
     },
     "execution_count": 46,
     "metadata": {},
     "output_type": "execute_result"
    }
   ],
   "source": [
    "Business.symmetric_difference(business)"
   ]
  },
  {
   "cell_type": "code",
   "execution_count": 59,
   "id": "87270b33-0f5b-40b5-921d-7ff49f4dba2c",
   "metadata": {},
   "outputs": [
    {
     "name": "stdout",
     "output_type": "stream",
     "text": [
      "{'Name': 'Ajtih', 'Age': 22, 'Grade': 'A+'}\n"
     ]
    }
   ],
   "source": [
    "# Dictionary\n",
    "# Create a dictionary contining student name,age, and grade.print the dictionary\n",
    "student_dict = {'Name':'Ajtih','Age': 22 ,'Grade':'A+'}\n",
    "print(student_dict)"
   ]
  },
  {
   "cell_type": "code",
   "execution_count": 56,
   "id": "acb8738e-e0f5-4dab-b3cd-21ae533e66b6",
   "metadata": {},
   "outputs": [
    {
     "name": "stdout",
     "output_type": "stream",
     "text": [
      "Age :  22\n"
     ]
    }
   ],
   "source": [
    "# Print the student age of dictionary\n",
    "print('Age : ',student_dict['Age'])  "
   ]
  },
  {
   "cell_type": "code",
   "execution_count": 60,
   "id": "7f344779-9c00-4bbe-b682-c987f4111570",
   "metadata": {},
   "outputs": [
    {
     "name": "stdout",
     "output_type": "stream",
     "text": [
      "{'Name': 'Ajtih', 'Age': 22, 'Grade': 'O'}\n"
     ]
    }
   ],
   "source": [
    "# Update the student grade from A+ to O.\n",
    "student_dict['Grade']='O'\n",
    "print(student_dict)"
   ]
  },
  {
   "cell_type": "code",
   "execution_count": 63,
   "id": "8986eaa5-9a91-4bb7-b387-3a2e20d76dc8",
   "metadata": {},
   "outputs": [
    {
     "name": "stdout",
     "output_type": "stream",
     "text": [
      "{'Name': 'Ajtih', 'Age': 22, 'Grade': 'O', 'Height': 180}\n"
     ]
    }
   ],
   "source": [
    "student_dict.update({'Height':180})\n",
    "print(student_dict)"
   ]
  },
  {
   "cell_type": "code",
   "execution_count": 1,
   "id": "79401ae4-b503-47bf-ac45-ebe5741d786d",
   "metadata": {},
   "outputs": [
    {
     "name": "stdout",
     "output_type": "stream",
     "text": [
      "60\n"
     ]
    }
   ],
   "source": [
    "a,b,c =(10,20,30)\n",
    "print(a+b+c)"
   ]
  },
  {
   "cell_type": "code",
   "execution_count": 2,
   "id": "693156ec-39c7-4986-9225-2ac645c0b248",
   "metadata": {},
   "outputs": [
    {
     "name": "stdin",
     "output_type": "stream",
     "text": [
      "Enter the value :  6\n"
     ]
    },
    {
     "name": "stdout",
     "output_type": "stream",
     "text": [
      "Even\n"
     ]
    }
   ],
   "source": [
    "x = int(input('Enter the value : '))\n",
    "print('Even' if x%2 == 0 else 'Odd')"
   ]
  }
 ],
 "metadata": {
  "kernelspec": {
   "display_name": "Python 3 (ipykernel)",
   "language": "python",
   "name": "python3"
  },
  "language_info": {
   "codemirror_mode": {
    "name": "ipython",
    "version": 3
   },
   "file_extension": ".py",
   "mimetype": "text/x-python",
   "name": "python",
   "nbconvert_exporter": "python",
   "pygments_lexer": "ipython3",
   "version": "3.13.5"
  }
 },
 "nbformat": 4,
 "nbformat_minor": 5
}
