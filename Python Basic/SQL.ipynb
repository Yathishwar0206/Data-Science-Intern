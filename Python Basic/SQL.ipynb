{
 "cells": [
  {
   "cell_type": "code",
   "execution_count": 9,
   "id": "4ddde1a5-b50a-4cb2-996a-c5cc9a0c58ad",
   "metadata": {},
   "outputs": [
    {
     "name": "stdout",
     "output_type": "stream",
     "text": [
      "Student records.\n",
      "Id :1,Name : Alice,Age : 20\n",
      "Id :2,Name : Bob,Age : 22\n",
      "Id :3,Name : Alice,Age : 20\n",
      "Id :4,Name : Bob,Age : 22\n",
      "Id :5,Name : Alice,Age : 20\n",
      "Id :6,Name : Bob,Age : 22\n"
     ]
    }
   ],
   "source": [
    "import sqlite3 # connect to sqlite3\n",
    "conn = sqlite3.connect('student.db')\n",
    "cursor = conn.cursor()\n",
    "cursor.execute('''\n",
    "Create table if not exists \n",
    "student (\n",
    "    id integer primary key\n",
    "autoincrement,\n",
    "    name Text Not NULL,\n",
    "    AGE INTEGER Not NULL\n",
    "    )\n",
    "''')\n",
    "cursor.execute('insert into student (name,age) values(?,?)',('Alice',20))\n",
    "cursor.execute('insert into student (name,age) valuES(?,?)',('Bob',22))\n",
    "conn.commit()\n",
    "cursor.execute('SELECT*FROM student')\n",
    "rows=cursor.fetchall()\n",
    "print('Student records.')\n",
    "for row in rows:\n",
    "    print(f'Id :{row[0]},Name : {row[1]},Age : {row[2]}')\n",
    "conn.close()"
   ]
  },
  {
   "cell_type": "code",
   "execution_count": 13,
   "id": "4afeb6bf-5497-4239-b600-658b78ad4455",
   "metadata": {},
   "outputs": [
    {
     "name": "stdout",
     "output_type": "stream",
     "text": [
      "Student records.\n",
      "Id : 1 ,Name : Alice ,Age : 20\n",
      "Id : 2 ,Name : Bob ,Age : 22\n",
      "Id : 3 ,Name : Alice ,Age : 20\n",
      "Id : 4 ,Name : Bob ,Age : 22\n",
      "Id : 5 ,Name : Alice ,Age : 20\n",
      "Id : 6 ,Name : Bob ,Age : 22\n",
      "Id : 7 ,Name : Ajith ,Age : 25\n",
      "Id : 8 ,Name : Naveen ,Age : 31\n",
      "Id : 9 ,Name : Suriya ,Age : 25\n",
      "Id : 10 ,Name : Yathishwar ,Age : 21\n",
      "Id : 11 ,Name : Ajith ,Age : 25\n",
      "Id : 12 ,Name : Naveen ,Age : 31\n",
      "Id : 13 ,Name : Suriya ,Age : 25\n",
      "Id : 14 ,Name : Yathishwar ,Age : 21\n"
     ]
    }
   ],
   "source": [
    "import sqlite3\n",
    "corn = sqlite3.connect('student.db')\n",
    "cursor = corn.cursor()\n",
    "cursor.execute('''\n",
    "Create table if not exists\n",
    "student(\n",
    "    id integer primary key\n",
    "autoincrement,\n",
    "    name Text not Null,\n",
    "    Age integer not Null\n",
    "    )\n",
    "''')\n",
    "cursor.execute('insert into student (name,age) values(?,?)',('Ajith',25))\n",
    "cursor.execute('insert into student (name,age) values(?,?)',('Naveen',31))\n",
    "cursor.execute('insert into student (name,age) values(?,?)',('Suriya',25))\n",
    "cursor.execute('insert into student (name,age) values(?,?)',('Yathishwar',21))\n",
    "corn.commit()\n",
    "cursor.execute('select*from student')\n",
    "rows = cursor.fetchall()\n",
    "print('Student records.')\n",
    "for row in rows:\n",
    "    print(f'Id : {row[0]} ,Name : {row[1]} ,Age : {row[2]}')\n",
    "corn.close()"
   ]
  },
  {
   "cell_type": "code",
   "execution_count": null,
   "id": "e0d052f7-ca82-43dd-86bb-bdd5b94f5e20",
   "metadata": {},
   "outputs": [],
   "source": [
    "import sqlite3\n",
    "corn = sqlite3.connect('student.db')\n",
    "cursor = corn.cursor()\n",
    "cursor.execute('''\n",
    "Create table if not exists student(\n",
    "id Integer primary key autincrement,\n",
    "name text not null,\n",
    "age text not null\n",
    " )\n",
    "''')\n",
    "cursor.execute('Insert into student(name,age) values (?,?)',('yathishwar',21))\n",
    "cursor.execute('Insert into student(name,age) values (?,?)',('Naveen Kumar',31))\n",
    "corn.commit()\n",
    "cursor.execute()"
   ]
  }
 ],
 "metadata": {
  "kernelspec": {
   "display_name": "Python 3 (ipykernel)",
   "language": "python",
   "name": "python3"
  },
  "language_info": {
   "codemirror_mode": {
    "name": "ipython",
    "version": 3
   },
   "file_extension": ".py",
   "mimetype": "text/x-python",
   "name": "python",
   "nbconvert_exporter": "python",
   "pygments_lexer": "ipython3",
   "version": "3.13.5"
  }
 },
 "nbformat": 4,
 "nbformat_minor": 5
}
